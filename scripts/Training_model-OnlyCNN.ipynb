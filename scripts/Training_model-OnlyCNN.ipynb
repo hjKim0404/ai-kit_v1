{
 "cells": [
  {
   "cell_type": "markdown",
   "metadata": {},
   "source": [
    "# Image Provider "
   ]
  },
  {
   "cell_type": "code",
   "execution_count": null,
   "metadata": {
    "scrolled": true
   },
   "outputs": [],
   "source": [
    "!pip install tensorflow==2.2.0"
   ]
  },
  {
   "cell_type": "code",
   "execution_count": 1,
   "metadata": {
    "scrolled": false
   },
   "outputs": [
    {
     "ename": "ModuleNotFoundError",
     "evalue": "No module named 'tensorflow'",
     "output_type": "error",
     "traceback": [
      "\u001b[0;31m---------------------------------------------------------------------------\u001b[0m",
      "\u001b[0;31mModuleNotFoundError\u001b[0m                       Traceback (most recent call last)",
      "\u001b[0;32m<ipython-input-1-64156d691fe5>\u001b[0m in \u001b[0;36m<module>\u001b[0;34m()\u001b[0m\n\u001b[0;32m----> 1\u001b[0;31m \u001b[0;32mimport\u001b[0m \u001b[0mtensorflow\u001b[0m \u001b[0;32mas\u001b[0m \u001b[0mtf\u001b[0m\u001b[0;34m\u001b[0m\u001b[0;34m\u001b[0m\u001b[0m\n\u001b[0m",
      "\u001b[0;31mModuleNotFoundError\u001b[0m: No module named 'tensorflow'"
     ]
    }
   ],
   "source": [
    "import tensorflow as tf"
   ]
  },
  {
   "cell_type": "code",
   "execution_count": null,
   "metadata": {},
   "outputs": [],
   "source": [
    "import os\n",
    "import sys\n",
    "BASE_PATH = os.path.dirname(os.getcwd())\n",
    "os.chdir(BASE_PATH)"
   ]
  },
  {
   "cell_type": "code",
   "execution_count": null,
   "metadata": {},
   "outputs": [],
   "source": [
    "from utils.datagenerator import TightFaceProvider\n",
    "from utils.helper import show_images, cropper, glob_all_files, paths2numpy\n",
    "import numpy as np "
   ]
  },
  {
   "cell_type": "markdown",
   "metadata": {},
   "source": [
    "# Train dataset"
   ]
  },
  {
   "cell_type": "code",
   "execution_count": null,
   "metadata": {},
   "outputs": [],
   "source": [
    "fg_folder = './data/wally_face_tight_crop/'\n",
    "bg_folder = './data/block_imgs/'\n",
    "tfp = TightFaceProvider(fg_folder, bg_folder, batch_size=128)"
   ]
  },
  {
   "cell_type": "code",
   "execution_count": null,
   "metadata": {},
   "outputs": [],
   "source": [
    "# 0번째 index의 batch 가져오기 \n",
    "sample_imgs = tfp[0][0]\n",
    "sample_labs = tfp[0][1]\n",
    "\n",
    "# 이미지들이 pair 되었는지 확인합니다.  \n",
    "show_images(sample_imgs, titles=sample_labs.tolist())"
   ]
  },
  {
   "cell_type": "markdown",
   "metadata": {},
   "source": [
    "# Validation Dataset"
   ]
  },
  {
   "cell_type": "code",
   "execution_count": null,
   "metadata": {
    "scrolled": true
   },
   "outputs": [],
   "source": [
    "# validation images 을 생성합니다. \n",
    "# 정답 좌표는 아직 생성하지 않았습니다. \n",
    "paths = glob_all_files('./data/full_images_val/')\n",
    "\n",
    "crop_imgs = []\n",
    "crop_crds = []\n",
    "imgs = paths2numpy(paths)\n",
    "for img in imgs:\n",
    "    cropped_images, cropped_coords = cropper(img, 10, 10, 34, 34)\n",
    "    crop_imgs.append(cropped_images)\n",
    "    crop_crds.append(cropped_coords)\n",
    "\n",
    "val_imgs = np.concatenate(crop_imgs, axis=0)\n",
    "print(val_imgs.shape)"
   ]
  },
  {
   "cell_type": "markdown",
   "metadata": {},
   "source": [
    "# Simple Conv"
   ]
  },
  {
   "cell_type": "code",
   "execution_count": null,
   "metadata": {},
   "outputs": [],
   "source": [
    "from tensorflow.keras.layers import Input, Dense, Conv2D, Flatten\n",
    "from tensorflow.keras.layers import MaxPooling2D\n",
    "from tensorflow.keras.layers import BatchNormalization, ReLU\n",
    "from tensorflow.keras.models import Model\n",
    "import tensorflow.keras.backend as K"
   ]
  },
  {
   "cell_type": "code",
   "execution_count": null,
   "metadata": {},
   "outputs": [],
   "source": [
    "K.clear_session()\n",
    "inputs = Input(shape=(34, 34, 3), \n",
    "               name='inputs')\n",
    "\n",
    "layer = inputs\n",
    "# Convolution Layer\n",
    "layer = Conv2D(filters=64, \n",
    "               kernel_size=3, \n",
    "               activation='relu')(layer)\n",
    "layer = MaxPooling2D()(layer)\n",
    "\n",
    "layer = Conv2D(filters=128, \n",
    "               kernel_size=3, \n",
    "               activation='relu')(layer)\n",
    "layer = MaxPooling2D()(layer)\n",
    "\n",
    "layer = Conv2D(filters=256, \n",
    "               kernel_size=3, \n",
    "               activation='relu')(layer)\n",
    "layer = MaxPooling2D()(layer)\n",
    "\n",
    "flat = Flatten()(layer)\n",
    "\n",
    "# Fully Connected Layer\n",
    "layer = flat\n",
    "layer = Dense(units=256, activation='relu')(layer)\n",
    "layer = Dense(units=256,activation='relu')(layer)\n",
    "\n",
    "# Prediction\n",
    "pred = Dense(1, activation='sigmoid')(layer)\n",
    "\n",
    "# Model\n",
    "model = Model(inputs, pred)\n",
    "model.compile('adam', 'binary_crossentropy', metrics=['accuracy'])"
   ]
  },
  {
   "cell_type": "code",
   "execution_count": null,
   "metadata": {},
   "outputs": [],
   "source": [
    "model.save('./models/best_model2')"
   ]
  },
  {
   "cell_type": "code",
   "execution_count": null,
   "metadata": {},
   "outputs": [],
   "source": [
    "model.summary()"
   ]
  },
  {
   "cell_type": "code",
   "execution_count": null,
   "metadata": {},
   "outputs": [],
   "source": [
    "tfp[0][0].shape\n",
    "tfp[0][1].shape"
   ]
  },
  {
   "cell_type": "code",
   "execution_count": null,
   "metadata": {},
   "outputs": [],
   "source": [
    "# train \n",
    "for i in range(1):\n",
    "    model.fit_generator(tfp, epochs=1)\n",
    "    indices = (model.predict(val_imgs) > 0.5)[:, 0]\n",
    "    show_images(val_imgs[indices])"
   ]
  },
  {
   "cell_type": "markdown",
   "metadata": {},
   "source": [
    "# 전체 이미지에서 월리 찾아주기 "
   ]
  },
  {
   "cell_type": "code",
   "execution_count": null,
   "metadata": {},
   "outputs": [],
   "source": [
    "import matplotlib.pyplot as plt \n",
    "import cv2\n",
    "\n",
    "for img_ind, im in enumerate(imgs):\n",
    "    val_imgs = crop_imgs[img_ind]\n",
    "    val_crds = crop_crds[img_ind]\n",
    "    \n",
    "    indices = (model.predict(val_imgs) > 0.5)[:, 0]\n",
    "    target_imgs = val_imgs[indices]\n",
    "    target_crds = np.array(val_crds)[indices]\n",
    "    \n",
    "    fig = plt.figure(figsize=(20,20))\n",
    "    for coords in target_crds:\n",
    "        print(coords)\n",
    "        im = cv2.rectangle(im, tuple(coords[:2]), tuple(coords[2:]), (255, 0, 0), 3)\n",
    "    plt.imshow(im)\n",
    "    plt.show()\n"
   ]
  },
  {
   "cell_type": "code",
   "execution_count": null,
   "metadata": {},
   "outputs": [],
   "source": []
  }
 ],
 "metadata": {
  "kernelspec": {
   "display_name": "Python 3",
   "language": "python",
   "name": "python3"
  },
  "language_info": {
   "codemirror_mode": {
    "name": "ipython",
    "version": 3
   },
   "file_extension": ".py",
   "mimetype": "text/x-python",
   "name": "python",
   "nbconvert_exporter": "python",
   "pygments_lexer": "ipython3",
   "version": "3.6.10"
  }
 },
 "nbformat": 4,
 "nbformat_minor": 2
}
