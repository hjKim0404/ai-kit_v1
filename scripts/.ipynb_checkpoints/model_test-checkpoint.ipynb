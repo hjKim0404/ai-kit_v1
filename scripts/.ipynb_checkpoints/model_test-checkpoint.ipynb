{
 "cells": [
  {
   "cell_type": "markdown",
   "metadata": {
    "id": "idYEEXBhbeCQ"
   },
   "source": [
    "## 1. 필요한 패키지들을 불러옵니다."
   ]
  },
  {
   "cell_type": "code",
   "execution_count": null,
   "metadata": {
    "id": "T4tbLXmmbeCR",
    "scrolled": true
   },
   "outputs": [],
   "source": [
    "# python 제공 라이브러리\n",
    "import os\n",
    "import numpy as np\n",
    "import matplotlib.pyplot as plt"
   ]
  },
  {
   "cell_type": "code",
   "execution_count": null,
   "metadata": {
    "id": "8dRrLHAHbeCR"
   },
   "outputs": [],
   "source": [
    "from tensorflow.keras.models import load_model"
   ]
  },
  {
   "cell_type": "code",
   "execution_count": null,
   "metadata": {
    "colab": {
     "base_uri": "https://localhost:8080/",
     "height": 310
    },
    "id": "0wLGcWCjbeCR",
    "outputId": "5c21c0a1-fcd6-44ae-d0a9-c4d22f7a5a49"
   },
   "outputs": [],
   "source": [
    "from helper import cropper, glob_all_files, paths2numpy, draw_rectangles"
   ]
  },
  {
   "cell_type": "markdown",
   "metadata": {
    "id": "-TtPO5okbeCR"
   },
   "source": [
    "## 2. 학습 시킨 모델을 불러옵니다"
   ]
  },
  {
   "cell_type": "code",
   "execution_count": null,
   "metadata": {},
   "outputs": [],
   "source": [
    "# GPU 를 사용하도록 설정\n",
    "os.environ[\"CUDA_DEVICE_ORDER\"]=\"PCI_BUS_ID\"\n",
    "os.environ[\"CUDA_VISIBLE_DEVICES\"]=\"1\""
   ]
  },
  {
   "cell_type": "code",
   "execution_count": null,
   "metadata": {},
   "outputs": [],
   "source": [
    "model_name = \"ai-kit_model\"\n",
    "model_dir= f\"../models/{model_name}\""
   ]
  },
  {
   "cell_type": "code",
   "execution_count": null,
   "metadata": {
    "id": "Xsgcoy8rbeCR",
    "scrolled": true
   },
   "outputs": [],
   "source": [
    "# 모델을 불러옵니다. \n",
    "model = load_model(model_dir)\n",
    "model.summary()"
   ]
  },
  {
   "cell_type": "markdown",
   "metadata": {
    "id": "08AeFnpWbeCR"
   },
   "source": [
    "## 3. 평가용 데이터를 불러옵니다."
   ]
  },
  {
   "cell_type": "code",
   "execution_count": null,
   "metadata": {},
   "outputs": [],
   "source": [
    "data_root_folder = 'sample_data2'\n",
    "\n",
    "# 평가용 데이터가 들어있는 폴더 경로 가져오기\n",
    "test_folder = f\"../data/{data_root_folder}/test\""
   ]
  },
  {
   "cell_type": "code",
   "execution_count": null,
   "metadata": {},
   "outputs": [],
   "source": [
    "# 모델에서 사용한 이미지 길이 및 스트라이드 설정 가져오기\n",
    "f = open(f\"{model_dir}/{model_name}.txt\", 'r')\n",
    "length = int(f.readline())\n",
    "stride = int(f.readline())\n",
    "f.close()"
   ]
  },
  {
   "cell_type": "markdown",
   "metadata": {
    "id": "Po8mKz7kqzWQ"
   },
   "source": [
    "## 4. 모델을 평가용 데이터로 테스트합니다."
   ]
  },
  {
   "cell_type": "code",
   "execution_count": null,
   "metadata": {
    "id": "Byf6F5H5beCR",
    "scrolled": false
   },
   "outputs": [],
   "source": [
    "images = glob_all_files(test_folder)\n",
    "images = paths2numpy(images)\n",
    "\n",
    "# 잘린 이미지중 월리가 있는 이미지를 찾고 해당이미지의 좌표를 원본 이미지에 출력합니다\n",
    "for i, image in enumerate(images):\n",
    "\n",
    "    cropped_imgs, cropped_crds = cropper(image, stride, stride, length, length)\n",
    "\n",
    "    # 예측값을 저장한 후, 그 중 가장 높은 예측 값이 나온 부분에 대한 불리언 마스크를 만드는 부분입니다.\n",
    "    predicts = model.predict(cropped_imgs)\n",
    "    bool_mask = np.where(predicts[:, 0] == np.max(predicts[:, 0]))\n",
    "    \n",
    "\n",
    "#     show_images(cropped_imgs[bool_mask])    # 불리언 마스크를 적용시킨 결과로 얻은 월리의 얼굴로 추정되는 이미지 조각들을 출력\n",
    "    target_crds = np.array(cropped_crds)[bool_mask]     # 월리의 얼굴이 있을 것으로 예상되는 좌표들을 저장\n",
    "\n",
    "    predicts = predicts[bool_mask]  # 불리언 마스크를 적용시켰을 때의 예측값을 저장\n",
    "    print(f\"예측값: {predicts[0]}\")\n",
    "    result_image = draw_rectangles(image, target_crds, (255, 0, 0), 3, predicts[:, 0])\n",
    "\n",
    "    plt.figure().set_size_inches(20,20)\n",
    "    plt.imshow(result_image)\n",
    "    plt.show()"
   ]
  },
  {
   "cell_type": "code",
   "execution_count": null,
   "metadata": {
    "id": "OTguVAvlbeCR"
   },
   "outputs": [],
   "source": []
  }
 ],
 "metadata": {
  "colab": {
   "collapsed_sections": [],
   "name": "load_model.ipynb",
   "provenance": []
  },
  "kernelspec": {
   "display_name": "tf2_p36",
   "language": "python",
   "name": "tensorflow2_p36"
  },
  "language_info": {
   "codemirror_mode": {
    "name": "ipython",
    "version": 3
   },
   "file_extension": ".py",
   "mimetype": "text/x-python",
   "name": "python",
   "nbconvert_exporter": "python",
   "pygments_lexer": "ipython3",
   "version": "3.6.10"
  }
 },
 "nbformat": 4,
 "nbformat_minor": 1
}
