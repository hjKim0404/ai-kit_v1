{
 "cells": [
  {
   "cell_type": "markdown",
   "metadata": {},
   "source": [
    "# 필요 라이브러리를 불러 옵니다"
   ]
  },
  {
   "cell_type": "code",
   "execution_count": null,
   "metadata": {},
   "outputs": [],
   "source": [
    "import os\n",
    "BASE_PATH = os.path.dirname(os.getcwd())\n",
    "os.chdir(BASE_PATH)"
   ]
  },
  {
   "cell_type": "code",
   "execution_count": null,
   "metadata": {
    "scrolled": true
   },
   "outputs": [],
   "source": [
    "import tensorflow as tf"
   ]
  },
  {
   "cell_type": "code",
   "execution_count": null,
   "metadata": {},
   "outputs": [],
   "source": [
    "from utils.datagenerator import TightFaceProvider\n",
    "from utils.helper import show_images, cropper, glob_all_files, paths2numpy, draw_rectangles\n",
    "import numpy as np "
   ]
  },
  {
   "cell_type": "code",
   "execution_count": null,
   "metadata": {},
   "outputs": [],
   "source": [
    "from tensorflow.keras.models import Model\n",
    "from tensorflow.keras.models import load_model"
   ]
  },
  {
   "cell_type": "markdown",
   "metadata": {},
   "source": [
    "# 학습 시킨 모델을 불러 옵니다"
   ]
  },
  {
   "cell_type": "code",
   "execution_count": null,
   "metadata": {
    "scrolled": true
   },
   "outputs": [],
   "source": [
    "# 모델을 불러옵니다. \n",
    "model = load_model('./models/best_model')\n",
    "model.summary()"
   ]
  },
  {
   "cell_type": "markdown",
   "metadata": {},
   "source": [
    "# 월리를 찾아 봅니다."
   ]
  },
  {
   "cell_type": "code",
   "execution_count": null,
   "metadata": {
    "scrolled": false
   },
   "outputs": [],
   "source": [
    "import matplotlib.pyplot as plt \n",
    "import cv2\n",
    "\n",
    "# Validation 이미지가 담겨져 있는 폴더에 있는 모든 이미지 리스트를 가져옵니다. \n",
    "paths = glob_all_files('./data/full_images_val/')\n",
    "\n",
    "# 이미지를 Numpy 화 합니다. \n",
    "imgs = paths2numpy(paths)\n",
    "\n",
    "# 이미지를 일정 크기로 자르고 해당 이미지의 좌표를 가져옵니다.\n",
    "crop_imgs = []\n",
    "crop_crds = []\n",
    "for img in imgs:\n",
    "    cropped_images, cropped_coords = cropper(img, 10, 10, 34, 34)\n",
    "    crop_imgs.append(cropped_images)\n",
    "    crop_crds.append(cropped_coords)\n",
    "\n",
    "# 잘린 이미지중 월리가있는 이미지를 찾고 해당이미지의 좌표를 원본 이미지에 출력합니다 \n",
    "for img_ind, im in enumerate(imgs):\n",
    "    cropped_imgs = crop_imgs[img_ind]\n",
    "    cropped_crds = crop_crds[img_ind]\n",
    "    \n",
    "    # Wally 라고 생각되는 이미지의 index을 가져옵니다. \n",
    "    indices = (model.predict(cropped_imgs) > 0.5)[:, 0]\n",
    "    \n",
    "    # Wally 라고 생각되는 이미지 좌표를 가져옵니다.\n",
    "    target_crds = np.array(cropped_crds)[indices]\n",
    "\n",
    "    # 전체 이미지에 월리라고 예측 되는 부분에 사각형을 그립니다. \n",
    "    im = draw_rectangles(im, target_crds, (255, 0, 0), 3)\n",
    "    \n",
    "    fig = plt.figure(figsize=(30,30))\n",
    "    plt.imshow(im)\n",
    "    plt.show()\n"
   ]
  },
  {
   "cell_type": "code",
   "execution_count": null,
   "metadata": {},
   "outputs": [],
   "source": []
  }
 ],
 "metadata": {
  "kernelspec": {
   "display_name": "Python 3",
   "language": "python",
   "name": "python3"
  },
  "language_info": {
   "codemirror_mode": {
    "name": "ipython",
    "version": 3
   },
   "file_extension": ".py",
   "mimetype": "text/x-python",
   "name": "python",
   "nbconvert_exporter": "python",
   "pygments_lexer": "ipython3",
   "version": "3.6.10"
  }
 },
 "nbformat": 4,
 "nbformat_minor": 2
}
