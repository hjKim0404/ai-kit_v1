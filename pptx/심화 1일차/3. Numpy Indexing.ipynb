{
 "cells": [
  {
   "cell_type": "markdown",
   "metadata": {},
   "source": [
    "# 3. Numpy Indexing\n",
    "\n",
    "이번 Section 3에서는 Numpy Array에서 **원하는 값을 가져오는** 인덱싱 기능의 **구체적인 작동방식과 다양한 인덱싱 방식**을 배워보겠습니다.\n",
    "\n",
    "***Objective***\n",
    "1. **위치값을 활용한 넘파이 배열 인덱싱** : Numpy Array에서 원하는 위치의 값을 가져오는 방법을 배웁니다.\n",
    "2.  **조건문을 활용한 넘파이 배열 인덱싱** : Numpy Array에서 특정 조건을 만족하는 값을 가져오는 방법을 배웁니다."
   ]
  },
  {
   "cell_type": "code",
   "execution_count": null,
   "metadata": {
    "execution": {
     "iopub.execute_input": "2021-03-15T08:04:53.084884Z",
     "iopub.status.busy": "2021-03-15T08:04:53.083523Z",
     "iopub.status.idle": "2021-03-15T08:04:53.203182Z",
     "shell.execute_reply": "2021-03-15T08:04:53.203428Z"
    }
   },
   "outputs": [],
   "source": [
    "import numpy as np"
   ]
  },
  {
   "cell_type": "markdown",
   "metadata": {
    "colab_type": "text",
    "id": "Rg9TEPR8jS5o"
   },
   "source": [
    "# \\[ 1. Array Indexing \\]\n",
    " \n",
    "인덱싱(indexing) 방법과 유사한 방법으로 `np.array`에서 원하는 값을 가져올 수 있습니다.  \n",
    "Numpy Array도 `list`, `tuple` 등과 마찬가지로 **구성하는 원소에 순서**가 있기 때문입니다.  "
   ]
  },
  {
   "cell_type": "markdown",
   "metadata": {
    "colab_type": "text",
    "id": "Z8GYFD3WlnSN"
   },
   "source": [
    "#### 예제) 학생들의 성적표"
   ]
  },
  {
   "cell_type": "markdown",
   "metadata": {
    "colab_type": "text",
    "id": "vjgIhpLlmukD"
   },
   "source": [
    "| 학생 번호 | 역사 | 영어 | 수학 | 사회 | 과학 |\n",
    "|  ----   | --- |---| --- | --- | --- |\n",
    "|0 |80 |92 |70 | 65 | 92 |\n",
    "|1 |91 |75 |90 | 68 | 85 | \n",
    "|2 |86 |76 |42 | 72 | 88 |\n",
    "|3 |77 |92 |52 | 60 | 80 |\n",
    "|4 |75 |85 |85 | 92 | 95 |\n",
    "|5 |96 |90 |95 | 81 | 72 |\n",
    "\n"
   ]
  },
  {
   "cell_type": "code",
   "execution_count": null,
   "metadata": {
    "execution": {
     "iopub.execute_input": "2021-03-15T08:04:53.209364Z",
     "iopub.status.busy": "2021-03-15T08:04:53.209004Z",
     "iopub.status.idle": "2021-03-15T08:04:53.210530Z",
     "shell.execute_reply": "2021-03-15T08:04:53.210868Z"
    }
   },
   "outputs": [],
   "source": [
    "scores = np.array([\n",
    "    [80, 92, 70, 65, 92], \n",
    "    [91, 75, 90, 68, 85], \n",
    "    [86, 76, 42, 72, 88], \n",
    "    [77, 92, 52, 60, 80], \n",
    "    [75, 85, 85, 92, 95], \n",
    "    [96, 90, 95, 81, 72]])\n",
    "\n",
    "scores"
   ]
  },
  {
   "cell_type": "markdown",
   "metadata": {
    "colab_type": "text",
    "id": "Arf8vqDqjS5x"
   },
   "source": [
    "## 1. 원소 인덱싱\n",
    "+ Numpy Array를 인덱싱 할 때에도 대괄호 형식 `[인덱스 값]`을 사용합니다.\n",
    "+ 각각의 축에 대해 **위치를 특정**하면, 원하는 위치의 **단일 원소**를 가져올 수 있습니다.\n",
    "+ 2차원 행렬에는 축이 2개 있으므로 단일 원소를 가져오려면 각 축에 대한 인덱스 값이 필요하며, 이는 `[a, b]`로 표현할 수 있습니다. 예로, 2차원 행렬에서는 `axis = 0이 행`, `axis = 1이 열`을 뜻하므로, `[행(a), 열(b)]`라고 생각하면 됩니다.  "
   ]
  },
  {
   "cell_type": "markdown",
   "metadata": {
    "colab_type": "text",
    "id": "7o6fruwGjS5y"
   },
   "source": [
    "### (1) 단일 원소 인덱싱\n",
    "본 내용에 들어가기에 앞서, 넘파이에서 n차원 배열은 n개의 축을 가진다는 사실을 알아야 합니다.\n",
    "\n",
    "<img src='./img/2_31.png' width=600 height=300/>\n",
    "\n",
    "배열 내 원소는 **각 축에서의 위치값(인덱스)**을 지정하여 특정값에 액세스 할 수 있습니다 ."
   ]
  },
  {
   "cell_type": "markdown",
   "metadata": {},
   "source": [
    "#### 2번 학생의 역사 성적"
   ]
  },
  {
   "cell_type": "markdown",
   "metadata": {},
   "source": [
    "학생 2의 성적은 row=2 또는 세번째 행에 위치하고, 학생들의 역사점수는 데이터에서 column=0 또는 첫번째 열에 위치합니다."
   ]
  },
  {
   "cell_type": "code",
   "execution_count": null,
   "metadata": {
    "cellView": "both",
    "colab": {
     "base_uri": "https://localhost:8080/",
     "height": 33
    },
    "colab_type": "code",
    "execution": {
     "iopub.execute_input": "2021-03-15T08:04:53.213147Z",
     "iopub.status.busy": "2021-03-15T08:04:53.212814Z",
     "iopub.status.idle": "2021-03-15T08:04:53.214359Z",
     "shell.execute_reply": "2021-03-15T08:04:53.214703Z"
    },
    "executionInfo": {
     "elapsed": 684,
     "status": "ok",
     "timestamp": 1551674329123,
     "user": {
      "displayName": "최선열",
      "photoUrl": "",
      "userId": "00663027191814710813"
     },
     "user_tz": -540
    },
    "id": "4VDSeR7jjS50",
    "outputId": "ec26255a-793f-4295-9617-79c62d490c10"
   },
   "outputs": [],
   "source": [
    "# row=2 , col=0\n",
    "scores[2,0]"
   ]
  },
  {
   "cell_type": "markdown",
   "metadata": {
    "colab_type": "text",
    "id": "0VK3VBffjS56"
   },
   "source": [
    "#### 3번 학생의 수학 성적"
   ]
  },
  {
   "cell_type": "code",
   "execution_count": null,
   "metadata": {
    "colab": {
     "base_uri": "https://localhost:8080/",
     "height": 33
    },
    "colab_type": "code",
    "execution": {
     "iopub.execute_input": "2021-03-15T08:04:53.216858Z",
     "iopub.status.busy": "2021-03-15T08:04:53.216492Z",
     "iopub.status.idle": "2021-03-15T08:04:53.218045Z",
     "shell.execute_reply": "2021-03-15T08:04:53.218262Z"
    },
    "executionInfo": {
     "elapsed": 513,
     "status": "ok",
     "timestamp": 1551674329403,
     "user": {
      "displayName": "최선열",
      "photoUrl": "",
      "userId": "00663027191814710813"
     },
     "user_tz": -540
    },
    "id": "O513g6Q9jS57",
    "outputId": "1bbcdadd-b9ca-4f25-d170-28e80f496056"
   },
   "outputs": [],
   "source": [
    "# row=4, col=3\n",
    "scores[3,2]"
   ]
  },
  {
   "cell_type": "markdown",
   "metadata": {},
   "source": [
    "<div class=\"alert alert-block alert-warning\">\n",
    "<b> [Practice] 원소 인덱싱 </b>\n",
    "</div>\n",
    "\n",
    "앞서 학습한 내용을 참고하여 코드셀에 직접 문제를 풀어보세요. \n",
    "\n",
    "다음은 어떤 국가의 연도별 화물수출입건수(단위 : 1000 건) 표입니다. <br>\n",
    "\n",
    "| 연도 | 해상 | 항공 |\n",
    "| ---- | ---: |---:|\n",
    "| Year1 | 4,290 | 6,070 |\n",
    "| Year2 | 4,425 | 6,278 |\n",
    "| Year3 | 4,577 | 6,350 |\n",
    "| Year4 | 4,617 | 8,295 | \n",
    "| Year5| 4,491 | 10,780 |\n",
    "\n",
    "\n",
    "위 표를 `cargo_n_array` 변수에 Numpy Array 형식으로 만들면 아래와 같습니다. 이를 활용하여 문제를 풀어보세요. \n",
    "\n",
    "```\n",
    "cargo_n_array = np.array([\n",
    "    [4290, 6070],\n",
    "    [4425, 6278],\n",
    "    [4577, 6350],\n",
    "    [4617, 8295],\n",
    "    [4491, 10780]\n",
    "])\n",
    "```\n",
    "\n",
    "Q1. `cargo_n_array`에서 Year1의 항공 화물수출입건수를 가져오세요.\n",
    "\n",
    "Q2. `cargo_n_array`에서 Year3의 해상 화물수출입건수를 가져오세요."
   ]
  },
  {
   "cell_type": "code",
   "execution_count": null,
   "metadata": {
    "execution": {
     "iopub.execute_input": "2021-03-15T08:04:53.220773Z",
     "iopub.status.busy": "2021-03-15T08:04:53.220444Z",
     "iopub.status.idle": "2021-03-15T08:04:53.221946Z",
     "shell.execute_reply": "2021-03-15T08:04:53.222276Z"
    }
   },
   "outputs": [],
   "source": [
    "# Answers \n",
    "cargo_n_array = np.array([\n",
    "    [4290, 6070],\n",
    "    [4425, 6278],\n",
    "    [4577, 6350],\n",
    "    [4617, 8295],\n",
    "    [4491, 10780]\n",
    "])\n",
    "\n",
    "# Q1. \n",
    "cargo_n_array[0, 1]\n",
    "\n",
    "# Q2. \n",
    "cargo_n_array[2, 0]"
   ]
  },
  {
   "cell_type": "markdown",
   "metadata": {
    "colab_type": "text",
    "id": "Arf8vqDqjS5x"
   },
   "source": [
    "## 2. 범위 인덱싱"
   ]
  },
  {
   "cell_type": "markdown",
   "metadata": {},
   "source": [
    "- 위치값을 사용하여 단일 요소에 액세스하는 것 외에도 인덱스 범위(Range Indexing)를 지정하여 배열 의 하위 집합을 가져올 수도 있습니다. 이를 numpy array slicing이라고 합니다. numpy array slicing의 구문은  [start:stop:step]입니다.\n",
    "\n",
    "- 배열슬라이싱은 배열인덱싱과 마찬가지로 0축부터 n축까지 순차적으로 진행되며, 특정축의 모든 항목에 액세스하려면 해당 축에 콜론 (**:**)을 사용합니다.\n",
    "\n",
    "- 예를 들어 2차원 배열의 특정 행에있는 모든 열에 액세스하려면 `[row_index, :]`로 설정하십시오. 여기서 콜론 (**:**)은 \"all\"을 의미 하며 column_index에 :를 표시하거나 공백으로두면 기존의 모든 열에 자동으로 액세스합니다. 콜론의 사용은 특정 열의 모든 값에 액세스 할 때도 적용됩니다. 예를 들어 열 1의 모든 값을 선택하려면 `[:,1]`로 설정할 수 있습니다. \n",
    "\n",
    "- 인덱스 값이 더 이상 지정되지 않으면 뒤에 추가되는 축의 모든 값에 액세스하는 것으로 이해됩니다. 예를 들어, 3차원 배열에 `[3,]`로 인덱싱을 한다면 3행의 모든 열(column)과 깊이(depth)에 액세스하는 것을 의미합니다.\n",
    "\n",
    "- start(결과값에 포함)은 슬라이스가 시작되는 위치를 알려주고 stop(결과값에 미포함)은 슬라이스의 끝점입니다. start, step, stop값이 명시되지 않은 경우, 기본값은 각각 0, 1, 배열의 길이(`len()`)입니다.\n",
    "\n"
   ]
  },
  {
   "cell_type": "markdown",
   "metadata": {
    "colab_type": "text",
    "id": "FRd1gBC_jS6T"
   },
   "source": [
    "### (1) 행 인덱싱 (axis=0)"
   ]
  },
  {
   "cell_type": "markdown",
   "metadata": {},
   "source": [
    "특정 행 하나를 얻으려면 `[row_index, ]`로 행의 단일 위치 값을 엑세스하거나, 연속된 행 집합을 원하는 경우 `[start:stop:step,  ]`표기법을 사용해야 합니다."
   ]
  },
  {
   "cell_type": "markdown",
   "metadata": {
    "colab_type": "text",
    "id": "-kaIThtMjS6C"
   },
   "source": [
    "#### 1번 학생의 전체성적"
   ]
  },
  {
   "cell_type": "code",
   "execution_count": null,
   "metadata": {
    "colab": {
     "base_uri": "https://localhost:8080/",
     "height": 33
    },
    "colab_type": "code",
    "execution": {
     "iopub.execute_input": "2021-03-15T08:04:53.224464Z",
     "iopub.status.busy": "2021-03-15T08:04:53.224144Z",
     "iopub.status.idle": "2021-03-15T08:04:53.225555Z",
     "shell.execute_reply": "2021-03-15T08:04:53.225879Z"
    },
    "executionInfo": {
     "elapsed": 524,
     "status": "ok",
     "timestamp": 1551674330274,
     "user": {
      "displayName": "최선열",
      "photoUrl": "",
      "userId": "00663027191814710813"
     },
     "user_tz": -540
    },
    "id": "5OKss3pVjS6H",
    "outputId": "f7ad2277-99a3-4f06-91ce-56cfcac0aa33",
    "scrolled": true
   },
   "outputs": [],
   "source": [
    "# row=1, col=all\n",
    "scores[1,:]"
   ]
  },
  {
   "cell_type": "markdown",
   "metadata": {},
   "source": [
    "#### 3번 학생의 전체성적"
   ]
  },
  {
   "cell_type": "code",
   "execution_count": null,
   "metadata": {
    "colab": {
     "base_uri": "https://localhost:8080/",
     "height": 33
    },
    "colab_type": "code",
    "execution": {
     "iopub.execute_input": "2021-03-15T08:04:53.228003Z",
     "iopub.status.busy": "2021-03-15T08:04:53.227658Z",
     "iopub.status.idle": "2021-03-15T08:04:53.229133Z",
     "shell.execute_reply": "2021-03-15T08:04:53.229482Z"
    },
    "executionInfo": {
     "elapsed": 679,
     "status": "ok",
     "timestamp": 1551674330273,
     "user": {
      "displayName": "최선열",
      "photoUrl": "",
      "userId": "00663027191814710813"
     },
     "user_tz": -540
    },
    "id": "Vzf0EHEAjS6D",
    "outputId": "9762763b-f37f-4426-a497-06a52bf3b9ac"
   },
   "outputs": [],
   "source": [
    "# row=3, col=all\n",
    "scores[3,:]"
   ]
  },
  {
   "cell_type": "markdown",
   "metadata": {
    "colab_type": "text",
    "id": "MbW28JW2jS6U"
   },
   "source": [
    "#### 1번부터 4번 학생의 전체성적"
   ]
  },
  {
   "cell_type": "code",
   "execution_count": null,
   "metadata": {
    "colab": {
     "base_uri": "https://localhost:8080/",
     "height": 82
    },
    "colab_type": "code",
    "execution": {
     "iopub.execute_input": "2021-03-15T08:04:53.231445Z",
     "iopub.status.busy": "2021-03-15T08:04:53.231108Z",
     "iopub.status.idle": "2021-03-15T08:04:53.232544Z",
     "shell.execute_reply": "2021-03-15T08:04:53.232880Z"
    },
    "executionInfo": {
     "elapsed": 410,
     "status": "ok",
     "timestamp": 1551674331733,
     "user": {
      "displayName": "최선열",
      "photoUrl": "",
      "userId": "00663027191814710813"
     },
     "user_tz": -540
    },
    "id": "G5z85owojS6U",
    "outputId": "6881718f-6080-4979-b10f-e8d1e35d0c64",
    "scrolled": true
   },
   "outputs": [],
   "source": [
    "# row=1~4 / col=all\n",
    "scores[1:5]"
   ]
  },
  {
   "cell_type": "markdown",
   "metadata": {
    "colab_type": "text",
    "id": "MbW28JW2jS6U"
   },
   "source": [
    "#### 2번~5번 학생의 성적"
   ]
  },
  {
   "cell_type": "code",
   "execution_count": null,
   "metadata": {
    "colab": {
     "base_uri": "https://localhost:8080/",
     "height": 82
    },
    "colab_type": "code",
    "execution": {
     "iopub.execute_input": "2021-03-15T08:04:53.234947Z",
     "iopub.status.busy": "2021-03-15T08:04:53.234616Z",
     "iopub.status.idle": "2021-03-15T08:04:53.236007Z",
     "shell.execute_reply": "2021-03-15T08:04:53.236329Z"
    },
    "executionInfo": {
     "elapsed": 410,
     "status": "ok",
     "timestamp": 1551674331733,
     "user": {
      "displayName": "최선열",
      "photoUrl": "",
      "userId": "00663027191814710813"
     },
     "user_tz": -540
    },
    "id": "G5z85owojS6U",
    "outputId": "6881718f-6080-4979-b10f-e8d1e35d0c64"
   },
   "outputs": [],
   "source": [
    "# row=2~5 / col=all\n",
    "scores[2:6]"
   ]
  },
  {
   "cell_type": "markdown",
   "metadata": {
    "colab_type": "text",
    "id": "n_vEBYiKjS6Y"
   },
   "source": [
    "####  짝수 번호의 학생 성적"
   ]
  },
  {
   "cell_type": "code",
   "execution_count": null,
   "metadata": {
    "colab": {
     "base_uri": "https://localhost:8080/",
     "height": 66
    },
    "colab_type": "code",
    "execution": {
     "iopub.execute_input": "2021-03-15T08:04:53.238390Z",
     "iopub.status.busy": "2021-03-15T08:04:53.238054Z",
     "iopub.status.idle": "2021-03-15T08:04:53.239529Z",
     "shell.execute_reply": "2021-03-15T08:04:53.239852Z"
    },
    "executionInfo": {
     "elapsed": 434,
     "status": "ok",
     "timestamp": 1551674332126,
     "user": {
      "displayName": "최선열",
      "photoUrl": "",
      "userId": "00663027191814710813"
     },
     "user_tz": -540
    },
    "id": "Ewj3J2awjS6a",
    "outputId": "905244b3-f5dd-4f7b-bf7f-be5c7c23aeac"
   },
   "outputs": [],
   "source": [
    "# row=0,2,4 / col=all\n",
    "scores[0:6:2]"
   ]
  },
  {
   "cell_type": "markdown",
   "metadata": {
    "colab_type": "text",
    "id": "n_vEBYiKjS6Y"
   },
   "source": [
    "####  홀수 번호의 학생 성적"
   ]
  },
  {
   "cell_type": "code",
   "execution_count": null,
   "metadata": {
    "colab": {
     "base_uri": "https://localhost:8080/",
     "height": 66
    },
    "colab_type": "code",
    "execution": {
     "iopub.execute_input": "2021-03-15T08:04:53.241888Z",
     "iopub.status.busy": "2021-03-15T08:04:53.241548Z",
     "iopub.status.idle": "2021-03-15T08:04:53.243019Z",
     "shell.execute_reply": "2021-03-15T08:04:53.243352Z"
    },
    "executionInfo": {
     "elapsed": 434,
     "status": "ok",
     "timestamp": 1551674332126,
     "user": {
      "displayName": "최선열",
      "photoUrl": "",
      "userId": "00663027191814710813"
     },
     "user_tz": -540
    },
    "id": "Ewj3J2awjS6a",
    "outputId": "905244b3-f5dd-4f7b-bf7f-be5c7c23aeac"
   },
   "outputs": [],
   "source": [
    "# row=1,3,5 / col=all\n",
    "scores[1:6:2]"
   ]
  },
  {
   "cell_type": "markdown",
   "metadata": {
    "colab_type": "text",
    "id": "FRd1gBC_jS6T"
   },
   "source": [
    "### (2) 열 인덱싱 (axis=1)"
   ]
  },
  {
   "cell_type": "markdown",
   "metadata": {},
   "source": [
    "열만 특정해서 가져올 때는 행 인덱싱과 순서만 바꿔주면 됩니다. 모든 행을 선택하는 동안 특정열만 지정하려면 `[:, column_index]` 또는 `[:, start:stop:step]`을 사용하십시오."
   ]
  },
  {
   "cell_type": "markdown",
   "metadata": {
    "colab_type": "text",
    "id": "8bhgrD5kjS6N"
   },
   "source": [
    "#### 전체 학생의 역사 성적"
   ]
  },
  {
   "cell_type": "code",
   "execution_count": null,
   "metadata": {
    "colab": {
     "base_uri": "https://localhost:8080/",
     "height": 33
    },
    "colab_type": "code",
    "execution": {
     "iopub.execute_input": "2021-03-15T08:04:53.245428Z",
     "iopub.status.busy": "2021-03-15T08:04:53.245058Z",
     "iopub.status.idle": "2021-03-15T08:04:53.246391Z",
     "shell.execute_reply": "2021-03-15T08:04:53.246712Z"
    },
    "executionInfo": {
     "elapsed": 894,
     "status": "ok",
     "timestamp": 1551674331439,
     "user": {
      "displayName": "최선열",
      "photoUrl": "",
      "userId": "00663027191814710813"
     },
     "user_tz": -540
    },
    "id": "RaUVY69ijS6O",
    "outputId": "a7e33813-12f9-495f-a500-82d0eb9c8f60"
   },
   "outputs": [],
   "source": [
    "# row=all / col=0\n",
    "scores[:,0]"
   ]
  },
  {
   "cell_type": "markdown",
   "metadata": {},
   "source": [
    "#### 전체 학생의 수학 성적"
   ]
  },
  {
   "cell_type": "code",
   "execution_count": null,
   "metadata": {
    "colab": {
     "base_uri": "https://localhost:8080/",
     "height": 33
    },
    "colab_type": "code",
    "execution": {
     "iopub.execute_input": "2021-03-15T08:04:53.248741Z",
     "iopub.status.busy": "2021-03-15T08:04:53.248391Z",
     "iopub.status.idle": "2021-03-15T08:04:53.249761Z",
     "shell.execute_reply": "2021-03-15T08:04:53.250071Z"
    },
    "executionInfo": {
     "elapsed": 894,
     "status": "ok",
     "timestamp": 1551674331439,
     "user": {
      "displayName": "최선열",
      "photoUrl": "",
      "userId": "00663027191814710813"
     },
     "user_tz": -540
    },
    "id": "RaUVY69ijS6O",
    "outputId": "a7e33813-12f9-495f-a500-82d0eb9c8f60"
   },
   "outputs": [],
   "source": [
    "# row=all / col=2\n",
    "scores[:,2]"
   ]
  },
  {
   "cell_type": "markdown",
   "metadata": {
    "colab_type": "text",
    "id": "Y0HRVpFVjS6l"
   },
   "source": [
    "#### 전체 학생의 역사, 영어, 수학 성적"
   ]
  },
  {
   "cell_type": "code",
   "execution_count": null,
   "metadata": {
    "colab": {
     "base_uri": "https://localhost:8080/",
     "height": 115
    },
    "colab_type": "code",
    "execution": {
     "iopub.execute_input": "2021-03-15T08:04:53.252098Z",
     "iopub.status.busy": "2021-03-15T08:04:53.251774Z",
     "iopub.status.idle": "2021-03-15T08:04:53.253210Z",
     "shell.execute_reply": "2021-03-15T08:04:53.253535Z"
    },
    "executionInfo": {
     "elapsed": 383,
     "status": "ok",
     "timestamp": 1551674332681,
     "user": {
      "displayName": "최선열",
      "photoUrl": "",
      "userId": "00663027191814710813"
     },
     "user_tz": -540
    },
    "id": "8dv_f1RtjS6m",
    "outputId": "fbfbc8cf-c383-49d7-d84d-cad564a16b40"
   },
   "outputs": [],
   "source": [
    "# row=all / col=0,1,2\n",
    "scores[:,0:3]"
   ]
  },
  {
   "cell_type": "markdown",
   "metadata": {
    "colab_type": "text",
    "id": "Y0HRVpFVjS6l"
   },
   "source": [
    "#### 전체 학생의 영어, 수학, 사회 성적"
   ]
  },
  {
   "cell_type": "code",
   "execution_count": null,
   "metadata": {
    "colab": {
     "base_uri": "https://localhost:8080/",
     "height": 115
    },
    "colab_type": "code",
    "execution": {
     "iopub.execute_input": "2021-03-15T08:04:53.255686Z",
     "iopub.status.busy": "2021-03-15T08:04:53.255316Z",
     "iopub.status.idle": "2021-03-15T08:04:53.256733Z",
     "shell.execute_reply": "2021-03-15T08:04:53.257066Z"
    },
    "executionInfo": {
     "elapsed": 383,
     "status": "ok",
     "timestamp": 1551674332681,
     "user": {
      "displayName": "최선열",
      "photoUrl": "",
      "userId": "00663027191814710813"
     },
     "user_tz": -540
    },
    "id": "8dv_f1RtjS6m",
    "outputId": "fbfbc8cf-c383-49d7-d84d-cad564a16b40"
   },
   "outputs": [],
   "source": [
    "# row=all / col=1,2,3\n",
    "scores[:,1:4]"
   ]
  },
  {
   "cell_type": "markdown",
   "metadata": {
    "colab_type": "text",
    "id": "3lmxcJ9pjS6s"
   },
   "source": [
    "### (3) list 방식 인덱싱 (Fancy Indexing)\n",
    "**연속적 범위가 아닌 특정 비연속 범위**를 지정하여 인덱싱할 때에는 list방식을 사용하면 됩니다."
   ]
  },
  {
   "cell_type": "markdown",
   "metadata": {
    "colab_type": "text",
    "id": "Y7wgx6aLjS6t"
   },
   "source": [
    "#### 1,3,4번 학생의 성적"
   ]
  },
  {
   "cell_type": "code",
   "execution_count": null,
   "metadata": {
    "colab": {
     "base_uri": "https://localhost:8080/",
     "height": 66
    },
    "colab_type": "code",
    "execution": {
     "iopub.execute_input": "2021-03-15T08:04:53.259249Z",
     "iopub.status.busy": "2021-03-15T08:04:53.258893Z",
     "iopub.status.idle": "2021-03-15T08:04:53.260263Z",
     "shell.execute_reply": "2021-03-15T08:04:53.260577Z"
    },
    "executionInfo": {
     "elapsed": 541,
     "status": "ok",
     "timestamp": 1551674333851,
     "user": {
      "displayName": "최선열",
      "photoUrl": "",
      "userId": "00663027191814710813"
     },
     "user_tz": -540
    },
    "id": "0Z_E7n5vjS6u",
    "outputId": "d0349dd5-59a5-4d19-b7b8-8b4c6f4b274e",
    "scrolled": true
   },
   "outputs": [],
   "source": [
    "# row=1,3,4 / col = all\n",
    "scores[[1, 3, 4]] # 특정 범위를 list에 담아서 인덱싱"
   ]
  },
  {
   "cell_type": "markdown",
   "metadata": {
    "colab_type": "text",
    "id": "dEUKlFVUjS6z"
   },
   "source": [
    "#### 전체 학생의 수학, 과학 성적"
   ]
  },
  {
   "cell_type": "code",
   "execution_count": null,
   "metadata": {
    "colab": {
     "base_uri": "https://localhost:8080/",
     "height": 115
    },
    "colab_type": "code",
    "execution": {
     "iopub.execute_input": "2021-03-15T08:04:53.262630Z",
     "iopub.status.busy": "2021-03-15T08:04:53.262300Z",
     "iopub.status.idle": "2021-03-15T08:04:53.263657Z",
     "shell.execute_reply": "2021-03-15T08:04:53.263983Z"
    },
    "executionInfo": {
     "elapsed": 480,
     "status": "ok",
     "timestamp": 1551674334228,
     "user": {
      "displayName": "최선열",
      "photoUrl": "",
      "userId": "00663027191814710813"
     },
     "user_tz": -540
    },
    "id": "xMC6oEQ8jS60",
    "outputId": "38832aa9-e567-448b-b8d2-94f383f662dc",
    "scrolled": true
   },
   "outputs": [],
   "source": [
    "# row= all / col = 2,4\n",
    "scores[:,[2, 4]] "
   ]
  },
  {
   "cell_type": "markdown",
   "metadata": {},
   "source": [
    "<div class=\"alert alert-block alert-warning\">\n",
    "<b> [Practice] 범위 인덱싱 </b> \n",
    "</div>\n",
    " 앞서 학습한 내용을 참고하여 코드셀에 직접 문제를 풀어보세요. \n",
    " 다음은 어떤 국가의 연도별 화물수출입건수(단위 : 1000 건) 표입니다. <br>\n",
    "\n",
    "| 연도 | 해상 | 항공 |\n",
    "| ---- | ---: |---:|\n",
    "| Year1 | 4,290 | 6,070 |\n",
    "| Year2 | 4,425 | 6,278 |\n",
    "| Year3 | 4,577 | 6,350 |\n",
    "| Year4 | 4,617 | 8,295 | \n",
    "| Year5| 4,491 | 10,780 |\n",
    "\n",
    "위 표를 `cargo_n_array` 변수에 Numpy Array 형식으로 만들면, 아래와 같습니다. 이를 활용하여 문제를 풀어보세요. \n",
    "```\n",
    "cargo_n_array = np.array([\n",
    "    [4290, 6070],\n",
    "    [4425, 6278],\n",
    "    [4577, 6350],\n",
    "    [4617, 8295],\n",
    "    [4491, 10780]\n",
    "])\n",
    "```\n",
    "\n",
    "Q1. `cargo_n_array`에서 Year1부터 Year3의 화물수출입건수 가져오세요.\n",
    "\n",
    "Q2. `cargo_n_array`에서 Year1, Year3, Year5의 항공 화물수출입건수 가져오세요.\n",
    "\n",
    "Q3. `cargo_n_array`에서 모든 연도의 해상 화물수출입건수 가져오세요."
   ]
  },
  {
   "cell_type": "code",
   "execution_count": null,
   "metadata": {
    "execution": {
     "iopub.execute_input": "2021-03-15T08:04:53.266640Z",
     "iopub.status.busy": "2021-03-15T08:04:53.266279Z",
     "iopub.status.idle": "2021-03-15T08:04:53.267728Z",
     "shell.execute_reply": "2021-03-15T08:04:53.268036Z"
    }
   },
   "outputs": [],
   "source": [
    "# Answers\n",
    "cargo_n_array = np.array([\n",
    "    [4290, 6070],\n",
    "    [4425, 6278],\n",
    "    [4577, 6350],\n",
    "    [4617, 8295],\n",
    "    [4491, 10780]\n",
    "])\n",
    "\n",
    "# Q1. \n",
    "cargo_n_array[:3,:]\n",
    "\n",
    "# Q2. \n",
    "cargo_n_array[[0, 2, 4]]\n",
    "\n",
    "# Q3. \n",
    "cargo_n_array[:, 0]"
   ]
  },
  {
   "cell_type": "markdown",
   "metadata": {
    "colab_type": "text",
    "id": "ndOiTdLQjS65"
   },
   "source": [
    "## 3. Boolean Indexing \n",
    "\n",
    "지금까지 본 인덱싱 방법 외에도 Boolean Masks를 사용하여 배열을 인덱싱 할 수 있으며 이러한 배열 인덱싱 방법을 Boolean (Array) Indexing 이라고 합니다.\n",
    "\n",
    "Boolean Mask는 배열에 논리 연산자를 적용한 후 이 조건에서 얻은 True / False 값으로 구성된 배열입니다. Boolean Indexing은 Boolean mask을 인덱싱 할 배열에 적용하여 True가 매칭되는 원소값만 액세스 할 때 사용됩니다."
   ]
  },
  {
   "cell_type": "markdown",
   "metadata": {},
   "source": [
    "### (1) 1차원 Boolean Indexing\n",
    "Boolean Indexing은 **인덱싱 하려는 Array와 Boolean Mask 축의 원소 수가 같아야 한다**는 조건만 충족하면 됩니다.  \n",
    "아래와 같이 `(2,3)`의 shape을 가지는 Numpy Array를 인덱싱 해봅시다."
   ]
  },
  {
   "cell_type": "code",
   "execution_count": null,
   "metadata": {
    "execution": {
     "iopub.execute_input": "2021-03-15T08:04:53.270246Z",
     "iopub.status.busy": "2021-03-15T08:04:53.269924Z",
     "iopub.status.idle": "2021-03-15T08:04:53.271318Z",
     "shell.execute_reply": "2021-03-15T08:04:53.271645Z"
    },
    "scrolled": true
   },
   "outputs": [],
   "source": [
    "# (2,3) Array\n",
    "array_1= np.arange(0,6).reshape(2,3)\n",
    "array_1"
   ]
  },
  {
   "cell_type": "markdown",
   "metadata": {},
   "source": [
    "#### 행(axis=0) 인덱싱"
   ]
  },
  {
   "cell_type": "markdown",
   "metadata": {},
   "source": [
    "축의 원소 수가 같아야 하므로 행 Indexing에 사용될 Boolean Mask는 (2,)형태로 만들어 줍니다.  "
   ]
  },
  {
   "cell_type": "code",
   "execution_count": null,
   "metadata": {
    "execution": {
     "iopub.execute_input": "2021-03-15T08:04:53.273954Z",
     "iopub.status.busy": "2021-03-15T08:04:53.273623Z",
     "iopub.status.idle": "2021-03-15T08:04:53.274925Z",
     "shell.execute_reply": "2021-03-15T08:04:53.275250Z"
    },
    "scrolled": true
   },
   "outputs": [],
   "source": [
    "# (2,) Boolean Mask\n",
    "mask = np.array([True,False])\n",
    "mask.shape\n",
    "array_1[mask,:]"
   ]
  },
  {
   "cell_type": "markdown",
   "metadata": {},
   "source": [
    "그리고 Array의 인덱싱 자리에 마스크를 집어넣으면, **True에 해당하는 부분만** 인덱싱 할 수 있습니다."
   ]
  },
  {
   "cell_type": "markdown",
   "metadata": {},
   "source": [
    "x array의 0번 축의 1행에 해당하는 열들을 가져오는 것을 확인할 수 있습니다."
   ]
  },
  {
   "cell_type": "markdown",
   "metadata": {},
   "source": [
    "#### 열(axis=1) 인덱싱"
   ]
  },
  {
   "cell_type": "markdown",
   "metadata": {},
   "source": [
    "열 Indexing에 사용될 Boolean Mask는 (3,)형태로 만들어 주고 array_1의 열 인덱싱 부분에 넣어줍니다."
   ]
  },
  {
   "cell_type": "code",
   "execution_count": null,
   "metadata": {
    "execution": {
     "iopub.execute_input": "2021-03-15T08:04:53.277419Z",
     "iopub.status.busy": "2021-03-15T08:04:53.277076Z",
     "iopub.status.idle": "2021-03-15T08:04:53.278504Z",
     "shell.execute_reply": "2021-03-15T08:04:53.278829Z"
    },
    "scrolled": true
   },
   "outputs": [],
   "source": [
    "# (3,) Boolean Mask\n",
    "mask = np.array([False,False,True])\n",
    "mask.shape"
   ]
  },
  {
   "cell_type": "code",
   "execution_count": null,
   "metadata": {
    "execution": {
     "iopub.execute_input": "2021-03-15T08:04:53.280914Z",
     "iopub.status.busy": "2021-03-15T08:04:53.280563Z",
     "iopub.status.idle": "2021-03-15T08:04:53.281866Z",
     "shell.execute_reply": "2021-03-15T08:04:53.282207Z"
    }
   },
   "outputs": [],
   "source": [
    "array_1[:,mask]"
   ]
  },
  {
   "cell_type": "markdown",
   "metadata": {},
   "source": [
    "x array의 1번 축의 3열에 해당하는 행들을 가져오는 것을 확인할 수 있습니다."
   ]
  },
  {
   "cell_type": "markdown",
   "metadata": {},
   "source": [
    "### (2) 2차원 Boolean Mask"
   ]
  },
  {
   "cell_type": "markdown",
   "metadata": {},
   "source": [
    "0번 축과 함께 1번 축에 대해서도 `True`와 `False` 값으로 인덱싱을 하고 싶다면 어떻게 해야 할까요?  \n",
    "그러기 위해서는 Boolean Mask도 2차원으로 만들어야 합니다.  "
   ]
  },
  {
   "cell_type": "code",
   "execution_count": null,
   "metadata": {
    "execution": {
     "iopub.execute_input": "2021-03-15T08:04:53.284431Z",
     "iopub.status.busy": "2021-03-15T08:04:53.284099Z",
     "iopub.status.idle": "2021-03-15T08:04:53.285497Z",
     "shell.execute_reply": "2021-03-15T08:04:53.285824Z"
    }
   },
   "outputs": [],
   "source": [
    "# (3,3)Array\n",
    "array_2 = np.arange(0,9).reshape(3,3)\n",
    "array_2"
   ]
  },
  {
   "cell_type": "code",
   "execution_count": null,
   "metadata": {
    "execution": {
     "iopub.execute_input": "2021-03-15T08:04:53.288093Z",
     "iopub.status.busy": "2021-03-15T08:04:53.287765Z",
     "iopub.status.idle": "2021-03-15T08:04:53.289107Z",
     "shell.execute_reply": "2021-03-15T08:04:53.289432Z"
    }
   },
   "outputs": [],
   "source": [
    "# (3,3)Boolean Mask\n",
    "mask = np.array([\n",
    "    [True,False, True],\n",
    "    [False,False, False],\n",
    "    [True,False, True]])\n",
    "mask.shape"
   ]
  },
  {
   "cell_type": "code",
   "execution_count": null,
   "metadata": {
    "execution": {
     "iopub.execute_input": "2021-03-15T08:04:53.291435Z",
     "iopub.status.busy": "2021-03-15T08:04:53.291086Z",
     "iopub.status.idle": "2021-03-15T08:04:53.292548Z",
     "shell.execute_reply": "2021-03-15T08:04:53.292866Z"
    }
   },
   "outputs": [],
   "source": [
    "array_2[mask]"
   ]
  },
  {
   "cell_type": "markdown",
   "metadata": {},
   "source": [
    "2차원의 array_2와 mask의 원소가 매칭되는 부분만 인덱싱 되는 것을 확인할 수 있습니다."
   ]
  },
  {
   "cell_type": "markdown",
   "metadata": {},
   "source": [
    "<div class=\"alert alert-block alert-warning\">\n",
    "<b> [Practice] Boolean 인덱싱 </b> \n",
    "</div>\n",
    " 앞서 학습한 내용을 참고하여 코드셀에 직접 문제를 풀어보세요. \n",
    " 다음은 어떤 국가의 연도별 화물수출입건수(단위 : 1000 건) 표입니다. <br>\n",
    "\n",
    "| 연도 | 해상 | 항공 |\n",
    "| ---- | ---: |---:|\n",
    "| Year1 | 4,290 | 6,070 |\n",
    "| Year2 | 4,425 | 6,278 |\n",
    "| Year3 | 4,577 | 6,350 |\n",
    "| Year4 | 4,617 | 8,295 | \n",
    "| Year5| 4,491 | 10,780 |\n",
    "\n",
    "위 표를 `cargo_n_array` 변수에 Numpy Array 형식으로 만들면, 아래와 같습니다. 이를 활용하여 문제를 풀어보세요. \n",
    "\n",
    "```\n",
    "cargo_n_array = np.array([\n",
    "    [4290, 6070],\n",
    "    [4425, 6278],\n",
    "    [4577, 6350],\n",
    "    [4617, 8295],\n",
    "    [4491, 10780]\n",
    "])\n",
    "```\n",
    "\n",
    "Q1. Boolean mask를 이용해 `cargo_n_array`에서 Year1, Year3, Year5의 항공 화물수출입건수 가져오세요.\n",
    "\n",
    "Q2. Boolean mask를 이용해 `cargo_n_array`에서 8,000,000건 이상 수출입건수 데이터 가져오세요.\n",
    "\n"
   ]
  },
  {
   "cell_type": "code",
   "execution_count": null,
   "metadata": {
    "execution": {
     "iopub.execute_input": "2021-03-15T08:04:53.295636Z",
     "iopub.status.busy": "2021-03-15T08:04:53.295308Z",
     "iopub.status.idle": "2021-03-15T08:04:53.296736Z",
     "shell.execute_reply": "2021-03-15T08:04:53.297073Z"
    }
   },
   "outputs": [],
   "source": [
    "# Answers\n",
    "cargo_n_array = np.array([\n",
    "    [4290, 6070],\n",
    "    [4425, 6278],\n",
    "    [4577, 6350],\n",
    "    [4617, 8295],\n",
    "    [4491, 10780]\n",
    "])\n",
    "\n",
    "# Q1. \n",
    "mask = [True, False, True, False, True]\n",
    "cargo_n_array[mask,:]\n",
    "\n",
    "# Q2. \n",
    "mask = cargo_n_array > 8000\n",
    "cargo_n_array[mask]"
   ]
  }
 ],
 "metadata": {
  "kernelspec": {
   "display_name": "Python 3",
   "language": "python",
   "name": "python3"
  },
  "language_info": {
   "codemirror_mode": {
    "name": "ipython",
    "version": 3
   },
   "file_extension": ".py",
   "mimetype": "text/x-python",
   "name": "python",
   "nbconvert_exporter": "python",
   "pygments_lexer": "ipython3",
   "version": "3.8.8"
  },
  "toc": {
   "base_numbering": 1,
   "nav_menu": {},
   "number_sections": false,
   "sideBar": true,
   "skip_h1_title": false,
   "title_cell": "Table of Contents",
   "title_sidebar": "Contents",
   "toc_cell": false,
   "toc_position": {
    "height": "calc(100% - 180px)",
    "left": "10px",
    "top": "150px",
    "width": "338.903px"
   },
   "toc_section_display": true,
   "toc_window_display": true
  }
 },
 "nbformat": 4,
 "nbformat_minor": 4
}
