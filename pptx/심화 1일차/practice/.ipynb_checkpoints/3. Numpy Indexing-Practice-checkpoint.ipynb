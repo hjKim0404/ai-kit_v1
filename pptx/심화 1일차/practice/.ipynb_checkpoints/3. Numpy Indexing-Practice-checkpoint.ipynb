{
 "cells": [
  {
   "cell_type": "markdown",
   "metadata": {},
   "source": [
    "# 3. Numpy Indexing\n",
    "\n",
    "지난 Section 2에서는 2차원 행렬에서 `A[0,0]`과 같은 식으로 원하는 행렬에서 원하는 값을 가져왔었습니다.  \n",
    "이번 Section 3에서는 Numpy Array에서 **원하는 값을 가져오는** 인덱싱 기능의 **구체적인 작동방식과 다양한 인덱싱 방식**을 배워보겠습니다.\n",
    "\n",
    "### _Objective_\n",
    "1. **원하는 위치의 원소 또는 범위 가져오기** : Numpy Array에서 원하는 위치의 값을 가져오는 방법을 배웁니다."
   ]
  },
  {
   "cell_type": "code",
   "execution_count": null,
   "metadata": {},
   "outputs": [],
   "source": [
    "import numpy as np"
   ]
  },
  {
   "cell_type": "markdown",
   "metadata": {
    "colab_type": "text",
    "id": "Rg9TEPR8jS5o"
   },
   "source": [
    "# \\[ 1. Array Indexing \\]\n",
    " \n",
    "인덱싱(indexing) 방법과 유사한 방법으로 `np.array`에서 원하는 값을 가져올 수 있습니다.  \n",
    "Numpy Array도 `list`, `tuple` 등과 마찬가지로 **구성하는 원소에 순서**가 있기 때문입니다.  "
   ]
  },
  {
   "cell_type": "markdown",
   "metadata": {
    "colab_type": "text",
    "id": "Z8GYFD3WlnSN"
   },
   "source": [
    "#### **예제) 학생들의 성적표**"
   ]
  },
  {
   "cell_type": "markdown",
   "metadata": {
    "colab_type": "text",
    "id": "vjgIhpLlmukD"
   },
   "source": [
    "| 학생 번호 | 역사 | 영어 | 수학 | 사회 | 과학 |\n",
    "|  ----   | --- |---| --- | --- | --- |\n",
    "|0 |80 |92 |70 | 65 | 92 |\n",
    "|1 |91 |75 |90 | 68 | 85 | \n",
    "|2 |86 |76 |42 | 72 | 88 |\n",
    "|3 |77 |92 |52 | 60 | 80 |\n",
    "|4 |75 |85 |85 | 92 | 95 |\n",
    "|5 |96 |90 |95 | 81 | 72 |\n",
    "\n"
   ]
  },
  {
   "cell_type": "code",
   "execution_count": null,
   "metadata": {},
   "outputs": [],
   "source": [
    "scores = np.array([\n",
    "    [80,92,70,65,92],\n",
    "    [91,75,90,68,85],\n",
    "    [86,76,42,72,88],\n",
    "    [77,92,52,60,80],\n",
    "    [75,85,85,92,95],\n",
    "    [96,90,95,81,72]\n",
    "])\n",
    "scores"
   ]
  },
  {
   "cell_type": "markdown",
   "metadata": {
    "colab_type": "text",
    "id": "Arf8vqDqjS5x"
   },
   "source": [
    "## 1. 원소 인덱싱\n",
    "+ Numpy Array를 인덱싱 할 때에도 대괄호 형식 `[인덱스 값]`을 사용합니다.\n",
    "+ 각각의 축에 대해 **위치를 특정**하면, 원하는 위치의 **단일 원소**를 가져올 수 있습니다."
   ]
  },
  {
   "cell_type": "markdown",
   "metadata": {
    "colab_type": "text",
    "id": "7o6fruwGjS5y"
   },
   "source": [
    "### (1) 단일 원소 인덱싱\n",
    "2차원 행렬에는 축이 2개 있으므로 단일 원소를 가져오려면 각 축에 대한 인덱스 값이 필요하며, 이는 `[a, b]`로 표현할 수 있습니다.  \n",
    "2차원 행렬에서는 `axis = 0이 행`, `axis = 1이 열`을 뜻하므로, `[행(a), 열(b)]`라고 생각하면 됩니다.  "
   ]
  },
  {
   "cell_type": "markdown",
   "metadata": {},
   "source": [
    "#### 2번 학생의 역사 성적"
   ]
  },
  {
   "cell_type": "code",
   "execution_count": null,
   "metadata": {
    "cellView": "both",
    "colab": {
     "base_uri": "https://localhost:8080/",
     "height": 33
    },
    "colab_type": "code",
    "executionInfo": {
     "elapsed": 684,
     "status": "ok",
     "timestamp": 1551674329123,
     "user": {
      "displayName": "최선열",
      "photoUrl": "",
      "userId": "00663027191814710813"
     },
     "user_tz": -540
    },
    "id": "4VDSeR7jjS50",
    "outputId": "ec26255a-793f-4295-9617-79c62d490c10"
   },
   "outputs": [],
   "source": [
    "# row=3 , col=1\n",
    "scores[2,0]"
   ]
  },
  {
   "cell_type": "markdown",
   "metadata": {
    "colab_type": "text",
    "id": "0VK3VBffjS56"
   },
   "source": [
    "#### 3번 학생의 수학 성적"
   ]
  },
  {
   "cell_type": "code",
   "execution_count": null,
   "metadata": {
    "colab": {
     "base_uri": "https://localhost:8080/",
     "height": 33
    },
    "colab_type": "code",
    "executionInfo": {
     "elapsed": 513,
     "status": "ok",
     "timestamp": 1551674329403,
     "user": {
      "displayName": "최선열",
      "photoUrl": "",
      "userId": "00663027191814710813"
     },
     "user_tz": -540
    },
    "id": "O513g6Q9jS57",
    "outputId": "1bbcdadd-b9ca-4f25-d170-28e80f496056"
   },
   "outputs": [],
   "source": [
    "# row=4, col=3\n",
    "scores[3,2]"
   ]
  },
  {
   "cell_type": "markdown",
   "metadata": {},
   "source": [
    "<div class=\"alert alert-block alert-warning\">\n",
    "<b> [Practice] 원소 인덱싱 </b>\n",
    "</div>\n",
    "\n",
    "앞서 학습한 내용을 참고하여 코드셀에 직접 문제를 풀어보세요. \n",
    " 다음은 어떤 국가의 연도별 화물수출입건수(단위 : 1000 건) 표입니다. <br>\n",
    "\n",
    "| 연도 | 해상 | 항공 |\n",
    "| ---- | ---: |---:|\n",
    "| Year1 | 4,290 | 6,070 |\n",
    "| Year2 | 4,425 | 6,278 |\n",
    "| Year3 | 4,577 | 6,350 |\n",
    "| Year4 | 4,617 | 8,295 | \n",
    "| Year5| 4,491 | 10,780 |\n",
    "\n",
    "\n",
    "Q1. 위 표를 `cargo_n_array` 변수에 Numpy Array 형식으로 만드세요.(숫자값만 넣어서 만들어보세요.)\n",
    "\n",
    "Q2. `cargo_n_array`에서 Year1의 항공 화물수출입건수를 가져오세요.\n",
    "\n",
    "Q3. `cargo_n_array`에서 Year3의 해상 화물수출입건수를 가져오세요."
   ]
  },
  {
   "cell_type": "code",
   "execution_count": null,
   "metadata": {},
   "outputs": [],
   "source": [
    "# Q1. \n",
    "# Type Here\n",
    "\n",
    "# Q2. \n",
    "# Type Here \n",
    "\n",
    "# Q3. \n",
    "# Type Here"
   ]
  },
  {
   "cell_type": "markdown",
   "metadata": {
    "colab_type": "text",
    "id": "Arf8vqDqjS5x"
   },
   "source": [
    "## 2. 범위 인덱싱\n",
    "+ Numpy Array에서는 연속하는 부분을 **범위로 지정해서** 인덱싱 할 수 있습니다. 이를 **슬라이싱** 이라고도 표현합니다.\n",
    "+ **축**을 기준으로 **원하는 행 또는 열을 특정**하여 원하는 축에 있는 원소를 가져올 수 있습니다.\n",
    "+ 해당 축의 값을 **전부** 가져오려면 `:`를 사용할 수 있습니다."
   ]
  },
  {
   "cell_type": "markdown",
   "metadata": {
    "colab_type": "text",
    "id": "FRd1gBC_jS6T"
   },
   "source": [
    "### (1) 행 인덱싱 (axis=0)"
   ]
  },
  {
   "cell_type": "markdown",
   "metadata": {},
   "source": [
    "`[시작:끝]` 식으로 인덱스를 입력하면 범위로 데이터를 가져올 수 있습니다.  \n",
    "학생은 행(axis=0)이므로 열(axis=1)을 따로 특정하지 않으면 행의 '전부'를 가져오게 됩니다."
   ]
  },
  {
   "cell_type": "markdown",
   "metadata": {
    "colab_type": "text",
    "id": "-kaIThtMjS6C"
   },
   "source": [
    "#### 1번 학생의 전체 성적"
   ]
  },
  {
   "cell_type": "code",
   "execution_count": null,
   "metadata": {
    "colab": {
     "base_uri": "https://localhost:8080/",
     "height": 33
    },
    "colab_type": "code",
    "executionInfo": {
     "elapsed": 524,
     "status": "ok",
     "timestamp": 1551674330274,
     "user": {
      "displayName": "최선열",
      "photoUrl": "",
      "userId": "00663027191814710813"
     },
     "user_tz": -540
    },
    "id": "5OKss3pVjS6H",
    "outputId": "f7ad2277-99a3-4f06-91ce-56cfcac0aa33",
    "scrolled": true
   },
   "outputs": [],
   "source": [
    "# row=1, col=all\n",
    "scores[1,:]"
   ]
  },
  {
   "cell_type": "markdown",
   "metadata": {},
   "source": [
    "#### 3번 학생의 전체 성적"
   ]
  },
  {
   "cell_type": "code",
   "execution_count": null,
   "metadata": {
    "colab": {
     "base_uri": "https://localhost:8080/",
     "height": 33
    },
    "colab_type": "code",
    "executionInfo": {
     "elapsed": 679,
     "status": "ok",
     "timestamp": 1551674330273,
     "user": {
      "displayName": "최선열",
      "photoUrl": "",
      "userId": "00663027191814710813"
     },
     "user_tz": -540
    },
    "id": "Vzf0EHEAjS6D",
    "outputId": "9762763b-f37f-4426-a497-06a52bf3b9ac"
   },
   "outputs": [],
   "source": [
    "# row=3, col=all\n",
    "scores[3,:]"
   ]
  },
  {
   "cell_type": "markdown",
   "metadata": {
    "colab_type": "text",
    "id": "MbW28JW2jS6U"
   },
   "source": [
    "#### 1번부터 n번 학생의 성적"
   ]
  },
  {
   "cell_type": "code",
   "execution_count": null,
   "metadata": {
    "colab": {
     "base_uri": "https://localhost:8080/",
     "height": 82
    },
    "colab_type": "code",
    "executionInfo": {
     "elapsed": 410,
     "status": "ok",
     "timestamp": 1551674331733,
     "user": {
      "displayName": "최선열",
      "photoUrl": "",
      "userId": "00663027191814710813"
     },
     "user_tz": -540
    },
    "id": "G5z85owojS6U",
    "outputId": "6881718f-6080-4979-b10f-e8d1e35d0c64",
    "scrolled": true
   },
   "outputs": [],
   "source": [
    "# row=1~4 / col=all\n",
    "scores[1:5]"
   ]
  },
  {
   "cell_type": "markdown",
   "metadata": {
    "colab_type": "text",
    "id": "MbW28JW2jS6U"
   },
   "source": [
    "#### 2번~5번 학생의 성적"
   ]
  },
  {
   "cell_type": "code",
   "execution_count": null,
   "metadata": {
    "colab": {
     "base_uri": "https://localhost:8080/",
     "height": 82
    },
    "colab_type": "code",
    "executionInfo": {
     "elapsed": 410,
     "status": "ok",
     "timestamp": 1551674331733,
     "user": {
      "displayName": "최선열",
      "photoUrl": "",
      "userId": "00663027191814710813"
     },
     "user_tz": -540
    },
    "id": "G5z85owojS6U",
    "outputId": "6881718f-6080-4979-b10f-e8d1e35d0c64"
   },
   "outputs": [],
   "source": [
    "# row=2~5 / col=all\n",
    "scores[2:6]"
   ]
  },
  {
   "cell_type": "markdown",
   "metadata": {
    "colab_type": "text",
    "id": "n_vEBYiKjS6Y"
   },
   "source": [
    "####  짝수 번호의 학생 성적"
   ]
  },
  {
   "cell_type": "code",
   "execution_count": null,
   "metadata": {
    "colab": {
     "base_uri": "https://localhost:8080/",
     "height": 66
    },
    "colab_type": "code",
    "executionInfo": {
     "elapsed": 434,
     "status": "ok",
     "timestamp": 1551674332126,
     "user": {
      "displayName": "최선열",
      "photoUrl": "",
      "userId": "00663027191814710813"
     },
     "user_tz": -540
    },
    "id": "Ewj3J2awjS6a",
    "outputId": "905244b3-f5dd-4f7b-bf7f-be5c7c23aeac"
   },
   "outputs": [],
   "source": [
    "# row=0,2,4 / col=all\n",
    "scores[0:6:2]"
   ]
  },
  {
   "cell_type": "markdown",
   "metadata": {
    "colab_type": "text",
    "id": "n_vEBYiKjS6Y"
   },
   "source": [
    "####  홀수 번호의 학생 성적"
   ]
  },
  {
   "cell_type": "code",
   "execution_count": null,
   "metadata": {
    "colab": {
     "base_uri": "https://localhost:8080/",
     "height": 66
    },
    "colab_type": "code",
    "executionInfo": {
     "elapsed": 434,
     "status": "ok",
     "timestamp": 1551674332126,
     "user": {
      "displayName": "최선열",
      "photoUrl": "",
      "userId": "00663027191814710813"
     },
     "user_tz": -540
    },
    "id": "Ewj3J2awjS6a",
    "outputId": "905244b3-f5dd-4f7b-bf7f-be5c7c23aeac"
   },
   "outputs": [],
   "source": [
    "# row=1,3,5 / col=all\n",
    "scores[1:6:2]"
   ]
  },
  {
   "cell_type": "markdown",
   "metadata": {
    "colab_type": "text",
    "id": "FRd1gBC_jS6T"
   },
   "source": [
    "### (2) 열 인덱싱 (axis=1)"
   ]
  },
  {
   "cell_type": "markdown",
   "metadata": {},
   "source": [
    "열만 특정해서 가져올 때는 행 인덱싱과 순서만 바꿔주면 됩니다. 여기서도 `:` 는 \"전부\"를 의미합니다."
   ]
  },
  {
   "cell_type": "markdown",
   "metadata": {
    "colab_type": "text",
    "id": "8bhgrD5kjS6N"
   },
   "source": [
    "#### 전체 학생의 역사 성적"
   ]
  },
  {
   "cell_type": "code",
   "execution_count": null,
   "metadata": {
    "colab": {
     "base_uri": "https://localhost:8080/",
     "height": 33
    },
    "colab_type": "code",
    "executionInfo": {
     "elapsed": 894,
     "status": "ok",
     "timestamp": 1551674331439,
     "user": {
      "displayName": "최선열",
      "photoUrl": "",
      "userId": "00663027191814710813"
     },
     "user_tz": -540
    },
    "id": "RaUVY69ijS6O",
    "outputId": "a7e33813-12f9-495f-a500-82d0eb9c8f60"
   },
   "outputs": [],
   "source": [
    "# row=all / col=0\n",
    "scores[:,0]"
   ]
  },
  {
   "cell_type": "markdown",
   "metadata": {},
   "source": [
    "#### 전체 학생의 수학 성적"
   ]
  },
  {
   "cell_type": "code",
   "execution_count": null,
   "metadata": {
    "colab": {
     "base_uri": "https://localhost:8080/",
     "height": 33
    },
    "colab_type": "code",
    "executionInfo": {
     "elapsed": 894,
     "status": "ok",
     "timestamp": 1551674331439,
     "user": {
      "displayName": "최선열",
      "photoUrl": "",
      "userId": "00663027191814710813"
     },
     "user_tz": -540
    },
    "id": "RaUVY69ijS6O",
    "outputId": "a7e33813-12f9-495f-a500-82d0eb9c8f60"
   },
   "outputs": [],
   "source": [
    "# row=all / col=2\n",
    "scores[:,2]"
   ]
  },
  {
   "cell_type": "markdown",
   "metadata": {
    "colab_type": "text",
    "id": "Y0HRVpFVjS6l"
   },
   "source": [
    "#### 전체 학생의 역사,영어,수학 성적"
   ]
  },
  {
   "cell_type": "code",
   "execution_count": null,
   "metadata": {
    "colab": {
     "base_uri": "https://localhost:8080/",
     "height": 115
    },
    "colab_type": "code",
    "executionInfo": {
     "elapsed": 383,
     "status": "ok",
     "timestamp": 1551674332681,
     "user": {
      "displayName": "최선열",
      "photoUrl": "",
      "userId": "00663027191814710813"
     },
     "user_tz": -540
    },
    "id": "8dv_f1RtjS6m",
    "outputId": "fbfbc8cf-c383-49d7-d84d-cad564a16b40"
   },
   "outputs": [],
   "source": [
    "# row=all / col=0,1,2\n",
    "scores[:,0:3]"
   ]
  },
  {
   "cell_type": "markdown",
   "metadata": {
    "colab_type": "text",
    "id": "Y0HRVpFVjS6l"
   },
   "source": [
    "#### 전체 학생의 영어,수학,사회 성적"
   ]
  },
  {
   "cell_type": "code",
   "execution_count": null,
   "metadata": {
    "colab": {
     "base_uri": "https://localhost:8080/",
     "height": 115
    },
    "colab_type": "code",
    "executionInfo": {
     "elapsed": 383,
     "status": "ok",
     "timestamp": 1551674332681,
     "user": {
      "displayName": "최선열",
      "photoUrl": "",
      "userId": "00663027191814710813"
     },
     "user_tz": -540
    },
    "id": "8dv_f1RtjS6m",
    "outputId": "fbfbc8cf-c383-49d7-d84d-cad564a16b40"
   },
   "outputs": [],
   "source": [
    "# row=all / col=1,2,3\n",
    "scores[:,1:4]"
   ]
  },
  {
   "cell_type": "markdown",
   "metadata": {
    "colab_type": "text",
    "id": "3lmxcJ9pjS6s"
   },
   "source": [
    "### (3) list 방식 인덱싱\n",
    "**정해진 범위가 아닌 특정 범위를 지정**하여 인덱싱할 때에는 list방식을 사용하면 됩니다."
   ]
  },
  {
   "cell_type": "markdown",
   "metadata": {
    "colab_type": "text",
    "id": "Y7wgx6aLjS6t"
   },
   "source": [
    "#### 1,3,4번 학생의 성적"
   ]
  },
  {
   "cell_type": "code",
   "execution_count": null,
   "metadata": {
    "colab": {
     "base_uri": "https://localhost:8080/",
     "height": 66
    },
    "colab_type": "code",
    "executionInfo": {
     "elapsed": 541,
     "status": "ok",
     "timestamp": 1551674333851,
     "user": {
      "displayName": "최선열",
      "photoUrl": "",
      "userId": "00663027191814710813"
     },
     "user_tz": -540
    },
    "id": "0Z_E7n5vjS6u",
    "outputId": "d0349dd5-59a5-4d19-b7b8-8b4c6f4b274e",
    "scrolled": true
   },
   "outputs": [],
   "source": [
    "# row=1,3,4 / col = all\n",
    "scores[[1,3,4]] # 특정 범위를 list에 담아서 인덱싱"
   ]
  },
  {
   "cell_type": "markdown",
   "metadata": {
    "colab_type": "text",
    "id": "dEUKlFVUjS6z"
   },
   "source": [
    "#### 전체 학생의 수학, 과학 성적"
   ]
  },
  {
   "cell_type": "code",
   "execution_count": null,
   "metadata": {
    "colab": {
     "base_uri": "https://localhost:8080/",
     "height": 115
    },
    "colab_type": "code",
    "executionInfo": {
     "elapsed": 480,
     "status": "ok",
     "timestamp": 1551674334228,
     "user": {
      "displayName": "최선열",
      "photoUrl": "",
      "userId": "00663027191814710813"
     },
     "user_tz": -540
    },
    "id": "xMC6oEQ8jS60",
    "outputId": "38832aa9-e567-448b-b8d2-94f383f662dc",
    "scrolled": true
   },
   "outputs": [],
   "source": [
    "# row= all / col = 2,4\n",
    "scores[:,[2,4]] "
   ]
  },
  {
   "cell_type": "markdown",
   "metadata": {},
   "source": [
    "<div class=\"alert alert-block alert-warning\">\n",
    "<b> [Practice] 범위 인덱싱 </b> \n",
    "</div>\n",
    " 앞서 학습한 내용을 참고하여 코드셀에 직접 문제를 풀어보세요. \n",
    " 다음은 어떤 국가의 연도별 화물수출입건수(단위 : 1000 건) 표입니다. <br>\n",
    "\n",
    "| 연도 | 해상 | 항공 |\n",
    "| ---- | ---: |---:|\n",
    "| Year1 | 4,290 | 6,070 |\n",
    "| Year2 | 4,425 | 6,278 |\n",
    "| Year3 | 4,577 | 6,350 |\n",
    "| Year4 | 4,617 | 8,295 | \n",
    "| Year5| 4,491 | 10,780 |\n",
    "\n",
    "\n",
    "Q1. 위 표를 `cargo_n_array` 변수에 Numpy Array 형식으로 만드세요.(숫자값만 넣어서 만들어보세요.)\n",
    "```\n",
    "cargo_n_array = np.array([\n",
    "    [4290, 6070],\n",
    "    [4425, 6278],\n",
    "    [4577, 6350],\n",
    "    [4617, 8295],\n",
    "    [4491, 10780]\n",
    "])\n",
    "```\n",
    "Q2. `cargo_n_array`에서 Year1부터 Year3의 화물수출입건수 가져오세요.\n",
    "\n",
    "Q3. `cargo_n_array`에서 Year1, Year3, Year5의 항공 화물수출입건수 가져오세요.\n",
    "\n",
    "Q4. `cargo_n_array`에서 모든 연도의 해상 화물수출입건수 가져오세요."
   ]
  },
  {
   "cell_type": "code",
   "execution_count": null,
   "metadata": {},
   "outputs": [],
   "source": [
    "# Q1. \n",
    "# Type Here\n",
    "\n",
    "# Q2. \n",
    "# Type Here \n",
    "\n",
    "# Q3. \n",
    "# Type Here\n",
    "\n",
    "# Q4. \n",
    "# Type Here"
   ]
  },
  {
   "cell_type": "markdown",
   "metadata": {
    "colab_type": "text",
    "id": "ndOiTdLQjS65"
   },
   "source": [
    "## 3. Boolean Indexing \n",
    "+ Numpy Array를 인덱싱 할 때 **Boolean Mask를 이용해서도 인덱싱이 가능**합니다.\n",
    "+ **Boolean Mask는 True / False 값으로 구성된 Array**를 뜻하며, Numpy Array에서 원하는 값을 가져올 때 인덱스로 활용할 수 있습니다."
   ]
  },
  {
   "cell_type": "markdown",
   "metadata": {},
   "source": [
    "### (1) 1차원 Boolean Indexing\n",
    "Boolean Indexing은 **인덱싱 하려는 Array와 Boolean Mask 축의 원소 수가 같아야 한다**는 조건만 충족하면 됩니다.  \n",
    "아래와 같이 `(2,3)`의 shape을 가지는 Numpy Array를 인덱싱 해봅시다."
   ]
  },
  {
   "cell_type": "code",
   "execution_count": null,
   "metadata": {
    "scrolled": true
   },
   "outputs": [],
   "source": [
    "# (2,3) Array\n",
    "array_1= np.arange(0,6).reshape(2,3)\n",
    "array_1"
   ]
  },
  {
   "cell_type": "markdown",
   "metadata": {},
   "source": [
    "#### 행(axis=0) 인덱싱"
   ]
  },
  {
   "cell_type": "markdown",
   "metadata": {},
   "source": [
    "축의 원소 수가 같아야 하므로 행 Indexing에 사용될 Boolean Mask는 (2,)형태로 만들어 줍니다.  "
   ]
  },
  {
   "cell_type": "code",
   "execution_count": null,
   "metadata": {
    "scrolled": true
   },
   "outputs": [],
   "source": [
    "# (2,) Boolean Mask\n",
    "mask = np.array([True,False])\n",
    "mask.shape\n",
    "array_1[mask,:]"
   ]
  },
  {
   "cell_type": "markdown",
   "metadata": {},
   "source": [
    "그리고 Array의 인덱싱 자리에 마스크를 집어넣으면, **True에 해당하는 부분만** 인덱싱 할 수 있습니다."
   ]
  },
  {
   "cell_type": "markdown",
   "metadata": {},
   "source": [
    "x array의 0번 축의 1행에 해당하는 열들을 가져오는 것을 확인할 수 있습니다."
   ]
  },
  {
   "cell_type": "markdown",
   "metadata": {},
   "source": [
    "#### 열(axis=1) 인덱싱"
   ]
  },
  {
   "cell_type": "markdown",
   "metadata": {},
   "source": [
    "열 Indexing에 사용될 Boolean Mask는 (3,)형태로 만들어 주고 array_1의 열 인덱싱 부분에 넣어줍니다."
   ]
  },
  {
   "cell_type": "code",
   "execution_count": null,
   "metadata": {
    "scrolled": true
   },
   "outputs": [],
   "source": [
    "# (3,) Boolean Mask\n",
    "mask = np.array([False,False,True])\n",
    "mask.shape"
   ]
  },
  {
   "cell_type": "code",
   "execution_count": null,
   "metadata": {},
   "outputs": [],
   "source": [
    "array_1[:,mask]"
   ]
  },
  {
   "cell_type": "markdown",
   "metadata": {},
   "source": [
    "x array의 1번 축의 3열에 해당하는 행들을 가져오는 것을 확인할 수 있습니다."
   ]
  },
  {
   "cell_type": "markdown",
   "metadata": {},
   "source": [
    "### (2) 2차원 Boolean Indexing\n",
    "0번 축과 함께 1번 축에 대해서도 `True`와 `False` 값으로 인덱싱을 하고 싶다면 어떻게 해야 할까요?  \n",
    "그러기 위해서는 Boolean Mask도 2차원으로 만들어야 합니다.  "
   ]
  },
  {
   "cell_type": "code",
   "execution_count": null,
   "metadata": {},
   "outputs": [],
   "source": [
    "# (3,3)Array\n",
    "array_2 = np.arange(0,9).reshape(3,3)\n",
    "array_2"
   ]
  },
  {
   "cell_type": "code",
   "execution_count": null,
   "metadata": {},
   "outputs": [],
   "source": [
    "# (3,3)Boolean Mask\n",
    "mask = np.array([\n",
    "    [True,False, True],\n",
    "    [False,False, False],\n",
    "    [True,False, True]])\n",
    "mask.shape"
   ]
  },
  {
   "cell_type": "code",
   "execution_count": null,
   "metadata": {},
   "outputs": [],
   "source": [
    "array_2[mask]"
   ]
  },
  {
   "cell_type": "markdown",
   "metadata": {},
   "source": [
    "2차원의 array_2와 mask의 원소가 매칭되는 부분만 인덱싱 되는 것을 확인할 수 있습니다."
   ]
  },
  {
   "cell_type": "markdown",
   "metadata": {},
   "source": [
    "<div class=\"alert alert-block alert-warning\">\n",
    "<b> [Practice -  Boolean 인덱싱] </b> \n",
    "</div>\n",
    " 앞서 학습한 내용을 참고하여 코드셀에 직접 문제를 풀어보세요. \n",
    " 다음은 어떤 국가의 연도별 화물수출입건수(단위 : 1000 건) 표입니다. <br>\n",
    "\n",
    "| 연도 | 해상 | 항공 |\n",
    "| ---- | ---: |---:|\n",
    "| Year1 | 4,290 | 6,070 |\n",
    "| Year2 | 4,425 | 6,278 |\n",
    "| Year3 | 4,577 | 6,350 |\n",
    "| Year4 | 4,617 | 8,295 | \n",
    "| Year5| 4,491 | 10,780 |\n",
    "\n",
    "\n",
    "Q1. 위 표를 `cargo_n_array` 변수에 Numpy Array 형식으로 만들어보세요.(숫자값만 넣어서 만들어보세요.)\n",
    "```\n",
    "cargo_n_array = np.array([\n",
    "    [4290, 6070],\n",
    "    [4425, 6278],\n",
    "    [4577, 6350],\n",
    "    [4617, 8295],\n",
    "    [4491, 10780]\n",
    "])\n",
    "```\n",
    "\n",
    "\n",
    "\n",
    "Q2. Boolean mask를 이용해 `cargo_n_array`에서 Year1, Year3, Year5의 항공 화물수출입건수 가져오세요.\n",
    "\n",
    "Q3. Boolean mask를 이용해 `cargo_n_array`에서 8,000,000건 이상 수출입건수 데이터 가져오세요.\n",
    "\n"
   ]
  },
  {
   "cell_type": "code",
   "execution_count": null,
   "metadata": {},
   "outputs": [],
   "source": [
    "# Q1. \n",
    "# Type Here\n",
    "\n",
    "# Q2. \n",
    "# Type Here \n",
    "\n",
    "# Q3. \n",
    "# Type Here "
   ]
  }
 ],
 "metadata": {
  "kernelspec": {
   "display_name": "Python 3",
   "language": "python",
   "name": "python3"
  },
  "language_info": {
   "codemirror_mode": {
    "name": "ipython",
    "version": 3
   },
   "file_extension": ".py",
   "mimetype": "text/x-python",
   "name": "python",
   "nbconvert_exporter": "python",
   "pygments_lexer": "ipython3",
   "version": "3.8.8"
  },
  "toc": {
   "base_numbering": 1,
   "nav_menu": {},
   "number_sections": false,
   "sideBar": true,
   "skip_h1_title": false,
   "title_cell": "Table of Contents",
   "title_sidebar": "Contents",
   "toc_cell": false,
   "toc_position": {
    "height": "calc(100% - 180px)",
    "left": "10px",
    "top": "150px",
    "width": "338.903px"
   },
   "toc_section_display": true,
   "toc_window_display": true
  }
 },
 "nbformat": 4,
 "nbformat_minor": 4
}
