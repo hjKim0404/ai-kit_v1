{
 "cells": [
  {
   "cell_type": "markdown",
   "metadata": {
    "colab_type": "text",
    "id": "o_fIYu-76fZg"
   },
   "source": [
    "# F. Broadcasting\n",
    "Numpy Array를 다룰 때 차원의 크기가 서로 다른 배열에서도 산술 연산을 해야할 때가 존재합니다.  \n",
    "예를들어 두 배열 간 차원의 크기가 (4, 2), (2, )일 때 두 배열을 산술 연산한다면 (2, )의 배열이 (4, 2) 행렬의 각 행에 대해 원소별 연산을 실행할 수 있습니다.  \n",
    "이번 Section에서는 이러한 Broadcasting원리를 이해하고 학습하겠습니다.\n",
    "\n",
    "\n",
    "### _Objective_\n",
    "1. **Broadcasting** : 차원의 크기가 서로 다른 배열을 연산하기 위한 Broadcasting를 학습"
   ]
  },
  {
   "cell_type": "markdown",
   "metadata": {},
   "source": [
    "## 1. Broadcasting\n",
    "브로드캐스팅이란 Numpy 배열에서 차원의 크기가 서로 다른 배열에서도 산술 연산을 가능하게 하는 원리입니다.\n",
    "- 두 배열의 차원(ndim)이 같지 않다면 차원이 **더 낮은 배열이** 차원이 더 높은 배열과 **같은 차원의 배열로 인식**됩니다.\n",
    "- 크기가 다른 두 배열의 **연산 결과는 배열 중 차원의 수(ndim)가 큰 배열**이 됩니다."
   ]
  },
  {
   "cell_type": "code",
   "execution_count": null,
   "metadata": {},
   "outputs": [],
   "source": [
    "import numpy as np"
   ]
  },
  {
   "cell_type": "markdown",
   "metadata": {},
   "source": [
    "### (1) Broadcasting 예제"
   ]
  },
  {
   "cell_type": "markdown",
   "metadata": {},
   "source": [
    "<img src='https://imgur.com/Q5DLh1m.jpg' align=left />"
   ]
  },
  {
   "cell_type": "markdown",
   "metadata": {},
   "source": [
    "위 그림은 `[0, 1, 2]`로 구성된 Numpy Array와 Scalar값 5와의 연산을 보여줍니다.  \n",
    "브로드캐스팅에 의해 scalar값 `5`를 마치 `[5, 5, 5]`인 것처럼 변환되어 연산 결과를 반환하게 됩니다."
   ]
  },
  {
   "cell_type": "code",
   "execution_count": null,
   "metadata": {},
   "outputs": [],
   "source": [
    "A = np.arange(3)\n",
    "A"
   ]
  },
  {
   "cell_type": "code",
   "execution_count": null,
   "metadata": {
    "scrolled": true
   },
   "outputs": [],
   "source": [
    "A + 5"
   ]
  },
  {
   "cell_type": "markdown",
   "metadata": {},
   "source": [
    "A array에 각각 스칼라값 5가 덧셈 연산된 것을 확인할 수 있습니다."
   ]
  },
  {
   "cell_type": "markdown",
   "metadata": {},
   "source": [
    "<img src='https://imgur.com/vRwGp0E.jpg' align=left />"
   ]
  },
  {
   "cell_type": "markdown",
   "metadata": {},
   "source": [
    "두 번째 예시는 `[0, 1, 2]`를 크기가 더 큰 `[[1, 1, 1], [1, 1, 1], [1, 1, 1]]`의 **형태에 맞춰**  \n",
    "`[[0, 1, 2], [0, 1, 2], [0, 1, 2]]`로 변환하여 연산 결과를 반환합니다.  "
   ]
  },
  {
   "cell_type": "code",
   "execution_count": null,
   "metadata": {},
   "outputs": [],
   "source": [
    "A = np.ones((3,3))\n",
    "print(A.shape)\n",
    "A"
   ]
  },
  {
   "cell_type": "code",
   "execution_count": null,
   "metadata": {},
   "outputs": [],
   "source": [
    "B = np.arange(3)\n",
    "print(B.shape)\n",
    "B"
   ]
  },
  {
   "cell_type": "code",
   "execution_count": null,
   "metadata": {},
   "outputs": [],
   "source": [
    "A + B"
   ]
  },
  {
   "cell_type": "markdown",
   "metadata": {},
   "source": [
    "크기가 작은 B가 A의 형태에 맞춰 연산된 것을 확인할 수 있습니다."
   ]
  },
  {
   "cell_type": "markdown",
   "metadata": {},
   "source": [
    "<img src='https://imgur.com/Uy0BPLN.jpg' align=left />"
   ]
  },
  {
   "cell_type": "markdown",
   "metadata": {},
   "source": [
    "세 번째 예시는 `[[0], [1], [2]]`에 `[0,1,2]`를 더하는 경우입니다. 각각을 Numpy Array로 만들면 아래와 같습니다. "
   ]
  },
  {
   "cell_type": "markdown",
   "metadata": {},
   "source": [
    "np.arange(3)의 A array는 1차원 행렬입니다.  "
   ]
  },
  {
   "cell_type": "code",
   "execution_count": null,
   "metadata": {},
   "outputs": [],
   "source": [
    "A = np.arange(3).reshape((3,1))\n",
    "B = np.arange(3)"
   ]
  },
  {
   "cell_type": "code",
   "execution_count": null,
   "metadata": {
    "scrolled": true
   },
   "outputs": [],
   "source": [
    "print(A.shape)\n",
    "A"
   ]
  },
  {
   "cell_type": "code",
   "execution_count": null,
   "metadata": {},
   "outputs": [],
   "source": [
    "print(B.shape)\n",
    "B"
   ]
  },
  {
   "cell_type": "code",
   "execution_count": null,
   "metadata": {
    "scrolled": true
   },
   "outputs": [],
   "source": [
    "print('A.ndim', A.ndim)\n",
    "print('B.ndim', B.ndim)"
   ]
  },
  {
   "cell_type": "markdown",
   "metadata": {},
   "source": [
    "`A`의 shape은 `(3,1)`이고 `B`의 shape은 `(3,)`입니다. 여기서는 A의 차원이 2차원으로 더 높으므로 A에 맞춰서 B의 차원을 늘립니다."
   ]
  },
  {
   "cell_type": "markdown",
   "metadata": {},
   "source": [
    "그럼 B의 shape은 `(3,)`에서 무엇으로 변환될까요?  \n",
    "차원을 늘려야 하는 Array는 shape의 축 별 원소 수를 오른쪽으로 하나씩 밀어내고, 축을 추가합니다.  \n",
    "즉 `(3,)`에서 옆으로 한 칸 밀려 `(1,3)`형태로 확장됩니다.   \n",
    "이제 각 축의 원소 수를 비교하여 **큰 값으로 최종 결과물의 shape이 결정**됩니다.  \n",
    "B는 `(3, 1)`이고 A는 `(1,3)`의 형태가 되었으므로, 결과는 `(3,3)`의 형태가 될 것입니다.\n",
    "확인해보겠습니다."
   ]
  },
  {
   "cell_type": "code",
   "execution_count": null,
   "metadata": {},
   "outputs": [],
   "source": [
    "result = A + B\n",
    "result"
   ]
  },
  {
   "cell_type": "code",
   "execution_count": null,
   "metadata": {
    "scrolled": true
   },
   "outputs": [],
   "source": [
    "result.shape"
   ]
  },
  {
   "cell_type": "markdown",
   "metadata": {},
   "source": [
    "### (2) Rules of Broadcasting"
   ]
  },
  {
   "cell_type": "markdown",
   "metadata": {},
   "source": [
    "이처럼 Numpy는 입력하는 데이터의 크기나 차원이 서로 달라도 정해진 규칙에 따라 Array를 확장하여 연산을 실행합니다.  \n",
    "Numpy의 Braodcasting 원칙을 정리하면 아래와 같습니다. \n",
    "\n",
    "**[Rules of Broadcasting](https://jakevdp.github.io/PythonDataScienceHandbook/02.05-computation-on-arrays-broadcasting.html#Rules-of-Broadcasting)**\n",
    "\n",
    "- 원칙 1. 두 Array의 차원이 다르면, **차원이 낮은 쪽의 shape을 오른쪽으로 밀어 왼쪽에 축을 추가**한다. \n",
    ">  예: `(3,)`인 B의 shape을 `(1,3)`으로 변환\n",
    "- 원칙 2. 어떤 축에서도 두 Array의 원소 수가 맞지 않으면, 차원의 **원소 수가 1인 Array의 shape을 확장**한다. \n",
    ">  예:`(1,3)`인 A와 `(3,1)`인 B는 어떤 축에서도 원소 수가 같지 않음.  \n",
    "A와 B **각각 원소 수가 1인 축의 원소 수를 확장**하여 `(3,3)`shape의 결과를 반환. \n",
    "- 원칙 3. 어떤 축에서도 원소 수가 맞지 않고 1도 아니라면 오류를 반환한다. \n",
    "> 예: `(2,3)`과 `(3,2)`의 Array를 합치고자 하면 오류를 반환한다. "
   ]
  },
  {
   "cell_type": "markdown",
   "metadata": {},
   "source": [
    "원칙1과 원칙2는 앞서 살펴본 예시가 있었으니, 끝으로 원칙3이 적용되는 예시를 살펴봅시다. "
   ]
  },
  {
   "cell_type": "code",
   "execution_count": null,
   "metadata": {},
   "outputs": [],
   "source": [
    "A = np.arange(6)"
   ]
  },
  {
   "cell_type": "code",
   "execution_count": null,
   "metadata": {
    "scrolled": true
   },
   "outputs": [],
   "source": [
    "A.reshape(2,3) + A.reshape(3,2)"
   ]
  },
  {
   "cell_type": "markdown",
   "metadata": {},
   "source": [
    "위와 같이 어떤 축에서도 원소 수가 같지 않고, 1도 아니라면 오류를 반환합니다. "
   ]
  },
  {
   "cell_type": "markdown",
   "metadata": {},
   "source": [
    "<div class=\"alert alert-block alert-warning\">\n",
    "<b> [Practice] Broadcasting</b>\n",
    "</div>\n",
    "\n",
    "앞서 학습한 내용을 참고하여 코드셀에 직접 문제를 풀어보세요. \n",
    " 다음은 어떤 국가의 연도별 화물수출입건수(단위 : 1000 건) 표입니다. <br>\n",
    "\n",
    "| 연도 | 해상 | 항공 |\n",
    "| ---- | ---: |---:|\n",
    "| Year1 | 4,290 | 6,070 |\n",
    "| Year2 | 4,425 | 6,278 |\n",
    "| Year3 | 4,577 | 6,350 |\n",
    "| Year4 | 4,617 | 8,295 | \n",
    "| Year5| 4,491 | 10,780 |\n",
    "\n",
    "\n",
    "Q1. 위 표를 `cargo_n` 변수에 Numpy Array 형식으로 만드세요.(숫자값만 넣어서 만들어보세요.)\n",
    "\n",
    "```\n",
    "cargo_n_array = np.array([\n",
    "    [4290, 6070],\n",
    "    [4425, 6278],\n",
    "    [4577, 6350],\n",
    "    [4617, 8295],\n",
    "    [4491, 10780]\n",
    "])\n",
    "```\n",
    "\n",
    "Q2. `cargo_n_array`는 단위가 1000건인데, 이를 1000으로 나누어 단위를 1백 만 건으로 바꾸어 보세요. (힌트 : 브로드캐스팅 원칙1)\n",
    "\n",
    "Q3. `cargo_n_array`에서 연도별 화물수출입건수를 계산하여 `cargo_yearly_sum` 을 만들어보세요. (힌트 : `.sum(axis=1)` 메소드를 참고하세요.)\n",
    "\n",
    "Q4. `cargo_yearly_sum`의 shape을 (1,5)과 (5,1)로 만들고 서로 나누어 연도별 화물수출입건수 상승률을 구해보세요. (힌트 : 브로드캐스팅 원칙2)\n",
    "\n",
    "Q5. `cargo_n_array`와 `cargo_yearly_sum`를 이용해 연도별 화물수출입건수 중 해상과 항공 건수의 비중을 구해보세요. (힌트 : 브로드캐스팅 원칙2 & 원칙3)"
   ]
  },
  {
   "cell_type": "code",
   "execution_count": null,
   "metadata": {},
   "outputs": [],
   "source": [
    "# Q1.\n",
    "# Type Here\n",
    "\n",
    "# Q2.\n",
    "# Type Here\n",
    "\n",
    "# Q3.\n",
    "# Type Here\n",
    "\n",
    "# Q4.\n",
    "# Type Here\n",
    "\n",
    "# Q5.\n",
    "# Type Here"
   ]
  }
 ],
 "metadata": {
  "colab": {
   "collapsed_sections": [
    "P7pueSi-lge5",
    "Z8GYFD3WlnSN",
    "7o6fruwGjS5y",
    "t6X3h8PMjS6B",
    "SDHNSIFjjS6M",
    "FRd1gBC_jS6T",
    "3lmxcJ9pjS6s",
    "ndOiTdLQjS65",
    "Faj3mzS-2LlR",
    "M5lg56WYjS7J",
    "WCAeh_DDjS7h",
    "gTxVcqvt07py",
    "QqKuFJnMjS77",
    "3Cggo6--jS7-",
    "qnMcrczHjS8Z"
   ],
   "name": "3_Numpy의 Indexing과 합치기.ipynb",
   "provenance": [],
   "toc_visible": true,
   "version": "0.3.2"
  },
  "kernelspec": {
   "display_name": "Python 3",
   "language": "python",
   "name": "python3"
  },
  "language_info": {
   "codemirror_mode": {
    "name": "ipython",
    "version": 3
   },
   "file_extension": ".py",
   "mimetype": "text/x-python",
   "name": "python",
   "nbconvert_exporter": "python",
   "pygments_lexer": "ipython3",
   "version": "3.8.8"
  },
  "toc": {
   "base_numbering": 1,
   "nav_menu": {},
   "number_sections": false,
   "sideBar": true,
   "skip_h1_title": false,
   "title_cell": "Table of Contents",
   "title_sidebar": "Contents",
   "toc_cell": false,
   "toc_position": {
    "height": "calc(100% - 180px)",
    "left": "10px",
    "top": "150px",
    "width": "236.833px"
   },
   "toc_section_display": true,
   "toc_window_display": true
  }
 },
 "nbformat": 4,
 "nbformat_minor": 4
}
