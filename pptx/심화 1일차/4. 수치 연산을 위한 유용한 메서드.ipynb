{
 "cells": [
  {
   "cell_type": "markdown",
   "metadata": {
    "colab_type": "text",
    "id": "o_fIYu-76fZg"
   },
   "source": [
    "# 4. 수치 연산을 위한 유용한 메서드\n",
    "\n",
    "Numpy를 이용하면 간단하게 **Array를 구성하는 각각의 원소에 대해 동일한 연산을 적용**할 수 있습니다.  \n",
    "이런 메서드를 Universal Function이라고 합니다.  이는 Numpy의 최대 강점 중 하나입니다.  \n",
    "이번 Section에서는 Array의 수치 연산을 위한 다양하고 유용한 메서드들을 학습하겠습니다.\n",
    "\n",
    "***Objective***\n",
    "1. **원소별 연산** : Numpy에서 원소별 연산이 어떻게 작동하는지 학습합니다. \n",
    "1. **집계 연산** : Numpy에서 메소드를 이용한 집계 연산을 학습합니다."
   ]
  },
  {
   "cell_type": "code",
   "execution_count": null,
   "metadata": {
    "colab": {},
    "colab_type": "code",
    "execution": {
     "iopub.execute_input": "2021-03-15T08:04:55.245156Z",
     "iopub.status.busy": "2021-03-15T08:04:55.244384Z",
     "iopub.status.idle": "2021-03-15T08:04:55.362040Z",
     "shell.execute_reply": "2021-03-15T08:04:55.362295Z"
    },
    "id": "pa-8gyc06fZi"
   },
   "outputs": [],
   "source": [
    "import numpy as np"
   ]
  },
  {
   "cell_type": "markdown",
   "metadata": {},
   "source": [
    "# \\[ 1. 원소별 연산 \\] "
   ]
  },
  {
   "cell_type": "markdown",
   "metadata": {},
   "source": [
    "Numpy에서는 다음과 같은 형태의 Array의 연산을 수행할 수 있습니다.\n",
    "1. Array를 구성하는 원소별 연산\n",
    "2. 같은 형태의 Array 간 연산\n",
    "3. Scalar값과 Array 간 연산\n",
    "4. 다른 형태의 Array 간 연산  \n",
    "\n",
    "각각의 경우에 Numpy의 **사칙연산을 비롯한 다양한 원소별 연산 메서드**를 적용해보며 Numpy에서 원소별 연산이 어떻게 작동하는지 살펴봅시다."
   ]
  },
  {
   "cell_type": "markdown",
   "metadata": {},
   "source": [
    "## 1. Array를 구성하는 원소별 연산\n",
    "+ Array의 구성 원소를 원하는 메서드에 따라 변환할 수 있습니다. "
   ]
  },
  {
   "cell_type": "markdown",
   "metadata": {},
   "source": [
    "벡터 형태의 Array를 만들어 sin, 지수, 로그 등의 값으로 변환해봅시다."
   ]
  },
  {
   "cell_type": "markdown",
   "metadata": {},
   "source": [
    "우선 1(결과값 포함)에서 5(결과값 미포함)사이 0.5 간격의 값들을 포함하는 벡터를 만들어 보겠습니다. 그런 다음 이 값들의 사인(sin), 지수(exp) 및 로그(log)값 배열을 가져옵니다."
   ]
  },
  {
   "cell_type": "code",
   "execution_count": null,
   "metadata": {
    "colab": {
     "base_uri": "https://localhost:8080/",
     "height": 33
    },
    "colab_type": "code",
    "execution": {
     "iopub.execute_input": "2021-03-15T08:04:55.368031Z",
     "iopub.status.busy": "2021-03-15T08:04:55.367679Z",
     "iopub.status.idle": "2021-03-15T08:04:55.369184Z",
     "shell.execute_reply": "2021-03-15T08:04:55.369536Z"
    },
    "executionInfo": {
     "elapsed": 549,
     "status": "ok",
     "timestamp": 1551670426787,
     "user": {
      "displayName": "최선열",
      "photoUrl": "",
      "userId": "00663027191814710813"
     },
     "user_tz": -540
    },
    "id": "q0Xh4wP66fbF",
    "outputId": "98f70245-1054-4076-b00b-62d88d120edc",
    "scrolled": true
   },
   "outputs": [],
   "source": [
    "A = np.arange(1, 5, 0.5)\n",
    "A"
   ]
  },
  {
   "cell_type": "markdown",
   "metadata": {
    "colab_type": "text",
    "id": "FD0Ci35W6fbJ"
   },
   "source": [
    "### (1) sin 메서드\n",
    "\n",
    "`.sin()`메서드를 사용하면 $y = sin(x)$을 원소 별로 적용하여 결과를 반환합니다."
   ]
  },
  {
   "cell_type": "code",
   "execution_count": null,
   "metadata": {
    "colab": {},
    "colab_type": "code",
    "execution": {
     "iopub.execute_input": "2021-03-15T08:04:55.371832Z",
     "iopub.status.busy": "2021-03-15T08:04:55.371457Z",
     "iopub.status.idle": "2021-03-15T08:04:55.373544Z",
     "shell.execute_reply": "2021-03-15T08:04:55.373917Z"
    },
    "id": "Sk17n8XI6fbJ",
    "outputId": "5c2d7229-4321-41c3-c34f-cda1d8331ee2"
   },
   "outputs": [],
   "source": [
    "np.sin(A)"
   ]
  },
  {
   "cell_type": "markdown",
   "metadata": {
    "colab_type": "text",
    "id": "rIgrt0Sw6fbN"
   },
   "source": [
    "### (2) 지수 메서드\n",
    "\n",
    "`.exp()`메서드를 사용하면 $y=e^x$을 원소 별로 적용하여 결과를 반환합니다."
   ]
  },
  {
   "cell_type": "code",
   "execution_count": null,
   "metadata": {
    "colab": {},
    "colab_type": "code",
    "execution": {
     "iopub.execute_input": "2021-03-15T08:04:55.376633Z",
     "iopub.status.busy": "2021-03-15T08:04:55.376287Z",
     "iopub.status.idle": "2021-03-15T08:04:55.377875Z",
     "shell.execute_reply": "2021-03-15T08:04:55.378211Z"
    },
    "id": "4k8gSqJc6fbO",
    "outputId": "6d93cdfd-e6aa-47a2-e7ed-f4ba9056b063",
    "scrolled": true
   },
   "outputs": [],
   "source": [
    "np.exp(A)"
   ]
  },
  {
   "cell_type": "markdown",
   "metadata": {
    "colab_type": "text",
    "id": "0cy_BTx66fbX"
   },
   "source": [
    "### (3) 로그 메서드\n",
    "\n",
    "`.log()`메서드를 사용하면 $y = log(x)$을 원소 별로 적용하여 결과를 반환합니다."
   ]
  },
  {
   "cell_type": "code",
   "execution_count": null,
   "metadata": {
    "colab": {},
    "colab_type": "code",
    "execution": {
     "iopub.execute_input": "2021-03-15T08:04:55.380451Z",
     "iopub.status.busy": "2021-03-15T08:04:55.380117Z",
     "iopub.status.idle": "2021-03-15T08:04:55.381574Z",
     "shell.execute_reply": "2021-03-15T08:04:55.381916Z"
    },
    "id": "Z4NTD9_k6fbY",
    "outputId": "7ad9ebc4-ce3e-44e0-ee9f-fd9445a16bd8"
   },
   "outputs": [],
   "source": [
    "np.log(A)"
   ]
  },
  {
   "cell_type": "markdown",
   "metadata": {
    "colab_type": "text",
    "id": "ieQ2RBV06fbb"
   },
   "source": [
    "### (4) 행렬 곱 메서드\n",
    "\n",
    "행렬을 서로 곱하는 행렬곱(matrix multiplication)도 가장 중요한 연산 중 하나입니다.  \n",
    "Numpy에서는 행렬곱 연산도 `.matmul()` 메소드로 아래처럼 간단히 구현할 수 있습니다."
   ]
  },
  {
   "cell_type": "code",
   "execution_count": null,
   "metadata": {
    "colab": {},
    "colab_type": "code",
    "execution": {
     "iopub.execute_input": "2021-03-15T08:04:55.384206Z",
     "iopub.status.busy": "2021-03-15T08:04:55.383883Z",
     "iopub.status.idle": "2021-03-15T08:04:55.385045Z",
     "shell.execute_reply": "2021-03-15T08:04:55.385383Z"
    },
    "id": "hIyHeafz6fbc"
   },
   "outputs": [],
   "source": [
    "W = np.array([\n",
    "    [1, 2, 3],\n",
    "    [2, 3, 4],\n",
    "    [3, 4, 5]\n",
    "])\n",
    "X = np.array([\n",
    "    [1],\n",
    "    [2],\n",
    "    [3],\n",
    "])"
   ]
  },
  {
   "cell_type": "code",
   "execution_count": null,
   "metadata": {
    "colab": {},
    "colab_type": "code",
    "execution": {
     "iopub.execute_input": "2021-03-15T08:04:55.387773Z",
     "iopub.status.busy": "2021-03-15T08:04:55.387429Z",
     "iopub.status.idle": "2021-03-15T08:04:55.388898Z",
     "shell.execute_reply": "2021-03-15T08:04:55.389232Z"
    },
    "id": "RnrJOMJQ6fbg",
    "outputId": "b1d9831f-91f3-49de-9006-4cc070bec1b3"
   },
   "outputs": [],
   "source": [
    "np.matmul(W,X)"
   ]
  },
  {
   "cell_type": "markdown",
   "metadata": {},
   "source": [
    "<div class=\"alert alert-block alert-warning\">\n",
    "<b> [Practice] Array를 구성하는 원소별 연산 1 </b>\n",
    "</div>\n",
    "\n",
    "앞서 학습한 내용을 참고하여 코드셀에 직접 문제를 풀어보세요. \n",
    "\n",
    "Q1. `arr1` 변수에 1부터 10까지 일정한 간격으로 커지는 연속적인 10개의 원소로 구성된 Numpy Array를 만들어 보세요.(힌트: `np.linspace()`)\n",
    "\n",
    "Q2. `arr1`의 모든 원소를 sin값으로 변환해보세요.\n",
    "\n",
    "Q3. `arr1`의 모든 원소를 cos값으로 변환해보세요.\n",
    "\n",
    "Q4. `arr1`의 모든 원소를 log값으로 변환해보세요."
   ]
  },
  {
   "cell_type": "code",
   "execution_count": null,
   "metadata": {
    "execution": {
     "iopub.execute_input": "2021-03-15T08:04:55.391981Z",
     "iopub.status.busy": "2021-03-15T08:04:55.391641Z",
     "iopub.status.idle": "2021-03-15T08:04:55.393151Z",
     "shell.execute_reply": "2021-03-15T08:04:55.393487Z"
    }
   },
   "outputs": [],
   "source": [
    "# Answers\n",
    "# Q1.\n",
    "arr1 = np.linspace(1, 10, 10)\n",
    "arr1\n",
    "\n",
    "# Q2.\n",
    "np.sin(arr1)\n",
    "\n",
    "# Q3.\n",
    "np.cos(arr1)\n",
    "\n",
    "# Q4.\n",
    "np.log(arr1)"
   ]
  },
  {
   "cell_type": "markdown",
   "metadata": {},
   "source": [
    "<div class=\"alert alert-block alert-warning\">\n",
    "<b> [Practice] Array를 구성하는 원소별 연산 2 </b>\n",
    "</div>\n",
    "\n",
    "앞서 학습한 내용을 참고하여 코드셀에 직접 문제를 풀어보세요.\n",
    "\n",
    "Q1. `arr2` 변수에 다음 표를 Numpy Array 형식으로 만드세요.\n",
    "\n",
    "|  |  |  |\n",
    "|:---:|:---:|:---:|\n",
    "|1|3|5|\n",
    "|2|4|6|\n",
    "\n",
    "Q2. `arr3` 변수에 다음 표를 Numpy Array 형식으로 만드세요.\n",
    "\n",
    "|  |  |  |  |\n",
    "|:---:|:---:|:---:|:---:|\n",
    "|1|2|3|4|\n",
    "|5|6|7|8|\n",
    "|9|10|11|12|\n",
    "\n",
    "Q3. `arr2`와 `arr3`를 곱하는 연산을 진행하고 결과를 `arr_mul`변수에 저장해주세요.\n",
    "\n",
    "Q4. `arr2`, `arr3`, `arr_mul`의 shape를 각각 출력하여 행렬곱 연산으로 shape이 어떻게 변화했는지 확인해보세요."
   ]
  },
  {
   "cell_type": "code",
   "execution_count": null,
   "metadata": {
    "execution": {
     "iopub.execute_input": "2021-03-15T08:04:55.396621Z",
     "iopub.status.busy": "2021-03-15T08:04:55.396275Z",
     "iopub.status.idle": "2021-03-15T08:04:55.397737Z",
     "shell.execute_reply": "2021-03-15T08:04:55.398071Z"
    }
   },
   "outputs": [],
   "source": [
    "# Answers\n",
    "# Q1.\n",
    "arr2 = np.array([[1, 3, 5], [2, 4, 6]])\n",
    "print(arr2)\n",
    "\n",
    "# Q2.\n",
    "arr3 = np.array([[1, 2, 3, 4], [5, 6, 7, 8], [9, 10, 11, 12]])\n",
    "print(arr3)\n",
    "\n",
    "# Q3.\n",
    "arr_mul = np.matmul(arr2, arr3)\n",
    "arr_mul\n",
    "\n",
    "# Q4.\n",
    "print(arr2.shape)\n",
    "print(arr3.shape)\n",
    "print(arr_mul.shape)"
   ]
  },
  {
   "cell_type": "markdown",
   "metadata": {
    "colab_type": "text",
    "id": "-xLXSgg4O6Rd"
   },
   "source": [
    "# \\[ 2. 집계 연산 \\]\n",
    "\n",
    "Numpy는 집계 연산을 위한 다양한 메서드가 존재합니다.  \n",
    "집계 메서드는 한 축이 갖는 여러개의 값을 그룹당 하나의 값으로 반환합니다.  "
   ]
  },
  {
   "cell_type": "markdown",
   "metadata": {
    "colab_type": "text",
    "id": "34r66vr2O6Re"
   },
   "source": [
    "#### 예제)  학생들의 중간, 기말 성적표\n",
    "앞선 Section에서 사용했던 학생들의 과목별 성적 데이터를 활용하겠습니다. "
   ]
  },
  {
   "cell_type": "code",
   "execution_count": null,
   "metadata": {
    "colab": {
     "base_uri": "https://localhost:8080/",
     "height": 228
    },
    "colab_type": "code",
    "execution": {
     "iopub.execute_input": "2021-03-15T08:04:55.401617Z",
     "iopub.status.busy": "2021-03-15T08:04:55.401276Z",
     "iopub.status.idle": "2021-03-15T08:04:55.402809Z",
     "shell.execute_reply": "2021-03-15T08:04:55.403140Z"
    },
    "executionInfo": {
     "elapsed": 375,
     "status": "ok",
     "timestamp": 1551671291404,
     "user": {
      "displayName": "최선열",
      "photoUrl": "",
      "userId": "00663027191814710813"
     },
     "user_tz": -540
    },
    "id": "WrSWb4HgO6Rf",
    "outputId": "08a25e9e-2e34-4884-b203-7536c019feac"
   },
   "outputs": [],
   "source": [
    "midterm_scores = np.array([\n",
    "       [80, 92, 70, 65, 92],\n",
    "       [91, 75, 90, 68, 85],\n",
    "       [86, 76, 42, 72, 88],\n",
    "       [77, 92, 52, 60, 80],\n",
    "       [75, 85, 85, 92, 95],\n",
    "       [96, 90, 95, 81, 72]])\n",
    "\n",
    "final_scores = np.array([\n",
    "       [85, 95, 90, 66, 93],\n",
    "       [93, 70, 80, 60, 81],\n",
    "       [89, 78, 55, 75, 80],\n",
    "       [80, 94, 59, 72, 90],\n",
    "       [70, 82, 81, 95, 72],\n",
    "       [90, 76, 93, 82, 89]])\n",
    "\n",
    "final_scores.shape"
   ]
  },
  {
   "cell_type": "markdown",
   "metadata": {},
   "source": [
    "## 1. 다양한 집계 연산 메서드"
   ]
  },
  {
   "cell_type": "markdown",
   "metadata": {
    "colab_type": "text",
    "id": "ElsyQ5ceO6Se"
   },
   "source": [
    "### (1) np.sum()\n",
    "`.sum()`메서드를 사용하면 array의 전체 합을 구할 수 있습니다."
   ]
  },
  {
   "cell_type": "markdown",
   "metadata": {},
   "source": [
    "#### 모든 학생의 중간고사 성적 합"
   ]
  },
  {
   "cell_type": "code",
   "execution_count": null,
   "metadata": {
    "execution": {
     "iopub.execute_input": "2021-03-15T08:04:55.405260Z",
     "iopub.status.busy": "2021-03-15T08:04:55.404894Z",
     "iopub.status.idle": "2021-03-15T08:04:55.406236Z",
     "shell.execute_reply": "2021-03-15T08:04:55.406571Z"
    }
   },
   "outputs": [],
   "source": [
    "midterm_scores.sum()"
   ]
  },
  {
   "cell_type": "markdown",
   "metadata": {},
   "source": [
    "#### 0번 학생의 중간고사 성적 합"
   ]
  },
  {
   "cell_type": "code",
   "execution_count": null,
   "metadata": {
    "execution": {
     "iopub.execute_input": "2021-03-15T08:04:55.408615Z",
     "iopub.status.busy": "2021-03-15T08:04:55.408281Z",
     "iopub.status.idle": "2021-03-15T08:04:55.409727Z",
     "shell.execute_reply": "2021-03-15T08:04:55.410054Z"
    },
    "scrolled": true
   },
   "outputs": [],
   "source": [
    "midterm_scores[0,:].sum()"
   ]
  },
  {
   "cell_type": "markdown",
   "metadata": {
    "colab_type": "text",
    "id": "M1nhRjsbO6Rl"
   },
   "source": [
    "### (2) np.mean()\n",
    "`.mean()`메서드를 사용하면 넘파이 배열의 평균값을 쉽게 구할 수 있습니다."
   ]
  },
  {
   "cell_type": "markdown",
   "metadata": {},
   "source": [
    "#### 모든 학생의 중간고사 성적 평균"
   ]
  },
  {
   "cell_type": "code",
   "execution_count": null,
   "metadata": {
    "colab": {},
    "colab_type": "code",
    "execution": {
     "iopub.execute_input": "2021-03-15T08:04:55.412103Z",
     "iopub.status.busy": "2021-03-15T08:04:55.411756Z",
     "iopub.status.idle": "2021-03-15T08:04:55.413250Z",
     "shell.execute_reply": "2021-03-15T08:04:55.413578Z"
    },
    "id": "L7YAyDE3O6Rn",
    "outputId": "314997bf-5d82-4513-f24b-fbfdba4a9439",
    "scrolled": true
   },
   "outputs": [],
   "source": [
    "midterm_scores.mean()"
   ]
  },
  {
   "cell_type": "markdown",
   "metadata": {},
   "source": [
    "#### 4번 학생의 중간고사 성적 평균"
   ]
  },
  {
   "cell_type": "code",
   "execution_count": null,
   "metadata": {
    "colab": {
     "base_uri": "https://localhost:8080/",
     "height": 33
    },
    "colab_type": "code",
    "execution": {
     "iopub.execute_input": "2021-03-15T08:04:55.415722Z",
     "iopub.status.busy": "2021-03-15T08:04:55.415396Z",
     "iopub.status.idle": "2021-03-15T08:04:55.416898Z",
     "shell.execute_reply": "2021-03-15T08:04:55.417228Z"
    },
    "executionInfo": {
     "elapsed": 662,
     "status": "ok",
     "timestamp": 1551672127626,
     "user": {
      "displayName": "최선열",
      "photoUrl": "",
      "userId": "00663027191814710813"
     },
     "user_tz": -540
    },
    "id": "Oe4Raong3aMq",
    "outputId": "57ab87df-eb5b-41f5-8ed4-8aab11e9c4df"
   },
   "outputs": [],
   "source": [
    "midterm_scores[4,:].mean()"
   ]
  },
  {
   "cell_type": "markdown",
   "metadata": {
    "colab_type": "text",
    "id": "ElsyQ5ceO6Se"
   },
   "source": [
    "### (3) np.max()\n",
    "`.max()`메서드는 array의 최댓값을 반환합니다."
   ]
  },
  {
   "cell_type": "markdown",
   "metadata": {},
   "source": [
    " #### 기말고사 성적의 최대 점수"
   ]
  },
  {
   "cell_type": "code",
   "execution_count": null,
   "metadata": {
    "execution": {
     "iopub.execute_input": "2021-03-15T08:04:55.419332Z",
     "iopub.status.busy": "2021-03-15T08:04:55.418992Z",
     "iopub.status.idle": "2021-03-15T08:04:55.420486Z",
     "shell.execute_reply": "2021-03-15T08:04:55.420838Z"
    },
    "scrolled": true
   },
   "outputs": [],
   "source": [
    "final_scores.max()"
   ]
  },
  {
   "cell_type": "markdown",
   "metadata": {},
   "source": [
    "#### 2번 학생의 최대 점수"
   ]
  },
  {
   "cell_type": "code",
   "execution_count": null,
   "metadata": {
    "execution": {
     "iopub.execute_input": "2021-03-15T08:04:55.423067Z",
     "iopub.status.busy": "2021-03-15T08:04:55.422712Z",
     "iopub.status.idle": "2021-03-15T08:04:55.424004Z",
     "shell.execute_reply": "2021-03-15T08:04:55.424334Z"
    },
    "scrolled": true
   },
   "outputs": [],
   "source": [
    "final_scores[2,:].max()"
   ]
  },
  {
   "cell_type": "markdown",
   "metadata": {
    "colab_type": "text",
    "id": "ElsyQ5ceO6Se"
   },
   "source": [
    "### (4) np.min()\n",
    "`.min()`메서드는 array의 최솟값을 반환합니다."
   ]
  },
  {
   "cell_type": "markdown",
   "metadata": {},
   "source": [
    " #### 기말고사 성적의 최저 점수"
   ]
  },
  {
   "cell_type": "code",
   "execution_count": null,
   "metadata": {
    "execution": {
     "iopub.execute_input": "2021-03-15T08:04:55.426505Z",
     "iopub.status.busy": "2021-03-15T08:04:55.426132Z",
     "iopub.status.idle": "2021-03-15T08:04:55.427464Z",
     "shell.execute_reply": "2021-03-15T08:04:55.427792Z"
    },
    "scrolled": true
   },
   "outputs": [],
   "source": [
    "final_scores.min()"
   ]
  },
  {
   "cell_type": "markdown",
   "metadata": {},
   "source": [
    "#### 3번 학생의 최저 점수"
   ]
  },
  {
   "cell_type": "code",
   "execution_count": null,
   "metadata": {
    "execution": {
     "iopub.execute_input": "2021-03-15T08:04:55.429949Z",
     "iopub.status.busy": "2021-03-15T08:04:55.429619Z",
     "iopub.status.idle": "2021-03-15T08:04:55.431095Z",
     "shell.execute_reply": "2021-03-15T08:04:55.431443Z"
    },
    "scrolled": true
   },
   "outputs": [],
   "source": [
    "final_scores[3,:].min()"
   ]
  },
  {
   "cell_type": "markdown",
   "metadata": {
    "colab_type": "text",
    "id": "ElsyQ5ceO6Se"
   },
   "source": [
    "### (5) np.std()\n",
    "`.std()`메서드는 array의 표준 편차를 반환합니다."
   ]
  },
  {
   "cell_type": "markdown",
   "metadata": {},
   "source": [
    "#### 전체 학생의 중간고사 성적 표준 편차"
   ]
  },
  {
   "cell_type": "code",
   "execution_count": null,
   "metadata": {
    "execution": {
     "iopub.execute_input": "2021-03-15T08:04:55.433621Z",
     "iopub.status.busy": "2021-03-15T08:04:55.433277Z",
     "iopub.status.idle": "2021-03-15T08:04:55.434744Z",
     "shell.execute_reply": "2021-03-15T08:04:55.435080Z"
    },
    "scrolled": true
   },
   "outputs": [],
   "source": [
    "midterm_scores.std() "
   ]
  },
  {
   "cell_type": "markdown",
   "metadata": {},
   "source": [
    "<div class=\"alert alert-block alert-warning\">\n",
    "<b> [Practice] 다양한 집계 연산 메서드 1 </b>\n",
    "</div>\n",
    "\n",
    "앞서 학습한 내용을 참고하여 코드셀에 직접 문제를 풀어보세요. \n",
    "\n",
    "다음은 Country1의 연도별 화물수출입건수(단위 : 1000 건) 표입니다.\n",
    "\n",
    "| 연도 | 해상 | 항공 |\n",
    "| ---- | ---: |---:|\n",
    "| Year1 | 4,290 | 6,070 |\n",
    "| Year2 | 4,425 | 6,278 |\n",
    "| Year3 | 4,577 | 6,350 |\n",
    "| Year4 | 4,617 | 8,295 | \n",
    "| Year5 | 4,491 | 10,780 |\n",
    "\n",
    "이 표를 `country_1` 변수에 Numpy Array 형식으로 만들면, 아래와 같습니다. \n",
    "\n",
    "```\n",
    "country_1 = np.array([[4290, 6070],\n",
    "                  [4425, 6278],\n",
    "                  [4577, 6350],\n",
    "                  [4617, 8295],\n",
    "                  [4491, 10780]])\n",
    "```\n",
    "                  \n",
    "다음은 Country2의 연도별 화물수출입건수(단위 : 1000 건) 표입니다.\n",
    "\n",
    "| 연도 | 해상 | 항공 |\n",
    "| ---- | ---: |---:|\n",
    "| Year1 | 4,505 | 7,754 |\n",
    "| Year2 | 4,359 | 4,675 |\n",
    "| Year3 | 4,430 | 8,559 |\n",
    "| Year4 | 4,510 | 8,408 | \n",
    "| Year5 | 4,294 | 8,785 |\n",
    "\n",
    "이 표를 `country_2` 변수에 Numpy Array 형식으로 만들면, 아래와 같습니다. 이를 활용하여 문제를 풀어보세요. \n",
    "\n",
    "```\n",
    "country_2 = np.array([[4505, 7754],\n",
    "                 [4359, 4675],\n",
    "                 [4430, 8559],\n",
    "                 [4510, 8408],\n",
    "                 [4294, 8785]])\n",
    "```\n",
    "\n",
    "Q1. `country_1`에서 Year1부터 Year5까지의 해상 건수의 합을 구해보세요.\n",
    "\n",
    "Q2. `country_1`에서 Year1부터 Year5까지의 항공 건수의 평균을 구해보세요.\n",
    "\n",
    "Q3. `country_2`에서 Year1부터 Year5까지의 해상 건수의 표준 편차를 구해보세요.\n",
    "\n",
    "Q4. `country_2`에서 Year1부터 Year5까지의 항공 건수의 최댓값과 최솟값을 구해보세요."
   ]
  },
  {
   "cell_type": "code",
   "execution_count": null,
   "metadata": {
    "execution": {
     "iopub.execute_input": "2021-03-15T08:04:55.438562Z",
     "iopub.status.busy": "2021-03-15T08:04:55.438234Z",
     "iopub.status.idle": "2021-03-15T08:04:55.439764Z",
     "shell.execute_reply": "2021-03-15T08:04:55.440104Z"
    }
   },
   "outputs": [],
   "source": [
    "# Answers\n",
    "country_1 = np.array([[4290, 6070],\n",
    "                  [4425, 6278],\n",
    "                  [4577, 6350],\n",
    "                  [4617, 8295],\n",
    "                  [4491, 10780]])\n",
    "\n",
    "country_2 = np.array([[4505, 7754],\n",
    "                 [4359, 4675],\n",
    "                 [4430, 8559],\n",
    "                 [4510, 8408],\n",
    "                 [4294, 8785]])\n",
    "\n",
    "# Q1.\n",
    "country_1[:, 0].sum()\n",
    "\n",
    "# Q2.\n",
    "country_1[:, 1].mean()\n",
    "\n",
    "# Q3.\n",
    "country_2[:, 0].std()\n",
    "\n",
    "# Q4.\n",
    "country_2[:, 1].max()\n",
    "country_2[:, 1].min()"
   ]
  },
  {
   "cell_type": "markdown",
   "metadata": {},
   "source": [
    "### (6) np.stack()\n",
    "`np.stack()`메서드를 이용하면 여러 개의 Array를 하나의 Array로 합침으로써 차원을 확장시킬 수 있습니다."
   ]
  },
  {
   "cell_type": "markdown",
   "metadata": {},
   "source": [
    "#### 중간고사, 기말고사 성적 합치기"
   ]
  },
  {
   "cell_type": "code",
   "execution_count": null,
   "metadata": {
    "colab": {
     "base_uri": "https://localhost:8080/",
     "height": 228
    },
    "colab_type": "code",
    "execution": {
     "iopub.execute_input": "2021-03-15T08:04:55.442569Z",
     "iopub.status.busy": "2021-03-15T08:04:55.442177Z",
     "iopub.status.idle": "2021-03-15T08:04:55.443713Z",
     "shell.execute_reply": "2021-03-15T08:04:55.444042Z"
    },
    "executionInfo": {
     "elapsed": 375,
     "status": "ok",
     "timestamp": 1551671291404,
     "user": {
      "displayName": "최선열",
      "photoUrl": "",
      "userId": "00663027191814710813"
     },
     "user_tz": -540
    },
    "id": "WrSWb4HgO6Rf",
    "outputId": "08a25e9e-2e34-4884-b203-7536c019feac"
   },
   "outputs": [],
   "source": [
    "scores = np.stack([midterm_scores,final_scores])\n",
    "print(scores.shape)\n",
    "scores"
   ]
  },
  {
   "cell_type": "markdown",
   "metadata": {
    "colab_type": "text",
    "id": "KALm-dei5SbX"
   },
   "source": [
    "stack된 (2, 6, 5) shape의 의미는 아래와 같습니다. \n",
    "\n",
    "- 2 : axis = 0 : 시험 기간(중간고사, 기말고사)\n",
    "- 6 : axis = 1 : 여섯명의 학생\n",
    "- 5 : axis = 2 : 다섯개의 과목"
   ]
  },
  {
   "cell_type": "markdown",
   "metadata": {},
   "source": [
    "### (7) np.all()\n",
    "`.all()`메서드는 구성 원소가 **모두** True 일때만 True를 반환하고 하나라도 False가 있으면 False를 반환합니다.  "
   ]
  },
  {
   "cell_type": "markdown",
   "metadata": {},
   "source": [
    "#### 중간고사와 기말고사 영어성적이 모두 90점 이상인 학생"
   ]
  },
  {
   "cell_type": "markdown",
   "metadata": {},
   "source": [
    "**시험기간**을 기준으로 집계하기 위해 `.all()`의 `axis`인자로 0을 설정합니다. "
   ]
  },
  {
   "cell_type": "code",
   "execution_count": null,
   "metadata": {
    "execution": {
     "iopub.execute_input": "2021-03-15T08:04:55.446488Z",
     "iopub.status.busy": "2021-03-15T08:04:55.446160Z",
     "iopub.status.idle": "2021-03-15T08:04:55.447649Z",
     "shell.execute_reply": "2021-03-15T08:04:55.447981Z"
    }
   },
   "outputs": [],
   "source": [
    "np.all(scores[:,:,1]>=90, axis=0)"
   ]
  },
  {
   "cell_type": "markdown",
   "metadata": {},
   "source": [
    "0번과 4번 학생만 두 시험에서 영어 성적이 모두 90점 이상인 것을 확인할 수 있습니다."
   ]
  },
  {
   "cell_type": "markdown",
   "metadata": {},
   "source": [
    "### (8) np.any()\n",
    "`np.any`메서드는 구성 원소 중 **하나라도** True가 있으면 True를 반환합니다.  \n",
    "Array 간 비교 시 원소가 **모두 달라야 False를**, 원소가 하나라도 같으면 True를 반환합니다.  "
   ]
  },
  {
   "cell_type": "markdown",
   "metadata": {},
   "source": [
    "#### 중간고사, 기말고사의 수학 점수가 하나라도 50점 이하인 학생"
   ]
  },
  {
   "cell_type": "markdown",
   "metadata": {},
   "source": [
    "위 결과를 가지고 중간고사와 기말고사 성적 둘 중 하나라도 True이면 True를 반환한 결과를 얻으려면 `axis = 0`으로 설정합니다. "
   ]
  },
  {
   "cell_type": "code",
   "execution_count": null,
   "metadata": {
    "execution": {
     "iopub.execute_input": "2021-03-15T08:04:55.450324Z",
     "iopub.status.busy": "2021-03-15T08:04:55.449974Z",
     "iopub.status.idle": "2021-03-15T08:04:55.451476Z",
     "shell.execute_reply": "2021-03-15T08:04:55.451811Z"
    }
   },
   "outputs": [],
   "source": [
    "np.any(scores[:,:,2]<=50, axis=0)"
   ]
  },
  {
   "cell_type": "markdown",
   "metadata": {},
   "source": [
    "2번 학생은 두 시험중 한 시험에서 성적이 50점 이하였음을 확인할 수 있습니다."
   ]
  },
  {
   "cell_type": "markdown",
   "metadata": {},
   "source": [
    "### (9) np.unique()\n",
    "\n",
    "`.unique()` 메서드는 입력된 Array에서 **중복되지 않는 유일한 요소**들의 numpy array를 정렬하여 반환합니다.  "
   ]
  },
  {
   "cell_type": "markdown",
   "metadata": {},
   "source": [
    "#### 유일한 성적 집계"
   ]
  },
  {
   "cell_type": "code",
   "execution_count": null,
   "metadata": {
    "execution": {
     "iopub.execute_input": "2021-03-15T08:04:55.455394Z",
     "iopub.status.busy": "2021-03-15T08:04:55.455058Z",
     "iopub.status.idle": "2021-03-15T08:04:55.456472Z",
     "shell.execute_reply": "2021-03-15T08:04:55.456795Z"
    }
   },
   "outputs": [],
   "source": [
    "np.unique(scores)"
   ]
  },
  {
   "cell_type": "markdown",
   "metadata": {},
   "source": [
    "중복되지 않는 유일한 성적을 반환함을 확인할 수 있습니다."
   ]
  },
  {
   "cell_type": "markdown",
   "metadata": {},
   "source": [
    "<div class=\"alert alert-block alert-warning\">\n",
    "<b> [Practice] 다양한 집계 연산 메서드 2 </b>\n",
    "</div>\n",
    "앞서 학습한 내용을 참고하여 코드셀에 직접 문제를 풀어보세요. \n",
    "\n",
    "다음은 Country1의 연도별 화물수출입건수(단위 : 1000 건) 표입니다.\n",
    "\n",
    "| 연도 | 해상 | 항공 |\n",
    "| ---- | ---: |---:|\n",
    "| Year1 | 4,290 | 6,070 |\n",
    "| Year2 | 4,425 | 6,278 |\n",
    "| Year3 | 4,577 | 6,350 |\n",
    "| Year4 | 4,617 | 8,295 | \n",
    "| Year5 | 4,491 | 10,780 |\n",
    "\n",
    "이 표를 `country_1` 변수에 Numpy Array 형식으로 만들면, 아래와 같습니다. \n",
    "\n",
    "```\n",
    "country_1 = np.array([[4290, 6070],\n",
    "                  [4425, 6278],\n",
    "                  [4577, 6350],\n",
    "                  [4617, 8295],\n",
    "                  [4491, 10780]])\n",
    "```\n",
    "                  \n",
    "다음은 Country2의 연도별 화물수출입건수(단위 : 1000 건) 표입니다.\n",
    "\n",
    "| 연도 | 해상 | 항공 |\n",
    "| ---- | ---: |---:|\n",
    "| Year1 | 4,505 | 7,754 |\n",
    "| Year2 | 4,359 | 4,675 |\n",
    "| Year3 | 4,430 | 8,559 |\n",
    "| Year4 | 4,510 | 8,408 | \n",
    "| Year5 | 4,294 | 8,785 |\n",
    "\n",
    "이 표를 `country_2` 변수에 Numpy Array 형식으로 만들면, 아래와 같습니다. 이를 활용하여 문제를 풀어보세요. \n",
    "\n",
    "```\n",
    "country_2 = np.array([[4505, 7754],\n",
    "                 [4359, 4675],\n",
    "                 [4430, 8559],\n",
    "                 [4510, 8408],\n",
    "                 [4294, 8785]])\n",
    "```\n",
    "\n",
    "\n",
    "Q1. `country_1`과 `country_2`를 `.stack()`을 활용하여 하나의 Array로 합쳐 `country` 변수에 저장하고 shape을 출력해보세요.\n",
    "\n",
    "Q2. `country`에서 두 나라의 해상 화물수출입건수를 가져와 `ship` 변수를 만들어보세요. (힌트 : 범위 인덱싱)\n",
    "\n",
    "Q3. `ship`을 이용해 5년간 두 나라의 해상 화물수출입건수의 전체 평균을 구해 `ship_mean` 변수를 만들어보세요. (힌트 : `.mean()`)\n",
    "\n",
    "Q4. `ship`의 값이 해상 화물수출입건수 평균(`ship_mean`)을 넘는지 여부를 나타내는 Boolean Array를 만들어보세요. \n",
    "\n",
    "Q5. 연도별로 두 나라의 해상 화물수출입건수가 모두 평균(`ship_mean`)을 넘는지 여부를 나타내는 Boolean Array를 만들어보세요. "
   ]
  },
  {
   "cell_type": "code",
   "execution_count": null,
   "metadata": {
    "execution": {
     "iopub.execute_input": "2021-03-15T08:04:55.460400Z",
     "iopub.status.busy": "2021-03-15T08:04:55.460023Z",
     "iopub.status.idle": "2021-03-15T08:04:55.461627Z",
     "shell.execute_reply": "2021-03-15T08:04:55.461964Z"
    }
   },
   "outputs": [],
   "source": [
    "# Answers\n",
    "country_1 = np.array([[4290, 6070],\n",
    "                  [4425, 6278],\n",
    "                  [4577, 6350],\n",
    "                  [4617, 8295],\n",
    "                  [4491, 10780]])\n",
    "\n",
    "country_2 = np.array([[4505, 7754],\n",
    "                 [4359, 4675],\n",
    "                 [4430, 8559],\n",
    "                 [4510, 8408],\n",
    "                 [4294, 8785]])\n",
    "# Q1.\n",
    "country = np.stack([country_1, country_2])\n",
    "print(country.shape)\n",
    "\n",
    "# Q2. \n",
    "ship = country[:,:,0]\n",
    "ship\n",
    "\n",
    "# Q3. \n",
    "ship_mean = ship.mean()\n",
    "ship_mean\n",
    "\n",
    "# Q4. \n",
    "ship > ship_mean\n",
    "\n",
    "# Q5. \n",
    "np.all(ship > ship_mean, axis = 0)"
   ]
  }
 ],
 "metadata": {
  "colab": {
   "collapsed_sections": [
    "XzOYIly96fZn",
    "1Lb6sq6L6fZ4",
    "7Qowol7x6faA",
    "Hxnh5Yvg6faG",
    "zvt7nCHK6faP",
    "_VcyWRIx6fab",
    "BqcYHBNU6fah",
    "Ks-hV83Z6fam",
    "-oroqwidwX5I",
    "QG7lgJ7E6fa4",
    "O7etXWmWc7m6",
    "p5lAsUmy6fa8",
    "G_udISnL6fbA",
    "FD0Ci35W6fbJ",
    "rIgrt0Sw6fbN",
    "0cy_BTx66fbX",
    "ieQ2RBV06fbb"
   ],
   "name": "4_Numpy의 주요함수들(1).ipynb",
   "provenance": [],
   "toc_visible": true,
   "version": "0.3.2"
  },
  "kernelspec": {
   "display_name": "Python 3",
   "language": "python",
   "name": "python3"
  },
  "language_info": {
   "codemirror_mode": {
    "name": "ipython",
    "version": 3
   },
   "file_extension": ".py",
   "mimetype": "text/x-python",
   "name": "python",
   "nbconvert_exporter": "python",
   "pygments_lexer": "ipython3",
   "version": "3.8.8"
  },
  "toc": {
   "base_numbering": 1,
   "nav_menu": {},
   "number_sections": false,
   "sideBar": true,
   "skip_h1_title": false,
   "title_cell": "Table of Contents",
   "title_sidebar": "Contents",
   "toc_cell": false,
   "toc_position": {
    "height": "calc(100% - 180px)",
    "left": "10px",
    "top": "150px",
    "width": "315.819px"
   },
   "toc_section_display": true,
   "toc_window_display": false
  }
 },
 "nbformat": 4,
 "nbformat_minor": 4
}
