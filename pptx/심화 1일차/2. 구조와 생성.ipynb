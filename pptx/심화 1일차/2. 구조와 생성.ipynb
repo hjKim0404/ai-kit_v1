{
 "cells": [
  {
   "cell_type": "markdown",
   "metadata": {
    "colab_type": "text",
    "id": "dx6VQXFIJTYy"
   },
   "source": [
    "# 2. 구조와 생성\n",
    "\n",
    "Array는 Numpy에서 데이터를 다루는 가장 기본이 되는 자료구조입니다.  \n",
    "Numpy는 **Array를 중심으로 벡터화하여 연산이 구현(vectorized operation)**되기 때문에, 복잡한 선형대수 연산도 간단하고 빠르게 실행할 수 있습니다.    \n",
    "따라서 Numpy의 강점을 극대화하여 활용하기 위해선 Numpy의 기본 자료 구조인 Array를 이해하는 것이 매우 중요합니다.  \n",
    "Section 2에서는 Numpy의 구조를 이해하고, 이를 기반으로 Numpy Array를 생성(Create)하는 방법을 배워보겠습니다. \n",
    "\n",
    "***Objective***\n",
    "1. **Numpy Array의 구조**: Numpy의 기본 특징인 value, shape, data type 등을 이해합니다.\n",
    "2. **Numpy Array 생성**: Numpy Array를 생성하는 다양한 방법을 배웁니다."
   ]
  },
  {
   "cell_type": "code",
   "execution_count": null,
   "metadata": {
    "colab": {},
    "colab_type": "code",
    "execution": {
     "iopub.execute_input": "2021-03-15T08:04:49.897418Z",
     "iopub.status.busy": "2021-03-15T08:04:49.896513Z",
     "iopub.status.idle": "2021-03-15T08:04:50.042309Z",
     "shell.execute_reply": "2021-03-15T08:04:50.042682Z"
    },
    "id": "QafQCnsuJTY0"
   },
   "outputs": [],
   "source": [
    "import numpy as np"
   ]
  },
  {
   "cell_type": "markdown",
   "metadata": {
    "colab_type": "text",
    "id": "o8MdmdUkJTY3"
   },
   "source": [
    "# \\[ 1. Numpy Array의 구조 \\]\n",
    "\n",
    "Numpy Array는 원소(element)의 값(value)과 array의 형태(shape)를 설정해야 생성됩니다.  \n",
    "Numpy Array의 중요한 특징인 shape과 datatype에 대해 배워봅시다."
   ]
  },
  {
   "cell_type": "markdown",
   "metadata": {
    "colab_type": "text",
    "id": "HjKYGaAUJTaj"
   },
   "source": [
    "## 1. Data Type\n",
    "\n",
    "+ Python에서 변수 생성 시, 입력한 데이터의 타입을 파악하여 자동으로 설정됩니다.\n",
    "+ Numpy의 Numpy Array에서는 **모든 원소의 데이터 타입이 동일해야 합니다.**"
   ]
  },
  {
   "cell_type": "markdown",
   "metadata": {
    "colab_type": "text",
    "id": "HzIQi04rJTak"
   },
   "source": [
    "### (1) 원소 구성"
   ]
  },
  {
   "cell_type": "markdown",
   "metadata": {
    "colab_type": "text",
    "id": "vy6fPm8OJTau"
   },
   "source": [
    "List는 각 원소의 데이터 타입이 달라도 됩니다. 예를 들어 아래와 같이 정수형, 실수형, 논리형 데이터가 하나의 리스트 안에 들어갈 수 있습니다. "
   ]
  },
  {
   "cell_type": "code",
   "execution_count": null,
   "metadata": {
    "colab": {},
    "colab_type": "code",
    "execution": {
     "iopub.execute_input": "2021-03-15T08:04:50.048157Z",
     "iopub.status.busy": "2021-03-15T08:04:50.047795Z",
     "iopub.status.idle": "2021-03-15T08:04:50.049255Z",
     "shell.execute_reply": "2021-03-15T08:04:50.049601Z"
    },
    "id": "-4uwutzHJTan",
    "outputId": "40d23558-e9ae-41d1-dacc-4bbf4570c506"
   },
   "outputs": [],
   "source": [
    "# List\n",
    "A_ = [1,1.2,False]\n",
    "A_"
   ]
  },
  {
   "cell_type": "markdown",
   "metadata": {
    "colab_type": "text",
    "id": "_66ATY4BJTal"
   },
   "source": [
    "`np.array`는 행렬 내 모든 원소가 같은 타입이어야만 합니다.  \n",
    "앞서 만든 List와 같이 `[1,1.2,False]`로 Array를 구성하면, 자동으로 `False`를 `0.`으로 바꾸어 Array를 생성합니다."
   ]
  },
  {
   "cell_type": "code",
   "execution_count": null,
   "metadata": {
    "colab": {},
    "colab_type": "code",
    "execution": {
     "iopub.execute_input": "2021-03-15T08:04:50.052559Z",
     "iopub.status.busy": "2021-03-15T08:04:50.052111Z",
     "iopub.status.idle": "2021-03-15T08:04:50.053495Z",
     "shell.execute_reply": "2021-03-15T08:04:50.053834Z"
    },
    "id": "WnusSgqxJTav",
    "outputId": "73daa6bc-13d9-4c65-d837-5beb43518483",
    "scrolled": true
   },
   "outputs": [],
   "source": [
    "# numpy array\n",
    "A = np.array([1,1.2,False])\n",
    "A"
   ]
  },
  {
   "cell_type": "markdown",
   "metadata": {
    "colab_type": "text",
    "id": "SFbGSW_2JTcA"
   },
   "source": [
    "### (2) 데이터 타입 변환\n",
    "`astype({변환할 데이터 타입})`으로, np.array 원소를 원하는 타입으로 `type-casting`할 수 있습니다."
   ]
  },
  {
   "cell_type": "code",
   "execution_count": null,
   "metadata": {
    "colab": {},
    "colab_type": "code",
    "execution": {
     "iopub.execute_input": "2021-03-15T08:04:50.056192Z",
     "iopub.status.busy": "2021-03-15T08:04:50.055843Z",
     "iopub.status.idle": "2021-03-15T08:04:50.057271Z",
     "shell.execute_reply": "2021-03-15T08:04:50.057657Z"
    },
    "id": "8AgAyhrRJTb3",
    "outputId": "41ad63e5-6cc8-4d5a-c58b-20160fd61a1b"
   },
   "outputs": [],
   "source": [
    "A = np.array([0,1,2,3,4,5])\n",
    "A"
   ]
  },
  {
   "cell_type": "code",
   "execution_count": null,
   "metadata": {
    "colab": {},
    "colab_type": "code",
    "execution": {
     "iopub.execute_input": "2021-03-15T08:04:50.059822Z",
     "iopub.status.busy": "2021-03-15T08:04:50.059469Z",
     "iopub.status.idle": "2021-03-15T08:04:50.060923Z",
     "shell.execute_reply": "2021-03-15T08:04:50.061247Z"
    },
    "id": "wrtRyX18JTcC",
    "outputId": "ea8f67ea-63c2-40fb-fd3c-d8990ecee82e"
   },
   "outputs": [],
   "source": [
    "# int -> float으로 바꾸기\n",
    "A.astype(np.float) "
   ]
  },
  {
   "cell_type": "code",
   "execution_count": null,
   "metadata": {
    "colab": {},
    "colab_type": "code",
    "execution": {
     "iopub.execute_input": "2021-03-15T08:04:50.063193Z",
     "iopub.status.busy": "2021-03-15T08:04:50.062851Z",
     "iopub.status.idle": "2021-03-15T08:04:50.064254Z",
     "shell.execute_reply": "2021-03-15T08:04:50.064573Z"
    },
    "id": "BE9YSFiYJTcH",
    "outputId": "46d3d1cd-c289-4c78-bdcc-275ba1933be4"
   },
   "outputs": [],
   "source": [
    "# int -> bool으로 바꾸기\n",
    "A.astype(np.bool)"
   ]
  },
  {
   "cell_type": "markdown",
   "metadata": {
    "colab_type": "text",
    "id": "EuFX48LDJTa4"
   },
   "source": [
    "### (3) 데이터 타입 확인\n",
    "`dtype` 메소드를 이용하면 현재 `np.array`를 구성하는 데이터 타입이 무엇인지 알 수 있습니다."
   ]
  },
  {
   "cell_type": "markdown",
   "metadata": {
    "colab_type": "text",
    "id": "DpXYaAyGJTa7"
   },
   "source": [
    "#### boolean array"
   ]
  },
  {
   "cell_type": "code",
   "execution_count": null,
   "metadata": {
    "colab": {},
    "colab_type": "code",
    "execution": {
     "iopub.execute_input": "2021-03-15T08:04:50.066803Z",
     "iopub.status.busy": "2021-03-15T08:04:50.066450Z",
     "iopub.status.idle": "2021-03-15T08:04:50.067887Z",
     "shell.execute_reply": "2021-03-15T08:04:50.068216Z"
    },
    "id": "SqBKtLIYJTa-",
    "outputId": "70a5af68-efeb-4cb3-b148-27d08ebacb0d"
   },
   "outputs": [],
   "source": [
    "A = np.array([True,False])\n",
    "A"
   ]
  },
  {
   "cell_type": "code",
   "execution_count": null,
   "metadata": {
    "colab": {},
    "colab_type": "code",
    "execution": {
     "iopub.execute_input": "2021-03-15T08:04:50.070230Z",
     "iopub.status.busy": "2021-03-15T08:04:50.069899Z",
     "iopub.status.idle": "2021-03-15T08:04:50.071387Z",
     "shell.execute_reply": "2021-03-15T08:04:50.071873Z"
    },
    "id": "iypCiKgkJTbF",
    "outputId": "452e8ba2-5dc7-4bbf-bbb9-01b5293f405b"
   },
   "outputs": [],
   "source": [
    "A.dtype"
   ]
  },
  {
   "cell_type": "markdown",
   "metadata": {
    "colab_type": "text",
    "id": "hTtaYiYNJTbN"
   },
   "source": [
    "#### int array"
   ]
  },
  {
   "cell_type": "code",
   "execution_count": null,
   "metadata": {
    "colab": {},
    "colab_type": "code",
    "execution": {
     "iopub.execute_input": "2021-03-15T08:04:50.074459Z",
     "iopub.status.busy": "2021-03-15T08:04:50.074123Z",
     "iopub.status.idle": "2021-03-15T08:04:50.075647Z",
     "shell.execute_reply": "2021-03-15T08:04:50.075981Z"
    },
    "id": "yN8EGcWUJTbO",
    "outputId": "67dec292-3222-453a-b817-9105b29f6d10"
   },
   "outputs": [],
   "source": [
    "A = np.array([1,2,3])\n",
    "A"
   ]
  },
  {
   "cell_type": "code",
   "execution_count": null,
   "metadata": {
    "colab": {},
    "colab_type": "code",
    "execution": {
     "iopub.execute_input": "2021-03-15T08:04:50.077935Z",
     "iopub.status.busy": "2021-03-15T08:04:50.077617Z",
     "iopub.status.idle": "2021-03-15T08:04:50.079082Z",
     "shell.execute_reply": "2021-03-15T08:04:50.079423Z"
    },
    "id": "EASeV6hAJTbT",
    "outputId": "f82e7a1c-b8c6-4edc-f046-9dc1ddce36cb"
   },
   "outputs": [],
   "source": [
    "A.dtype"
   ]
  },
  {
   "cell_type": "markdown",
   "metadata": {},
   "source": [
    "<div class=\"alert alert-block alert-warning\">\n",
    "<b> [Practice] Data Type </b>\n",
    "</div>\n",
    "\n",
    "앞서 학습한 내용을 참고하여 코드셀에 직접 문제를 풀어보세요.\n",
    "\n",
    "Q1. `arr1` 변수에  [0, 1, 3, 0, 1, 2, 5]를 Numpy Array 형식으로 만드세요.\n",
    "\n",
    "Q2. `arr1`의 원소들을 float으로 type-casting하여 `arr2`로 만들고, datatype을 출력해 보세요.\n",
    "\n",
    "Q3. `arr1`의 원소들을 boolean으로 type-casting하여 `arr3`로 만들고, datatype을 출력해보세요."
   ]
  },
  {
   "cell_type": "code",
   "execution_count": null,
   "metadata": {
    "execution": {
     "iopub.execute_input": "2021-03-15T08:04:50.082156Z",
     "iopub.status.busy": "2021-03-15T08:04:50.081765Z",
     "iopub.status.idle": "2021-03-15T08:04:50.083007Z",
     "shell.execute_reply": "2021-03-15T08:04:50.083330Z"
    }
   },
   "outputs": [],
   "source": [
    "# Answers\n",
    "# Q1.\n",
    "arr1 = np.array([0, 1, 3, 0, 1, 2, 5])\n",
    "\n",
    "# Q2.\n",
    "arr2 = arr1.astype(np.float)\n",
    "print(arr2.dtype)\n",
    "\n",
    "# Q3.\n",
    "arr3 = arr1.astype(np.bool)\n",
    "print(arr3.dtype)"
   ]
  },
  {
   "cell_type": "markdown",
   "metadata": {
    "colab_type": "text",
    "id": "pT2GWVTsJTY4"
   },
   "source": [
    "## 2. Shape\n",
    "\n",
    "+ Numpy에서의 **Shape**은 Array의 '형태'를 뜻합니다.\n",
    "+ 메소드 `.shape`로 형태는 어떠한지, `.ndim`으로 몇 차원인지 확인할 수 있으며, `.size`로 몇 개의 원소로 구성되어 있는지 확인할 수 있습니다.<br>"
   ]
  },
  {
   "cell_type": "markdown",
   "metadata": {
    "colab_type": "text",
    "id": "aIgW-QwyJTZc"
   },
   "source": [
    "### (1) Shape 조건\n",
    "\n",
    "Numpy의 Array는 **각 축을 구성하는 원소의 갯수가 같아야 한다**는 점에서 Python의 List와 가장 큰 차이가 있습니다.  \n",
    "`numpy.array`는 아래와 같이 각 행과 열별로 구성하는 원소의 수가 동일하지 않으면 생성할 수 없습니다."
   ]
  },
  {
   "cell_type": "code",
   "execution_count": null,
   "metadata": {
    "colab": {},
    "colab_type": "code",
    "execution": {
     "iopub.execute_input": "2021-03-15T08:04:50.085595Z",
     "iopub.status.busy": "2021-03-15T08:04:50.085198Z",
     "iopub.status.idle": "2021-03-15T08:04:50.086470Z",
     "shell.execute_reply": "2021-03-15T08:04:50.086792Z"
    },
    "id": "prgNgM_3JTZo",
    "outputId": "6249a618-013b-4ccb-c9e3-3194dc998a61"
   },
   "outputs": [],
   "source": [
    "# # 이 코드를 실행하면 오류가 발생합니다.\n",
    "# A = np.array([\n",
    "#     [1,2,3,4,5], # 크기가 5\n",
    "#     [2,3,4,5], # 크기가 4\n",
    "#     [3,4,5,6,7] # 크기가 5\n",
    "# ],dtype=np.int64)\n",
    "# A"
   ]
  },
  {
   "cell_type": "markdown",
   "metadata": {},
   "source": [
    "위 코드를 실행하면 아래와 같은 오류 메시지가 출력됩니다. \n",
    "```\n",
    "---------------------------------------------------------------------------\n",
    "TypeError                                 Traceback (most recent call last)\n",
    "TypeError: int() argument must be a string, a bytes-like object or a number, not 'list'\n",
    "\n",
    "The above exception was the direct cause of the following exception:\n",
    "\n",
    "ValueError                                Traceback (most recent call last)\n",
    "<ipython-input-13-5f4908a7f985> in <module>\n",
    "      1 # 이 코드를 실행하면 오류가 발생합니다.\n",
    "----> 2 A = np.array([\n",
    "      3     [1,2,3,4,5], # 크기가 5\n",
    "      4     [2,3,4,5], # 크기가 4\n",
    "      5     [3,4,5,6,7] # 크기가 5\n",
    "\n",
    "ValueError: setting an array element with a sequence.\n",
    "```"
   ]
  },
  {
   "cell_type": "code",
   "execution_count": null,
   "metadata": {
    "colab": {},
    "colab_type": "code",
    "execution": {
     "iopub.execute_input": "2021-03-15T08:04:50.089632Z",
     "iopub.status.busy": "2021-03-15T08:04:50.089278Z",
     "iopub.status.idle": "2021-03-15T08:04:50.090701Z",
     "shell.execute_reply": "2021-03-15T08:04:50.091029Z"
    },
    "id": "prgNgM_3JTZo",
    "outputId": "6249a618-013b-4ccb-c9e3-3194dc998a61"
   },
   "outputs": [],
   "source": [
    "B = np.array([\n",
    "    [1,2,3,4,5], # 크기가 5\n",
    "    [2,3,4,5,6], # 크기가 5\n",
    "    [3,4,5,6,7] # 크기가 5\n",
    "    ],dtype=np.int64)\n",
    "B"
   ]
  },
  {
   "cell_type": "markdown",
   "metadata": {},
   "source": [
    "`.shape`을 통해 array의 행과 열을 확인할 수 있습니다."
   ]
  },
  {
   "cell_type": "code",
   "execution_count": null,
   "metadata": {
    "execution": {
     "iopub.execute_input": "2021-03-15T08:04:50.092980Z",
     "iopub.status.busy": "2021-03-15T08:04:50.092654Z",
     "iopub.status.idle": "2021-03-15T08:04:50.094118Z",
     "shell.execute_reply": "2021-03-15T08:04:50.094462Z"
    }
   },
   "outputs": [],
   "source": [
    "B.shape"
   ]
  },
  {
   "cell_type": "markdown",
   "metadata": {},
   "source": [
    "shape 표기는 오른쪽에서 왼쪽으로 읽으면 이해하기 쉽습니다. 위 경우 5개의 원소 묶음이 3개 있다는 뜻입니다.  \n",
    "`.size`를 통해 원소의 수를 확인할 수 있습니다.  "
   ]
  },
  {
   "cell_type": "code",
   "execution_count": null,
   "metadata": {
    "execution": {
     "iopub.execute_input": "2021-03-15T08:04:50.096491Z",
     "iopub.status.busy": "2021-03-15T08:04:50.096098Z",
     "iopub.status.idle": "2021-03-15T08:04:50.097473Z",
     "shell.execute_reply": "2021-03-15T08:04:50.097804Z"
    }
   },
   "outputs": [],
   "source": [
    "A.size"
   ]
  },
  {
   "cell_type": "markdown",
   "metadata": {
    "colab_type": "text",
    "id": "rxCrKYzVJTY4"
   },
   "source": [
    "### (2) 차원(dimension)\n",
    "Numpy Array에서는 1차원 벡터부터 다차원 행렬까지 모두 구현이 가능하며, `[`과 `]`으로 차원을 구분하고 추가합니다.  "
   ]
  },
  {
   "cell_type": "markdown",
   "metadata": {},
   "source": [
    "#### 1차원 행렬 `(n,)` \n",
    "\n",
    "1차원 행렬은 **Vector(벡터)**라고 부릅니다. 벡터는 `[`와 `]`을 한 단위로 볼 때 한 블럭의 데이터만으로 구성된 Array로 구현됩니다."
   ]
  },
  {
   "cell_type": "code",
   "execution_count": null,
   "metadata": {
    "colab": {},
    "colab_type": "code",
    "execution": {
     "iopub.execute_input": "2021-03-15T08:04:50.100047Z",
     "iopub.status.busy": "2021-03-15T08:04:50.099669Z",
     "iopub.status.idle": "2021-03-15T08:04:50.100908Z",
     "shell.execute_reply": "2021-03-15T08:04:50.101240Z"
    },
    "id": "ij-aqTb9JTY5",
    "outputId": "b770b13c-2928-4f0e-944c-b6fb9f76d901"
   },
   "outputs": [],
   "source": [
    "A_1D = np.array([1,2,3,4,5])\n",
    "A_1D"
   ]
  },
  {
   "cell_type": "code",
   "execution_count": null,
   "metadata": {
    "colab": {},
    "colab_type": "code",
    "execution": {
     "iopub.execute_input": "2021-03-15T08:04:50.103176Z",
     "iopub.status.busy": "2021-03-15T08:04:50.102830Z",
     "iopub.status.idle": "2021-03-15T08:04:50.104242Z",
     "shell.execute_reply": "2021-03-15T08:04:50.104561Z"
    },
    "id": "Mo5SsrRdJTY_",
    "outputId": "5ffa05c2-7527-4f20-9c9d-f30b34ac3cfa",
    "scrolled": true
   },
   "outputs": [],
   "source": [
    "A_1D.ndim # 차원 수 "
   ]
  },
  {
   "cell_type": "code",
   "execution_count": null,
   "metadata": {
    "execution": {
     "iopub.execute_input": "2021-03-15T08:04:50.106470Z",
     "iopub.status.busy": "2021-03-15T08:04:50.106152Z",
     "iopub.status.idle": "2021-03-15T08:04:50.107595Z",
     "shell.execute_reply": "2021-03-15T08:04:50.107928Z"
    },
    "scrolled": true
   },
   "outputs": [],
   "source": [
    "A_1D.shape"
   ]
  },
  {
   "cell_type": "code",
   "execution_count": null,
   "metadata": {
    "execution": {
     "iopub.execute_input": "2021-03-15T08:04:50.109974Z",
     "iopub.status.busy": "2021-03-15T08:04:50.109612Z",
     "iopub.status.idle": "2021-03-15T08:04:50.111136Z",
     "shell.execute_reply": "2021-03-15T08:04:50.111462Z"
    },
    "scrolled": true
   },
   "outputs": [],
   "source": [
    "A_1D.size"
   ]
  },
  {
   "cell_type": "markdown",
   "metadata": {
    "colab_type": "text",
    "id": "3_pFKUXOJTZJ"
   },
   "source": [
    "#### 2차원 행렬 `(n, m)`"
   ]
  },
  {
   "cell_type": "markdown",
   "metadata": {},
   "source": [
    "\n",
    "2차원 행렬은 수학에서 **Matrix(행렬)**이라고 불립니다.  \n",
    "2차원 행렬은 행과 열로 구성되는데, `[ 원소 ]` **블럭을 두 레벨로 구성하여 구현**할 수 있습니다.  \n",
    "`[`로 블럭을 열고 그 안에 다시 `[`와 `]`로 구성된 벡터를 넣은 후 `]`로 바깥 블럭을 닫으면 두 레벨로 Array가 구성되며 이는 곧 2차원 행렬이 됩니다. "
   ]
  },
  {
   "cell_type": "code",
   "execution_count": null,
   "metadata": {
    "colab": {},
    "colab_type": "code",
    "execution": {
     "iopub.execute_input": "2021-03-15T08:04:50.114290Z",
     "iopub.status.busy": "2021-03-15T08:04:50.113810Z",
     "iopub.status.idle": "2021-03-15T08:04:50.115344Z",
     "shell.execute_reply": "2021-03-15T08:04:50.115696Z"
    },
    "id": "IeFEV_18JTZK",
    "outputId": "6a54eef8-826d-4072-ae68-c3401f6fb434"
   },
   "outputs": [],
   "source": [
    "B_2D = np.array([\n",
    "    [1,2,3,4,5],\n",
    "    [2,3,4,5,6],\n",
    "    [3,4,5,6,7]\n",
    "],dtype=np.int64)\n",
    "B_2D"
   ]
  },
  {
   "cell_type": "code",
   "execution_count": null,
   "metadata": {
    "colab": {},
    "colab_type": "code",
    "execution": {
     "iopub.execute_input": "2021-03-15T08:04:50.117718Z",
     "iopub.status.busy": "2021-03-15T08:04:50.117391Z",
     "iopub.status.idle": "2021-03-15T08:04:50.118861Z",
     "shell.execute_reply": "2021-03-15T08:04:50.119199Z"
    },
    "id": "2QeoBad6JTZP",
    "outputId": "30f1b427-92f8-462e-b6b3-f2230bf5e207",
    "scrolled": true
   },
   "outputs": [],
   "source": [
    "B_2D.ndim # 차원 수 "
   ]
  },
  {
   "cell_type": "code",
   "execution_count": null,
   "metadata": {
    "execution": {
     "iopub.execute_input": "2021-03-15T08:04:50.121418Z",
     "iopub.status.busy": "2021-03-15T08:04:50.121019Z",
     "iopub.status.idle": "2021-03-15T08:04:50.122586Z",
     "shell.execute_reply": "2021-03-15T08:04:50.122998Z"
    },
    "scrolled": true
   },
   "outputs": [],
   "source": [
    "B_2D.shape"
   ]
  },
  {
   "cell_type": "code",
   "execution_count": null,
   "metadata": {
    "execution": {
     "iopub.execute_input": "2021-03-15T08:04:50.125291Z",
     "iopub.status.busy": "2021-03-15T08:04:50.124913Z",
     "iopub.status.idle": "2021-03-15T08:04:50.126477Z",
     "shell.execute_reply": "2021-03-15T08:04:50.126807Z"
    },
    "scrolled": true
   },
   "outputs": [],
   "source": [
    "B_2D.size"
   ]
  },
  {
   "cell_type": "markdown",
   "metadata": {
    "colab_type": "text",
    "id": "PYNPvYTLJTZt"
   },
   "source": [
    "#### 3차원 행렬 `(n, m, d)`\n",
    "3차원 이상의 행렬은 수학에서 주로 **다차원 행렬(Multidimensional Matrix)라고 부릅니다.** \n",
    "`[ ]` **블럭을 세 레벨로 구성하여 구현**할 수 있습니다."
   ]
  },
  {
   "cell_type": "code",
   "execution_count": null,
   "metadata": {
    "colab": {},
    "colab_type": "code",
    "execution": {
     "iopub.execute_input": "2021-03-15T08:04:50.129695Z",
     "iopub.status.busy": "2021-03-15T08:04:50.129353Z",
     "iopub.status.idle": "2021-03-15T08:04:50.130990Z",
     "shell.execute_reply": "2021-03-15T08:04:50.131331Z"
    },
    "id": "olBIKFq8JTZu",
    "outputId": "14c1425d-4ffb-4703-b622-32c020728840"
   },
   "outputs": [],
   "source": [
    "C_3D = np.array([\n",
    "    [\n",
    "        [1,2,3,4,5],\n",
    "        [2,3,4,5,6],\n",
    "        [3,4,5,6,7]\n",
    "    ],\n",
    "    [\n",
    "        [1,2,3,4,5],\n",
    "        [2,3,4,5,6],\n",
    "        [3,4,5,6,7]\n",
    "    ]\n",
    "])\n",
    "C_3D"
   ]
  },
  {
   "cell_type": "code",
   "execution_count": null,
   "metadata": {
    "colab": {},
    "colab_type": "code",
    "execution": {
     "iopub.execute_input": "2021-03-15T08:04:50.133626Z",
     "iopub.status.busy": "2021-03-15T08:04:50.133270Z",
     "iopub.status.idle": "2021-03-15T08:04:50.134786Z",
     "shell.execute_reply": "2021-03-15T08:04:50.135145Z"
    },
    "id": "E9qbtxDgJTZ3",
    "outputId": "d5289b87-35ad-446f-d460-bdeb53f470c7"
   },
   "outputs": [],
   "source": [
    "C_3D.ndim # 차원 수 "
   ]
  },
  {
   "cell_type": "code",
   "execution_count": null,
   "metadata": {
    "colab": {},
    "colab_type": "code",
    "execution": {
     "iopub.execute_input": "2021-03-15T08:04:50.137354Z",
     "iopub.status.busy": "2021-03-15T08:04:50.136969Z",
     "iopub.status.idle": "2021-03-15T08:04:50.138614Z",
     "shell.execute_reply": "2021-03-15T08:04:50.139001Z"
    },
    "id": "DiUYWofQJTZ7",
    "outputId": "55cf0e8b-fd65-407c-c6b5-93696f185d2d"
   },
   "outputs": [],
   "source": [
    "C_3D.shape # 2x3x5"
   ]
  },
  {
   "cell_type": "code",
   "execution_count": null,
   "metadata": {
    "colab": {},
    "colab_type": "code",
    "execution": {
     "iopub.execute_input": "2021-03-15T08:04:50.141020Z",
     "iopub.status.busy": "2021-03-15T08:04:50.140682Z",
     "iopub.status.idle": "2021-03-15T08:04:50.142167Z",
     "shell.execute_reply": "2021-03-15T08:04:50.142499Z"
    },
    "id": "Vn9Pq4xbJTZ_",
    "outputId": "fff58cc3-a5be-455e-e6b7-0659c2289953"
   },
   "outputs": [],
   "source": [
    "C_3D.size  # 2x3x5 = 15"
   ]
  },
  {
   "cell_type": "markdown",
   "metadata": {},
   "source": [
    "### (3) 축(axis)"
   ]
  },
  {
   "cell_type": "markdown",
   "metadata": {},
   "source": [
    "**데이터가 N차원이라는 것은 N개의 축(axis)이 존재한다**는 의미입니다.  \n",
    "Numpy에서는 축을 기준으로 데이터를 다루는 다양한 기능(집계, 데이터 추가 등)을 제공하고 있습니다.  \n",
    "따라서 축의 개념과 집계연산을 할 축을 지정하는 방법을 정확히 이해해야 합니다. "
   ]
  },
  {
   "cell_type": "markdown",
   "metadata": {},
   "source": [
    "#### 1차원 벡터의 축\n",
    "Numpy에서는 Python의 기본적인 인덱싱 방법을 따라 **축의 이름 역시 0부터 부여합니다**. "
   ]
  },
  {
   "cell_type": "code",
   "execution_count": null,
   "metadata": {
    "execution": {
     "iopub.execute_input": "2021-03-15T08:04:50.144574Z",
     "iopub.status.busy": "2021-03-15T08:04:50.144261Z",
     "iopub.status.idle": "2021-03-15T08:04:50.145418Z",
     "shell.execute_reply": "2021-03-15T08:04:50.145746Z"
    }
   },
   "outputs": [],
   "source": [
    "A = np.array([1,  2,  3,  4,  5,  6])"
   ]
  },
  {
   "cell_type": "code",
   "execution_count": null,
   "metadata": {
    "execution": {
     "iopub.execute_input": "2021-03-15T08:04:50.147736Z",
     "iopub.status.busy": "2021-03-15T08:04:50.147359Z",
     "iopub.status.idle": "2021-03-15T08:04:50.148728Z",
     "shell.execute_reply": "2021-03-15T08:04:50.149045Z"
    }
   },
   "outputs": [],
   "source": [
    "A.shape"
   ]
  },
  {
   "cell_type": "markdown",
   "metadata": {},
   "source": [
    "6개의 원소로 구성된 이 축을 **0번 축** 이라고 부릅니다."
   ]
  },
  {
   "cell_type": "markdown",
   "metadata": {},
   "source": [
    "<img src='./img/2_41.jpg' width=600 height=300/>"
   ]
  },
  {
   "cell_type": "markdown",
   "metadata": {},
   "source": [
    "#### 2차원 행렬의 축"
   ]
  },
  {
   "cell_type": "markdown",
   "metadata": {},
   "source": [
    "2차원 행렬 `A`는 2개의 축으로 이루어져 있습니다."
   ]
  },
  {
   "cell_type": "code",
   "execution_count": null,
   "metadata": {
    "execution": {
     "iopub.execute_input": "2021-03-15T08:04:50.151401Z",
     "iopub.status.busy": "2021-03-15T08:04:50.151039Z",
     "iopub.status.idle": "2021-03-15T08:04:50.152463Z",
     "shell.execute_reply": "2021-03-15T08:04:50.152780Z"
    }
   },
   "outputs": [],
   "source": [
    "A = np.array([[1,2,3], [4,5,6]])\n",
    "A"
   ]
  },
  {
   "cell_type": "code",
   "execution_count": null,
   "metadata": {
    "execution": {
     "iopub.execute_input": "2021-03-15T08:04:50.154747Z",
     "iopub.status.busy": "2021-03-15T08:04:50.154380Z",
     "iopub.status.idle": "2021-03-15T08:04:50.155733Z",
     "shell.execute_reply": "2021-03-15T08:04:50.156066Z"
    }
   },
   "outputs": [],
   "source": [
    "A.shape"
   ]
  },
  {
   "cell_type": "markdown",
   "metadata": {},
   "source": [
    "shape의 왼쪽부터 시작해서 순서대로 축의 이름을 붙입니다.  \n",
    "즉, 0번 축에는 2개의 원소로 구성되어 있고, 1번 축에는 3개의 원소로 구성되어 있음을 알 수 있습니다. "
   ]
  },
  {
   "cell_type": "markdown",
   "metadata": {},
   "source": [
    "<img src='./img/2_40.jpg' width=700 height=500 />"
   ]
  },
  {
   "cell_type": "markdown",
   "metadata": {},
   "source": [
    "#### 3차원 행렬의 축"
   ]
  },
  {
   "cell_type": "markdown",
   "metadata": {},
   "source": [
    "3차원 행렬 `A`는 3개의 축으로 이루어져 있습니다."
   ]
  },
  {
   "cell_type": "code",
   "execution_count": null,
   "metadata": {
    "execution": {
     "iopub.execute_input": "2021-03-15T08:04:50.158475Z",
     "iopub.status.busy": "2021-03-15T08:04:50.158150Z",
     "iopub.status.idle": "2021-03-15T08:04:50.159627Z",
     "shell.execute_reply": "2021-03-15T08:04:50.159973Z"
    }
   },
   "outputs": [],
   "source": [
    "A = np.array([[[1,2,3], [4,5,6]], [[1,2,3], [4,5,6]]])\n",
    "A"
   ]
  },
  {
   "cell_type": "code",
   "execution_count": null,
   "metadata": {
    "execution": {
     "iopub.execute_input": "2021-03-15T08:04:50.161880Z",
     "iopub.status.busy": "2021-03-15T08:04:50.161546Z",
     "iopub.status.idle": "2021-03-15T08:04:50.162969Z",
     "shell.execute_reply": "2021-03-15T08:04:50.163288Z"
    },
    "scrolled": true
   },
   "outputs": [],
   "source": [
    "A.shape"
   ]
  },
  {
   "cell_type": "markdown",
   "metadata": {},
   "source": [
    "`(2, 2, 3)`은 각각 0번 축, 1번 축, 2번 축의 원소 수를 알려줍니다.  \n",
    "0번 축에는 2개, 1번 축에는 2개, 2번 축은 3개 원소로 구성되어 있음을 알 수 있습니다. "
   ]
  },
  {
   "cell_type": "markdown",
   "metadata": {},
   "source": [
    "<img src='./img/2_42.jpg' width=1000 height=500/>"
   ]
  },
  {
   "cell_type": "markdown",
   "metadata": {},
   "source": [
    "<div class=\"alert alert-block alert-warning\">\n",
    "<b> [Practice] Shape </b>\n",
    "</div>\n",
    "\n",
    "앞서 학습한 내용을 참고하여 코드셀에 직접 문제를 풀어보세요.\n",
    "\n",
    "Q1. `arr4` 변수에 0번 축의 요소가 5개이고, size가 15이면서 모든 원소가 1인 2차원 Array를 Numpy Array 형식으로 만들어 보세요.\n",
    "\n",
    "Q2. `arr4`의 차원과 shape, size를 출력해보세요.\n",
    "\n",
    "Q3. `arr5` 변수에 다음 조건을 모두 만족하는 3차원 Numpy Array를 만들어 보세요.\n",
    "- 0번 축의 요소가 2개\n",
    "- 2번 축의 요소가 3개\n",
    "- size가 30\n",
    "- 모든 원소가 2\n",
    "\n",
    "Q4. `arr5`의 차원과 shape, size를 출력해보세요."
   ]
  },
  {
   "cell_type": "code",
   "execution_count": null,
   "metadata": {
    "execution": {
     "iopub.execute_input": "2021-03-15T08:04:50.167055Z",
     "iopub.status.busy": "2021-03-15T08:04:50.166727Z",
     "iopub.status.idle": "2021-03-15T08:04:50.167900Z",
     "shell.execute_reply": "2021-03-15T08:04:50.168260Z"
    }
   },
   "outputs": [],
   "source": [
    "# Answers\n",
    "# Q1.\n",
    "arr4 = np.array([[1, 1, 1],\n",
    "                  [1, 1, 1],\n",
    "                  [1, 1, 1],\n",
    "                  [1, 1, 1],\n",
    "                  [1, 1, 1]])\n",
    "\n",
    "# Q2.\n",
    "print(arr4.ndim)\n",
    "print(arr4.shape)\n",
    "print(arr4.size)\n",
    "\n",
    "# Q3.\n",
    "arr5 = np.array([\n",
    "                    [\n",
    "                        [2,2,2],\n",
    "                        [2,2,2],\n",
    "                        [2,2,2],\n",
    "                        [2,2,2],\n",
    "                        [2,2,2],\n",
    "                    ],\n",
    "                    [\n",
    "                        [2,2,2],\n",
    "                        [2,2,2],\n",
    "                        [2,2,2],\n",
    "                        [2,2,2],\n",
    "                        [2,2,2],\n",
    "                    ],    \n",
    "                 ])\n",
    "\n",
    "# Q4.\n",
    "print(arr5.ndim)\n",
    "print(arr5.shape)\n",
    "print(arr5.size)"
   ]
  },
  {
   "cell_type": "markdown",
   "metadata": {
    "colab_type": "text",
    "id": "ym0Rs3d0JTcM"
   },
   "source": [
    "\n",
    "\n",
    "# \\[ 2. Numpy Array의 생성 \\]\n",
    "\n",
    "Numpy Array를 만드는 방법은 다양합니다. 다른 자료구조로부터 데이터를 받아와 생성할 수도 있고,  \n",
    "하나의 원소로만 구성되는 경우에는 값과 형태와 데이터 타입 등 Array의 구성을 설정하여 생성할 수도 있습니다.   "
   ]
  },
  {
   "cell_type": "markdown",
   "metadata": {
    "colab_type": "text",
    "id": "yY_HlZpXXTfT"
   },
   "source": [
    "## 1. 다른 자료로부터 Numpy Array 생성하기\n",
    "\n",
    "* 이미 생성된 List나 Tuple 또는 다른 Array를 활용하여 새로운 Array를 생성할 수 있습니다."
   ]
  },
  {
   "cell_type": "markdown",
   "metadata": {
    "colab_type": "text",
    "id": "QyiuDMSoJTcN"
   },
   "source": [
    "\n",
    "### (1) List 혹은 Tuple로 Array 만들기 : `np.array()`\n",
    "\n",
    "가장 기본적인 array를 만드는 방식으로, 주로 list나 tuple을 변환하여 array로 만듭니다."
   ]
  },
  {
   "cell_type": "code",
   "execution_count": null,
   "metadata": {
    "colab": {},
    "colab_type": "code",
    "execution": {
     "iopub.execute_input": "2021-03-15T08:04:50.170400Z",
     "iopub.status.busy": "2021-03-15T08:04:50.170086Z",
     "iopub.status.idle": "2021-03-15T08:04:50.171519Z",
     "shell.execute_reply": "2021-03-15T08:04:50.171832Z"
    },
    "id": "QvYxjiv8JTcO",
    "outputId": "7503879a-cdfd-4454-a8e4-9c10224d650f"
   },
   "outputs": [],
   "source": [
    "A = np.array([1,2,3,4,5])\n",
    "A"
   ]
  },
  {
   "cell_type": "markdown",
   "metadata": {
    "colab_type": "text",
    "id": "0hoTKsdaJTcd"
   },
   "source": [
    "### (2) 기존 Array 복사하기 :  `np.copy()`\n",
    "\n",
    "똑같은 값을 가진 Array를 만들고자 한다면, `np.copy()`를 이용해야 합니다."
   ]
  },
  {
   "cell_type": "code",
   "execution_count": null,
   "metadata": {
    "colab": {},
    "colab_type": "code",
    "execution": {
     "iopub.execute_input": "2021-03-15T08:04:50.174193Z",
     "iopub.status.busy": "2021-03-15T08:04:50.173814Z",
     "iopub.status.idle": "2021-03-15T08:04:50.175191Z",
     "shell.execute_reply": "2021-03-15T08:04:50.175403Z"
    },
    "id": "UHEBQX2hJTci",
    "outputId": "11005144-423a-4a98-b09d-215b235d8f84"
   },
   "outputs": [],
   "source": [
    "A = np.array([1,2,3,4,5])\n",
    "A"
   ]
  },
  {
   "cell_type": "markdown",
   "metadata": {},
   "source": [
    "이렇게 할 경우, A를 복사하는 것이 아닌, 똑같은 A의 값을 가리키고 있는 상태가 됩니다."
   ]
  },
  {
   "cell_type": "code",
   "execution_count": null,
   "metadata": {
    "colab": {},
    "colab_type": "code",
    "execution": {
     "iopub.execute_input": "2021-03-15T08:04:50.177467Z",
     "iopub.status.busy": "2021-03-15T08:04:50.177159Z",
     "iopub.status.idle": "2021-03-15T08:04:50.178333Z",
     "shell.execute_reply": "2021-03-15T08:04:50.178684Z"
    },
    "id": "UFWbzHGxJTcn"
   },
   "outputs": [],
   "source": [
    "B = A\n",
    "print(id(B))\n",
    "print(id(A))"
   ]
  },
  {
   "cell_type": "markdown",
   "metadata": {
    "colab_type": "text",
    "id": "cnEqFDsJJTdB"
   },
   "source": [
    "**값만 가져와 새로운 변수를 생성하고, 기존 변수에는 영향을 미치고 싶지 않다**면 어떻게 해야 할까요?  \n",
    "위와 같은 상황을 방지하기 위해서는 `.copy()`라는 메소드를 이용해야 합니다."
   ]
  },
  {
   "cell_type": "code",
   "execution_count": null,
   "metadata": {
    "colab": {},
    "colab_type": "code",
    "execution": {
     "iopub.execute_input": "2021-03-15T08:04:50.180766Z",
     "iopub.status.busy": "2021-03-15T08:04:50.180445Z",
     "iopub.status.idle": "2021-03-15T08:04:50.181874Z",
     "shell.execute_reply": "2021-03-15T08:04:50.182187Z"
    },
    "id": "VYIh3GJWJTdC",
    "outputId": "66598915-df61-40c0-a38b-6f83d527435f"
   },
   "outputs": [],
   "source": [
    "A = np.array([1,2,3,4,5])\n",
    "A"
   ]
  },
  {
   "cell_type": "code",
   "execution_count": null,
   "metadata": {
    "colab": {},
    "colab_type": "code",
    "execution": {
     "iopub.execute_input": "2021-03-15T08:04:50.184219Z",
     "iopub.status.busy": "2021-03-15T08:04:50.183880Z",
     "iopub.status.idle": "2021-03-15T08:04:50.185144Z",
     "shell.execute_reply": "2021-03-15T08:04:50.185461Z"
    },
    "id": "bAlULnxVJTdG"
   },
   "outputs": [],
   "source": [
    "B = A.copy() # A를 복사하여 저장\n",
    "print(id(B))\n",
    "print(id(A)) # 서로 다른 메모리 위치에 저장"
   ]
  },
  {
   "cell_type": "code",
   "execution_count": null,
   "metadata": {
    "colab": {},
    "colab_type": "code",
    "execution": {
     "iopub.execute_input": "2021-03-15T08:04:50.187604Z",
     "iopub.status.busy": "2021-03-15T08:04:50.187270Z",
     "iopub.status.idle": "2021-03-15T08:04:50.188752Z",
     "shell.execute_reply": "2021-03-15T08:04:50.189083Z"
    },
    "id": "6ywARThuJTdK",
    "outputId": "692cf505-f8f8-4403-f298-f03981f16e5e"
   },
   "outputs": [],
   "source": [
    "B[0] = 0 # B의 첫번째 원소를 바꾸었을 때, A는 바뀌지 않음\n",
    "B"
   ]
  },
  {
   "cell_type": "code",
   "execution_count": null,
   "metadata": {
    "colab": {},
    "colab_type": "code",
    "execution": {
     "iopub.execute_input": "2021-03-15T08:04:50.191050Z",
     "iopub.status.busy": "2021-03-15T08:04:50.190707Z",
     "iopub.status.idle": "2021-03-15T08:04:50.192157Z",
     "shell.execute_reply": "2021-03-15T08:04:50.192475Z"
    },
    "id": "xP0avpKiJTdN",
    "outputId": "d41138fb-3029-4734-9cf7-bccdf0692412"
   },
   "outputs": [],
   "source": [
    "A # B와 다름"
   ]
  },
  {
   "cell_type": "markdown",
   "metadata": {},
   "source": [
    "<div class=\"alert alert-block alert-warning\">\n",
    "<b> [Practice] 다른 자료로부터 Numpy Array 생성하기 </b>\n",
    "</div>\n",
    "\n",
    "앞서 학습한 내용을 참고하여 코드 셀에 직접 문제를 풀어보세요.\n",
    "\n",
    "Q1. `tup` 변수에 (1, 2, 3)을 Tuple 형식으로 만들고, 이를 활용하여 `tup_arr`변수에 Numpy Array로 만들어보세요.\n",
    "\n",
    "Q2. `tup_arr_copy` 변수에 `tup_arr`을 복사해보세요.(힌트: `.copy()`)\n",
    "\n",
    "Q3. `tup_arr`의 첫번째 원소를 0으로 바꾸고 `tup_arr`와 `tup_arr_copy`를 출력하여 첫번째 원소를 확인해보세요."
   ]
  },
  {
   "cell_type": "code",
   "execution_count": null,
   "metadata": {
    "execution": {
     "iopub.execute_input": "2021-03-15T08:04:50.194991Z",
     "iopub.status.busy": "2021-03-15T08:04:50.194669Z",
     "iopub.status.idle": "2021-03-15T08:04:50.196091Z",
     "shell.execute_reply": "2021-03-15T08:04:50.196416Z"
    }
   },
   "outputs": [],
   "source": [
    "# Answers\n",
    "# Q1.\n",
    "tup = (1, 2, 3)\n",
    "tup_arr = np.array(tup)\n",
    "print(tup_arr)\n",
    "\n",
    "# Q2.\n",
    "tup_arr_dp = tup_arr.copy()\n",
    "\n",
    "# Q3.\n",
    "tup_arr[0] = 0\n",
    "print(tup_arr)\n",
    "print(tup_arr_dp)"
   ]
  },
  {
   "cell_type": "markdown",
   "metadata": {
    "colab_type": "text",
    "id": "ZETabvc0cEq0"
   },
   "source": [
    "## 2. 구성을 설정하여 Numpy Array 생성하기\n",
    "\n",
    "+ 구성(Value, Shape, Datatype)을 각각 설정하여 Numpy Array를 생성할수도 있습니다.  \n",
    "+ Array의 구성 원소가 동일한 값을 가지도록 하여 생성할 수도 있습니다.\n",
    "+ 기존 Numpy Array의 Shape만 가져와 다른 값을 가지도록 생성할 수도 있습니다.\n",
    "+ 원소들의 값들을 등간격으로 설정하여 생성할 수도 있습니다."
   ]
  },
  {
   "cell_type": "markdown",
   "metadata": {
    "colab_type": "text",
    "id": "6SFPWskvJTdT"
   },
   "source": [
    "### (1) 값이 일정한 Array 생성 : `np.zeros()`&nbsp;,&nbsp; `np.ones()`&nbsp;,&nbsp; `np.full()`\n",
    "\n",
    "Array를 생성할 때, 지정할 수 있는 파라미터에는 크게 `shape`, `value`, `dtype` 등이 있습니다.  \n",
    "Array를 동일한 값으로 구성하려 한다면, `value`는 정해졌으므로 `shape`와 `dtype`를 정해 설정합니다."
   ]
  },
  {
   "cell_type": "code",
   "execution_count": null,
   "metadata": {
    "colab": {},
    "colab_type": "code",
    "execution": {
     "iopub.execute_input": "2021-03-15T08:04:50.198743Z",
     "iopub.status.busy": "2021-03-15T08:04:50.198373Z",
     "iopub.status.idle": "2021-03-15T08:04:50.199895Z",
     "shell.execute_reply": "2021-03-15T08:04:50.200214Z"
    },
    "id": "b5Ziq7cHJTdU",
    "outputId": "e6ad6100-f06f-471c-94e5-27c65a440100"
   },
   "outputs": [],
   "source": [
    "# 값은 0이고, 3행 2열로 구성된 행렬\n",
    "A = np.zeros(shape=(3,2), dtype=np.float64)\n",
    "A"
   ]
  },
  {
   "cell_type": "code",
   "execution_count": null,
   "metadata": {
    "colab": {},
    "colab_type": "code",
    "execution": {
     "iopub.execute_input": "2021-03-15T08:04:50.202398Z",
     "iopub.status.busy": "2021-03-15T08:04:50.202045Z",
     "iopub.status.idle": "2021-03-15T08:04:50.203555Z",
     "shell.execute_reply": "2021-03-15T08:04:50.203884Z"
    },
    "id": "j0pqN1X1JTdX",
    "outputId": "5baeb37f-cc4b-4844-d227-4c66a75c558d"
   },
   "outputs": [],
   "source": [
    "# 값은 1이고, 3행 2열로 구성된 행렬\n",
    "A = np.ones(shape=(3,2), dtype=np.float64)\n",
    "A"
   ]
  },
  {
   "cell_type": "code",
   "execution_count": null,
   "metadata": {
    "colab": {},
    "colab_type": "code",
    "execution": {
     "iopub.execute_input": "2021-03-15T08:04:50.206070Z",
     "iopub.status.busy": "2021-03-15T08:04:50.205747Z",
     "iopub.status.idle": "2021-03-15T08:04:50.207149Z",
     "shell.execute_reply": "2021-03-15T08:04:50.207479Z"
    },
    "id": "mHLCzgmGJTda",
    "outputId": "85b79c60-7467-4088-fa40-3f21366d1e92"
   },
   "outputs": [],
   "source": [
    "# 값은 3이고, 3행 2열로 구성된 행렬\n",
    "A = np.full(shape=(3,2), fill_value=3., dtype=np.float64)\n",
    "A"
   ]
  },
  {
   "cell_type": "markdown",
   "metadata": {
    "colab_type": "text",
    "id": "RR8tPo1EJTdi"
   },
   "source": [
    "### (2) 기존 Array와 동일한 shape의 Array 생성 : `np.zeros_like()`&nbsp;, &nbsp;`np.ones_like()`&nbsp;, &nbsp;`np.full_like()`&nbsp;\n",
    "기존의 Numpy Array의 형태(shape)가 동일하되, 원하는 값으로 채워진 Numpy Array를 생성할 수 있습니다."
   ]
  },
  {
   "cell_type": "code",
   "execution_count": null,
   "metadata": {
    "colab": {
     "base_uri": "https://localhost:8080/",
     "height": 33
    },
    "colab_type": "code",
    "execution": {
     "iopub.execute_input": "2021-03-15T08:04:50.209678Z",
     "iopub.status.busy": "2021-03-15T08:04:50.209344Z",
     "iopub.status.idle": "2021-03-15T08:04:50.210697Z",
     "shell.execute_reply": "2021-03-15T08:04:50.211008Z"
    },
    "executionInfo": {
     "elapsed": 823,
     "status": "ok",
     "timestamp": 1551246684793,
     "user": {
      "displayName": "최선열",
      "photoUrl": "",
      "userId": "00663027191814710813"
     },
     "user_tz": -540
    },
    "id": "iJhXJer8JTdj",
    "outputId": "ee54ca08-5dcc-44f8-f139-1a6a6311b00a"
   },
   "outputs": [],
   "source": [
    "A = np.array([1,2,3,4,5])\n",
    "A"
   ]
  },
  {
   "cell_type": "code",
   "execution_count": null,
   "metadata": {
    "colab": {
     "base_uri": "https://localhost:8080/",
     "height": 33
    },
    "colab_type": "code",
    "execution": {
     "iopub.execute_input": "2021-03-15T08:04:50.213050Z",
     "iopub.status.busy": "2021-03-15T08:04:50.212721Z",
     "iopub.status.idle": "2021-03-15T08:04:50.214184Z",
     "shell.execute_reply": "2021-03-15T08:04:50.214493Z"
    },
    "executionInfo": {
     "elapsed": 692,
     "status": "ok",
     "timestamp": 1551246711813,
     "user": {
      "displayName": "최선열",
      "photoUrl": "",
      "userId": "00663027191814710813"
     },
     "user_tz": -540
    },
    "id": "lShdPcX5JTdl",
    "outputId": "a01ae018-83f8-4559-a623-ec1ecc35617d"
   },
   "outputs": [],
   "source": [
    "np.zeros_like(A, dtype=np.int) # A와 같은 Shape이면서 모든 원소의 값이 0 인 Numpy Array 생성"
   ]
  },
  {
   "cell_type": "code",
   "execution_count": null,
   "metadata": {
    "colab": {},
    "colab_type": "code",
    "execution": {
     "iopub.execute_input": "2021-03-15T08:04:50.216584Z",
     "iopub.status.busy": "2021-03-15T08:04:50.216252Z",
     "iopub.status.idle": "2021-03-15T08:04:50.217677Z",
     "shell.execute_reply": "2021-03-15T08:04:50.218016Z"
    },
    "id": "haaqzV67JTdn",
    "outputId": "ba5f3ccb-f476-40ed-dd40-8d8b6b102a8b"
   },
   "outputs": [],
   "source": [
    "np.ones_like(A, dtype=np.int) # A와 같은 Shape이면서 모든 원소의 값이 1 인 Numpy Array 생성 "
   ]
  },
  {
   "cell_type": "code",
   "execution_count": null,
   "metadata": {
    "colab": {},
    "colab_type": "code",
    "execution": {
     "iopub.execute_input": "2021-03-15T08:04:50.220095Z",
     "iopub.status.busy": "2021-03-15T08:04:50.219725Z",
     "iopub.status.idle": "2021-03-15T08:04:50.221165Z",
     "shell.execute_reply": "2021-03-15T08:04:50.221489Z"
    },
    "id": "5KJnr4IQJTdp",
    "outputId": "e2b51270-11c6-40ea-d419-6ed3c01c0395"
   },
   "outputs": [],
   "source": [
    "np.full_like(A, fill_value=13, dtype=np.int) # 3. A와 같은 Shape이면서 모든 원소의 값이 13 인 Numpy Array 생성"
   ]
  },
  {
   "cell_type": "markdown",
   "metadata": {
    "colab_type": "text",
    "id": "BLH0P5TxJTds"
   },
   "source": [
    "### (3) 같은 간격의 값으로 구성된 Array 생성하기 :  `np.linspace()`&nbsp; , &nbsp; `np.arange()`\n",
    "\n",
    "등간격으로 배치된 Array를 만들고 싶을 때도 Numpy에서는 메소드를 통해 간단히 만들 수 있습니다.  \n",
    "예를 들어 1부터 10까지 일정 간격으로 커지는 연속적인 값으로 구성된 Array를 구성한다면 다음 두 가지 방법을 활용할 수 있습니다.\n",
    "\n",
    "* `np.linspace` : 1부터 10 사이를 **<몇 개의 숫자로 구성할지>를 기준**으로 Array를 만듭니다.\n",
    "* `np.arange` : 1부터 10 사이를 **<얼만큼의 간격으로 나눌지>를 기준**으로 Array를 만듭니다."
   ]
  },
  {
   "cell_type": "code",
   "execution_count": null,
   "metadata": {
    "colab": {},
    "colab_type": "code",
    "execution": {
     "iopub.execute_input": "2021-03-15T08:04:50.223853Z",
     "iopub.status.busy": "2021-03-15T08:04:50.223508Z",
     "iopub.status.idle": "2021-03-15T08:04:50.224771Z",
     "shell.execute_reply": "2021-03-15T08:04:50.225087Z"
    },
    "id": "vmlAdrogJTdt",
    "outputId": "c0b9dc0a-61e2-43f4-e8fb-af7c7f717c64",
    "scrolled": true
   },
   "outputs": [],
   "source": [
    "np.linspace(start=1,stop=10, num=19) # 1부터 10까지 19개의 원소를 등간격으로 쪼개서 생성"
   ]
  },
  {
   "cell_type": "code",
   "execution_count": null,
   "metadata": {
    "colab": {},
    "colab_type": "code",
    "execution": {
     "iopub.execute_input": "2021-03-15T08:04:50.227269Z",
     "iopub.status.busy": "2021-03-15T08:04:50.226936Z",
     "iopub.status.idle": "2021-03-15T08:04:50.228376Z",
     "shell.execute_reply": "2021-03-15T08:04:50.228715Z"
    },
    "id": "nt5clvfEJTdy",
    "outputId": "7591fbc0-72f9-417a-b995-e1cd32ad58d9",
    "scrolled": true
   },
   "outputs": [],
   "source": [
    "np.arange(1,10,0.5) # 1부터 10까지 0.5 step(간격)으로 더하여 원소를 생성"
   ]
  },
  {
   "cell_type": "markdown",
   "metadata": {},
   "source": [
    "<div class=\"alert alert-block alert-warning\">\n",
    "<b> [Practice] 구성을 설정하여 Numpy Array 생성하기 </b>\n",
    "</div>\n",
    "\n",
    "앞서 학습한 내용을 참고하여 코드셀에 직접 문제를 풀어보세요. \n",
    "\n",
    "Q1. `arr6` 변수에 모든 원소의 값이 3이고, 2행 4열로 구성된 Numpy Array로 만들어 보세요.\n",
    "\n",
    "Q2. `arr7` 변수에 `arr6`과 shape이 동일하면서 모든 원소가 0인 Numpy Array를 만들어 보세요.\n",
    "\n",
    "Q3. `arr8` 변수에 1부터 19까지 일정한 간격으로 커지는 연속적인 10개의 원소로 구성된 Numpy Array를 만들어 보세요.\n",
    "\n",
    "Q4. `arr9` 변수에 1부터 19까지 4 간격으로 커지는 원소로 구성된 Numpy Array를 만들어 보세요."
   ]
  },
  {
   "cell_type": "code",
   "execution_count": null,
   "metadata": {
    "execution": {
     "iopub.execute_input": "2021-03-15T08:04:50.231606Z",
     "iopub.status.busy": "2021-03-15T08:04:50.231273Z",
     "iopub.status.idle": "2021-03-15T08:04:50.232486Z",
     "shell.execute_reply": "2021-03-15T08:04:50.232809Z"
    }
   },
   "outputs": [],
   "source": [
    "# Answers\n",
    "# Q1.\n",
    "arr6 = np.full(shape=(2,4), fill_value=3)\n",
    "print(arr6)\n",
    "\n",
    "# Q2. \n",
    "arr7 = np.zeros_like(arr6)\n",
    "print(arr7)\n",
    "\n",
    "# Q3.\n",
    "arr8 = np.linspace(1, 19, 10)\n",
    "print(arr8)\n",
    "\n",
    "# Q4.\n",
    "arr9 = np.arange(1, 19, 4)\n",
    "print(arr9)"
   ]
  }
 ],
 "metadata": {
  "colab": {
   "collapsed_sections": [
    "rxCrKYzVJTY4",
    "3_pFKUXOJTZJ",
    "aIgW-QwyJTZc",
    "PYNPvYTLJTZt",
    "RzCUGXkwJTaF",
    "Ot3FlsxDJTaU",
    "jkvN1lGnJTag",
    "HzIQi04rJTak",
    "DpXYaAyGJTa7",
    "hTtaYiYNJTbN",
    "gt1C9mXmJTbY",
    "0nQWNSoEJTbs",
    "dKGJATBTJTb0",
    "QyiuDMSoJTcN",
    "0hoTKsdaJTcd",
    "6SFPWskvJTdT",
    "RR8tPo1EJTdi",
    "BLH0P5TxJTds"
   ],
   "name": "2_Numpy의 구조와 생성.ipynb",
   "provenance": [],
   "toc_visible": true,
   "version": "0.3.2"
  },
  "kernelspec": {
   "display_name": "Python 3",
   "language": "python",
   "name": "python3"
  },
  "language_info": {
   "codemirror_mode": {
    "name": "ipython",
    "version": 3
   },
   "file_extension": ".py",
   "mimetype": "text/x-python",
   "name": "python",
   "nbconvert_exporter": "python",
   "pygments_lexer": "ipython3",
   "version": "3.8.8"
  },
  "toc": {
   "base_numbering": 1,
   "nav_menu": {},
   "number_sections": false,
   "sideBar": true,
   "skip_h1_title": false,
   "title_cell": "Table of Contents",
   "title_sidebar": "Contents",
   "toc_cell": false,
   "toc_position": {
    "height": "calc(100% - 180px)",
    "left": "10px",
    "top": "150px",
    "width": "322.878px"
   },
   "toc_section_display": true,
   "toc_window_display": true
  }
 },
 "nbformat": 4,
 "nbformat_minor": 4
}
