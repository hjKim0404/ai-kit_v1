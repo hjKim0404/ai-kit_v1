{
 "cells": [
  {
   "cell_type": "markdown",
   "metadata": {
    "colab_type": "text",
    "id": "o_fIYu-76fZg"
   },
   "source": [
    "# E. 수치 연산을 위한 유용한 메서드\n",
    "\n",
    "Numpy를 이용하면 간단하게 **Array를 구성하는 각각의 원소에 대해 동일한 연산을 적용**할 수 있습니다.  \n",
    "이런 메서드를 Universal Function이라고 합니다.  이는 Numpy의 최대 강점 중 하나입니다.  \n",
    "이번 Section에서는 Array의 수치 연산을 위한 다양하고 유용한 메서드들을 학습하겠습니다.\n",
    "\n",
    "### _Objective_\n",
    "1. **Numpy Method** : Array의 연산을 위한 UFuncs 등의 다양하고 유용한 메서드들을 학습"
   ]
  },
  {
   "cell_type": "code",
   "execution_count": 1,
   "metadata": {
    "colab": {},
    "colab_type": "code",
    "id": "pa-8gyc06fZi"
   },
   "outputs": [],
   "source": [
    "import numpy as np"
   ]
  },
  {
   "cell_type": "markdown",
   "metadata": {},
   "source": [
    "# \\[ 1. 원소 연산 \\] "
   ]
  },
  {
   "cell_type": "markdown",
   "metadata": {},
   "source": [
    "Numpy에서는 다음과 같은 형태의 Array의 연산을 수행할 수 있습니다.\n",
    "1. Array를 구성하는 원소별 연산\n",
    "2. 같은 형태의 Array 간 연산\n",
    "3. Scalar값과 Array 간 연산\n",
    "4. 다른 형태의 Array 간 연산  \n",
    "\n",
    "각각의 경우에 Numpy의 **사칙연산을 비롯한 다양한 원소별 연산 메서드**를 적용해보며 Numpy에서 원소별 연산이 어떻게 작동하는지 살펴봅시다."
   ]
  },
  {
   "cell_type": "markdown",
   "metadata": {},
   "source": [
    "## 1. Array를 구성하는 원소별 연산\n",
    "+ Array의 구성 원소를 원하는 메서드에 따라 변환할 수 있습니다. "
   ]
  },
  {
   "cell_type": "markdown",
   "metadata": {},
   "source": [
    "벡터 형태의 Array를 만들어 sin, 지수, 로그 등의 값으로 변환해봅시다."
   ]
  },
  {
   "cell_type": "markdown",
   "metadata": {},
   "source": [
    "우선 1(결과값 포함)에서 5(결과값 미포함)사이 0.5 간격의 값들을 포함하는 벡터를 만들어 보겠습니다. 그런 다음 이 값들의 사인(sin), 지수(exp) 및 로그(log)값 배열을 가져옵니다."
   ]
  },
  {
   "cell_type": "code",
   "execution_count": 2,
   "metadata": {
    "colab": {
     "base_uri": "https://localhost:8080/",
     "height": 33
    },
    "colab_type": "code",
    "executionInfo": {
     "elapsed": 549,
     "status": "ok",
     "timestamp": 1551670426787,
     "user": {
      "displayName": "최선열",
      "photoUrl": "",
      "userId": "00663027191814710813"
     },
     "user_tz": -540
    },
    "id": "q0Xh4wP66fbF",
    "outputId": "98f70245-1054-4076-b00b-62d88d120edc",
    "scrolled": true
   },
   "outputs": [
    {
     "data": {
      "text/plain": [
       "array([1. , 1.5, 2. , 2.5, 3. , 3.5, 4. , 4.5])"
      ]
     },
     "execution_count": 2,
     "metadata": {},
     "output_type": "execute_result"
    }
   ],
   "source": [
    "A = np.arange(1, 5, 0.5)\n",
    "A"
   ]
  },
  {
   "cell_type": "markdown",
   "metadata": {
    "colab_type": "text",
    "id": "FD0Ci35W6fbJ"
   },
   "source": [
    "### (1) sin 메서드\n",
    "\n",
    "`.sin()`메서드를 사용하면 $y = sin(x)$을 원소 별로 적용하여 결과를 반환합니다."
   ]
  },
  {
   "cell_type": "code",
   "execution_count": 3,
   "metadata": {
    "colab": {},
    "colab_type": "code",
    "id": "Sk17n8XI6fbJ",
    "outputId": "5c2d7229-4321-41c3-c34f-cda1d8331ee2"
   },
   "outputs": [
    {
     "data": {
      "text/plain": [
       "array([ 0.84147098,  0.99749499,  0.90929743,  0.59847214,  0.14112001,\n",
       "       -0.35078323, -0.7568025 , -0.97753012])"
      ]
     },
     "execution_count": 3,
     "metadata": {},
     "output_type": "execute_result"
    }
   ],
   "source": [
    "np.sin(A)"
   ]
  },
  {
   "cell_type": "markdown",
   "metadata": {
    "colab_type": "text",
    "id": "rIgrt0Sw6fbN"
   },
   "source": [
    "### (2) 지수 메서드\n",
    "\n",
    "`.exp()`메서드를 사용하면 $y=e^x$을 원소 별로 적용하여 결과를 반환합니다."
   ]
  },
  {
   "cell_type": "code",
   "execution_count": 4,
   "metadata": {
    "colab": {},
    "colab_type": "code",
    "id": "4k8gSqJc6fbO",
    "outputId": "6d93cdfd-e6aa-47a2-e7ed-f4ba9056b063",
    "scrolled": true
   },
   "outputs": [
    {
     "data": {
      "text/plain": [
       "array([ 2.71828183,  4.48168907,  7.3890561 , 12.18249396, 20.08553692,\n",
       "       33.11545196, 54.59815003, 90.0171313 ])"
      ]
     },
     "execution_count": 4,
     "metadata": {},
     "output_type": "execute_result"
    }
   ],
   "source": [
    "np.exp(A)"
   ]
  },
  {
   "cell_type": "markdown",
   "metadata": {
    "colab_type": "text",
    "id": "0cy_BTx66fbX"
   },
   "source": [
    "### (3) 로그 메서드\n",
    "\n",
    "`.log()`메서드를 사용하면 $y = log(x)$을 원소 별로 적용하여 결과를 반환합니다."
   ]
  },
  {
   "cell_type": "code",
   "execution_count": 5,
   "metadata": {
    "colab": {},
    "colab_type": "code",
    "id": "Z4NTD9_k6fbY",
    "outputId": "7ad9ebc4-ce3e-44e0-ee9f-fd9445a16bd8"
   },
   "outputs": [
    {
     "data": {
      "text/plain": [
       "array([0.        , 0.40546511, 0.69314718, 0.91629073, 1.09861229,\n",
       "       1.25276297, 1.38629436, 1.5040774 ])"
      ]
     },
     "execution_count": 5,
     "metadata": {},
     "output_type": "execute_result"
    }
   ],
   "source": [
    "np.log(A)"
   ]
  },
  {
   "cell_type": "markdown",
   "metadata": {
    "colab_type": "text",
    "id": "ieQ2RBV06fbb"
   },
   "source": [
    "### (4) 행렬 곱 메서드\n",
    "\n",
    "행렬을 서로 곱하는 행렬곱(matrix multiplication)도 가장 중요한 연산 중 하나입니다.  \n",
    "Numpy에서는 행렬곱 연산도 `.matmul()` 메소드로 아래처럼 간단히 구현할 수 있습니다."
   ]
  },
  {
   "cell_type": "code",
   "execution_count": 6,
   "metadata": {
    "colab": {},
    "colab_type": "code",
    "collapsed": true,
    "id": "hIyHeafz6fbc"
   },
   "outputs": [],
   "source": [
    "W = np.array([\n",
    "    [1, 2, 3],\n",
    "    [2, 3, 4],\n",
    "    [3, 4, 5]\n",
    "])\n",
    "X = np.array([\n",
    "    [1],\n",
    "    [2],\n",
    "    [3],\n",
    "])"
   ]
  },
  {
   "cell_type": "code",
   "execution_count": 7,
   "metadata": {
    "colab": {},
    "colab_type": "code",
    "id": "RnrJOMJQ6fbg",
    "outputId": "b1d9831f-91f3-49de-9006-4cc070bec1b3"
   },
   "outputs": [
    {
     "data": {
      "text/plain": [
       "array([[14],\n",
       "       [20],\n",
       "       [26]])"
      ]
     },
     "execution_count": 7,
     "metadata": {},
     "output_type": "execute_result"
    }
   ],
   "source": [
    "np.matmul(W,X)"
   ]
  },
  {
   "cell_type": "markdown",
   "metadata": {
    "colab_type": "text",
    "id": "-xLXSgg4O6Rd"
   },
   "source": [
    "# \\[ 2. 집계 연산 \\]\n",
    "\n",
    "Numpy는 집계 연산을 위한 다양한 메서드가 존재합니다.  \n",
    "집계 메서드는 한 축이 갖는 여러개의 값을 그룹당 하나의 값으로 반환합니다.  "
   ]
  },
  {
   "cell_type": "markdown",
   "metadata": {
    "colab_type": "text",
    "id": "34r66vr2O6Re"
   },
   "source": [
    "#### 예제)  학생들의 중간, 기말 성적표\n",
    "앞선 Section에서 사용했던 학생들의 과목별 성적 데이터를 활용하겠습니다. "
   ]
  },
  {
   "cell_type": "code",
   "execution_count": 4,
   "metadata": {
    "colab": {
     "base_uri": "https://localhost:8080/",
     "height": 228
    },
    "colab_type": "code",
    "executionInfo": {
     "elapsed": 375,
     "status": "ok",
     "timestamp": 1551671291404,
     "user": {
      "displayName": "최선열",
      "photoUrl": "",
      "userId": "00663027191814710813"
     },
     "user_tz": -540
    },
    "id": "WrSWb4HgO6Rf",
    "outputId": "08a25e9e-2e34-4884-b203-7536c019feac"
   },
   "outputs": [
    {
     "data": {
      "text/plain": [
       "(6, 5)"
      ]
     },
     "execution_count": 4,
     "metadata": {},
     "output_type": "execute_result"
    }
   ],
   "source": [
    "midterm_scores = np.array([\n",
    "       [80, 92, 70, 65, 92],\n",
    "       [91, 75, 90, 68, 85],\n",
    "       [86, 76, 42, 72, 88],\n",
    "       [77, 92, 52, 60, 80],\n",
    "       [75, 85, 85, 92, 95],\n",
    "       [96, 90, 95, 81, 72]])\n",
    "\n",
    "final_scores = np.array([\n",
    "       [85, 95, 90, 66, 93],\n",
    "       [93, 70, 80, 60, 81],\n",
    "       [89, 78, 55, 75, 80],\n",
    "       [80, 94, 59, 72, 90],\n",
    "       [70, 82, 81, 95, 72],\n",
    "       [90, 76, 93, 82, 89]])\n",
    "\n",
    "final_scores.shape"
   ]
  },
  {
   "cell_type": "markdown",
   "metadata": {},
   "source": [
    "## 1. 다양한 집계 연산 메서드"
   ]
  },
  {
   "cell_type": "markdown",
   "metadata": {
    "colab_type": "text",
    "id": "ElsyQ5ceO6Se"
   },
   "source": [
    "### (1) np.sum()\n",
    "`.sum()`메서드를 사용하면 array의 전체 합을 구할 수 있습니다."
   ]
  },
  {
   "cell_type": "markdown",
   "metadata": {},
   "source": [
    "#### 모든 학생의 중간고사 성적 합"
   ]
  },
  {
   "cell_type": "code",
   "execution_count": 9,
   "metadata": {},
   "outputs": [
    {
     "data": {
      "text/plain": [
       "2399"
      ]
     },
     "execution_count": 9,
     "metadata": {},
     "output_type": "execute_result"
    }
   ],
   "source": [
    "midterm_scores.sum()"
   ]
  },
  {
   "cell_type": "markdown",
   "metadata": {},
   "source": [
    "#### 0번 학생의 중간고사 성적 합"
   ]
  },
  {
   "cell_type": "code",
   "execution_count": 10,
   "metadata": {
    "scrolled": true
   },
   "outputs": [
    {
     "data": {
      "text/plain": [
       "399"
      ]
     },
     "execution_count": 10,
     "metadata": {},
     "output_type": "execute_result"
    }
   ],
   "source": [
    "midterm_scores[0,:].sum()"
   ]
  },
  {
   "cell_type": "markdown",
   "metadata": {
    "colab_type": "text",
    "id": "M1nhRjsbO6Rl"
   },
   "source": [
    "### (2) np.mean()\n",
    "`.mean()`메서드를 사용하면 넘파이 배열의 평균값을 쉽게 구할 수 있습니다."
   ]
  },
  {
   "cell_type": "markdown",
   "metadata": {},
   "source": [
    "#### 모든 학생의 중간고사 성적 평균"
   ]
  },
  {
   "cell_type": "code",
   "execution_count": 11,
   "metadata": {
    "colab": {},
    "colab_type": "code",
    "id": "L7YAyDE3O6Rn",
    "outputId": "314997bf-5d82-4513-f24b-fbfdba4a9439",
    "scrolled": true
   },
   "outputs": [
    {
     "data": {
      "text/plain": [
       "79.96666666666667"
      ]
     },
     "execution_count": 11,
     "metadata": {},
     "output_type": "execute_result"
    }
   ],
   "source": [
    "midterm_scores.mean()"
   ]
  },
  {
   "cell_type": "markdown",
   "metadata": {},
   "source": [
    "#### 4번 학생의 중간고사 성적 평균"
   ]
  },
  {
   "cell_type": "code",
   "execution_count": 12,
   "metadata": {
    "colab": {
     "base_uri": "https://localhost:8080/",
     "height": 33
    },
    "colab_type": "code",
    "executionInfo": {
     "elapsed": 662,
     "status": "ok",
     "timestamp": 1551672127626,
     "user": {
      "displayName": "최선열",
      "photoUrl": "",
      "userId": "00663027191814710813"
     },
     "user_tz": -540
    },
    "id": "Oe4Raong3aMq",
    "outputId": "57ab87df-eb5b-41f5-8ed4-8aab11e9c4df"
   },
   "outputs": [
    {
     "data": {
      "text/plain": [
       "86.4"
      ]
     },
     "execution_count": 12,
     "metadata": {},
     "output_type": "execute_result"
    }
   ],
   "source": [
    "midterm_scores[4,:].mean()"
   ]
  },
  {
   "cell_type": "markdown",
   "metadata": {
    "colab_type": "text",
    "id": "ElsyQ5ceO6Se"
   },
   "source": [
    "### (3) np.max()\n",
    "`.max()`메서드는 array의 최댓값을 반환합니다."
   ]
  },
  {
   "cell_type": "markdown",
   "metadata": {},
   "source": [
    " #### 기말고사 성적의 최대 점수"
   ]
  },
  {
   "cell_type": "code",
   "execution_count": 13,
   "metadata": {
    "scrolled": true
   },
   "outputs": [
    {
     "data": {
      "text/plain": [
       "95"
      ]
     },
     "execution_count": 13,
     "metadata": {},
     "output_type": "execute_result"
    }
   ],
   "source": [
    "final_scores.max()"
   ]
  },
  {
   "cell_type": "markdown",
   "metadata": {},
   "source": [
    "#### 2번 학생의 최대 점수"
   ]
  },
  {
   "cell_type": "code",
   "execution_count": 14,
   "metadata": {
    "scrolled": true
   },
   "outputs": [
    {
     "data": {
      "text/plain": [
       "89"
      ]
     },
     "execution_count": 14,
     "metadata": {},
     "output_type": "execute_result"
    }
   ],
   "source": [
    "final_scores[2,:].max()"
   ]
  },
  {
   "cell_type": "markdown",
   "metadata": {
    "colab_type": "text",
    "id": "ElsyQ5ceO6Se"
   },
   "source": [
    "### (4) np.min()\n",
    "`.min()`메서드는 array의 최솟값을 반환합니다."
   ]
  },
  {
   "cell_type": "markdown",
   "metadata": {},
   "source": [
    " #### 기말고사 성적의 최저 점수"
   ]
  },
  {
   "cell_type": "code",
   "execution_count": 15,
   "metadata": {
    "scrolled": true
   },
   "outputs": [
    {
     "data": {
      "text/plain": [
       "55"
      ]
     },
     "execution_count": 15,
     "metadata": {},
     "output_type": "execute_result"
    }
   ],
   "source": [
    "final_scores.min()"
   ]
  },
  {
   "cell_type": "markdown",
   "metadata": {},
   "source": [
    "#### 3번 학생의 최저 점수"
   ]
  },
  {
   "cell_type": "code",
   "execution_count": 16,
   "metadata": {
    "scrolled": true
   },
   "outputs": [
    {
     "data": {
      "text/plain": [
       "59"
      ]
     },
     "execution_count": 16,
     "metadata": {},
     "output_type": "execute_result"
    }
   ],
   "source": [
    "final_scores[3,:].min()"
   ]
  },
  {
   "cell_type": "markdown",
   "metadata": {
    "colab_type": "text",
    "id": "ElsyQ5ceO6Se"
   },
   "source": [
    "### (5) np.std()\n",
    "`.std()`메서드는 array의 표준 편차를 반환합니다."
   ]
  },
  {
   "cell_type": "markdown",
   "metadata": {},
   "source": [
    "#### 전체 학생의 중간고사 성적 표준 편차"
   ]
  },
  {
   "cell_type": "code",
   "execution_count": 17,
   "metadata": {
    "scrolled": true
   },
   "outputs": [
    {
     "data": {
      "text/plain": [
       "13.011490648226621"
      ]
     },
     "execution_count": 17,
     "metadata": {},
     "output_type": "execute_result"
    }
   ],
   "source": [
    "midterm_scores.std() "
   ]
  },
  {
   "cell_type": "markdown",
   "metadata": {},
   "source": [
    "### (6) np.stack()\n",
    "`np.stack()`메서드를 이용하면 여러 개의 Array를 하나의 Array로 합침으로써 차원을 확장시킬 수 있습니다."
   ]
  },
  {
   "cell_type": "markdown",
   "metadata": {},
   "source": [
    "#### 중간고사, 기말고사 성적 합치기"
   ]
  },
  {
   "cell_type": "code",
   "execution_count": 18,
   "metadata": {
    "colab": {
     "base_uri": "https://localhost:8080/",
     "height": 228
    },
    "colab_type": "code",
    "executionInfo": {
     "elapsed": 375,
     "status": "ok",
     "timestamp": 1551671291404,
     "user": {
      "displayName": "최선열",
      "photoUrl": "",
      "userId": "00663027191814710813"
     },
     "user_tz": -540
    },
    "id": "WrSWb4HgO6Rf",
    "outputId": "08a25e9e-2e34-4884-b203-7536c019feac",
    "scrolled": false
   },
   "outputs": [
    {
     "name": "stdout",
     "output_type": "stream",
     "text": [
      "(2, 6, 5)\n"
     ]
    },
    {
     "data": {
      "text/plain": [
       "array([[[80, 92, 70, 65, 92],\n",
       "        [91, 75, 90, 68, 85],\n",
       "        [86, 76, 42, 72, 88],\n",
       "        [77, 92, 52, 60, 80],\n",
       "        [75, 85, 85, 92, 95],\n",
       "        [96, 90, 95, 81, 72]],\n",
       "\n",
       "       [[85, 95, 90, 66, 93],\n",
       "        [93, 70, 80, 60, 81],\n",
       "        [89, 78, 55, 75, 80],\n",
       "        [80, 94, 59, 72, 90],\n",
       "        [70, 82, 81, 95, 72],\n",
       "        [90, 76, 93, 82, 89]]])"
      ]
     },
     "execution_count": 18,
     "metadata": {},
     "output_type": "execute_result"
    }
   ],
   "source": [
    "scores = np.stack([midterm_scores,final_scores])\n",
    "print(scores.shape)\n",
    "scores"
   ]
  },
  {
   "cell_type": "markdown",
   "metadata": {
    "colab_type": "text",
    "id": "KALm-dei5SbX"
   },
   "source": [
    "stack된 (2, 6, 5) shape의 의미는 아래와 같습니다. \n",
    "\n",
    "- 2 : axis = 0 : 시험 기간(중간고사, 기말고사)\n",
    "- 6 : axis = 1 : 여섯명의 학생\n",
    "- 5 : axis = 2 : 다섯개의 과목"
   ]
  },
  {
   "cell_type": "markdown",
   "metadata": {},
   "source": [
    "### (7) np.all()\n",
    "`.all()`메서드는 구성 원소가 **모두** True 일때만 True를 반환하고 하나라도 False가 있으면 False를 반환합니다.  "
   ]
  },
  {
   "cell_type": "markdown",
   "metadata": {},
   "source": [
    "#### 중간고사와 기말고사 영어성적이 모두 90점 이상인 학생"
   ]
  },
  {
   "cell_type": "markdown",
   "metadata": {},
   "source": [
    "**시험기간**을 기준으로 집계하기 위해 `.all()`의 `axis`인자로 0을 설정합니다. "
   ]
  },
  {
   "cell_type": "code",
   "execution_count": 19,
   "metadata": {
    "scrolled": false
   },
   "outputs": [
    {
     "data": {
      "text/plain": [
       "array([ True, False, False,  True, False, False])"
      ]
     },
     "execution_count": 19,
     "metadata": {},
     "output_type": "execute_result"
    }
   ],
   "source": [
    "np.all(scores[:,:,1]>=90, axis=0)"
   ]
  },
  {
   "cell_type": "markdown",
   "metadata": {},
   "source": [
    "0번과 4번 학생만 두 시험에서 영어 성적이 모두 90점 이상인 것을 확인할 수 있습니다."
   ]
  },
  {
   "cell_type": "markdown",
   "metadata": {},
   "source": [
    "### (8) np.any()\n",
    "`np.any`메서드는 구성 원소 중 **하나라도** True가 있으면 True를 반환합니다.  \n",
    "Array 간 비교 시 원소가 **모두 달라야 False를**, 원소가 하나라도 같으면 True를 반환합니다.  "
   ]
  },
  {
   "cell_type": "markdown",
   "metadata": {},
   "source": [
    "#### 중간고사, 기말고사의 수학 점수가 하나라도 50점 이하인 학생"
   ]
  },
  {
   "cell_type": "markdown",
   "metadata": {},
   "source": [
    "위 결과를 가지고 중간고사와 기말고사 성적 둘 중 하나라도 True이면 True를 반환한 결과를 얻으려면 `axis = 0`으로 설정합니다. "
   ]
  },
  {
   "cell_type": "code",
   "execution_count": 20,
   "metadata": {},
   "outputs": [
    {
     "data": {
      "text/plain": [
       "array([False, False,  True, False, False, False])"
      ]
     },
     "execution_count": 20,
     "metadata": {},
     "output_type": "execute_result"
    }
   ],
   "source": [
    "np.any(scores[:,:,2]<=50, axis=0)"
   ]
  },
  {
   "cell_type": "markdown",
   "metadata": {},
   "source": [
    "2번 학생은 두 시험중 한 시험에서 성적이 50점 이하였음을 확인할 수 있습니다."
   ]
  },
  {
   "cell_type": "markdown",
   "metadata": {},
   "source": [
    "### (9) np.unique()\n",
    "\n",
    "`.unique()` 메서드는 입력된 Array에서 **중복되지 않는 유일한 요소**들의 numpy array를 정렬하여 반환합니다.  "
   ]
  },
  {
   "cell_type": "markdown",
   "metadata": {},
   "source": [
    "#### 유일한 성적 집계"
   ]
  },
  {
   "cell_type": "code",
   "execution_count": 21,
   "metadata": {},
   "outputs": [
    {
     "data": {
      "text/plain": [
       "array([42, 52, 55, 59, 60, 65, 66, 68, 70, 72, 75, 76, 77, 78, 80, 81, 82,\n",
       "       85, 86, 88, 89, 90, 91, 92, 93, 94, 95, 96])"
      ]
     },
     "execution_count": 21,
     "metadata": {},
     "output_type": "execute_result"
    }
   ],
   "source": [
    "np.unique(scores)"
   ]
  },
  {
   "cell_type": "markdown",
   "metadata": {},
   "source": [
    "중복되지 않는 유일한 성적을 반환함을 확인할 수 있습니다."
   ]
  }
 ],
 "metadata": {
  "colab": {
   "collapsed_sections": [
    "XzOYIly96fZn",
    "1Lb6sq6L6fZ4",
    "7Qowol7x6faA",
    "Hxnh5Yvg6faG",
    "zvt7nCHK6faP",
    "_VcyWRIx6fab",
    "BqcYHBNU6fah",
    "Ks-hV83Z6fam",
    "-oroqwidwX5I",
    "QG7lgJ7E6fa4",
    "O7etXWmWc7m6",
    "p5lAsUmy6fa8",
    "G_udISnL6fbA",
    "FD0Ci35W6fbJ",
    "rIgrt0Sw6fbN",
    "0cy_BTx66fbX",
    "ieQ2RBV06fbb"
   ],
   "name": "4_Numpy의 주요함수들(1).ipynb",
   "provenance": [],
   "toc_visible": true,
   "version": "0.3.2"
  },
  "kernelspec": {
   "display_name": "Python 3",
   "language": "python",
   "name": "python3"
  },
  "language_info": {
   "codemirror_mode": {
    "name": "ipython",
    "version": 3
   },
   "file_extension": ".py",
   "mimetype": "text/x-python",
   "name": "python",
   "nbconvert_exporter": "python",
   "pygments_lexer": "ipython3",
   "version": "3.8.3"
  },
  "toc": {
   "base_numbering": 1,
   "nav_menu": {},
   "number_sections": false,
   "sideBar": true,
   "skip_h1_title": false,
   "title_cell": "Table of Contents",
   "title_sidebar": "Contents",
   "toc_cell": false,
   "toc_position": {
    "height": "calc(100% - 180px)",
    "left": "10px",
    "top": "150px",
    "width": "315.819px"
   },
   "toc_section_display": true,
   "toc_window_display": false
  }
 },
 "nbformat": 4,
 "nbformat_minor": 2
}
