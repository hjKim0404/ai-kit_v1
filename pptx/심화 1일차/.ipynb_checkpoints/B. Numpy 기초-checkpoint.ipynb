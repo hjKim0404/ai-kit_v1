{
 "cells": [
  {
   "cell_type": "markdown",
   "metadata": {
    "colab_type": "text",
    "id": "tC2Ek5GX41JS"
   },
   "source": [
    "# B. Numpy 개요\n",
    "\n",
    "**Numpy**는 Python을 대표하는 패키지 중 하나로, 다차원의 데이터를 효율적으로 다루게 해주는 패키지입니다.  \n",
    "Numpy에서의 Array는 **수를 다루기 위한 자료구조**로, list보다 데이터 처리를 훨씬 빠르고 효율적으로 할 수 있습니다.  \n",
    "이번 Section에서는 Numpy를 이용해 효율적으로 데이터를 처리하는 방법을 살펴보겠습니다. \n",
    "\n",
    "### _Objective_\n",
    "1. **Numpy 불러오기** : Numpy 패키지를 불러와서 활용하는 방법을 배웁니다. \n",
    "2. **List와 Numpy Array 비교하기** : Numpy array를 이용한 인덱싱, 집계연산, 요소별 연산 등의 사례를 살펴봅니다."
   ]
  },
  {
   "cell_type": "markdown",
   "metadata": {},
   "source": [
    "# \\[ 1. Numpy 불러오기\\]\n",
    "\n",
    "Numpy를 쓰기 위해서는 Numpy패키지를 호출해야 합니다. "
   ]
  },
  {
   "cell_type": "code",
   "execution_count": 1,
   "metadata": {
    "colab": {},
    "colab_type": "code",
    "id": "8haRCcip41JT"
   },
   "outputs": [],
   "source": [
    "import numpy as np"
   ]
  },
  {
   "cell_type": "markdown",
   "metadata": {},
   "source": [
    "`np.array()`를 이용하면 list 로 만들어진 자료 구조를 Numpy Array로 바꾸어 생성할 수 있습니다. "
   ]
  },
  {
   "cell_type": "code",
   "execution_count": 2,
   "metadata": {},
   "outputs": [
    {
     "name": "stdout",
     "output_type": "stream",
     "text": [
      "<class 'numpy.ndarray'>\n"
     ]
    }
   ],
   "source": [
    "np_array = np.array([10, 12])\n",
    "print(type(np_array))"
   ]
  },
  {
   "cell_type": "markdown",
   "metadata": {
    "colab_type": "text",
    "id": "7t4m-iaH41JY"
   },
   "source": [
    "### 예제 데이터 ) **학생들의 중간고사 성적표**\n",
    "\n",
    "학생들의 성적표를 List와 Numpy로 각각 저장하여 동일한 작업을 할 때 어떻게 다르게 작동하는지 살펴보겠습니다.<br>\n",
    "\n",
    "\n",
    "| 학생 번호 | 과학 | 영어 | 수학 | \n",
    "|  ----   | --- |---| --- |\n",
    "|0 |80 |92 |70 |\n",
    "|1 |91 |75 |90|\n",
    "|2 |86 |76 |42 |\n",
    "|3 |77 |92 |52 |\n",
    "|4 |75 |85 |85 | \n",
    "|5 |96 |90 |95 |"
   ]
  },
  {
   "cell_type": "markdown",
   "metadata": {
    "colab_type": "text",
    "id": "RnsbqM5U41JZ"
   },
   "source": [
    "비교를 위해 우선 위의 성적표를 list와 Numpy Array로 정리해야 합니다.  \n",
    "6명의 성적표는 학생 별로 성적을 묶어서 아래와 같이 정의할 수 있습니다."
   ]
  },
  {
   "cell_type": "code",
   "execution_count": 3,
   "metadata": {
    "colab": {},
    "colab_type": "code",
    "id": "Y3HMTSxm41JZ"
   },
   "outputs": [],
   "source": [
    "# list로 표현된 학생들의 성적표\n",
    "scores_list = [\n",
    "    [80, 92, 70],\n",
    "    [91, 75, 90],\n",
    "    [86, 96, 42],\n",
    "    [77, 92, 52],\n",
    "    [75, 85, 85],\n",
    "    [96, 90, 95]\n",
    "]\n",
    "\n",
    "# np.array로 표현된 학생들의 성적\n",
    "scores_np = np.array([\n",
    "    [80, 92, 70],\n",
    "    [91, 75, 90],\n",
    "    [86, 96, 42],\n",
    "    [77, 92, 52],\n",
    "    [75, 85, 85],\n",
    "    [96, 90, 95]\n",
    "])"
   ]
  },
  {
   "cell_type": "markdown",
   "metadata": {},
   "source": [
    "<hr>\n",
    "\n",
    "# \\[ 2. List와 Numpy Array 비교하기\\]\n",
    "\n",
    "현재 까지는 Numpy Array는 list와 매우 유사해 보입니다.  \n",
    "- **인덱스로 원하는 요소 가져오기**\n",
    "- **집계 연산하기**\n",
    "- **요소별 연산하기** \n",
    "\n",
    "등의 기본적인 기능이 작동하는 방식을 list와 비교해 보면서 Numpy의 필요성을 이해해 봅시다. "
   ]
  },
  {
   "cell_type": "markdown",
   "metadata": {
    "colab_type": "text",
    "id": "3VYICmUI7E9c"
   },
   "source": [
    "## 1. 인덱싱 방법 비교\n",
    "- List와 Numpy Array의 인덱싱을 비교하며 그 차이를 살펴봅시다."
   ]
  },
  {
   "cell_type": "markdown",
   "metadata": {
    "colab_type": "text",
    "id": "XQM8v73N41Jc"
   },
   "source": [
    "### (1) 1번 학생의 성적"
   ]
  },
  {
   "cell_type": "markdown",
   "metadata": {
    "colab_type": "text",
    "id": "oJf4KsCV41Jd"
   },
   "source": [
    "#### `list`"
   ]
  },
  {
   "cell_type": "code",
   "execution_count": 4,
   "metadata": {
    "colab": {
     "base_uri": "https://localhost:8080/",
     "height": 33
    },
    "colab_type": "code",
    "executionInfo": {
     "elapsed": 607,
     "status": "ok",
     "timestamp": 1551239237409,
     "user": {
      "displayName": "최선열",
      "photoUrl": "",
      "userId": "00663027191814710813"
     },
     "user_tz": -540
    },
    "id": "wyueDBad41Je",
    "outputId": "12c030c3-9cb7-4ef5-ac3f-086574aed1ab"
   },
   "outputs": [
    {
     "data": {
      "text/plain": [
       "[80, 92, 70]"
      ]
     },
     "execution_count": 4,
     "metadata": {},
     "output_type": "execute_result"
    }
   ],
   "source": [
    "scores_list[0]"
   ]
  },
  {
   "cell_type": "markdown",
   "metadata": {
    "colab_type": "text",
    "id": "mwMxpCpK41Jj"
   },
   "source": [
    "#### `np.array`"
   ]
  },
  {
   "cell_type": "code",
   "execution_count": 5,
   "metadata": {
    "colab": {
     "base_uri": "https://localhost:8080/",
     "height": 33
    },
    "colab_type": "code",
    "executionInfo": {
     "elapsed": 607,
     "status": "ok",
     "timestamp": 1551239240818,
     "user": {
      "displayName": "최선열",
      "photoUrl": "",
      "userId": "00663027191814710813"
     },
     "user_tz": -540
    },
    "id": "d71cywer41Jk",
    "outputId": "1017b98c-840f-4c9a-a7c5-b4ac9596009b"
   },
   "outputs": [
    {
     "data": {
      "text/plain": [
       "array([80, 92, 70])"
      ]
     },
     "execution_count": 5,
     "metadata": {},
     "output_type": "execute_result"
    }
   ],
   "source": [
    "scores_np[0]"
   ]
  },
  {
   "cell_type": "markdown",
   "metadata": {
    "colab_type": "text",
    "id": "-qeQzOx941Jn"
   },
   "source": [
    "### (2) 1번부터 3번까지의 학생 성적"
   ]
  },
  {
   "cell_type": "markdown",
   "metadata": {
    "colab_type": "text",
    "id": "gaLXVhQY41Jo"
   },
   "source": [
    "#### `list`"
   ]
  },
  {
   "cell_type": "code",
   "execution_count": 6,
   "metadata": {
    "colab": {
     "base_uri": "https://localhost:8080/",
     "height": 33
    },
    "colab_type": "code",
    "executionInfo": {
     "elapsed": 561,
     "status": "ok",
     "timestamp": 1551679671185,
     "user": {
      "displayName": "최선열",
      "photoUrl": "",
      "userId": "00663027191814710813"
     },
     "user_tz": -540
    },
    "id": "rkO3x4ut41Jp",
    "outputId": "1c7edbd7-f5dd-4d85-c1a1-4fb67f5633cd"
   },
   "outputs": [
    {
     "data": {
      "text/plain": [
       "[[91, 75, 90], [86, 96, 42], [77, 92, 52]]"
      ]
     },
     "execution_count": 6,
     "metadata": {},
     "output_type": "execute_result"
    }
   ],
   "source": [
    "scores_list[1:4]"
   ]
  },
  {
   "cell_type": "markdown",
   "metadata": {
    "colab_type": "text",
    "id": "Sy-RQUx541Js"
   },
   "source": [
    "#### `np.array`"
   ]
  },
  {
   "cell_type": "code",
   "execution_count": 7,
   "metadata": {
    "colab": {
     "base_uri": "https://localhost:8080/",
     "height": 66
    },
    "colab_type": "code",
    "executionInfo": {
     "elapsed": 657,
     "status": "ok",
     "timestamp": 1551240357902,
     "user": {
      "displayName": "최선열",
      "photoUrl": "",
      "userId": "00663027191814710813"
     },
     "user_tz": -540
    },
    "id": "FrcfLudV41Jt",
    "outputId": "db64737e-c9d6-458f-d45e-eb65f670aa95"
   },
   "outputs": [
    {
     "data": {
      "text/plain": [
       "array([[91, 75, 90],\n",
       "       [86, 96, 42],\n",
       "       [77, 92, 52]])"
      ]
     },
     "execution_count": 7,
     "metadata": {},
     "output_type": "execute_result"
    }
   ],
   "source": [
    "scores_np[1:4]"
   ]
  },
  {
   "cell_type": "markdown",
   "metadata": {
    "colab_type": "text",
    "id": "oA8PiL6w41Jw"
   },
   "source": [
    "### (3) 0, 4, 5번 학생 성적 가져오기\n",
    "여기까지는 Numpy Array와 list의 차이가 거의 보이질 않습니다.  \n",
    "**행 단위**(이 경우 학생 단위)의 개별 인덱싱이나 범위 인덱싱 방법은 거의 유사한 걸 확인했습니다.  \n",
    "이번에는 **특정** 학생들의 성적을 가져와봅시다. "
   ]
  },
  {
   "cell_type": "markdown",
   "metadata": {
    "colab_type": "text",
    "id": "0fzk_7_Q41Jx"
   },
   "source": [
    "#### `list`"
   ]
  },
  {
   "cell_type": "code",
   "execution_count": 8,
   "metadata": {
    "colab": {},
    "colab_type": "code",
    "id": "Xtg2kX1W41Jx",
    "scrolled": true
   },
   "outputs": [
    {
     "ename": "TypeError",
     "evalue": "list indices must be integers or slices, not list",
     "output_type": "error",
     "traceback": [
      "\u001b[1;31m---------------------------------------------------------------------------\u001b[0m",
      "\u001b[1;31mTypeError\u001b[0m                                 Traceback (most recent call last)",
      "\u001b[1;32m<ipython-input-8-4701598b98c9>\u001b[0m in \u001b[0;36m<module>\u001b[1;34m\u001b[0m\n\u001b[1;32m----> 1\u001b[1;33m \u001b[0mscores_list\u001b[0m\u001b[1;33m[\u001b[0m\u001b[1;33m[\u001b[0m\u001b[1;36m0\u001b[0m\u001b[1;33m,\u001b[0m\u001b[1;36m4\u001b[0m\u001b[1;33m,\u001b[0m\u001b[1;36m5\u001b[0m\u001b[1;33m]\u001b[0m\u001b[1;33m]\u001b[0m \u001b[1;31m# 불가능\u001b[0m\u001b[1;33m\u001b[0m\u001b[1;33m\u001b[0m\u001b[0m\n\u001b[0m",
      "\u001b[1;31mTypeError\u001b[0m: list indices must be integers or slices, not list"
     ]
    }
   ],
   "source": [
    "scores_list[[0,4,5]] # 불가능"
   ]
  },
  {
   "cell_type": "markdown",
   "metadata": {
    "colab_type": "text",
    "id": "SI8gOXuF41J2"
   },
   "source": [
    "위와 같은 방법으로는 불가능하고, 리스트에서 개별 인덱싱을 하여 각 학생의 성적을 가져온 후 이를 list로 합쳐야 합니다.  "
   ]
  },
  {
   "cell_type": "code",
   "execution_count": 9,
   "metadata": {
    "colab": {},
    "colab_type": "code",
    "id": "wm6TPrqx41J2",
    "outputId": "cef42149-bc76-4479-f743-ac818efbf405"
   },
   "outputs": [
    {
     "data": {
      "text/plain": [
       "[[80, 92, 70], [75, 85, 85], [96, 90, 95]]"
      ]
     },
     "execution_count": 9,
     "metadata": {},
     "output_type": "execute_result"
    }
   ],
   "source": [
    "[scores_list[0],scores_list[4],scores_list[5]]"
   ]
  },
  {
   "cell_type": "markdown",
   "metadata": {
    "colab_type": "text",
    "id": "CeSDL1Bi41J5"
   },
   "source": [
    "#### `np.array`\n",
    "한편, Numpy Array에서는 간단하게 **인덱스 리스트를 만들어** 기존의 Numpy Array에서 여러 행(이 경우 0, 4, 5번 학생들)의 성적을 가져올 수 있습니다. "
   ]
  },
  {
   "cell_type": "code",
   "execution_count": 10,
   "metadata": {
    "colab": {},
    "colab_type": "code",
    "id": "pvLsMgqY41J6",
    "outputId": "9a1dfcfe-e964-43d6-83a0-1ba638992f6c"
   },
   "outputs": [
    {
     "data": {
      "text/plain": [
       "array([[80, 92, 70],\n",
       "       [75, 85, 85],\n",
       "       [96, 90, 95]])"
      ]
     },
     "execution_count": 10,
     "metadata": {},
     "output_type": "execute_result"
    }
   ],
   "source": [
    "scores_np[[0,4,5]] # 훨씬 더 간단하게 가져올 수 있음"
   ]
  },
  {
   "cell_type": "markdown",
   "metadata": {
    "colab_type": "text",
    "id": "YjG0UpEI41J9"
   },
   "source": [
    "### (4) 모든 학생들의 과학 성적\n",
    "행 단위의 인덱싱을 살펴보았으니 이번에는 열 단위 인덱싱이 어떻게 되는지 살펴볼까요? 위의 성적 데이터에서 각 열은 과목을 나타냅니다. 역사 과목의 전체 성적을 가져와봅시다. "
   ]
  },
  {
   "cell_type": "markdown",
   "metadata": {
    "colab_type": "text",
    "id": "nhtvxKlm41J-"
   },
   "source": [
    "#### `list`"
   ]
  },
  {
   "cell_type": "markdown",
   "metadata": {},
   "source": [
    "list를 사용할 경우, 각 학생의 성적에 접근하여 0번째 과목인 과학의 성적을 가져와야 합니다.  \n",
    "과학 성적을 모아 담을 `language_scores` 라는 빈 list 를 만든 후 `순회문`을 통해 각 학생의 과학 성적을 추가합니다."
   ]
  },
  {
   "cell_type": "code",
   "execution_count": 11,
   "metadata": {
    "colab": {},
    "colab_type": "code",
    "id": "rQBnNQCN41J_",
    "outputId": "d13a3cf4-9874-46c5-93c5-5cd52f64a4e9"
   },
   "outputs": [
    {
     "name": "stdout",
     "output_type": "stream",
     "text": [
      "전체 학생의 과학 성적 = [80, 91, 86, 77, 75, 96]\n"
     ]
    }
   ],
   "source": [
    "science_scores = [] # 역사 성적을 모아 담을 리스트\n",
    "\n",
    "for student_number, score in enumerate(scores_list):\n",
    "    science_scores.append(score[0])\n",
    "\n",
    "print('전체 학생의 과학 성적 =', science_scores)"
   ]
  },
  {
   "cell_type": "markdown",
   "metadata": {
    "colab_type": "text",
    "id": "2h3FJIMf41KE"
   },
   "source": [
    "#### `np.array`"
   ]
  },
  {
   "cell_type": "markdown",
   "metadata": {},
   "source": [
    "Numpy의 경우 `[]`안에 **학생(행)을 인덱싱하는 첫번째 자리**에는 전체 학생을 의미하는 `:`를 입력하고,  \n",
    "**과목(열)을 가져오는 두 번째 자리**에는 과학 과목의 인덱스인 0을 입력합니다.  \n",
    "이렇게 하면 전체 학생의 **과학 성적 리스트**를 손쉽게 가져올 수 있습니다. "
   ]
  },
  {
   "cell_type": "code",
   "execution_count": 12,
   "metadata": {
    "colab": {},
    "colab_type": "code",
    "id": "V3TLDygh41KF",
    "outputId": "9997928c-90b6-4f14-bd2b-da55e57c33d0"
   },
   "outputs": [
    {
     "data": {
      "text/plain": [
       "array([80, 91, 86, 77, 75, 96])"
      ]
     },
     "execution_count": 12,
     "metadata": {},
     "output_type": "execute_result"
    }
   ],
   "source": [
    "scores_np[:,0] "
   ]
  },
  {
   "cell_type": "markdown",
   "metadata": {
    "colab_type": "text",
    "id": "P6hah_RL7tsr"
   },
   "source": [
    "## 2. 집계연산 비교\n",
    "- List와 Numpy Array로 구현된 데이터의 집계연산 코드를 비교해 보겠습니다."
   ]
  },
  {
   "cell_type": "markdown",
   "metadata": {
    "colab_type": "text",
    "id": "WclA6xCo41KL"
   },
   "source": [
    "### (1) 학생별 전 과목 점수 총합"
   ]
  },
  {
   "cell_type": "markdown",
   "metadata": {
    "colab_type": "text",
    "id": "gV8RlNjy41KN"
   },
   "source": [
    "#### `list`"
   ]
  },
  {
   "cell_type": "markdown",
   "metadata": {},
   "source": [
    "list는 각 학생의 성적을 가져와 각 학생의 성적 총합을 구하여 점수 총합 리스트에 추가해야 합니다. "
   ]
  },
  {
   "cell_type": "code",
   "execution_count": 13,
   "metadata": {
    "colab": {
     "base_uri": "https://localhost:8080/",
     "height": 33
    },
    "colab_type": "code",
    "executionInfo": {
     "elapsed": 604,
     "status": "ok",
     "timestamp": 1551680921249,
     "user": {
      "displayName": "최선열",
      "photoUrl": "",
      "userId": "00663027191814710813"
     },
     "user_tz": -540
    },
    "id": "ZrM8ejyX41KO",
    "outputId": "0fee3abe-7754-4dce-d21f-0d3b67207394"
   },
   "outputs": [
    {
     "data": {
      "text/plain": [
       "[242, 256, 224, 221, 245, 281]"
      ]
     },
     "execution_count": 13,
     "metadata": {},
     "output_type": "execute_result"
    }
   ],
   "source": [
    "total_scores = [] # 각 학생의 성적 총합을 모아 담을 리스트\n",
    "\n",
    "for score in scores_list:\n",
    "    total_score = sum(score) # 각 학생의 성적 리스트 내 원소들의 총합 더하기\n",
    "    total_scores.append(total_score) \n",
    "    \n",
    "total_scores"
   ]
  },
  {
   "cell_type": "markdown",
   "metadata": {
    "colab_type": "text",
    "id": "cuICBqHQ41KR"
   },
   "source": [
    "#### `np.array`\n",
    "한편, Numpy에서는 한 줄 코드로 각 학생의 성적 총합을 구할 수 있습니다. "
   ]
  },
  {
   "cell_type": "code",
   "execution_count": 14,
   "metadata": {
    "colab": {
     "base_uri": "https://localhost:8080/",
     "height": 33
    },
    "colab_type": "code",
    "executionInfo": {
     "elapsed": 366,
     "status": "ok",
     "timestamp": 1551680921532,
     "user": {
      "displayName": "최선열",
      "photoUrl": "",
      "userId": "00663027191814710813"
     },
     "user_tz": -540
    },
    "id": "cB_spmLn41KR",
    "outputId": "2e1c7d5b-bb59-4362-cff4-ab0b311d2f9b"
   },
   "outputs": [
    {
     "data": {
      "text/plain": [
       "array([242, 256, 224, 221, 245, 281])"
      ]
     },
     "execution_count": 14,
     "metadata": {},
     "output_type": "execute_result"
    }
   ],
   "source": [
    "scores_np.sum(axis=1) # 한줄로 작성할 수 있다."
   ]
  },
  {
   "cell_type": "markdown",
   "metadata": {
    "colab_type": "text",
    "id": "SE6lfxpFHGFf"
   },
   "source": [
    "## 3. 각 원소 별 연산 적용 비교\n",
    "+ 원소 별 연산이란 List나 Array를 구성하는 각각의 **원소 별로** 값을 더하거나 빼는 등의 연산을 말합니다."
   ]
  },
  {
   "cell_type": "markdown",
   "metadata": {
    "colab_type": "text",
    "id": "nPK9uNkf41Kc"
   },
   "source": [
    "### (1) 학생별 성적 감점 표"
   ]
  },
  {
   "cell_type": "markdown",
   "metadata": {
    "colab_type": "text",
    "id": "rpCDFzYT41Kd"
   },
   "source": [
    "#### `list`\n",
    "list에서 각 점수를 100점에서 빼주는 연산을 하려면 순회문을 통해 리스트의 각 원소를 꺼내 연산을 적용한 후  \n",
    "다시 list에 `append`하는 작업을 반복해야 합니다. "
   ]
  },
  {
   "cell_type": "code",
   "execution_count": 15,
   "metadata": {
    "colab": {},
    "colab_type": "code",
    "id": "BulmSv-U41Kd",
    "outputId": "d83c1893-bdc4-433a-b0b8-d46a880c3a87"
   },
   "outputs": [
    {
     "data": {
      "text/plain": [
       "[[20, 8, 30], [9, 25, 10], [14, 4, 58], [23, 8, 48], [25, 15, 15], [4, 10, 5]]"
      ]
     },
     "execution_count": 15,
     "metadata": {},
     "output_type": "execute_result"
    }
   ],
   "source": [
    "miss_scores = []\n",
    "\n",
    "for scores in scores_list:\n",
    "    miss_score = []\n",
    "    for score in scores:\n",
    "        miss = 100-score # 100점 대비 몇점 틀렸는지 계산\n",
    "        miss_score.append(miss)\n",
    "    miss_scores.append(miss_score)\n",
    "miss_scores"
   ]
  },
  {
   "cell_type": "markdown",
   "metadata": {
    "colab_type": "text",
    "id": "je_PNQWT41Kh"
   },
   "source": [
    "#### `np.array`\n",
    "Numpy Array에서는 아래와 같이 100에서 성적표 Array를 빼주면 모든 원소에 대해 `100-점수`라는 연산이 적용됩니다. "
   ]
  },
  {
   "cell_type": "code",
   "execution_count": 16,
   "metadata": {
    "colab": {},
    "colab_type": "code",
    "id": "HamucM7141Kh",
    "outputId": "c0b6a0f7-27a9-4723-dbb3-ea8fe919b22e"
   },
   "outputs": [
    {
     "data": {
      "text/plain": [
       "array([[20,  8, 30],\n",
       "       [ 9, 25, 10],\n",
       "       [14,  4, 58],\n",
       "       [23,  8, 48],\n",
       "       [25, 15, 15],\n",
       "       [ 4, 10,  5]])"
      ]
     },
     "execution_count": 16,
     "metadata": {},
     "output_type": "execute_result"
    }
   ],
   "source": [
    "100 - scores_np"
   ]
  },
  {
   "cell_type": "markdown",
   "metadata": {},
   "source": [
    "이처럼 Numpy Array는 list와 유사하게 생겼지만 다양한 연산을 보다 간단한 코드로 적용할 수 있다는 강점을 가지고 있습니다.  \n",
    "코드 작성에 드는 시간과 노력을 아껴줄 뿐만 아니라 실제 연산이 작동하는 시간 역시 훨씬 빠르기 때문에 대용량 데이터 연산일수록 Numpy가 널리 활용되고 있습니다."
   ]
  }
 ],
 "metadata": {
  "colab": {
   "collapsed_sections": [
    "7t4m-iaH41JY",
    "XQM8v73N41Jc",
    "oJf4KsCV41Jd",
    "mwMxpCpK41Jj",
    "-qeQzOx941Jn",
    "gaLXVhQY41Jo",
    "Sy-RQUx541Js",
    "oA8PiL6w41Jw",
    "0fzk_7_Q41Jx",
    "CeSDL1Bi41J5",
    "YjG0UpEI41J9",
    "nhtvxKlm41J-",
    "2h3FJIMf41KE",
    "WclA6xCo41KL",
    "gV8RlNjy41KN",
    "cuICBqHQ41KR",
    "nZmEqP3h41KU",
    "Xx6FY3za41KU",
    "ChYDn5Fe41KY",
    "nPK9uNkf41Kc",
    "rpCDFzYT41Kd",
    "je_PNQWT41Kh",
    "r3TjL9Bt41Kk",
    "A2y1KKmU41Km",
    "Bsys2oiG41Kp"
   ],
   "name": "1_Numpy의 필요성.ipynb",
   "provenance": [],
   "toc_visible": true,
   "version": "0.3.2"
  },
  "kernelspec": {
   "display_name": "Python 3",
   "language": "python",
   "name": "python3"
  },
  "language_info": {
   "codemirror_mode": {
    "name": "ipython",
    "version": 3
   },
   "file_extension": ".py",
   "mimetype": "text/x-python",
   "name": "python",
   "nbconvert_exporter": "python",
   "pygments_lexer": "ipython3",
   "version": "3.8.3"
  },
  "toc": {
   "base_numbering": 1,
   "nav_menu": {},
   "number_sections": false,
   "sideBar": true,
   "skip_h1_title": false,
   "title_cell": "Table of Contents",
   "title_sidebar": "Contents",
   "toc_cell": false,
   "toc_position": {
    "height": "calc(100% - 180px)",
    "left": "10px",
    "top": "150px",
    "width": "338.841px"
   },
   "toc_section_display": true,
   "toc_window_display": true
  },
  "varInspector": {
   "cols": {
    "lenName": 16,
    "lenType": 16,
    "lenVar": 40
   },
   "kernels_config": {
    "python": {
     "delete_cmd_postfix": "",
     "delete_cmd_prefix": "del ",
     "library": "var_list.py",
     "varRefreshCmd": "print(var_dic_list())"
    },
    "r": {
     "delete_cmd_postfix": ") ",
     "delete_cmd_prefix": "rm(",
     "library": "var_list.r",
     "varRefreshCmd": "cat(var_dic_list()) "
    }
   },
   "types_to_exclude": [
    "module",
    "function",
    "builtin_function_or_method",
    "instance",
    "_Feature"
   ],
   "window_display": false
  }
 },
 "nbformat": 4,
 "nbformat_minor": 2
}
