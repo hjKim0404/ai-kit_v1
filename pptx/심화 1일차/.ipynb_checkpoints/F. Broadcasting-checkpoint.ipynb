{
 "cells": [
  {
   "cell_type": "markdown",
   "metadata": {
    "colab_type": "text",
    "id": "o_fIYu-76fZg"
   },
   "source": [
    "# F. Broadcasting\n",
    "Numpy Array를 다룰 때 차원의 크기가 서로 다른 배열에서도 산술 연산을 해야할 때가 존재합니다.  \n",
    "예를들어 두 배열 간 차원의 크기가 (4, 2), (2, )일 때 두 배열을 산술 연산한다면 (2, )의 배열이 (4, 2) 행렬의 각 행에 대해 원소별 연산을 실행할 수 있습니다.  \n",
    "이번 Section에서는 이러한 Broadcasting원리를 이해하고 학습하겠습니다.\n",
    "\n",
    "\n",
    "### _Objective_\n",
    "1. **Broadcasting** : 차원의 크기가 서로 다른 배열을 연산하기 위한 Broadcasting를 학습"
   ]
  },
  {
   "cell_type": "markdown",
   "metadata": {},
   "source": [
    "## 1. Broadcasting\n",
    "브로드캐스팅이란 Numpy 배열에서 차원의 크기가 서로 다른 배열에서도 산술 연산을 가능하게 하는 원리입니다.\n",
    "\n",
    "브로드캐스팅 기능:\n",
    "- 두 배열의 차원(ndim)이 같지 않다면 차원이 **더 낮은 배열이** 차원이 더 높은 배열과 **같은 차원의 배열로 인식**됩니다.\n",
    "- 크기가 다른 두 배열의 **연산 결과는 배열 중 차원의 수(ndim)가 큰 배열**이 됩니다."
   ]
  },
  {
   "cell_type": "code",
   "execution_count": 1,
   "metadata": {
    "collapsed": true
   },
   "outputs": [],
   "source": [
    "import numpy as np"
   ]
  },
  {
   "cell_type": "markdown",
   "metadata": {},
   "source": [
    "### (1) Broadcasting 예제"
   ]
  },
  {
   "cell_type": "markdown",
   "metadata": {},
   "source": [
    "<Example 1> <img src='https://imgur.com/Q5DLh1m.jpg' align=left />"
   ]
  },
  {
   "cell_type": "markdown",
   "metadata": {},
   "source": [
    "위 그림은 `[0, 1, 2]`로 구성된 Numpy Array와 Scalar값 5와의 연산을 보여줍니다.  \n",
    "브로드캐스팅에 의해 scalar값 `5`를 마치 `[5, 5, 5]`인 것처럼 변환되어 연산 결과를 반환하게 됩니다."
   ]
  },
  {
   "cell_type": "code",
   "execution_count": 2,
   "metadata": {},
   "outputs": [
    {
     "data": {
      "text/plain": [
       "array([0, 1, 2])"
      ]
     },
     "execution_count": 2,
     "metadata": {},
     "output_type": "execute_result"
    }
   ],
   "source": [
    "A = np.arange(3)\n",
    "A"
   ]
  },
  {
   "cell_type": "code",
   "execution_count": 3,
   "metadata": {
    "scrolled": true
   },
   "outputs": [
    {
     "data": {
      "text/plain": [
       "array([5, 6, 7])"
      ]
     },
     "execution_count": 3,
     "metadata": {},
     "output_type": "execute_result"
    }
   ],
   "source": [
    "A + 5"
   ]
  },
  {
   "cell_type": "markdown",
   "metadata": {},
   "source": [
    "A array에 각각 스칼라값 5가 덧셈 연산된 것을 확인할 수 있습니다."
   ]
  },
  {
   "cell_type": "markdown",
   "metadata": {},
   "source": [
    "<Example 2> <img src='https://imgur.com/vRwGp0E.jpg' align=left />"
   ]
  },
  {
   "cell_type": "markdown",
   "metadata": {},
   "source": [
    "두 번째 예시는 `[0, 1, 2]`를 크기가 더 큰 \n",
    "> `[[1, 1, 1],` <br>\n",
    "&nbsp;&nbsp;`[1, 1, 1],` <br>\n",
    "&nbsp;&nbsp;`[1, 1, 1]]` \n",
    "\n",
    "의 **형태에 맞춰**  \n",
    "> `[[0, 1, 2],` <br>\n",
    "&nbsp;&nbsp;`[0, 1, 2],` <br>\n",
    "&nbsp;&nbsp;`[0, 1, 2]]` \n",
    "\n",
    "로 변환되어 연산이 진행됩니다."
   ]
  },
  {
   "cell_type": "code",
   "execution_count": 4,
   "metadata": {},
   "outputs": [
    {
     "name": "stdout",
     "output_type": "stream",
     "text": [
      "(3, 3)\n"
     ]
    },
    {
     "data": {
      "text/plain": [
       "array([[1., 1., 1.],\n",
       "       [1., 1., 1.],\n",
       "       [1., 1., 1.]])"
      ]
     },
     "execution_count": 4,
     "metadata": {},
     "output_type": "execute_result"
    }
   ],
   "source": [
    "A = np.ones((3,3))\n",
    "print(A.shape)\n",
    "A"
   ]
  },
  {
   "cell_type": "code",
   "execution_count": 5,
   "metadata": {},
   "outputs": [
    {
     "name": "stdout",
     "output_type": "stream",
     "text": [
      "(3,)\n"
     ]
    },
    {
     "data": {
      "text/plain": [
       "array([0, 1, 2])"
      ]
     },
     "execution_count": 5,
     "metadata": {},
     "output_type": "execute_result"
    }
   ],
   "source": [
    "B = np.arange(3)\n",
    "print(B.shape)\n",
    "B"
   ]
  },
  {
   "cell_type": "code",
   "execution_count": 6,
   "metadata": {
    "scrolled": false
   },
   "outputs": [
    {
     "data": {
      "text/plain": [
       "array([[1., 2., 3.],\n",
       "       [1., 2., 3.],\n",
       "       [1., 2., 3.]])"
      ]
     },
     "execution_count": 6,
     "metadata": {},
     "output_type": "execute_result"
    }
   ],
   "source": [
    "A + B"
   ]
  },
  {
   "cell_type": "markdown",
   "metadata": {},
   "source": [
    "크기가 작은 B가 A의 형태에 맞춰 연산된 것을 확인할 수 있습니다."
   ]
  },
  {
   "cell_type": "markdown",
   "metadata": {},
   "source": [
    "<Example 3> <img src='https://imgur.com/Uy0BPLN.jpg' align=left />"
   ]
  },
  {
   "cell_type": "markdown",
   "metadata": {},
   "source": [
    "세 번째 예시는 `[[0], [1], [2]]`에 `[0,1,2]`를 더하는 경우입니다. 각각을 Numpy Array로 만들면 아래와 같습니다. "
   ]
  },
  {
   "cell_type": "markdown",
   "metadata": {},
   "source": [
    "np.arange(3)의 A array는 1차원 행렬입니다.  "
   ]
  },
  {
   "cell_type": "code",
   "execution_count": 7,
   "metadata": {
    "collapsed": true
   },
   "outputs": [],
   "source": [
    "A = np.arange(3).reshape((3,1))\n",
    "B = np.arange(3)"
   ]
  },
  {
   "cell_type": "code",
   "execution_count": 8,
   "metadata": {
    "scrolled": true
   },
   "outputs": [
    {
     "name": "stdout",
     "output_type": "stream",
     "text": [
      "(3, 1)\n"
     ]
    },
    {
     "data": {
      "text/plain": [
       "array([[0],\n",
       "       [1],\n",
       "       [2]])"
      ]
     },
     "execution_count": 8,
     "metadata": {},
     "output_type": "execute_result"
    }
   ],
   "source": [
    "print(A.shape)\n",
    "A"
   ]
  },
  {
   "cell_type": "code",
   "execution_count": 9,
   "metadata": {
    "scrolled": false
   },
   "outputs": [
    {
     "name": "stdout",
     "output_type": "stream",
     "text": [
      "(3,)\n"
     ]
    },
    {
     "data": {
      "text/plain": [
       "array([0, 1, 2])"
      ]
     },
     "execution_count": 9,
     "metadata": {},
     "output_type": "execute_result"
    }
   ],
   "source": [
    "print(B.shape)\n",
    "B"
   ]
  },
  {
   "cell_type": "code",
   "execution_count": 10,
   "metadata": {
    "scrolled": true
   },
   "outputs": [
    {
     "name": "stdout",
     "output_type": "stream",
     "text": [
      "A.ndim 2\n",
      "B.ndim 1\n"
     ]
    }
   ],
   "source": [
    "print('A.ndim', A.ndim)\n",
    "print('B.ndim', B.ndim)"
   ]
  },
  {
   "cell_type": "markdown",
   "metadata": {},
   "source": [
    "`A`의 shape은 `(3,1)`이고 `B`의 shape은 `(3,)`입니다. 여기서는 A의 차원이 2차원으로 더 높으므로 A에 맞춰서 B의 차원을 늘립니다."
   ]
  },
  {
   "cell_type": "markdown",
   "metadata": {},
   "source": [
    "그럼 B의 shape은 `(3,)`에서 무엇으로 변환될까요?  \n",
    "차원을 늘려야 하는 Array는 shape의 축 별 원소 수를 오른쪽으로 하나씩 밀어내고, 축을 추가합니다.  \n",
    "즉 `(3,)`에서 옆으로 한 칸 밀려 `(1,3)`형태로 확장됩니다.   \n",
    "이제 각 축의 원소 수를 비교하여 **큰 값으로 최종 결과물의 shape이 결정**됩니다.  \n",
    "B는 `(3, 1)`이고 A는 `(1,3)`의 형태가 되었으므로, 결과는 `(3,3)`의 형태가 될 것입니다.\n",
    "확인해보겠습니다."
   ]
  },
  {
   "cell_type": "code",
   "execution_count": 11,
   "metadata": {},
   "outputs": [
    {
     "data": {
      "text/plain": [
       "array([[0, 1, 2],\n",
       "       [1, 2, 3],\n",
       "       [2, 3, 4]])"
      ]
     },
     "execution_count": 11,
     "metadata": {},
     "output_type": "execute_result"
    }
   ],
   "source": [
    "result = A + B\n",
    "result"
   ]
  },
  {
   "cell_type": "code",
   "execution_count": 12,
   "metadata": {
    "scrolled": true
   },
   "outputs": [
    {
     "data": {
      "text/plain": [
       "(3, 3)"
      ]
     },
     "execution_count": 12,
     "metadata": {},
     "output_type": "execute_result"
    }
   ],
   "source": [
    "result.shape"
   ]
  },
  {
   "cell_type": "markdown",
   "metadata": {},
   "source": [
    "### (2) Rules of Broadcasting"
   ]
  },
  {
   "cell_type": "markdown",
   "metadata": {},
   "source": [
    "이처럼 Numpy는 입력하는 데이터의 크기나 차원이 서로 달라도 정해진 규칙에 따라 Array를 확장하여 연산을 실행합니다.  \n",
    "Numpy의 Braodcasting 원칙을 정리하면 아래와 같습니다. \n",
    "\n",
    "**[Rules of Broadcasting](https://jakevdp.github.io/PythonDataScienceHandbook/02.05-computation-on-arrays-broadcasting.html#Rules-of-Broadcasting)**\n",
    "\n",
    "- 원칙 1. 두 Array의 차원이 다르면, **차원이 낮은 쪽의 shape을 오른쪽으로 밀어 왼쪽에 축을 추가**한다. \n",
    ">  예: `(3,)`인 B의 shape을 `(1,3)`으로 변환\n",
    "\n",
    "- 원칙 2. 어떤 축에서도 두 Array의 원소 수가 맞지 않으면, 차원의 **원소 수가 1인 Array의 shape을 확장**한다. \n",
    ">  예:`(1,3)`인 A와 `(3,1)`인 B는 어떤 축에서도 원소 수가 같지 않음.  \n",
    "A와 B **각각 원소 수가 1인 축의 원소 수를 확장**하여 `(3,3)`shape의 결과를 반환. \n",
    "\n",
    "- 원칙 3. 어떤 축에서도 원소 수가 맞지 않고 1도 아니라면 오류를 반환한다. \n",
    "> 예: `(2,3)`과 `(3,2)`의 Array를 합치고자 하면 배열들의 길이가 axis=0에서는 각각 2와 3, axis=1에서는 3과 2로써 일치하지 않고 1이 아니기 때문에 오류를 반환한다. \n",
    "\n",
    "\n",
    "브로드캐스팅에 대해 더 알아보고 싶다면 아래 링크를 방문하십시오.<br><br>\n",
    "**[Rules of Broadcasting](https://jakevdp.github.io/PythonDataScienceHandbook/02.05-computation-on-arrays-broadcasting.html#Rules-of-Broadcasting)**"
   ]
  },
  {
   "cell_type": "markdown",
   "metadata": {},
   "source": [
    "원칙1과 원칙2는 앞서 살펴본 예시가 있었으니, 끝으로 원칙3이 적용되는 예시를 살펴봅시다. "
   ]
  },
  {
   "cell_type": "code",
   "execution_count": 13,
   "metadata": {
    "collapsed": true
   },
   "outputs": [],
   "source": [
    "A = np.arange(6)"
   ]
  },
  {
   "cell_type": "code",
   "execution_count": 14,
   "metadata": {
    "scrolled": true
   },
   "outputs": [
    {
     "ename": "ValueError",
     "evalue": "operands could not be broadcast together with shapes (2,3) (3,2) ",
     "output_type": "error",
     "traceback": [
      "\u001b[1;31m---------------------------------------------------------------------------\u001b[0m",
      "\u001b[1;31mValueError\u001b[0m                                Traceback (most recent call last)",
      "\u001b[1;32m<ipython-input-14-90438c08293f>\u001b[0m in \u001b[0;36m<module>\u001b[1;34m\u001b[0m\n\u001b[1;32m----> 1\u001b[1;33m \u001b[0mA\u001b[0m\u001b[1;33m.\u001b[0m\u001b[0mreshape\u001b[0m\u001b[1;33m(\u001b[0m\u001b[1;36m2\u001b[0m\u001b[1;33m,\u001b[0m\u001b[1;36m3\u001b[0m\u001b[1;33m)\u001b[0m \u001b[1;33m+\u001b[0m \u001b[0mA\u001b[0m\u001b[1;33m.\u001b[0m\u001b[0mreshape\u001b[0m\u001b[1;33m(\u001b[0m\u001b[1;36m3\u001b[0m\u001b[1;33m,\u001b[0m\u001b[1;36m2\u001b[0m\u001b[1;33m)\u001b[0m\u001b[1;33m\u001b[0m\u001b[1;33m\u001b[0m\u001b[0m\n\u001b[0m",
      "\u001b[1;31mValueError\u001b[0m: operands could not be broadcast together with shapes (2,3) (3,2) "
     ]
    }
   ],
   "source": [
    "A.reshape(2,3) + A.reshape(3,2)"
   ]
  },
  {
   "cell_type": "markdown",
   "metadata": {},
   "source": [
    "위와 같이 어떤 축에서도 원소 수가 같지 않고, 1도 아니라면 오류를 반환합니다. "
   ]
  },
  {
   "cell_type": "markdown",
   "metadata": {
    "slideshow": {
     "slide_type": "slide"
    }
   },
   "source": [
    "### (3) for 순회문과 비교하기\n",
    "문제를 보면서 브로드캐스팅을 `for`순회문과 비교해 봅시다."
   ]
  },
  {
   "cell_type": "markdown",
   "metadata": {
    "slideshow": {
     "slide_type": "subslide"
    }
   },
   "source": [
    "#### 예제1) 각 원소별 전체 평균과의 차이 구하기"
   ]
  },
  {
   "cell_type": "markdown",
   "metadata": {},
   "source": [
    "<img src='./img/5_29.jpg' align=left/>"
   ]
  },
  {
   "cell_type": "markdown",
   "metadata": {},
   "source": [
    "<img src='./img/2_44.jpg' align=left width=600 height=300/>"
   ]
  },
  {
   "cell_type": "code",
   "execution_count": 15,
   "metadata": {
    "scrolled": true,
    "slideshow": {
     "slide_type": "fragment"
    }
   },
   "outputs": [
    {
     "data": {
      "text/plain": [
       "array([[ 5,  6,  7,  2,  4],\n",
       "       [15,  3,  4,  9,  0],\n",
       "       [ 3,  6,  0,  9,  7],\n",
       "       [ 0, 13, 11, 17,  1]])"
      ]
     },
     "execution_count": 15,
     "metadata": {},
     "output_type": "execute_result"
    }
   ],
   "source": [
    "ary = np.random.randint(0, 20, size=20).reshape(4, 5)\n",
    "ary"
   ]
  },
  {
   "cell_type": "code",
   "execution_count": 16,
   "metadata": {
    "slideshow": {
     "slide_type": "fragment"
    }
   },
   "outputs": [
    {
     "data": {
      "text/plain": [
       "array([[-1.1, -0.1,  0.9, -4.1, -2.1],\n",
       "       [ 8.9, -3.1, -2.1,  2.9, -6.1],\n",
       "       [-3.1, -0.1, -6.1,  2.9,  0.9],\n",
       "       [-6.1,  6.9,  4.9, 10.9, -5.1]])"
      ]
     },
     "execution_count": 16,
     "metadata": {},
     "output_type": "execute_result"
    }
   ],
   "source": [
    "# for 순회문을 사용할 경우\n",
    "mean_of_ary = np.mean(ary)\n",
    "\n",
    "diff_ary = ary.copy().astype(np.float)\n",
    "for row_idx, row_val in enumerate(ary):\n",
    "    for col_idx, element in enumerate(row_val):\n",
    "        diff_ary[row_idx, col_idx] = diff_ary[row_idx, col_idx] - mean_of_ary\n",
    "    \n",
    "diff_ary"
   ]
  },
  {
   "cell_type": "code",
   "execution_count": 17,
   "metadata": {
    "slideshow": {
     "slide_type": "fragment"
    }
   },
   "outputs": [
    {
     "data": {
      "text/plain": [
       "array([[-1.1, -0.1,  0.9, -4.1, -2.1],\n",
       "       [ 8.9, -3.1, -2.1,  2.9, -6.1],\n",
       "       [-3.1, -0.1, -6.1,  2.9,  0.9],\n",
       "       [-6.1,  6.9,  4.9, 10.9, -5.1]])"
      ]
     },
     "execution_count": 17,
     "metadata": {},
     "output_type": "execute_result"
    }
   ],
   "source": [
    "# numpy 브로드캐스팅을 사용했을 경우\n",
    "diff_ary = ary - np.mean(ary)\n",
    "diff_ary"
   ]
  },
  {
   "cell_type": "markdown",
   "metadata": {
    "slideshow": {
     "slide_type": "subslide"
    }
   },
   "source": [
    "#### 예제2) 1번째 행의 원소값과 다른 행의 원소값 비교하기"
   ]
  },
  {
   "cell_type": "markdown",
   "metadata": {},
   "source": [
    "<img src='./img/5_28.jpg' align=left width=800 height=400/>"
   ]
  },
  {
   "cell_type": "markdown",
   "metadata": {},
   "source": [
    "<img src='./img/2_43.jpg' align=left width=350 height=200/>"
   ]
  },
  {
   "cell_type": "code",
   "execution_count": 18,
   "metadata": {
    "slideshow": {
     "slide_type": "fragment"
    }
   },
   "outputs": [
    {
     "data": {
      "text/plain": [
       "array([[17, 19, 14,  1,  6],\n",
       "       [11,  6, 18, 16, 17],\n",
       "       [ 3,  5,  7, 18, 11],\n",
       "       [ 5,  5,  7, 11, 19],\n",
       "       [16, 17,  1,  4,  6],\n",
       "       [ 8,  4, 19,  4, 18],\n",
       "       [ 4,  6, 16, 13, 12],\n",
       "       [ 5,  9,  0,  6, 10]])"
      ]
     },
     "execution_count": 18,
     "metadata": {},
     "output_type": "execute_result"
    }
   ],
   "source": [
    "ary = np.random.randint(0, 20, size=40).reshape(8, 5)\n",
    "ary"
   ]
  },
  {
   "cell_type": "code",
   "execution_count": 19,
   "metadata": {
    "colab": {},
    "colab_type": "code",
    "id": "B6Hayqcw6fa9",
    "outputId": "95a90ec4-5e08-4c82-b468-83c2b647ee71",
    "slideshow": {
     "slide_type": "fragment"
    }
   },
   "outputs": [
    {
     "data": {
      "text/plain": [
       "array([[  6,  13,  -4, -15, -11],\n",
       "       [  0,   0,   0,   0,   0],\n",
       "       [ -8,  -1, -11,   2,  -6],\n",
       "       [ -6,  -1, -11,  -5,   2],\n",
       "       [  5,  11, -17, -12, -11],\n",
       "       [ -3,  -2,   1, -12,   1],\n",
       "       [ -7,   0,  -2,  -3,  -5],\n",
       "       [ -6,   3, -18, -10,  -7]])"
      ]
     },
     "execution_count": 19,
     "metadata": {},
     "output_type": "execute_result"
    }
   ],
   "source": [
    "# for 순회문을 사용할 경우\n",
    "target_vec = ary[1] # 1번째 행\n",
    "\n",
    "diff_ary = ary.copy()\n",
    "for row_idx in range(ary.shape[0]):\n",
    "    # for구문을 통해 직접 순회하며 하나씩 연산을 적용\n",
    "    diff_ary[row_idx] = diff_ary[row_idx] - target_vec\n",
    "    \n",
    "diff_ary"
   ]
  },
  {
   "cell_type": "code",
   "execution_count": 20,
   "metadata": {},
   "outputs": [
    {
     "data": {
      "text/plain": [
       "array([[  6,  13,  -4, -15, -11],\n",
       "       [  0,   0,   0,   0,   0],\n",
       "       [ -8,  -1, -11,   2,  -6],\n",
       "       [ -6,  -1, -11,  -5,   2],\n",
       "       [  5,  11, -17, -12, -11],\n",
       "       [ -3,  -2,   1, -12,   1],\n",
       "       [ -7,   0,  -2,  -3,  -5],\n",
       "       [ -6,   3, -18, -10,  -7]])"
      ]
     },
     "execution_count": 20,
     "metadata": {},
     "output_type": "execute_result"
    }
   ],
   "source": [
    "# Numpy의 브로드캐스팅\n",
    "ary - ary[1]"
   ]
  },
  {
   "cell_type": "markdown",
   "metadata": {
    "slideshow": {
     "slide_type": "subslide"
    }
   },
   "source": [
    "#### 예제3) 1부터 5까지의 정수에서 0.1,0.5,2를 각각 곱한 모든 수 구하기"
   ]
  },
  {
   "cell_type": "markdown",
   "metadata": {},
   "source": [
    "<img src='./img/5_30.jpg' align=left width=800 height=400/>"
   ]
  },
  {
   "cell_type": "markdown",
   "metadata": {},
   "source": [
    "<img src='./img/2_45.jpg' align=left width=800 height=400/>"
   ]
  },
  {
   "cell_type": "code",
   "execution_count": 21,
   "metadata": {
    "collapsed": true,
    "slideshow": {
     "slide_type": "fragment"
    }
   },
   "outputs": [],
   "source": [
    "arr_1 = np.array([1, 2, 3, 4, 5])\n",
    "arr_2 = np.array([0.1, 0.5, 2])"
   ]
  },
  {
   "cell_type": "code",
   "execution_count": 22,
   "metadata": {
    "slideshow": {
     "slide_type": "fragment"
    }
   },
   "outputs": [
    {
     "data": {
      "text/plain": [
       "array([[ 0.1,  0.5,  2. ],\n",
       "       [ 0.2,  1. ,  4. ],\n",
       "       [ 0.3,  1.5,  6. ],\n",
       "       [ 0.4,  2. ,  8. ],\n",
       "       [ 0.5,  2.5, 10. ]])"
      ]
     },
     "execution_count": 22,
     "metadata": {},
     "output_type": "execute_result"
    }
   ],
   "source": [
    "# for 순회문을 사용했을 경우\n",
    "\n",
    "results = []\n",
    "for r_v in arr_1:\n",
    "    row = []\n",
    "    for c_v in arr_2:\n",
    "        row.append(r_v * c_v)\n",
    "    results.append(row)\n",
    "np.array(results)"
   ]
  },
  {
   "cell_type": "code",
   "execution_count": 23,
   "metadata": {
    "slideshow": {
     "slide_type": "fragment"
    }
   },
   "outputs": [
    {
     "data": {
      "text/plain": [
       "array([[ 0.1,  0.5,  2. ],\n",
       "       [ 0.2,  1. ,  4. ],\n",
       "       [ 0.3,  1.5,  6. ],\n",
       "       [ 0.4,  2. ,  8. ],\n",
       "       [ 0.5,  2.5, 10. ]])"
      ]
     },
     "execution_count": 23,
     "metadata": {},
     "output_type": "execute_result"
    }
   ],
   "source": [
    "# numpy 브로드캐스팅을 사용했을 경우\n",
    "\n",
    "arr_1.reshape(-1,1) * arr_2"
   ]
  },
  {
   "cell_type": "markdown",
   "metadata": {},
   "source": [
    "이처럼 브로드캐스팅을 활용하면 `for`순회문 보다 훨씬 간결하게 array를 연산할 수 있습니다."
   ]
  }
 ],
 "metadata": {
  "colab": {
   "collapsed_sections": [
    "P7pueSi-lge5",
    "Z8GYFD3WlnSN",
    "7o6fruwGjS5y",
    "t6X3h8PMjS6B",
    "SDHNSIFjjS6M",
    "FRd1gBC_jS6T",
    "3lmxcJ9pjS6s",
    "ndOiTdLQjS65",
    "Faj3mzS-2LlR",
    "M5lg56WYjS7J",
    "WCAeh_DDjS7h",
    "gTxVcqvt07py",
    "QqKuFJnMjS77",
    "3Cggo6--jS7-",
    "qnMcrczHjS8Z"
   ],
   "name": "3_Numpy의 Indexing과 합치기.ipynb",
   "provenance": [],
   "toc_visible": true,
   "version": "0.3.2"
  },
  "kernelspec": {
   "display_name": "Python 3",
   "language": "python",
   "name": "python3"
  },
  "language_info": {
   "codemirror_mode": {
    "name": "ipython",
    "version": 3
   },
   "file_extension": ".py",
   "mimetype": "text/x-python",
   "name": "python",
   "nbconvert_exporter": "python",
   "pygments_lexer": "ipython3",
   "version": "3.8.3"
  },
  "toc": {
   "base_numbering": 1,
   "nav_menu": {},
   "number_sections": false,
   "sideBar": true,
   "skip_h1_title": false,
   "title_cell": "Table of Contents",
   "title_sidebar": "Contents",
   "toc_cell": false,
   "toc_position": {
    "height": "calc(100% - 180px)",
    "left": "10px",
    "top": "150px",
    "width": "236.833px"
   },
   "toc_section_display": true,
   "toc_window_display": true
  }
 },
 "nbformat": 4,
 "nbformat_minor": 2
}
