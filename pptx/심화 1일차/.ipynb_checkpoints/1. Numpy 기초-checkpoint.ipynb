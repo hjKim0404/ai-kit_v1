{
 "cells": [
  {
   "cell_type": "markdown",
   "metadata": {
    "colab_type": "text",
    "id": "tC2Ek5GX41JS"
   },
   "source": [
    "# 1. Numpy 기초\n",
    "\n",
    "**Numpy**는 Python을 대표하는 패키지 중 하나로, 다차원의 데이터를 효율적으로 다루게 해주는 패키지입니다. Numpy에서의 Array는 **수를 다루기 위한 자료구조**로, list보다 데이터 처리를 훨씬 빠르고 효율적으로 할 수 있습니다.  \n",
    "이번 Section에서는 Numpy Array를 이용해 효율적으로 데이터를 처리하는 방법을 list와 비교하여 살펴보겠습니다. \n",
    "\n",
    "***Objective***\n",
    "1. **List와 Numpy Array 생성하기** : Numpy 패키지를 불러와서 Numpy Array와 list를 생성해봅니다. \n",
    "2. **List와 Numpy Array 비교하기** : Numpy array를 이용한 인덱싱, 집계연산, 요소별 연산 등의 사례를 list와 비교해 살펴봅니다."
   ]
  },
  {
   "cell_type": "markdown",
   "metadata": {},
   "source": [
    "# \\[ 1. List와 Numpy Array 생성하기\\]\n",
    "\n",
    "Numpy를 쓰기 위해서는 Numpy패키지를 호출해야 합니다. "
   ]
  },
  {
   "cell_type": "code",
   "execution_count": null,
   "metadata": {
    "colab": {},
    "colab_type": "code",
    "execution": {
     "iopub.execute_input": "2021-03-15T08:04:45.782606Z",
     "iopub.status.busy": "2021-03-15T08:04:45.781699Z",
     "iopub.status.idle": "2021-03-15T08:04:46.036246Z",
     "shell.execute_reply": "2021-03-15T08:04:46.036638Z"
    },
    "id": "8haRCcip41JT"
   },
   "outputs": [],
   "source": [
    "import numpy as np"
   ]
  },
  {
   "cell_type": "markdown",
   "metadata": {},
   "source": [
    "`np.array()`를 이용하면 list 로 만들어진 자료 구조를 Numpy Array로 바꾸어 생성할 수 있습니다. "
   ]
  },
  {
   "cell_type": "code",
   "execution_count": null,
   "metadata": {
    "execution": {
     "iopub.execute_input": "2021-03-15T08:04:46.039426Z",
     "iopub.status.busy": "2021-03-15T08:04:46.039073Z",
     "iopub.status.idle": "2021-03-15T08:04:46.040518Z",
     "shell.execute_reply": "2021-03-15T08:04:46.040836Z"
    }
   },
   "outputs": [],
   "source": [
    "np_array = np.array([10, 12])\n",
    "print(type(np_array))"
   ]
  },
  {
   "cell_type": "markdown",
   "metadata": {
    "colab_type": "text",
    "id": "7t4m-iaH41JY"
   },
   "source": [
    "#### 예제 데이터 ) 학생들의 중간고사 성적표\n",
    "\n",
    "학생들의 성적표를 List와 Numpy로 각각 저장하여 동일한 작업을 할 때 어떻게 다르게 작동하는지 살펴보겠습니다.<br>\n",
    "\n",
    "\n",
    "| 학생 번호 | 과학 | 영어 | 수학 | \n",
    "|  ----   | --- |---| --- |\n",
    "|0 |80 |92 |70 |\n",
    "|1 |91 |75 |90|\n",
    "|2 |86 |76 |42 |\n",
    "|3 |77 |92 |52 |\n",
    "|4 |75 |85 |85 | \n",
    "|5 |96 |90 |95 |"
   ]
  },
  {
   "cell_type": "markdown",
   "metadata": {
    "colab_type": "text",
    "id": "RnsbqM5U41JZ"
   },
   "source": [
    "비교를 위해 우선 위의 성적표를 list와 Numpy Array로 정리해야 합니다.  \n",
    "6명의 성적표는 학생 별로 성적을 묶어서 아래와 같이 정의할 수 있습니다."
   ]
  },
  {
   "cell_type": "code",
   "execution_count": null,
   "metadata": {
    "colab": {},
    "colab_type": "code",
    "execution": {
     "iopub.execute_input": "2021-03-15T08:04:46.043696Z",
     "iopub.status.busy": "2021-03-15T08:04:46.043380Z",
     "iopub.status.idle": "2021-03-15T08:04:46.044684Z",
     "shell.execute_reply": "2021-03-15T08:04:46.045030Z"
    },
    "id": "Y3HMTSxm41JZ"
   },
   "outputs": [],
   "source": [
    "# list로 표현된 학생들의 성적표\n",
    "scores_list = [\n",
    "    [80, 92, 70],\n",
    "    [91, 75, 90],\n",
    "    [86, 96, 42],\n",
    "    [77, 92, 52],\n",
    "    [75, 85, 85],\n",
    "    [96, 90, 95]\n",
    "]\n",
    "\n",
    "# np.array로 표현된 학생들의 성적\n",
    "scores_np = np.array([\n",
    "    [80, 92, 70],\n",
    "    [91, 75, 90],\n",
    "    [86, 96, 42],\n",
    "    [77, 92, 52],\n",
    "    [75, 85, 85],\n",
    "    [96, 90, 95]\n",
    "])"
   ]
  },
  {
   "cell_type": "markdown",
   "metadata": {},
   "source": [
    "<div class=\"alert alert-block alert-warning\">\n",
    "<b> [Practice] List와 Numpy Array 생성하기 </b>\n",
    "</div>\n",
    "\n",
    "앞서 학습한 내용을 참고하여 코드셀에 직접 문제를 풀어보세요. 다음은 어떤 국가의 연도별 화물수출입건수(단위 : 1000 건) 표입니다. <br>\n",
    "\n",
    "| 연도 | 해상 | 항공 |\n",
    "| ---- | ---: |---:|\n",
    "| Year1 | 4,290 | 6,070 |\n",
    "| Year2 | 4,425 | 6,278 |\n",
    "| Year3 | 4,577 | 6,350 |\n",
    "| Year4 | 4,617 | 8,295 | \n",
    "| Year5| 4,491 | 10,780 |\n",
    "\n",
    "\n",
    "Q1. 위 표를 `cargo_n_list` 변수에 List 형식으로 만들어보세요.(숫자값만 넣어서 만들어보세요.)\n",
    "\n",
    "Q2. 위 표를 `cargo_n_array` 변수에 Numpy Array 형식으로 만들어보세요.(숫자값만 넣어서 만들어보세요.)"
   ]
  },
  {
   "cell_type": "code",
   "execution_count": null,
   "metadata": {
    "execution": {
     "iopub.execute_input": "2021-03-15T08:04:46.047527Z",
     "iopub.status.busy": "2021-03-15T08:04:46.047211Z",
     "iopub.status.idle": "2021-03-15T08:04:46.048426Z",
     "shell.execute_reply": "2021-03-15T08:04:46.048758Z"
    }
   },
   "outputs": [],
   "source": [
    "# Answers\n",
    "# Q1.\n",
    "cargo_n_list = [\n",
    "    [4290, 6070],\n",
    "    [4425, 6278],\n",
    "    [4577, 6350],\n",
    "    [4617, 8295],\n",
    "    [4491, 10780]\n",
    "]\n",
    "\n",
    "# Q2. \n",
    "cargo_n_array = np.array([\n",
    "    [4290, 6070],\n",
    "    [4425, 6278],\n",
    "    [4577, 6350],\n",
    "    [4617, 8295],\n",
    "    [4491, 10780]\n",
    "])"
   ]
  },
  {
   "cell_type": "markdown",
   "metadata": {},
   "source": [
    "<hr>\n",
    "\n",
    "# \\[ 2. List와 Numpy Array 비교하기\\]\n",
    "\n",
    "현재 까지는 Numpy Array는 list와 매우 유사해 보입니다.  \n",
    "- **인덱스로 원하는 요소 가져오기**\n",
    "- **집계 연산하기**\n",
    "- **요소별 연산하기** \n",
    "\n",
    "등의 기본적인 기능이 작동하는 방식을 list와 비교해 보면서 Numpy의 필요성을 이해해 봅시다. "
   ]
  },
  {
   "cell_type": "markdown",
   "metadata": {
    "colab_type": "text",
    "id": "3VYICmUI7E9c"
   },
   "source": [
    "## 1. 인덱싱 방법 비교\n",
    "- List와 Numpy Array의 인덱싱을 비교하며 그 차이를 살펴봅시다."
   ]
  },
  {
   "cell_type": "markdown",
   "metadata": {
    "colab_type": "text",
    "id": "XQM8v73N41Jc"
   },
   "source": [
    "### (1) 1번 학생의 성적"
   ]
  },
  {
   "cell_type": "markdown",
   "metadata": {
    "colab_type": "text",
    "id": "oJf4KsCV41Jd"
   },
   "source": [
    "#### `list`"
   ]
  },
  {
   "cell_type": "code",
   "execution_count": null,
   "metadata": {
    "colab": {
     "base_uri": "https://localhost:8080/",
     "height": 33
    },
    "colab_type": "code",
    "execution": {
     "iopub.execute_input": "2021-03-15T08:04:46.053853Z",
     "iopub.status.busy": "2021-03-15T08:04:46.053488Z",
     "iopub.status.idle": "2021-03-15T08:04:46.054977Z",
     "shell.execute_reply": "2021-03-15T08:04:46.055314Z"
    },
    "executionInfo": {
     "elapsed": 607,
     "status": "ok",
     "timestamp": 1551239237409,
     "user": {
      "displayName": "최선열",
      "photoUrl": "",
      "userId": "00663027191814710813"
     },
     "user_tz": -540
    },
    "id": "wyueDBad41Je",
    "outputId": "12c030c3-9cb7-4ef5-ac3f-086574aed1ab"
   },
   "outputs": [],
   "source": [
    "scores_list[0]"
   ]
  },
  {
   "cell_type": "markdown",
   "metadata": {
    "colab_type": "text",
    "id": "mwMxpCpK41Jj"
   },
   "source": [
    "#### `np.array`"
   ]
  },
  {
   "cell_type": "code",
   "execution_count": null,
   "metadata": {
    "colab": {
     "base_uri": "https://localhost:8080/",
     "height": 33
    },
    "colab_type": "code",
    "execution": {
     "iopub.execute_input": "2021-03-15T08:04:46.057734Z",
     "iopub.status.busy": "2021-03-15T08:04:46.057411Z",
     "iopub.status.idle": "2021-03-15T08:04:46.058875Z",
     "shell.execute_reply": "2021-03-15T08:04:46.059199Z"
    },
    "executionInfo": {
     "elapsed": 607,
     "status": "ok",
     "timestamp": 1551239240818,
     "user": {
      "displayName": "최선열",
      "photoUrl": "",
      "userId": "00663027191814710813"
     },
     "user_tz": -540
    },
    "id": "d71cywer41Jk",
    "outputId": "1017b98c-840f-4c9a-a7c5-b4ac9596009b"
   },
   "outputs": [],
   "source": [
    "scores_np[0]"
   ]
  },
  {
   "cell_type": "markdown",
   "metadata": {
    "colab_type": "text",
    "id": "-qeQzOx941Jn"
   },
   "source": [
    "### (2) 1번부터 3번까지의 학생 성적"
   ]
  },
  {
   "cell_type": "markdown",
   "metadata": {
    "colab_type": "text",
    "id": "gaLXVhQY41Jo"
   },
   "source": [
    "#### `list`"
   ]
  },
  {
   "cell_type": "code",
   "execution_count": null,
   "metadata": {
    "colab": {
     "base_uri": "https://localhost:8080/",
     "height": 33
    },
    "colab_type": "code",
    "execution": {
     "iopub.execute_input": "2021-03-15T08:04:46.061250Z",
     "iopub.status.busy": "2021-03-15T08:04:46.060918Z",
     "iopub.status.idle": "2021-03-15T08:04:46.062410Z",
     "shell.execute_reply": "2021-03-15T08:04:46.062735Z"
    },
    "executionInfo": {
     "elapsed": 561,
     "status": "ok",
     "timestamp": 1551679671185,
     "user": {
      "displayName": "최선열",
      "photoUrl": "",
      "userId": "00663027191814710813"
     },
     "user_tz": -540
    },
    "id": "rkO3x4ut41Jp",
    "outputId": "1c7edbd7-f5dd-4d85-c1a1-4fb67f5633cd"
   },
   "outputs": [],
   "source": [
    "scores_list[1:4]"
   ]
  },
  {
   "cell_type": "markdown",
   "metadata": {
    "colab_type": "text",
    "id": "Sy-RQUx541Js"
   },
   "source": [
    "#### `np.array`"
   ]
  },
  {
   "cell_type": "code",
   "execution_count": null,
   "metadata": {
    "colab": {
     "base_uri": "https://localhost:8080/",
     "height": 66
    },
    "colab_type": "code",
    "execution": {
     "iopub.execute_input": "2021-03-15T08:04:46.064678Z",
     "iopub.status.busy": "2021-03-15T08:04:46.064324Z",
     "iopub.status.idle": "2021-03-15T08:04:46.065853Z",
     "shell.execute_reply": "2021-03-15T08:04:46.066169Z"
    },
    "executionInfo": {
     "elapsed": 657,
     "status": "ok",
     "timestamp": 1551240357902,
     "user": {
      "displayName": "최선열",
      "photoUrl": "",
      "userId": "00663027191814710813"
     },
     "user_tz": -540
    },
    "id": "FrcfLudV41Jt",
    "outputId": "db64737e-c9d6-458f-d45e-eb65f670aa95"
   },
   "outputs": [],
   "source": [
    "scores_np[1:4]"
   ]
  },
  {
   "cell_type": "markdown",
   "metadata": {},
   "source": [
    "여기까지는 Numpy Array와 list의 차이가 거의 보이질 않습니다.  \n",
    "**행 단위**(이 경우 학생 단위)의 개별 인덱싱이나 범위 인덱싱 방법은 거의 유사한 걸 확인했습니다.  \n",
    "이번에는 **특정** 학생들의 성적을 가져와봅시다. "
   ]
  },
  {
   "cell_type": "markdown",
   "metadata": {
    "colab_type": "text",
    "id": "oA8PiL6w41Jw"
   },
   "source": [
    "### (3) 0, 4, 1번 학생 성적 가져오기\n"
   ]
  },
  {
   "cell_type": "markdown",
   "metadata": {
    "colab_type": "text",
    "id": "0fzk_7_Q41Jx"
   },
   "source": [
    "#### `list`"
   ]
  },
  {
   "cell_type": "markdown",
   "metadata": {},
   "source": [
    "리스트는 한 번에 여러 개의 비 순차적 행에 액세스하는 것은 지원되지 않으므로 위와 같은 방법으로는 원하는 점수를 얻는것은 불가능하고, 대신 각 학생의 점수를 별도로 액세스 하여 각 학생의 성적을 가져온 후 이를 list로 합쳐야 합니다."
   ]
  },
  {
   "cell_type": "code",
   "execution_count": null,
   "metadata": {
    "colab": {},
    "colab_type": "code",
    "execution": {
     "iopub.execute_input": "2021-03-15T08:04:46.067957Z",
     "iopub.status.busy": "2021-03-15T08:04:46.067626Z",
     "iopub.status.idle": "2021-03-15T08:04:46.068759Z",
     "shell.execute_reply": "2021-03-15T08:04:46.069075Z"
    },
    "id": "Xtg2kX1W41Jx",
    "scrolled": true
   },
   "outputs": [],
   "source": [
    "# # 이 코드를 실행하면 오류가 발생합니다.\n",
    "# scores_list[[0,4,1]] # 불가능"
   ]
  },
  {
   "cell_type": "markdown",
   "metadata": {},
   "source": [
    "\n",
    "위 코드를 실행하면 아래와 같은 오류 메시지가 출력됩니다.\n",
    "```\n",
    "---------------------------------------------------------------------------\n",
    "TypeError                                 Traceback (most recent call last)\n",
    "<ipython-input-12-44becf3fa9fb> in <module>\n",
    "      1 # 이 코드를 실행하면 오류가 발생합니다.\n",
    "----> 2 scores_list[[0,4,1]] # 불가능\n",
    "\n",
    "TypeError: list indices must be integers or slices, not list\n",
    "```"
   ]
  },
  {
   "cell_type": "code",
   "execution_count": null,
   "metadata": {
    "colab": {},
    "colab_type": "code",
    "execution": {
     "iopub.execute_input": "2021-03-15T08:04:46.071178Z",
     "iopub.status.busy": "2021-03-15T08:04:46.070825Z",
     "iopub.status.idle": "2021-03-15T08:04:46.072350Z",
     "shell.execute_reply": "2021-03-15T08:04:46.072666Z"
    },
    "id": "wm6TPrqx41J2",
    "outputId": "cef42149-bc76-4479-f743-ac818efbf405"
   },
   "outputs": [],
   "source": [
    "[scores_list[0],scores_list[4],scores_list[1]]"
   ]
  },
  {
   "cell_type": "markdown",
   "metadata": {
    "colab_type": "text",
    "id": "CeSDL1Bi41J5"
   },
   "source": [
    "#### `np.array`\n",
    "한편, Numpy Array에서는 간단하게 **인덱스 리스트를 만들어** 기존의 Numpy Array에서 여러 행(이 경우 0, 4, 5번 학생들)의 성적을 가져올 수 있습니다. "
   ]
  },
  {
   "cell_type": "code",
   "execution_count": null,
   "metadata": {
    "colab": {},
    "colab_type": "code",
    "execution": {
     "iopub.execute_input": "2021-03-15T08:04:46.074778Z",
     "iopub.status.busy": "2021-03-15T08:04:46.074424Z",
     "iopub.status.idle": "2021-03-15T08:04:46.075980Z",
     "shell.execute_reply": "2021-03-15T08:04:46.076308Z"
    },
    "id": "pvLsMgqY41J6",
    "outputId": "9a1dfcfe-e964-43d6-83a0-1ba638992f6c"
   },
   "outputs": [],
   "source": [
    "scores_np[[0,4,1]] # 훨씬 더 간단하게 가져올 수 있음"
   ]
  },
  {
   "cell_type": "markdown",
   "metadata": {
    "colab_type": "text",
    "id": "YjG0UpEI41J9"
   },
   "source": [
    "### (4) 모든 학생들의 과학 성적\n",
    "행 단위의 인덱싱을 살펴보았으니 이번에는 열 단위 인덱싱이 어떻게 되는지 살펴볼까요? 위의 성적 데이터에서 각 열은 과목을 나타냅니다. 역사 과목의 전체 성적을 가져와봅시다. "
   ]
  },
  {
   "cell_type": "markdown",
   "metadata": {
    "colab_type": "text",
    "id": "nhtvxKlm41J-"
   },
   "source": [
    "#### `list`"
   ]
  },
  {
   "cell_type": "markdown",
   "metadata": {},
   "source": [
    "list를 사용할 경우, 각 학생의 성적에 접근하여 0번째 과목인 과학의 성적을 가져와야 합니다.  \n",
    "과학 성적을 모아 담을 `language_scores` 라는 빈 list 를 만든 후 `순회문`을 통해 각 학생의 과학 성적을 추가합니다."
   ]
  },
  {
   "cell_type": "code",
   "execution_count": null,
   "metadata": {
    "colab": {},
    "colab_type": "code",
    "execution": {
     "iopub.execute_input": "2021-03-15T08:04:46.078571Z",
     "iopub.status.busy": "2021-03-15T08:04:46.078249Z",
     "iopub.status.idle": "2021-03-15T08:04:46.079547Z",
     "shell.execute_reply": "2021-03-15T08:04:46.079877Z"
    },
    "id": "rQBnNQCN41J_",
    "outputId": "d13a3cf4-9874-46c5-93c5-5cd52f64a4e9"
   },
   "outputs": [],
   "source": [
    "science_scores = [] # 역사 성적을 모아 담을 리스트\n",
    "\n",
    "for student_number, score in enumerate(scores_list):\n",
    "    science_scores.append(score[0])\n",
    "\n",
    "print('전체 학생의 과학 성적 =', science_scores)"
   ]
  },
  {
   "cell_type": "markdown",
   "metadata": {
    "colab_type": "text",
    "id": "2h3FJIMf41KE"
   },
   "source": [
    "#### `np.array`"
   ]
  },
  {
   "cell_type": "markdown",
   "metadata": {},
   "source": [
    "Numpy의 경우 `[]`안에 **학생(행)을 인덱싱하는 첫번째 자리**에는 전체 학생을 의미하는 `:`를 입력하고,  \n",
    "**과목(열)을 가져오는 두 번째 자리**에는 과학 과목의 인덱스인 0을 입력합니다.  \n",
    "이렇게 하면 전체 학생의 **과학 성적 리스트**를 손쉽게 가져올 수 있습니다. "
   ]
  },
  {
   "cell_type": "code",
   "execution_count": null,
   "metadata": {
    "colab": {},
    "colab_type": "code",
    "execution": {
     "iopub.execute_input": "2021-03-15T08:04:46.081910Z",
     "iopub.status.busy": "2021-03-15T08:04:46.081549Z",
     "iopub.status.idle": "2021-03-15T08:04:46.083029Z",
     "shell.execute_reply": "2021-03-15T08:04:46.083348Z"
    },
    "id": "V3TLDygh41KF",
    "outputId": "9997928c-90b6-4f14-bd2b-da55e57c33d0"
   },
   "outputs": [],
   "source": [
    "scores_np[:,0] "
   ]
  },
  {
   "cell_type": "markdown",
   "metadata": {
    "colab_type": "text",
    "id": "P6hah_RL7tsr"
   },
   "source": [
    "## 2. 집계연산 비교\n",
    "- List와 Numpy Array로 구현된 데이터의 집계연산 코드를 비교해 보겠습니다."
   ]
  },
  {
   "cell_type": "markdown",
   "metadata": {
    "colab_type": "text",
    "id": "WclA6xCo41KL"
   },
   "source": [
    "### (1) 학생별 전 과목 점수 총합"
   ]
  },
  {
   "cell_type": "markdown",
   "metadata": {
    "colab_type": "text",
    "id": "gV8RlNjy41KN"
   },
   "source": [
    "#### `list`"
   ]
  },
  {
   "cell_type": "markdown",
   "metadata": {},
   "source": [
    "목록을 사용하는 total_scores경우이 경우 빈 목록을 만들어야합니다. 그런 다음 각 학생의 행에 액세스하고 모든 행 요소를 합산하여 학생의 총 점수를 얻은 다음 마지막으로 total_scores에 추가합니다. 6 명의 학생이 있으므로 for루프를 사용 하여 마지막에 6 명의 학생에 대한 총 점수 목록을 가져옵니다."
   ]
  },
  {
   "cell_type": "code",
   "execution_count": null,
   "metadata": {
    "colab": {
     "base_uri": "https://localhost:8080/",
     "height": 33
    },
    "colab_type": "code",
    "execution": {
     "iopub.execute_input": "2021-03-15T08:04:46.085665Z",
     "iopub.status.busy": "2021-03-15T08:04:46.085317Z",
     "iopub.status.idle": "2021-03-15T08:04:46.086804Z",
     "shell.execute_reply": "2021-03-15T08:04:46.087142Z"
    },
    "executionInfo": {
     "elapsed": 604,
     "status": "ok",
     "timestamp": 1551680921249,
     "user": {
      "displayName": "최선열",
      "photoUrl": "",
      "userId": "00663027191814710813"
     },
     "user_tz": -540
    },
    "id": "ZrM8ejyX41KO",
    "outputId": "0fee3abe-7754-4dce-d21f-0d3b67207394"
   },
   "outputs": [],
   "source": [
    "total_scores = [] # 각 학생의 성적 총합을 모아 담을 리스트\n",
    "\n",
    "for score in scores_list:\n",
    "    total_score = sum(score) # 각 학생의 성적 리스트 내 원소들의 총합 더하기\n",
    "    total_scores.append(total_score) \n",
    "    \n",
    "total_scores"
   ]
  },
  {
   "cell_type": "markdown",
   "metadata": {
    "colab_type": "text",
    "id": "cuICBqHQ41KR"
   },
   "source": [
    "#### `np.array`\n",
    "한편, Numpy에서는 한 줄 코드로 각 학생의 성적 총합을 구할 수 있습니다. "
   ]
  },
  {
   "cell_type": "code",
   "execution_count": null,
   "metadata": {
    "colab": {
     "base_uri": "https://localhost:8080/",
     "height": 33
    },
    "colab_type": "code",
    "execution": {
     "iopub.execute_input": "2021-03-15T08:04:46.089181Z",
     "iopub.status.busy": "2021-03-15T08:04:46.088842Z",
     "iopub.status.idle": "2021-03-15T08:04:46.090311Z",
     "shell.execute_reply": "2021-03-15T08:04:46.090651Z"
    },
    "executionInfo": {
     "elapsed": 366,
     "status": "ok",
     "timestamp": 1551680921532,
     "user": {
      "displayName": "최선열",
      "photoUrl": "",
      "userId": "00663027191814710813"
     },
     "user_tz": -540
    },
    "id": "cB_spmLn41KR",
    "outputId": "2e1c7d5b-bb59-4362-cff4-ab0b311d2f9b"
   },
   "outputs": [],
   "source": [
    "scores_np.sum(axis=1) # 한줄로 작성할 수 있다."
   ]
  },
  {
   "cell_type": "markdown",
   "metadata": {
    "colab_type": "text",
    "id": "SE6lfxpFHGFf"
   },
   "source": [
    "## 3. 각 원소 별 연산 적용 비교\n",
    "+ 원소 별 연산이란 List나 Array를 구성하는 각각의 **원소 별로** 값을 더하거나 빼는 등의 연산을 말합니다."
   ]
  },
  {
   "cell_type": "markdown",
   "metadata": {
    "colab_type": "text",
    "id": "nPK9uNkf41Kc"
   },
   "source": [
    "### (1) 학생별 성적 감점 표"
   ]
  },
  {
   "cell_type": "markdown",
   "metadata": {
    "colab_type": "text",
    "id": "rpCDFzYT41Kd"
   },
   "source": [
    "#### `list`\n",
    "\n",
    "100으로 설정된 최고 점수에서 학생 점수를 빼서 각 시험에서 학생이 놓친 점수를 계산한다고 가정해 봅시다.\n",
    "목록을 사용할 때 빈 목록 **miss_scores**을 만들고 **scores_list**을 행별로 액세스한 다음 뺄셈을 수행한 후, `.append()`를 이용해 각 결과를 **miss-scores**에 추가합니다."
   ]
  },
  {
   "cell_type": "code",
   "execution_count": null,
   "metadata": {
    "colab": {},
    "colab_type": "code",
    "execution": {
     "iopub.execute_input": "2021-03-15T08:04:46.093290Z",
     "iopub.status.busy": "2021-03-15T08:04:46.092953Z",
     "iopub.status.idle": "2021-03-15T08:04:46.094391Z",
     "shell.execute_reply": "2021-03-15T08:04:46.094709Z"
    },
    "id": "BulmSv-U41Kd",
    "outputId": "d83c1893-bdc4-433a-b0b8-d46a880c3a87"
   },
   "outputs": [],
   "source": [
    "miss_scores = []\n",
    "\n",
    "for scores in scores_list:\n",
    "    miss_score = []\n",
    "    for score in scores:\n",
    "        miss = 100-score # 100점 대비 몇점 틀렸는지 계산\n",
    "        miss_score.append(miss)\n",
    "    miss_scores.append(miss_score)\n",
    "miss_scores"
   ]
  },
  {
   "cell_type": "markdown",
   "metadata": {
    "colab_type": "text",
    "id": "je_PNQWT41Kh"
   },
   "source": [
    "#### `np.array`\n",
    "Numpy Array에서는 아래와 같이 100에서 성적표 Array를 빼주면 모든 원소에 대해 `100-점수`라는 연산이 적용됩니다. "
   ]
  },
  {
   "cell_type": "code",
   "execution_count": null,
   "metadata": {
    "colab": {},
    "colab_type": "code",
    "execution": {
     "iopub.execute_input": "2021-03-15T08:04:46.096753Z",
     "iopub.status.busy": "2021-03-15T08:04:46.096412Z",
     "iopub.status.idle": "2021-03-15T08:04:46.097942Z",
     "shell.execute_reply": "2021-03-15T08:04:46.098272Z"
    },
    "id": "HamucM7141Kh",
    "outputId": "c0b6a0f7-27a9-4723-dbb3-ea8fe919b22e"
   },
   "outputs": [],
   "source": [
    "100 - scores_np"
   ]
  },
  {
   "cell_type": "markdown",
   "metadata": {},
   "source": [
    "이처럼 Numpy Array는 list와 유사하게 생겼지만 다양한 연산을 보다 간단한 코드로 적용할 수 있다는 강점을 가지고 있습니다.  \n",
    "코드 작성에 드는 시간과 노력을 아껴줄 뿐만 아니라 실제 연산이 작동하는 시간 역시 훨씬 빠르기 때문에 대용량 데이터 연산일수록 Numpy가 널리 활용되고 있습니다."
   ]
  }
 ],
 "metadata": {
  "colab": {
   "collapsed_sections": [
    "7t4m-iaH41JY",
    "XQM8v73N41Jc",
    "oJf4KsCV41Jd",
    "mwMxpCpK41Jj",
    "-qeQzOx941Jn",
    "gaLXVhQY41Jo",
    "Sy-RQUx541Js",
    "oA8PiL6w41Jw",
    "0fzk_7_Q41Jx",
    "CeSDL1Bi41J5",
    "YjG0UpEI41J9",
    "nhtvxKlm41J-",
    "2h3FJIMf41KE",
    "WclA6xCo41KL",
    "gV8RlNjy41KN",
    "cuICBqHQ41KR",
    "nZmEqP3h41KU",
    "Xx6FY3za41KU",
    "ChYDn5Fe41KY",
    "nPK9uNkf41Kc",
    "rpCDFzYT41Kd",
    "je_PNQWT41Kh",
    "r3TjL9Bt41Kk",
    "A2y1KKmU41Km",
    "Bsys2oiG41Kp"
   ],
   "name": "1_Numpy의 필요성.ipynb",
   "provenance": [],
   "toc_visible": true,
   "version": "0.3.2"
  },
  "kernelspec": {
   "display_name": "Python 3",
   "language": "python",
   "name": "python3"
  },
  "language_info": {
   "codemirror_mode": {
    "name": "ipython",
    "version": 3
   },
   "file_extension": ".py",
   "mimetype": "text/x-python",
   "name": "python",
   "nbconvert_exporter": "python",
   "pygments_lexer": "ipython3",
   "version": "3.8.8"
  },
  "toc": {
   "base_numbering": 1,
   "nav_menu": {},
   "number_sections": false,
   "sideBar": true,
   "skip_h1_title": false,
   "title_cell": "Table of Contents",
   "title_sidebar": "Contents",
   "toc_cell": false,
   "toc_position": {
    "height": "calc(100% - 180px)",
    "left": "10px",
    "top": "150px",
    "width": "338.841px"
   },
   "toc_section_display": true,
   "toc_window_display": true
  },
  "varInspector": {
   "cols": {
    "lenName": 16,
    "lenType": 16,
    "lenVar": 40
   },
   "kernels_config": {
    "python": {
     "delete_cmd_postfix": "",
     "delete_cmd_prefix": "del ",
     "library": "var_list.py",
     "varRefreshCmd": "print(var_dic_list())"
    },
    "r": {
     "delete_cmd_postfix": ") ",
     "delete_cmd_prefix": "rm(",
     "library": "var_list.r",
     "varRefreshCmd": "cat(var_dic_list()) "
    }
   },
   "types_to_exclude": [
    "module",
    "function",
    "builtin_function_or_method",
    "instance",
    "_Feature"
   ],
   "window_display": false
  }
 },
 "nbformat": 4,
 "nbformat_minor": 4
}
