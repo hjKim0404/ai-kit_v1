{
 "cells": [
  {
   "cell_type": "markdown",
   "metadata": {
    "slideshow": {
     "slide_type": "slide"
    }
   },
   "source": [
    "**_합성곱 신경망(CNN) 기본기_**\n",
    "\n",
    "\n",
    "# 고차원에서의 합성곱 연산"
   ]
  },
  {
   "cell_type": "markdown",
   "metadata": {
    "slideshow": {
     "slide_type": "fragment"
    }
   },
   "source": [
    "### _Objective_\n",
    "\n",
    "1. 대부분의 합성곱 연산은 4차원의 데이터를 다룹니다. 이를 어떻게 연산하는 지를 배워봅니다."
   ]
  },
  {
   "cell_type": "markdown",
   "metadata": {
    "slideshow": {
     "slide_type": "fragment"
    }
   },
   "source": [
    "2. 합성곱 연산의 연산량을 줄여주는 풀링 연산에 대해 배워봅니다."
   ]
  },
  {
   "cell_type": "markdown",
   "metadata": {
    "slideshow": {
     "slide_type": "subslide"
    }
   },
   "source": [
    "#### 필요한 패키지 호출"
   ]
  },
  {
   "cell_type": "code",
   "execution_count": null,
   "metadata": {},
   "outputs": [],
   "source": [
    "%matplotlib inline\n",
    "\n",
    "import matplotlib.pyplot as plt\n",
    "import tensorflow as tf\n",
    "import numpy as np\n"
   ]
  },
  {
   "cell_type": "markdown",
   "metadata": {
    "slideshow": {
     "slide_type": "slide"
    }
   },
   "source": [
    "# \\[ 1. 고차원에서의 합성곱 연산\\]\n",
    "\n",
    "---\n"
   ]
  },
  {
   "cell_type": "markdown",
   "metadata": {
    "slideshow": {
     "slide_type": "slide"
    }
   },
   "source": [
    "### 컬러 이미지 : 3채널 데이터\n",
    "---\n",
    "\n",
    "![Imgur](https://i.imgur.com/2oq27A0.png)"
   ]
  },
  {
   "cell_type": "markdown",
   "metadata": {
    "slideshow": {
     "slide_type": "notes"
    }
   },
   "source": [
    "이전까지는 2차원 데이터를 다루는 합성곱 연산을 살펴보았습니다.<br>\n",
    "하지만 대부분의 영상 데이터는 색상이라는 정보가 있어, 3차원 데이터로 구성됩니다.<br>\n",
    "그리고 연산을 진행할 때에는 대부분 배치 단위로, 복수 개의 데이터를 한 번에 처리하는 식으로 진행됩니다.<br>"
   ]
  },
  {
   "cell_type": "markdown",
   "metadata": {
    "slideshow": {
     "slide_type": "slide"
    }
   },
   "source": [
    "### 하나의 필터로 3차원 데이터 합성곱 진행하기\n"
   ]
  },
  {
   "cell_type": "markdown",
   "metadata": {
    "slideshow": {
     "slide_type": "notes"
    }
   },
   "source": [
    "채널 방향으로 입력 데이터와 필터의 합성곱 연산을 수행하고, 그 결과 데이터를 더해 하나의 출력값으로 표현합니다. <br>\n",
    "아래의 3차원 데이터를 통해, 합성곱 연산이 어떤 식으로 진행되는지 살펴보도록 하겠습니다.<br>"
   ]
  },
  {
   "cell_type": "markdown",
   "metadata": {
    "slideshow": {
     "slide_type": "fragment"
    }
   },
   "source": [
    "#### 3채널 데이터 구성하기\n",
    "\n",
    "아래와 같이 3채널으로 구성된 입력 행렬을 구성하였습니다.<br>\n",
    "\n",
    "\n",
    "![Imgur](https://i.imgur.com/CaJF4dE.png)"
   ]
  },
  {
   "cell_type": "code",
   "execution_count": null,
   "metadata": {
    "slideshow": {
     "slide_type": "fragment"
    }
   },
   "outputs": [],
   "source": [
    "# 3채널 데이터 구성하기\n",
    "in0 = np.array([\n",
    "    [1,4,2,0],\n",
    "    [2,3,1,0],\n",
    "    [3,1,2,3],\n",
    "    [4,3,2,1]\n",
    "])\n",
    "in1 = np.array([\n",
    "    [1,7,2,1],\n",
    "    [3,2,1,9],\n",
    "    [0,1,5,1],\n",
    "    [4,6,2,4]\n",
    "])\n",
    "in2 = np.array([\n",
    "    [1,5,2,1],\n",
    "    [3,2,1,9],\n",
    "    [0,1,3,1],\n",
    "    [4,6,2,7]\n",
    "])\n",
    "color_input = np.stack([in0, in1, in2],axis=-1)\n",
    "print(\"입력값의 형태 (img Height, image Width, Image channel) :({},{},{})\".format(*color_input.shape))\n"
   ]
  },
  {
   "cell_type": "markdown",
   "metadata": {
    "slideshow": {
     "slide_type": "subslide"
    }
   },
   "source": [
    "#### Filter 구성하기\n",
    "\n",
    "\n",
    "여기서 중요한 것은 입력값의 채널 수(C)와 필터의 채널 수(C)가 동일해야 한다는 것입니다.<br>\n",
    "입력값의 채널에 따라 채널 별 필터가 존재하고, 각 채널 별로 합성곱 연산을 진행한 후, 하나의 값으로 출력됩니다.<br>"
   ]
  },
  {
   "cell_type": "code",
   "execution_count": null,
   "metadata": {
    "slideshow": {
     "slide_type": "fragment"
    }
   },
   "outputs": [],
   "source": [
    "# filter 구성하기\n",
    "f0 = np.array([\n",
    "    [2,0,1],\n",
    "    [0,1,2],\n",
    "    [1,0,2]\n",
    "])\n",
    "f1 = np.array([\n",
    "    [0,1,3],\n",
    "    [2,1,3],\n",
    "    [4,1,2]\n",
    "])\n",
    "f2 = np.array([\n",
    "    [3,2,1],\n",
    "    [2,2,3],\n",
    "    [0,0,1]\n",
    "])\n",
    "filters = np.stack([f0,f1,f2],axis=-1)\n",
    "print(\"Filter의 형태 (filter height, filter width, filter channel) : ({},{},{})\".format(*filters.shape))\n"
   ]
  },
  {
   "cell_type": "markdown",
   "metadata": {
    "slideshow": {
     "slide_type": "subslide"
    }
   },
   "source": [
    "#### 합성곱 연산 진행하기\n",
    "\n",
    "padding은 valid, stride은 1로 두고 연산하면 아래와 같습니다.\n",
    "\n",
    "![Imgur](https://i.imgur.com/tdy6Pcw.png)"
   ]
  },
  {
   "cell_type": "code",
   "execution_count": null,
   "metadata": {
    "slideshow": {
     "slide_type": "fragment"
    }
   },
   "outputs": [],
   "source": [
    "# 3채널 데이터에서 합성곱 연산 진행하기\n",
    "outputs = np.zeros([2,2])\n",
    "for i in range(0,2):\n",
    "    for j in range(0,2):\n",
    "        result = np.sum(color_input[i:i+3,j:j+3] * filters)\n",
    "        outputs[i,j] = result\n",
    "        print(\"({},{}) 번째 값 : {}\".format(i,j,result))\n",
    "outputs\n"
   ]
  },
  {
   "cell_type": "markdown",
   "metadata": {
    "slideshow": {
     "slide_type": "subslide"
    }
   },
   "source": [
    "#### Keras 로 합성곱 연산 진행하기 "
   ]
  },
  {
   "cell_type": "code",
   "execution_count": null,
   "metadata": {},
   "outputs": [],
   "source": [
    "from tensorflow.keras.layers import Input\n",
    "from tensorflow.keras.layers import Conv2D\n",
    "from tensorflow.keras.models import Model"
   ]
  },
  {
   "cell_type": "code",
   "execution_count": null,
   "metadata": {
    "slideshow": {
     "slide_type": "fragment"
    }
   },
   "outputs": [],
   "source": [
    "# 모델 구성하기\n",
    "inputs = Input(shape=(4,4,3))\n",
    "conv_0 = Conv2D(filters=1, kernel_size=(3,3), strides=(1,1), \n",
    "                padding='valid', name='conv_0', use_bias=False)(inputs)\n",
    "model = Model(inputs, conv_0)\n"
   ]
  },
  {
   "cell_type": "code",
   "execution_count": null,
   "metadata": {
    "slideshow": {
     "slide_type": "fragment"
    }
   },
   "outputs": [],
   "source": [
    "# 필터 적용해 합성곱 연산의 결과 확인하기\n",
    "res_filter = filters[..., None]\n",
    "model.get_layer('conv_0').set_weights([res_filter])\n",
    "\n",
    "model.predict(color_input.reshape(1,4,4,3))\n"
   ]
  },
  {
   "cell_type": "markdown",
   "metadata": {
    "slideshow": {
     "slide_type": "subslide"
    }
   },
   "source": [
    "#### 블록으로 시각화하기\n",
    "\n",
    "블록으로 시각화한다면, 아래와 같이 나타낼 수 있습니다.\n",
    "\n",
    "![Imgur](https://i.imgur.com/uNUYhhx.png)\n",
    "\n",
    "* 입력 특징맵의 형태 : $(h_{in},w_{in},c_{in})$\n",
    "* 필터의 형태 : $(h_f,w_f,c_{in})$\n",
    "* 출력 특징맵의 형태 : $(h_{out},w_{out})$\n"
   ]
  },
  {
   "cell_type": "markdown",
   "metadata": {
    "slideshow": {
     "slide_type": "notes"
    }
   },
   "source": [
    "출력의 형태는 이전에 배운 것과 마찬가지로<br>\n",
    "필터의 크기, Stride, padding으로 결정됩니다."
   ]
  },
  {
   "cell_type": "markdown",
   "metadata": {
    "slideshow": {
     "slide_type": "subslide"
    }
   },
   "source": [
    "### 복수개의 필터로 3차원 데이터 합성곱 진행하기\n"
   ]
  },
  {
   "cell_type": "markdown",
   "metadata": {
    "slideshow": {
     "slide_type": "notes"
    }
   },
   "source": [
    "하나의 Filter은 하나의 특징을 추출할 수 있습니다. <br>\n",
    "영상을 파악하기 위해서는 복수개의 특징을 함께 추출해, 판단해야 합니다. <br>\n",
    "복수개의 필터는 아래와 같이 진행됩니다.<br>"
   ]
  },
  {
   "cell_type": "markdown",
   "metadata": {
    "slideshow": {
     "slide_type": "fragment"
    }
   },
   "source": [
    "#### Filter 구성하기\n",
    "\n",
    "하나의 필터는 $(h_f,w_f,c_{in})$의 형태로 구성됩니다. 이러한 필터들을 복수개로 구성해 쌓으면 아래와 같습니다."
   ]
  },
  {
   "cell_type": "code",
   "execution_count": null,
   "metadata": {
    "slideshow": {
     "slide_type": "fragment"
    }
   },
   "outputs": [],
   "source": [
    "# filter 구성하기\n",
    "filter_1 = np.array([\n",
    "    [[2,0,1],[0,1,2],[1,0,2]],\n",
    "    [[0,1,3],[2,1,3],[4,1,2]],\n",
    "    [[3,2,1],[2,2,3],[0,0,1]]])\n",
    "filter_2 = np.array([\n",
    "    [[4,0,1],[0,0,4],[0,3,2]],\n",
    "    [[6,1,2],[3,5,1],[2,3,2]],\n",
    "    [[1,4,1],[1,3,1],[2,1,0]]])\n",
    "\n",
    "filters = np.stack([filter_1,filter_2],axis=-1)\n",
    "print(\"Filter의 형태 (H, W, C, N) : ({},{},{},{})\".format(*filters.shape))"
   ]
  },
  {
   "cell_type": "code",
   "execution_count": null,
   "metadata": {
    "slideshow": {
     "slide_type": "fragment"
    }
   },
   "outputs": [],
   "source": [
    "# 복수개의 필터로 합성곱 연산 진행하기\n",
    "outputs = np.zeros([2,2,2])\n",
    "for i in range(0,2):\n",
    "    for j in range(0,2):\n",
    "        for k in range(0,2):\n",
    "            result = np.sum(color_input[i:i+3,j:j+3,:] * filters[...,k])\n",
    "            outputs[i,j,k] = result\n",
    "outputs\n"
   ]
  },
  {
   "cell_type": "markdown",
   "metadata": {
    "slideshow": {
     "slide_type": "subslide"
    }
   },
   "source": [
    "#### Keras 로 합성곱 연산 진행하기 "
   ]
  },
  {
   "cell_type": "markdown",
   "metadata": {
    "slideshow": {
     "slide_type": "fragment"
    }
   },
   "source": [
    "![Imgur](https://i.imgur.com/Q1wXw64.png)"
   ]
  },
  {
   "cell_type": "code",
   "execution_count": null,
   "metadata": {
    "slideshow": {
     "slide_type": "fragment"
    }
   },
   "outputs": [],
   "source": [
    "# 복수개의 필터를 갖는 모델 구성하기\n",
    "inputs = Input(shape=(4,4,3))\n",
    "conv_1 = Conv2D(filters=2, kernel_size=(3,3), strides=(1,1), \n",
    "                padding='valid', name='conv_1', use_bias=False)(inputs)\n",
    "\n",
    "model = Model(inputs, conv_1)"
   ]
  },
  {
   "cell_type": "code",
   "execution_count": null,
   "metadata": {},
   "outputs": [],
   "source": [
    "model.summary()"
   ]
  },
  {
   "cell_type": "code",
   "execution_count": null,
   "metadata": {
    "slideshow": {
     "slide_type": "fragment"
    }
   },
   "outputs": [],
   "source": [
    "# 필터 적용해 합성곱 연산의 결과 확인하기\n",
    "model.get_layer('conv_1').set_weights([filters])\n",
    "\n",
    "res_input = color_input.reshape(1,4,4,3)\n",
    "model.predict(res_input)"
   ]
  },
  {
   "cell_type": "markdown",
   "metadata": {
    "slideshow": {
     "slide_type": "subslide"
    }
   },
   "source": [
    "#### 블록으로 시각화하기\n",
    "\n",
    "블록으로 시각화한다면, 아래와 같이 나타낼 수 있습니다.\n"
   ]
  },
  {
   "cell_type": "markdown",
   "metadata": {
    "slideshow": {
     "slide_type": "fragment"
    }
   },
   "source": [
    "![Imgur](https://i.imgur.com/ONua9B4.png)\n",
    "\n",
    "\n",
    "* 입력 특징맵의 형태 : $(h_{in},w_{in},c_{in})$\n",
    "* 필터의 형태 : $(n_f,h_f,w_f,c_{in})$\n",
    "* 출력 특징맵의 형태 : $(h_{out},w_{out},n_f)$\n"
   ]
  },
  {
   "cell_type": "markdown",
   "metadata": {
    "slideshow": {
     "slide_type": "slide"
    }
   },
   "source": [
    "## `고차원에서의 합성곱 연산` 마무리\n",
    "\n",
    "\n",
    "---"
   ]
  },
  {
   "cell_type": "markdown",
   "metadata": {},
   "source": [
    "\n"
   ]
  },
  {
   "cell_type": "markdown",
   "metadata": {
    "slideshow": {
     "slide_type": "slide"
    }
   },
   "source": [
    "![](../../src/logo.png)"
   ]
  }
 ],
 "metadata": {
  "celltoolbar": "Slideshow",
  "kernelspec": {
   "display_name": "Python 3",
   "language": "python",
   "name": "python3"
  },
  "language_info": {
   "codemirror_mode": {
    "name": "ipython",
    "version": 3
   },
   "file_extension": ".py",
   "mimetype": "text/x-python",
   "name": "python",
   "nbconvert_exporter": "python",
   "pygments_lexer": "ipython3",
   "version": "3.8.8"
  },
  "toc": {
   "base_numbering": 1,
   "nav_menu": {},
   "number_sections": false,
   "sideBar": true,
   "skip_h1_title": false,
   "title_cell": "Table of Contents",
   "title_sidebar": "Contents",
   "toc_cell": false,
   "toc_position": {},
   "toc_section_display": true,
   "toc_window_display": false
  },
  "varInspector": {
   "cols": {
    "lenName": 16,
    "lenType": 16,
    "lenVar": 40
   },
   "kernels_config": {
    "python": {
     "delete_cmd_postfix": "",
     "delete_cmd_prefix": "del ",
     "library": "var_list.py",
     "varRefreshCmd": "print(var_dic_list())"
    },
    "r": {
     "delete_cmd_postfix": ") ",
     "delete_cmd_prefix": "rm(",
     "library": "var_list.r",
     "varRefreshCmd": "cat(var_dic_list()) "
    }
   },
   "types_to_exclude": [
    "module",
    "function",
    "builtin_function_or_method",
    "instance",
    "_Feature"
   ],
   "window_display": false
  }
 },
 "nbformat": 4,
 "nbformat_minor": 2
}
