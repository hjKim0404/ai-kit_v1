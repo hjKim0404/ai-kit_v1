{
 "cells": [
  {
   "cell_type": "markdown",
   "metadata": {
    "slideshow": {
     "slide_type": "slide"
    }
   },
   "source": [
    "**_합성곱 신경망(CNN) 기본기_**\n",
    "\n",
    "\n",
    "# 합성곱신경망의 풀링 연산\n"
   ]
  },
  {
   "cell_type": "markdown",
   "metadata": {
    "slideshow": {
     "slide_type": "fragment"
    }
   },
   "source": [
    "### _Objective_\n",
    "1. CNN에서 이미지의 사이즈를 줄이는 방법인 Pooling 대해 배워 봅니다."
   ]
  },
  {
   "cell_type": "markdown",
   "metadata": {
    "slideshow": {
     "slide_type": "fragment"
    }
   },
   "source": [
    "2. Average Pooling 과 Max Pooling 에 대해 배워 봅니다. "
   ]
  },
  {
   "cell_type": "markdown",
   "metadata": {
    "slideshow": {
     "slide_type": "subslide"
    }
   },
   "source": [
    "#### 필요한 패키지 호출"
   ]
  },
  {
   "cell_type": "code",
   "execution_count": null,
   "metadata": {},
   "outputs": [],
   "source": [
    "%matplotlib inline\n",
    "import tensorflow as tf\n",
    "import numpy as np\n",
    "\n",
    "from tensorflow.keras.layers import Input\n",
    "from tensorflow.keras.layers import Conv2D\n",
    "from tensorflow.keras.layers import MaxPooling2D\n",
    "from tensorflow.keras.layers import AveragePooling2D\n",
    "from tensorflow.keras.models import Model\n",
    "\n",
    "import matplotlib.pyplot as plt\n"
   ]
  },
  {
   "cell_type": "markdown",
   "metadata": {
    "slideshow": {
     "slide_type": "slide"
    }
   },
   "source": [
    "# \\[ 1. 풀링 연산이란 \\]\n",
    "---\n",
    "\n",
    "풀링은 세로,가로 방향의 공간을 줄이는 연산입니다."
   ]
  },
  {
   "cell_type": "markdown",
   "metadata": {
    "slideshow": {
     "slide_type": "slide"
    }
   },
   "source": [
    "### 2차원 데이터로 풀링 연산 수행하기\n",
    "\n",
    "아래의 2차원 데이터를 통해, 풀링 연산이 어떤 식으로 진행되는지 살펴보도록 하겠습니다.\n",
    "\n"
   ]
  },
  {
   "cell_type": "code",
   "execution_count": null,
   "metadata": {},
   "outputs": [],
   "source": [
    "# 예시 배열\n",
    "values = np.array([\n",
    "    [1,3,2,1],\n",
    "    [2,9,1,1],\n",
    "    [1,3,2,3],\n",
    "    [2,6,1,2]\n",
    "])\n"
   ]
  },
  {
   "cell_type": "markdown",
   "metadata": {
    "slideshow": {
     "slide_type": "subslide"
    }
   },
   "source": [
    "#### Max 풀링 연산 수행하기\n",
    "\n",
    "아래는 2x2 Max Pooling을 stride 2로 처리하는 결과입니다.<br> \n",
    "최대 풀링은 합성곱 연산와 같이, 특정 패치 단위로 입력값을 스캔하면서 처리하게 됩니다. <br> \n",
    "Pooling filter 가 적용되는 window 에 가장 큰 값만을 추출합니다.\n",
    "\n",
    "![Imgur](https://i.imgur.com/7VjIgyc.png)"
   ]
  },
  {
   "cell_type": "code",
   "execution_count": null,
   "metadata": {
    "slideshow": {
     "slide_type": "fragment"
    }
   },
   "outputs": [],
   "source": [
    "# Max Pooling 연산 진행\n",
    "filters = 2\n",
    "strides = 2\n",
    "result = np.zeros([2,2])\n",
    "for i in range(0,values.shape[0],strides):\n",
    "    for j in range(0,values.shape[1],strides):\n",
    "        patch = values[i:i+filters,j:j+filters]\n",
    "        result[i//2,j//2] = np.max(patch)\n",
    "result\n"
   ]
  },
  {
   "cell_type": "markdown",
   "metadata": {
    "slideshow": {
     "slide_type": "notes"
    }
   },
   "source": [
    "위와 같이 처리할 경우 2가지 장점이 생깁니다\n",
    "\n",
    "\n",
    "\n",
    "1. 위치 불변성\n",
    "\n",
    "    이렇게 될 경우, 이미지가 약간 이동하더라도 신경망이 영향을 덜 받게 됩니다. <br><br>\n",
    "    이는 **위치 불변성(Location Invariance)** 이라는 이슈로,<br> \n",
    "    모델이 견고하게 되는데에 중요한 특성 중 하나입니다.\n",
    "\n",
    "2. 연산량 줄임\n",
    "\n",
    "    Pooling Layer은 이미지의 크기를 크게 줄이는 효과를 가져다 줍니다. 이미지의 크기에 따라 연산량은 증가하는데, Pooling Layer은 이미지를 축소하여, 중요한 것만 요약해주는 기능을 가집니다. \n"
   ]
  },
  {
   "cell_type": "markdown",
   "metadata": {
    "slideshow": {
     "slide_type": "subslide"
    }
   },
   "source": [
    "\n",
    "#### Keras 로 Max 풀링 연산 수행하기"
   ]
  },
  {
   "cell_type": "markdown",
   "metadata": {
    "slideshow": {
     "slide_type": "fragment"
    }
   },
   "source": [
    "<img src=\"https://i.imgur.com/yvzRqwr.png\" width=\"1500\">\n"
   ]
  },
  {
   "cell_type": "code",
   "execution_count": null,
   "metadata": {
    "slideshow": {
     "slide_type": "fragment"
    }
   },
   "outputs": [],
   "source": [
    "# Max pooling 적용 with Keras\n",
    "res_values = values.reshape(1,4,4,1)\n",
    "inputs = Input(shape=(4,4,1))\n",
    "max_0 = MaxPooling2D(strides=2)(inputs)\n",
    "\n",
    "model = Model(inputs, max_0)\n",
    "model.predict(res_values)\n"
   ]
  },
  {
   "cell_type": "markdown",
   "metadata": {
    "slideshow": {
     "slide_type": "subslide"
    }
   },
   "source": [
    "#### Average 풀링 연산 수행하기"
   ]
  },
  {
   "cell_type": "markdown",
   "metadata": {
    "slideshow": {
     "slide_type": "fragment"
    }
   },
   "source": [
    "![Imgur](https://i.imgur.com/CDEog86.png)\n",
    "\n",
    "아래는 2x2 Average Pooling을 stride 2로 처리하는 결과입니다. <br>\n",
    "Average Pooling 에서는 MaxPooling 과 달리 평균 값을 출력 합니다. \n",
    "\n",
    "\n"
   ]
  },
  {
   "cell_type": "code",
   "execution_count": null,
   "metadata": {
    "slideshow": {
     "slide_type": "fragment"
    }
   },
   "outputs": [],
   "source": [
    "# Average Pooling 연산 진행\n",
    "filters = 2\n",
    "strides = 2\n",
    "result = np.zeros([2,2])\n",
    "for i in range(0,values.shape[0],strides):\n",
    "    for j in range(0,values.shape[1],strides):\n",
    "        patch = values[i:i+filters,j:j+filters]\n",
    "        result[i//2,j//2] = patch.mean()\n",
    "result\n"
   ]
  },
  {
   "cell_type": "markdown",
   "metadata": {
    "slideshow": {
     "slide_type": "subslide"
    }
   },
   "source": [
    "####  Keras 로 Average 풀링 연산 수행하기\n",
    "\n",
    "<img src=\"https://i.imgur.com/F0pUja8.png\" width=\"1500\">"
   ]
  },
  {
   "cell_type": "code",
   "execution_count": null,
   "metadata": {
    "slideshow": {
     "slide_type": "fragment"
    }
   },
   "outputs": [],
   "source": [
    "# Average Pooling 적용 with Keras\n",
    "res_values = values.reshape(1,4,4,1)\n",
    "inputs = Input(shape=(4,4,1))\n",
    "avg_0 = AveragePooling2D(strides=2)(inputs)\n",
    "\n",
    "model = Model(inputs, avg_0)\n",
    "model.predict(res_values)\n"
   ]
  },
  {
   "cell_type": "markdown",
   "metadata": {
    "slideshow": {
     "slide_type": "slide"
    }
   },
   "source": [
    "### 3차원 데이터로 풀링 연산 수행하기\n",
    "\n",
    "합성곱 연산과 마찬가지로, 각 채널 별로 독립적으로 풀링 연산이 수행되게 됩니다.<br>\n",
    "\n",
    "![Imgur](https://i.imgur.com/LgbK2BY.png)"
   ]
  },
  {
   "cell_type": "markdown",
   "metadata": {
    "slideshow": {
     "slide_type": "subslide"
    }
   },
   "source": [
    "#### 3차원 데이터 구성하기"
   ]
  },
  {
   "cell_type": "code",
   "execution_count": null,
   "metadata": {
    "slideshow": {
     "slide_type": "fragment"
    }
   },
   "outputs": [],
   "source": [
    "# 3차원 데이터 구성\n",
    "in0 = np.array([\n",
    "    [1,4,2,0],\n",
    "    [2,3,1,0],\n",
    "    [3,1,2,3],\n",
    "    [4,3,2,1]\n",
    "])\n",
    "in1 = np.array([\n",
    "    [1,7,2,1],\n",
    "    [3,2,1,9],\n",
    "    [0,1,5,1],\n",
    "    [4,6,2,4]\n",
    "])\n",
    "in2 = np.array([\n",
    "    [1,5,2,1],\n",
    "    [3,2,1,9],\n",
    "    [0,1,3,1],\n",
    "    [4,6,2,7]\n",
    "])\n",
    "values = np.stack([in0, in1, in2],axis=-1)\n",
    "print(\"입력값의 형태 (H, W, C) :({},{},{})\".format(*values.shape))\n"
   ]
  },
  {
   "cell_type": "code",
   "execution_count": null,
   "metadata": {
    "scrolled": true,
    "slideshow": {
     "slide_type": "fragment"
    }
   },
   "outputs": [],
   "source": [
    "# Max pooling 연산 진행\n",
    "filters = 2\n",
    "strides = 2\n",
    "result = np.zeros([2,2,3])\n",
    "for i in range(0,values.shape[0],strides):\n",
    "    for j in range(0,values.shape[1],strides):\n",
    "        for k in range(0,values.shape[2]):\n",
    "            patch = values[i:i+filters,j:j+filters,k]\n",
    "            result[i//2,j//2,k] = np.max(patch)\n",
    "\n",
    "print(\"출력값의 형태 (H, W, C) :({},{},{})\".format(*result.shape))\n",
    "result\n"
   ]
  },
  {
   "cell_type": "markdown",
   "metadata": {
    "slideshow": {
     "slide_type": "notes"
    }
   },
   "source": [
    "합성곱 신경망에서는 풀링 층을 사용해 표현의 크기를 줄임으로써 \n",
    "1. 계산 시간을 줄이고,\n",
    "2. 메모리의 사용량을 줄이며,\n",
    "3. 특징을 좀 더 안정적으로 검출할 수 있도록 합니다.<br>\n"
   ]
  },
  {
   "cell_type": "markdown",
   "metadata": {
    "slideshow": {
     "slide_type": "subslide"
    }
   },
   "source": [
    "#### Keras 로 Max 풀링 연산 수행하기"
   ]
  },
  {
   "cell_type": "code",
   "execution_count": null,
   "metadata": {
    "slideshow": {
     "slide_type": "fragment"
    }
   },
   "outputs": [],
   "source": [
    "# Max Pooling 적용 with Keras\n",
    "res_values = values.reshape(1,4,4,3)\n",
    "inputs = Input(shape=(4,4,3))\n",
    "max_0 = MaxPooling2D(strides=2)(inputs)\n",
    "\n",
    "model = Model(inputs, max_0)\n",
    "model.predict(res_values)\n"
   ]
  },
  {
   "cell_type": "markdown",
   "metadata": {
    "slideshow": {
     "slide_type": "fragment"
    }
   },
   "source": [
    "#### Keras 로 Average 풀링 연산 수행하기"
   ]
  },
  {
   "cell_type": "code",
   "execution_count": null,
   "metadata": {
    "scrolled": false,
    "slideshow": {
     "slide_type": "fragment"
    }
   },
   "outputs": [],
   "source": [
    "# Average Pooling 적용 with Keras\n",
    "res_values = values.reshape(1,4,4,3)\n",
    "inputs = Input(shape=(4,4,3))\n",
    "max_0 = AveragePooling2D(strides=2)(inputs)\n",
    "\n",
    "model = Model(inputs, max_0)\n",
    "model.predict(res_values)\n"
   ]
  },
  {
   "cell_type": "markdown",
   "metadata": {
    "slideshow": {
     "slide_type": "slide"
    }
   },
   "source": [
    "### Max pooling 과 Average Pooling  의 차이 \n",
    "\n",
    "---\n",
    "\n",
    "* Max Pooling 은 window 중 큰 값을 추출 합니다. 그렇기 때문에 값의 평준화가 일어납니다. \n",
    "* Average Pooling 은 값의 높낮이가 일정 이상 유지 됩니다. \n",
    "\n"
   ]
  },
  {
   "cell_type": "markdown",
   "metadata": {
    "slideshow": {
     "slide_type": "fragment"
    }
   },
   "source": [
    "#### 기본 이미지데이터 불러오기"
   ]
  },
  {
   "cell_type": "code",
   "execution_count": null,
   "metadata": {
    "scrolled": true,
    "slideshow": {
     "slide_type": "fragment"
    }
   },
   "outputs": [],
   "source": [
    "# 예시 이미지 불러오기\n",
    "from sklearn.datasets import load_sample_images\n",
    "dataset = load_sample_images()    \n",
    "first_img_data = dataset.images[1] \n",
    "\n",
    "plt.imshow(first_img_data)\n",
    "plt.title('background')\n",
    "plt.show()"
   ]
  },
  {
   "cell_type": "code",
   "execution_count": null,
   "metadata": {},
   "outputs": [],
   "source": [
    "# 예시 이미지 shape\n",
    "first_img_data.shape"
   ]
  },
  {
   "cell_type": "markdown",
   "metadata": {
    "slideshow": {
     "slide_type": "subslide"
    }
   },
   "source": [
    "#### Maxpooling 적용"
   ]
  },
  {
   "cell_type": "code",
   "execution_count": null,
   "metadata": {
    "slideshow": {
     "slide_type": "fragment"
    }
   },
   "outputs": [],
   "source": [
    "# Maxpooling\n",
    "res_first_img_data = np.expand_dims(first_img_data, axis=0)\n",
    "inputs = Input(shape=(427, 640 ,3))\n",
    "max_0 = MaxPooling2D(strides=2)(inputs)\n",
    "\n",
    "model = Model(inputs, max_0)\n",
    "\n",
    "mxpl_img = model.predict(res_first_img_data)\n",
    "print(mxpl_img.shape)\n",
    "plt.imshow(mxpl_img[0]/255.)\n"
   ]
  },
  {
   "cell_type": "markdown",
   "metadata": {
    "slideshow": {
     "slide_type": "subslide"
    }
   },
   "source": [
    "#### `pool_size`를 10으로 설정해 Maxpooling 적용"
   ]
  },
  {
   "cell_type": "code",
   "execution_count": null,
   "metadata": {
    "slideshow": {
     "slide_type": "fragment"
    }
   },
   "outputs": [],
   "source": [
    "# pool_size = 10 Maxpooling\n",
    "res_first_img_data = np.expand_dims(first_img_data, axis=0)\n",
    "inputs = Input(shape=(427, 640 ,3))\n",
    "max_0 = MaxPooling2D(10, strides=2)(inputs)\n",
    "\n",
    "model = Model(inputs, max_0)\n",
    "mxpl_img = model.predict(res_first_img_data)\n",
    "print(mxpl_img.shape)\n",
    "plt.imshow(mxpl_img[0]/255.)\n"
   ]
  },
  {
   "cell_type": "markdown",
   "metadata": {
    "slideshow": {
     "slide_type": "subslide"
    }
   },
   "source": [
    "#### `pool_size`를 10으로 설정해 Averagepooling 적용"
   ]
  },
  {
   "cell_type": "code",
   "execution_count": null,
   "metadata": {
    "scrolled": false,
    "slideshow": {
     "slide_type": "fragment"
    }
   },
   "outputs": [],
   "source": [
    "# pool_size = 10 Averagepooling\n",
    "\n",
    "res_first_img_data = np.expand_dims(first_img_data, axis=0)\n",
    "inputs = Input(shape=(427, 640 ,3))\n",
    "max_0 = AveragePooling2D(10, strides=2)(inputs)\n",
    "\n",
    "model = Model(inputs, max_0)\n",
    "mxpl_img = model.predict(res_first_img_data)\n",
    "print(mxpl_img.shape)\n",
    "plt.imshow(mxpl_img[0]/255.)\n"
   ]
  },
  {
   "cell_type": "markdown",
   "metadata": {
    "slideshow": {
     "slide_type": "slide"
    }
   },
   "source": [
    "## `5. 합성곱신경망의 풀링 연산` 마무리\n",
    "\n",
    "\n",
    "---"
   ]
  },
  {
   "cell_type": "markdown",
   "metadata": {},
   "source": [
    "\n"
   ]
  },
  {
   "cell_type": "markdown",
   "metadata": {
    "slideshow": {
     "slide_type": "slide"
    }
   },
   "source": [
    "![](../../src/logo.png)"
   ]
  }
 ],
 "metadata": {
  "celltoolbar": "Slideshow",
  "kernelspec": {
   "display_name": "Python 3",
   "language": "python",
   "name": "python3"
  },
  "language_info": {
   "codemirror_mode": {
    "name": "ipython",
    "version": 3
   },
   "file_extension": ".py",
   "mimetype": "text/x-python",
   "name": "python",
   "nbconvert_exporter": "python",
   "pygments_lexer": "ipython3",
   "version": "3.8.8"
  },
  "toc": {
   "base_numbering": 1,
   "nav_menu": {},
   "number_sections": false,
   "sideBar": true,
   "skip_h1_title": false,
   "title_cell": "Table of Contents",
   "title_sidebar": "Contents",
   "toc_cell": false,
   "toc_position": {},
   "toc_section_display": true,
   "toc_window_display": false
  },
  "varInspector": {
   "cols": {
    "lenName": 16,
    "lenType": 16,
    "lenVar": 40
   },
   "kernels_config": {
    "python": {
     "delete_cmd_postfix": "",
     "delete_cmd_prefix": "del ",
     "library": "var_list.py",
     "varRefreshCmd": "print(var_dic_list())"
    },
    "r": {
     "delete_cmd_postfix": ") ",
     "delete_cmd_prefix": "rm(",
     "library": "var_list.r",
     "varRefreshCmd": "cat(var_dic_list()) "
    }
   },
   "types_to_exclude": [
    "module",
    "function",
    "builtin_function_or_method",
    "instance",
    "_Feature"
   ],
   "window_display": false
  }
 },
 "nbformat": 4,
 "nbformat_minor": 2
}
