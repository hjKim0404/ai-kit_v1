{
 "cells": [
  {
   "cell_type": "markdown",
   "metadata": {
    "slideshow": {
     "slide_type": "slide"
    }
   },
   "source": [
    "**_합성곱신경망(CNN) 기본기_**\n",
    "\n",
    "\n",
    "# 필터와 합성곱연산"
   ]
  },
  {
   "cell_type": "markdown",
   "metadata": {
    "slideshow": {
     "slide_type": "fragment"
    }
   },
   "source": [
    "### _Objective_\n",
    "\n",
    "1. `이미지 데이터`를 넘파이 배열로 불러와 그 형태를 확인하고 특징과 구조를 이해합니다."
   ]
  },
  {
   "cell_type": "markdown",
   "metadata": {
    "slideshow": {
     "slide_type": "fragment"
    }
   },
   "source": [
    "2. `Dense` 층으로만 구성된 네트워크로`컴퓨터 비전`을 구현해보고 발생하는 어려움을 이해합니다."
   ]
  },
  {
   "cell_type": "markdown",
   "metadata": {
    "slideshow": {
     "slide_type": "fragment"
    }
   },
   "source": [
    "3. 동물의 시각이 사물을 인지하는 방법을 배우고 이를 컴퓨터 비전에 어떻게 이용할 수 있을지 생각해봅니다."
   ]
  },
  {
   "cell_type": "markdown",
   "metadata": {
    "slideshow": {
     "slide_type": "slide"
    }
   },
   "source": [
    "#### 필요한 패키지 호출"
   ]
  },
  {
   "cell_type": "code",
   "execution_count": null,
   "metadata": {},
   "outputs": [],
   "source": [
    "%matplotlib inline\n",
    "import numpy as np\n",
    "import pandas as pd\n",
    "import tensorflow as tf\n",
    "import matplotlib.pyplot as plt\n",
    "from PIL import Image"
   ]
  },
  {
   "cell_type": "markdown",
   "metadata": {
    "colab_type": "text",
    "id": "5UL_wFLEZWiG",
    "slideshow": {
     "slide_type": "slide"
    }
   },
   "source": [
    "## \\[ 1. 합성곱 연산으로 특징 추출하기 \\]\n",
    "\n",
    "----\n",
    "\n",
    "pass\n",
    "\n",
    "합성곱 연산은 딥러닝이 도입되기 이전부터, 컴퓨터비전 분야에서 영상 속 특징을 파악하기 위해,이용된 방법입니다.<br>\n",
    "몇 가지 예시를 통해, 어떤 식으로 특징을 추출 하는지 파악해보도록 하겠습니다."
   ]
  },
  {
   "cell_type": "markdown",
   "metadata": {
    "colab_type": "text",
    "id": "-laBzOBmZWiH",
    "slideshow": {
     "slide_type": "subslide"
    }
   },
   "source": [
    "### 합성곱 연산의 동작\n",
    "---\n",
    "<img src=\"./img/1_7.gif\" width=500>\n",
    "\n",
    "`합성곱(convolution, 콘벌루션)`은 <br>\n",
    "+ 특정 픽셀과 인접한 픽셀들만을 입력 $X_1$로 하고<br>\n",
    "+ 그 입력과 동일한 모양의 고정된 필터(커널) $W$가 있을 때<br>\n",
    "+ 각 원소별 곱셈의 합을 그 위치의 결과로 도출 $y_1 = (x \\ast w)(t)= \\sum{X \\circ W}$<br>\n",
    "+ 입력 $X$의 위치를 옮겨가며 2차원의 출력 $Y$ \n",
    "\n",
    "( ⚠︎ 합성곱의 정의를 본 강의의 주제에 맞게 수정하였음 ) <br>\n",
    "합성곱의 정의; \"하나의 함수와 또 다른 함수를 반전 이동한 값을 곱한 다음, 구간에 대해 적분하여 새로운 함수를 구하는 수학 연산자\""
   ]
  },
  {
   "cell_type": "markdown",
   "metadata": {
    "slideshow": {
     "slide_type": "notes"
    }
   },
   "source": [
    "```python\n",
    "\"\"\"\n",
    "합성곱을 연산하기 위해서는 입력 특징 맵과 필터가 필요합니다.\n",
    "\"\"\"\n",
    "```"
   ]
  },
  {
   "cell_type": "markdown",
   "metadata": {
    "colab_type": "text",
    "id": "rTHu7byaZWiH",
    "slideshow": {
     "slide_type": "subslide"
    }
   },
   "source": [
    "#### (1) 입력 특징 맵과 필터를 구성하기"
   ]
  },
  {
   "cell_type": "code",
   "execution_count": null,
   "metadata": {
    "colab": {
     "base_uri": "https://localhost:8080/",
     "height": 88
    },
    "colab_type": "code",
    "id": "AX_hnqygZWiI",
    "outputId": "369d78cb-6982-4162-a910-126650ad3493",
    "slideshow": {
     "slide_type": "fragment"
    }
   },
   "outputs": [],
   "source": [
    "features = np.array([\n",
    "    [ 1, 1, 1, 0, 0],\n",
    "    [ 0, 1, 1, 1, 0],\n",
    "    [ 0, 0, 1, 1, 1],\n",
    "    [ 0, 0, 1, 1, 0],\n",
    "    [ 0, 1, 1, 0, 0]])\n",
    "\n",
    "filter_ = np.array([\n",
    "    [1,0,1],\n",
    "    [0,1,0],\n",
    "    [1,0,1]])"
   ]
  },
  {
   "cell_type": "code",
   "execution_count": null,
   "metadata": {
    "slideshow": {
     "slide_type": "fragment"
    }
   },
   "outputs": [],
   "source": [
    "print(\"features : \\n\", features)\n",
    "print(\"features shape : \", features.shape)\n",
    "print(\"filter : \\n\", filter_)\n",
    "print(\"filter shape : \", filter_.shape)"
   ]
  },
  {
   "cell_type": "markdown",
   "metadata": {
    "colab_type": "text",
    "id": "Qlg2sjBIZWiN",
    "slideshow": {
     "slide_type": "subslide"
    }
   },
   "source": [
    "#### (2)  합성곱 연산 수행하기\n",
    "\n",
    "\n",
    "![](https://miro.medium.com/max/1052/1*GcI7G-JLAQiEoCON7xFbhg.gif)\n",
    "\n",
    "+ 합성곱 연산으로 특징 맵에서 필터의 크기만큼 패치를 추출\n",
    "+ 해당 패치와 필터끼리 대응하는 원소끼리 곱한 후, 그 총합을 계산 $y_1 = \\sum{X \\circ W}$<br>\n",
    "\n",
    "(패치; 전체 데이터 또는 변수 집합 중 해당 시점에 해당하는 일부분. 여기서는 특정 필터 위치와 인근한 데이터/가중치집합)"
   ]
  },
  {
   "cell_type": "code",
   "execution_count": null,
   "metadata": {
    "slideshow": {
     "slide_type": "fragment"
    }
   },
   "outputs": [],
   "source": [
    "# 합성곱(컨볼루션) 함수 정의\n",
    "def convolution(feature, filter_):\n",
    "    \n",
    "    # convolution 과정 후 결과가 담길 matrix 생성하기\n",
    "    result_h = feature.shape[0]- filter_.shape[0] + 1\n",
    "    result_w = feature.shape[1]- filter_.shape[1] + 1\n",
    "    filter_h = filter_.shape[0]\n",
    "    filter_w = filter_.shape[1]\n",
    "    result = np.zeros([result_h, result_w])\n",
    "    \n",
    "    # Loop 구문을 돌면서 Convolution 연산 수행\n",
    "    for i in range(result_h):\n",
    "        for j in range(result_w):\n",
    "            # (1) 특징 맵에서 필터크기 만큼 패치를 하나씩 가져옴\n",
    "            patch = feature[i:i+filter_h, j:j+filter_w] \n",
    "            # (2) 원소 별로 곱한 후 그 총합을 계산\n",
    "            value = np.sum(patch * filter_)\n",
    "            # (3) 결과를 result에 저장\n",
    "            result[i,j] = np.clip(np.abs(value),0,255) ## 픽셀값은 0부터 255사이의 값만 가진다.\n",
    "    return result"
   ]
  },
  {
   "cell_type": "code",
   "execution_count": null,
   "metadata": {
    "slideshow": {
     "slide_type": "fragment"
    }
   },
   "outputs": [],
   "source": [
    "convolution(features, filter_)"
   ]
  },
  {
   "cell_type": "markdown",
   "metadata": {
    "colab_type": "text",
    "id": "piWpdiDPZWiQ",
    "slideshow": {
     "slide_type": "subslide"
    }
   },
   "source": [
    "#### (3) 합성곱 연산의 장점\n",
    "\n",
    "+ `파라미터 공유 (Parameter Sharing)`\n",
    "        이미지의 한 부분에 유의미했던 필터가 다른 부분에서도 동일하게 유의미할 수 있음\n",
    "        → 각 픽셀 위치마다 파라미터를 가지는 것이 아닌, 공유되는 파라미터로 전체를 학습\n",
    "        → 파라미터의 수를 획기적으로 감소시킴\n",
    "\n",
    "+ `희소 연결성 (Sparse Connectivity)`\n",
    "        출력값이 이미지의 일부(작은 입력값)에 영향을 받고, 나머지 픽셀들의 영향을 거의 받지 않음\n",
    "        → 특정 픽셀과 인접한 픽셀만으로 파라미터를 학습\n",
    "        → 한번의 학습에 이미지의 일부만 사용하여 일반화된 모델 획득"
   ]
  },
  {
   "cell_type": "markdown",
   "metadata": {
    "colab_type": "text",
    "id": "5UL_wFLEZWiG",
    "slideshow": {
     "slide_type": "slide"
    }
   },
   "source": [
    "## \\[ 2. 특징을 추출하는 필터 \\]\n",
    "\n",
    "----\n",
    "\n",
    "pass"
   ]
  },
  {
   "cell_type": "markdown",
   "metadata": {
    "slideshow": {
     "slide_type": "slide"
    }
   },
   "source": [
    "### 필터(filter)\n",
    "\n",
    "---\n",
    "\n",
    "![1_8](./img/1_8.png)\n",
    "\n",
    "+ 합성곱연산에서 파라미터 집합 W를 필터라고 한다.\n",
    "+ 패치 입력과 필터의 합성곱 연산으로 특징이 추출된다.\n",
    "+ 필터의 값에 따라 서로 다른 특징을 추출해낸다.\n",
    "+ 합성곱신경망에서 학습이 되는 대상이다.\n",
    "\n",
    "( 합성곱신경망에서 필터(filter)와 커널(kernel)은 유사한 의미로 사용된다. 본 강의에서는 혼용해서 사용한다. ) "
   ]
  },
  {
   "cell_type": "markdown",
   "metadata": {
    "colab_type": "text",
    "id": "b234hk9uZWiR",
    "slideshow": {
     "slide_type": "slide"
    }
   },
   "source": [
    "### 예제1 ) 수직선을 추출하는 필터\n",
    "\n",
    "---\n",
    "\n",
    "+ 이미지 내의 **세로 선분의 특징을 잡아내는 필터**의 예시\n",
    "+ 이미지 데이터와 해당 필터의 합성곱연산으로 **수직선**만 남김\n",
    "+ 이때, 수직선의 특징 **\"특정 픽셀에 인접한 좌,우 픽셀의 값이 변함\"**을 잡아내는 필터 예시"
   ]
  },
  {
   "cell_type": "markdown",
   "metadata": {
    "slideshow": {
     "slide_type": "subslide"
    }
   },
   "source": [
    "#### 수직선을 추출하는 필터 예시\n",
    "\n",
    "특정 픽셀을 기준으로 좌,우에 인접한 픽셀이 서로 다른 값을 가진 픽셀만을 남기는 필터"
   ]
  },
  {
   "cell_type": "code",
   "execution_count": null,
   "metadata": {
    "slideshow": {
     "slide_type": "fragment"
    }
   },
   "outputs": [],
   "source": [
    "v_filter = np.array([\n",
    "    [1,0,-1],\n",
    "    [2,0,-2],\n",
    "    [1,0,-1],\n",
    "])\n",
    "plt.imshow(v_filter,cmap='gray')\n",
    "plt.show()"
   ]
  },
  {
   "cell_type": "markdown",
   "metadata": {
    "slideshow": {
     "slide_type": "subslide"
    }
   },
   "source": [
    "#### 수평만 존재하는 이미지에 수직선 추출 필터 적용하기"
   ]
  },
  {
   "cell_type": "code",
   "execution_count": null,
   "metadata": {
    "slideshow": {
     "slide_type": "fragment"
    }
   },
   "outputs": [],
   "source": [
    "h_sample = np.repeat(np.array([[255,255,0,0,0,255,255]]).T, 7, axis=-1)\n",
    "plt.imshow(h_sample,cmap=\"gray\")\n",
    "plt.show()"
   ]
  },
  {
   "cell_type": "code",
   "execution_count": null,
   "metadata": {
    "slideshow": {
     "slide_type": "fragment"
    }
   },
   "outputs": [],
   "source": [
    "# 수평만 존재하는 이미지에 수직선 추출 필터를 적용했을 경우\n",
    "result = convolution(h_sample, v_filter)\n",
    "print(result)"
   ]
  },
  {
   "cell_type": "code",
   "execution_count": null,
   "metadata": {
    "slideshow": {
     "slide_type": "fragment"
    }
   },
   "outputs": [],
   "source": [
    "plt.imshow(result, cmap=\"gray\")\n",
    "plt.show()"
   ]
  },
  {
   "cell_type": "markdown",
   "metadata": {
    "slideshow": {
     "slide_type": "subslide"
    }
   },
   "source": [
    "#### 수직만 존재하는 이미지에 수직선 추출 필터 적용하기"
   ]
  },
  {
   "cell_type": "code",
   "execution_count": null,
   "metadata": {
    "slideshow": {
     "slide_type": "fragment"
    }
   },
   "outputs": [],
   "source": [
    "v_sample = np.repeat(np.array([[255,255,0,0,0,255,255]]), 7, axis=0)\n",
    "plt.imshow(v_sample,cmap=\"gray\")\n",
    "plt.show()"
   ]
  },
  {
   "cell_type": "code",
   "execution_count": null,
   "metadata": {
    "slideshow": {
     "slide_type": "fragment"
    }
   },
   "outputs": [],
   "source": [
    "# 수평만 존재하는 이미지에 수직선 추출 필터를 적용했을 경우\n",
    "result = convolution(v_sample, v_filter)\n",
    "print(result)"
   ]
  },
  {
   "cell_type": "code",
   "execution_count": null,
   "metadata": {
    "slideshow": {
     "slide_type": "fragment"
    }
   },
   "outputs": [],
   "source": [
    "plt.imshow(result, cmap=\"gray\")\n",
    "plt.show()"
   ]
  },
  {
   "cell_type": "markdown",
   "metadata": {
    "slideshow": {
     "slide_type": "subslide"
    }
   },
   "source": [
    "#### 다양한 선분으로 구성된 이미지에 수직선 추출 필터를 적용했을 경우\n",
    "\n",
    "두 화살표가 표현된 이미지 데이터"
   ]
  },
  {
   "cell_type": "code",
   "execution_count": null,
   "metadata": {
    "slideshow": {
     "slide_type": "fragment"
    }
   },
   "outputs": [],
   "source": [
    "image = np.array(Image.open('./img/arrows.jpg').convert('L'))\n",
    "\n",
    "plt.imshow(image,cmap='gray')\n",
    "plt.show()"
   ]
  },
  {
   "cell_type": "code",
   "execution_count": null,
   "metadata": {
    "colab": {
     "base_uri": "https://localhost:8080/",
     "height": 287
    },
    "colab_type": "code",
    "id": "wFGeeiWJVAZ8",
    "outputId": "555f6dd9-e71d-4547-dfdb-edafa51ea0db",
    "slideshow": {
     "slide_type": "fragment"
    }
   },
   "outputs": [],
   "source": [
    "result = convolution(image, v_filter)\n",
    "result"
   ]
  },
  {
   "cell_type": "code",
   "execution_count": null,
   "metadata": {
    "slideshow": {
     "slide_type": "fragment"
    }
   },
   "outputs": [],
   "source": [
    "plt.imshow(result, cmap=\"gray\")\n",
    "plt.show()"
   ]
  },
  {
   "cell_type": "markdown",
   "metadata": {
    "colab_type": "text",
    "id": "b234hk9uZWiR",
    "slideshow": {
     "slide_type": "slide"
    }
   },
   "source": [
    "### 예제2 ) 수평선을 추출하는 필터\n",
    "\n",
    "---\n",
    "\n",
    "+ 이미지 내의 **가로 선분의 특징을 잡아내는 필터**의 예시\n",
    "+ 이미지 데이터와 해당 필터의 합성곱연산으로 **수평선**만 남김\n",
    "+ 이때, 수직선의 특징 **\"특정 픽셀에 인접한 상,하 픽셀의 값이 변함\"**을 잡아내는 필터 예시"
   ]
  },
  {
   "cell_type": "markdown",
   "metadata": {
    "slideshow": {
     "slide_type": "subslide"
    }
   },
   "source": [
    "#### 수평선을 추출하는 필터 예시\n",
    "\n",
    "특정 픽셀을 기준으로 상,하에 인접한 픽셀이 서로 다른 값을 가진 픽셀만을 남기는 필터"
   ]
  },
  {
   "cell_type": "code",
   "execution_count": null,
   "metadata": {
    "slideshow": {
     "slide_type": "fragment"
    }
   },
   "outputs": [],
   "source": [
    "h_filter = np.array([\n",
    "    [1,2,1],\n",
    "    [0,0,0],\n",
    "    [-1,-2,-1],\n",
    "])\n",
    "plt.imshow(h_filter,cmap='gray')\n",
    "plt.show()"
   ]
  },
  {
   "cell_type": "markdown",
   "metadata": {
    "slideshow": {
     "slide_type": "subslide"
    }
   },
   "source": [
    "#### 수평만 존재하는 이미지에 수평선 추출 필터 적용하기"
   ]
  },
  {
   "cell_type": "code",
   "execution_count": null,
   "metadata": {
    "slideshow": {
     "slide_type": "fragment"
    }
   },
   "outputs": [],
   "source": [
    "h_sample = np.repeat(np.array([[255,255,0,0,0,255,255]]).T, 7, axis=-1)\n",
    "plt.imshow(h_sample,cmap=\"gray\")\n",
    "plt.show()"
   ]
  },
  {
   "cell_type": "code",
   "execution_count": null,
   "metadata": {
    "slideshow": {
     "slide_type": "fragment"
    }
   },
   "outputs": [],
   "source": [
    "# 수평만 존재하는 이미지에 수평선 추출 필터를 적용했을 경우\n",
    "result = convolution(h_sample, h_filter)\n",
    "print(result)"
   ]
  },
  {
   "cell_type": "code",
   "execution_count": null,
   "metadata": {
    "slideshow": {
     "slide_type": "fragment"
    }
   },
   "outputs": [],
   "source": [
    "plt.imshow(result, cmap=\"gray\")\n",
    "plt.show()"
   ]
  },
  {
   "cell_type": "markdown",
   "metadata": {
    "slideshow": {
     "slide_type": "subslide"
    }
   },
   "source": [
    "#### 수직만 존재하는 이미지에 수평선 추출 필터 적용하기"
   ]
  },
  {
   "cell_type": "code",
   "execution_count": null,
   "metadata": {
    "slideshow": {
     "slide_type": "fragment"
    }
   },
   "outputs": [],
   "source": [
    "v_sample = np.repeat(np.array([[255,255,0,0,0,255,255]]), 7, axis=0)\n",
    "plt.imshow(v_sample,cmap=\"gray\")\n",
    "plt.show()"
   ]
  },
  {
   "cell_type": "code",
   "execution_count": null,
   "metadata": {
    "slideshow": {
     "slide_type": "fragment"
    }
   },
   "outputs": [],
   "source": [
    "# 수평만 존재하는 이미지에 수평선 추출 필터를 적용했을 경우\n",
    "result = convolution(v_sample, h_filter)\n",
    "print(result)"
   ]
  },
  {
   "cell_type": "code",
   "execution_count": null,
   "metadata": {
    "slideshow": {
     "slide_type": "fragment"
    }
   },
   "outputs": [],
   "source": [
    "plt.imshow(result, cmap=\"gray\")\n",
    "plt.show()"
   ]
  },
  {
   "cell_type": "markdown",
   "metadata": {
    "slideshow": {
     "slide_type": "subslide"
    }
   },
   "source": [
    "#### 다양한 선분으로 구성된 이미지에 수평선 추출 필터를 적용했을 경우\n",
    "\n",
    "두 화살표가 표현된 이미지 데이터"
   ]
  },
  {
   "cell_type": "code",
   "execution_count": null,
   "metadata": {
    "slideshow": {
     "slide_type": "fragment"
    }
   },
   "outputs": [],
   "source": [
    "image = np.array(Image.open('./img/arrows.jpg').convert('L'))\n",
    "\n",
    "plt.imshow(image,cmap='gray')\n",
    "plt.show()"
   ]
  },
  {
   "cell_type": "code",
   "execution_count": null,
   "metadata": {
    "colab": {
     "base_uri": "https://localhost:8080/",
     "height": 287
    },
    "colab_type": "code",
    "id": "wFGeeiWJVAZ8",
    "outputId": "555f6dd9-e71d-4547-dfdb-edafa51ea0db",
    "slideshow": {
     "slide_type": "fragment"
    }
   },
   "outputs": [],
   "source": [
    "result = convolution(image, h_filter)\n",
    "result"
   ]
  },
  {
   "cell_type": "code",
   "execution_count": null,
   "metadata": {
    "slideshow": {
     "slide_type": "fragment"
    }
   },
   "outputs": [],
   "source": [
    "plt.imshow(result, cmap=\"gray\")\n",
    "plt.show()"
   ]
  },
  {
   "cell_type": "markdown",
   "metadata": {
    "colab_type": "text",
    "id": "8Q8rdEwAZWig",
    "slideshow": {
     "slide_type": "slide"
    }
   },
   "source": [
    "### 예제3 ) 이미지에서 윤곽선을 추출하기\n",
    "\n",
    "---\n",
    "\n",
    "+ 윤곽선의 특징 \"특정 픽셀을 기준으로 인접한 픽셀들의 값이 크게 변화함\"<br>\n",
    "  → 값이 변하는 부분을 가져온 후 크기를 계산 \n",
    "+ 수평선, 수직선의 특징을 조합하여 윤곽선 추출"
   ]
  },
  {
   "cell_type": "markdown",
   "metadata": {
    "colab_type": "text",
    "id": "UaGPLqriZWig",
    "slideshow": {
     "slide_type": "subslide"
    }
   },
   "source": [
    "#### 윤곽선이 있는 이미지 데이터\n",
    "\n",
    "윤곽선을 추출할 손바닥 이미지"
   ]
  },
  {
   "cell_type": "code",
   "execution_count": null,
   "metadata": {
    "colab": {
     "base_uri": "https://localhost:8080/",
     "height": 484
    },
    "colab_type": "code",
    "id": "tNkBSQPEZWih",
    "outputId": "7ebf3768-7937-4ccd-c313-baf27f8d0623",
    "slideshow": {
     "slide_type": "fragment"
    }
   },
   "outputs": [],
   "source": [
    "hand_image = np.array(Image.open('./img/hands.jpeg').convert('L'))\n",
    "plt.imshow(hand_image,cmap='gray')\n",
    "plt.show()"
   ]
  },
  {
   "cell_type": "markdown",
   "metadata": {
    "colab_type": "text",
    "id": "jDwdPOFQZWik",
    "slideshow": {
     "slide_type": "subslide"
    }
   },
   "source": [
    "#### 수직 방향, 수평 방향 특징 추출\n",
    "\n",
    "수평선, 수직선 특징을 추출하는 필터를 이용하여 먼저 수평,수직의 값 변화 특징을 추출"
   ]
  },
  {
   "cell_type": "code",
   "execution_count": null,
   "metadata": {
    "colab": {},
    "colab_type": "code",
    "id": "yXcqzWvIYOmy",
    "slideshow": {
     "slide_type": "fragment"
    }
   },
   "outputs": [],
   "source": [
    "w_sobel = np.array([\n",
    "    [1,2,1],\n",
    "    [0,0,0],\n",
    "    [-1,-2,-1],\n",
    "])\n",
    "\n",
    "h_sobel = np.array([\n",
    "    [1,0,-1],\n",
    "    [2,0,-2],\n",
    "    [1,0,-1],\n",
    "])"
   ]
  },
  {
   "cell_type": "code",
   "execution_count": null,
   "metadata": {
    "slideshow": {
     "slide_type": "fragment"
    }
   },
   "outputs": [],
   "source": [
    "w_image = convolution(hand_image, w_sobel)\n",
    "h_image = convolution(hand_image, h_sobel)"
   ]
  },
  {
   "cell_type": "markdown",
   "metadata": {
    "colab_type": "text",
    "id": "lDdRGRybZWim",
    "slideshow": {
     "slide_type": "subslide"
    }
   },
   "source": [
    "#### 수직 방향, 수평 방향 특징 시각화"
   ]
  },
  {
   "cell_type": "code",
   "execution_count": null,
   "metadata": {
    "colab": {
     "base_uri": "https://localhost:8080/",
     "height": 269
    },
    "colab_type": "code",
    "id": "YEy9SNVxZWin",
    "outputId": "4eabd578-f48c-4f27-9e5e-a6590c49981c",
    "slideshow": {
     "slide_type": "fragment"
    }
   },
   "outputs": [],
   "source": [
    "fig = plt.figure(figsize=(10,10))\n",
    "\n",
    "ax = fig.add_subplot(1,3,1)\n",
    "ax.set_title('original image') # 기존의 데이터\n",
    "ax.imshow(hand_image,cmap='gray')\n",
    "\n",
    "ax = fig.add_subplot(1,3,2)\n",
    "ax.set_title('w sobel image') # 수평 특징\n",
    "ax.imshow(w_image, cmap='gray')\n",
    "\n",
    "ax = fig.add_subplot(1,3,3)\n",
    "ax.set_title('h sobel image') # 수직 특징\n",
    "ax.imshow(h_image, cmap='gray')\n",
    "plt.show()"
   ]
  },
  {
   "cell_type": "markdown",
   "metadata": {
    "colab_type": "text",
    "id": "s_aE9O1dZWit",
    "slideshow": {
     "slide_type": "subslide"
    }
   },
   "source": [
    "#### 특징을 조합하여 윤곽선 추출\n",
    "\n",
    "\n",
    "수평 방향의 변화 특징과 수직 방향의 변화 특징을 모두 살리므로써 나타낼 수 있음<br>\n",
    "\n",
    "$$\n",
    "I_{i,j} = W_{i,j}+H_{i,j}\n",
    "$$"
   ]
  },
  {
   "cell_type": "code",
   "execution_count": null,
   "metadata": {
    "colab": {
     "base_uri": "https://localhost:8080/",
     "height": 381
    },
    "colab_type": "code",
    "id": "v1RuftrBZWit",
    "outputId": "c21aa753-ddd5-41e5-f61b-1856bc76c255",
    "slideshow": {
     "slide_type": "fragment"
    }
   },
   "outputs": [],
   "source": [
    "edge_image = np.clip(np.abs(w_image+h_image),0,255) # 픽셀은 0~255사이의 값을 가지므로\n",
    "edge_image = edge_image.astype(np.uint8)\n",
    "\n",
    "fig = plt.figure(figsize=(10,10))\n",
    "ax = fig.add_subplot(1,2,1)\n",
    "ax.set_title('original image')\n",
    "\n",
    "ax.imshow(hand_image,cmap='gray')\n",
    "ax = fig.add_subplot(1,2,2)\n",
    "ax.set_title('edge image')\n",
    "ax.imshow(edge_image,cmap='gray')\n",
    "plt.show()"
   ]
  },
  {
   "cell_type": "code",
   "execution_count": null,
   "metadata": {
    "slideshow": {
     "slide_type": "fragment"
    }
   },
   "outputs": [],
   "source": [
    "edge_image = np.where(np.abs(w_image+h_image)>=255,255,0) # 만약 윤곽선을 더욱 선명하게 하고 싶다면\n",
    "edge_image = edge_image.astype(np.uint8)\n",
    "\n",
    "fig = plt.figure(figsize=(10,10))\n",
    "ax = fig.add_subplot(1,2,1)\n",
    "ax.set_title('original image')\n",
    "ax.imshow(hand_image,cmap='gray')\n",
    "\n",
    "ax = fig.add_subplot(1,2,2)\n",
    "ax.set_title('edge image')\n",
    "ax.imshow(edge_image,cmap='gray')\n",
    "plt.show()"
   ]
  },
  {
   "cell_type": "markdown",
   "metadata": {
    "slideshow": {
     "slide_type": "slide"
    }
   },
   "source": [
    "### 예제4 ) 텐서플로우를 활용한 윤곽선 필터의 합성곱연산\n",
    "\n",
    "---\n",
    "\n",
    "+ 텐서플로우를 활용하여 윤곽선 특징을 잡아내는 필터를 이미지에 적용\n",
    "+ 합성곱연산은 케라스의 `Conv2D` 레이어를 통해 구현\n",
    "+ 필터를 직접 정의하고 이미지를 입력하여 출력을 확인"
   ]
  },
  {
   "cell_type": "markdown",
   "metadata": {
    "slideshow": {
     "slide_type": "subslide"
    }
   },
   "source": [
    "#### (1) 합성곱 연산을 포함한 모델 구성하기\n",
    "\n",
    "`Conv2D`는 합성곱연산을 수행하는 레이어이며 필터 값을 파라미터로 하여 학습된다."
   ]
  },
  {
   "cell_type": "code",
   "execution_count": null,
   "metadata": {
    "slideshow": {
     "slide_type": "fragment"
    }
   },
   "outputs": [],
   "source": [
    "from tensorflow.keras.layers import Input\n",
    "from tensorflow.keras.layers import Conv2D\n",
    "from tensorflow.keras.models import Model\n",
    "from tensorflow.keras import backend as K"
   ]
  },
  {
   "cell_type": "code",
   "execution_count": null,
   "metadata": {
    "slideshow": {
     "slide_type": "fragment"
    }
   },
   "outputs": [],
   "source": [
    "inputs = Input(shape=(None, None, 1)) # 크기를 알 수 없는 이미지 한 장\n",
    "\n",
    "w_conv = Conv2D(filters=1, kernel_size=3, \n",
    "                name='w_conv2d', use_bias=False)(inputs) # 좌우 변화 특징을 잡는 필터의 모양 (3, 3)\n",
    "\n",
    "h_conv = Conv2D(filters=1, kernel_size=3, \n",
    "                name='h_conv2d', use_bias=False )(inputs)# 상하 변화 특징을 잡는 필터의 모양 (3, 3)\n",
    "\n",
    "filtered = K.abs(w_conv)+ K.abs(h_conv)\n",
    "model = Model(inputs, filtered)"
   ]
  },
  {
   "cell_type": "markdown",
   "metadata": {
    "slideshow": {
     "slide_type": "subslide"
    }
   },
   "source": [
    "#### (2) 필터의 파라미터 값을 수평선,수직선 추출 필터의 값으로 바꾸기\n",
    "본 강의자료에서 \"윤곽선을 잡아내는 필터\"로 학습되었다고 가정하고 필터의 값을 직접 설정<br>\n",
    "이후 합성곱 신경망은 이 필터의 값을 직접 설정해 주는 것이 아닌, 목적에 맞게 스스로 학습"
   ]
  },
  {
   "cell_type": "code",
   "execution_count": null,
   "metadata": {
    "slideshow": {
     "slide_type": "fragment"
    }
   },
   "outputs": [],
   "source": [
    "res_w_sobel = w_sobel[:,:,None,None] # [f_h, f_w, in_ch, out_ch]\n",
    "model.get_layer('w_conv2d').set_weights([res_w_sobel]) # 필터의 값을 직접 설정하기\n",
    "\n",
    "res_h_sobel = h_sobel[:,:,None,None] # [f_h, f_w, in_ch, out_ch]\n",
    "model.get_layer('h_conv2d').set_weights([res_h_sobel]) # 필터의 값을 직접 설정하기"
   ]
  },
  {
   "cell_type": "markdown",
   "metadata": {
    "slideshow": {
     "slide_type": "subslide"
    }
   },
   "source": [
    "#### (2) 이미지를 통해 추론하기"
   ]
  },
  {
   "cell_type": "code",
   "execution_count": null,
   "metadata": {
    "slideshow": {
     "slide_type": "fragment"
    }
   },
   "outputs": [],
   "source": [
    "res_hand = hand_image[None,:,:,None] # 배치 축과 색 축 추가하기\n",
    "pred = model.predict(res_hand)"
   ]
  },
  {
   "cell_type": "code",
   "execution_count": null,
   "metadata": {
    "slideshow": {
     "slide_type": "fragment"
    }
   },
   "outputs": [],
   "source": [
    "# 결과의 시각화를 위한 모양과 자료형 변경\n",
    "pred = np.squeeze(pred).astype(np.uint8)\n",
    "\n",
    "fig = plt.figure(figsize=(10,10))\n",
    "ax = fig.add_subplot(1,2,1)\n",
    "ax.set_title('original image')\n",
    "ax.imshow(hand_image, cmap='gray')\n",
    "\n",
    "ax = fig.add_subplot(1,2,2)\n",
    "ax.set_title('edge image')\n",
    "ax.imshow(pred, cmap='gray')\n",
    "plt.show()"
   ]
  },
  {
   "cell_type": "markdown",
   "metadata": {
    "slideshow": {
     "slide_type": "notes"
    }
   },
   "source": [
    "```python\n",
    "\"\"\"\n",
    "Convolution Layer가 학습해야 하는 것들은 위와 같이 Convolution 내 Weight들입니다. <br>\n",
    "손을 구분하는 데 중요한 특징들(외각선, 손금, 손가락의 형태 등)을 convolution Layer가 추출하고 <br>\n",
    "이를 조합하는 방식으로 진행됩니다.\n",
    "\"\"\"\n",
    "```"
   ]
  },
  {
   "cell_type": "markdown",
   "metadata": {
    "slideshow": {
     "slide_type": "slide"
    }
   },
   "source": [
    "## `필터와 합성곱 연산` 마무리\n",
    "\n",
    "\n",
    "---"
   ]
  },
  {
   "cell_type": "markdown",
   "metadata": {},
   "source": [
    "  "
   ]
  },
  {
   "cell_type": "markdown",
   "metadata": {},
   "source": [
    "#### references\n",
    "\n",
    "+ Deep Learning - Ian Goodfellow [deeplearningbook.org/](https://www.deeplearningbook.org/)"
   ]
  },
  {
   "cell_type": "markdown",
   "metadata": {
    "slideshow": {
     "slide_type": "slide"
    }
   },
   "source": [
    "![](../../src/logo.png)"
   ]
  }
 ],
 "metadata": {
  "celltoolbar": "Slideshow",
  "kernelspec": {
   "display_name": "Python 3",
   "language": "python",
   "name": "python3"
  },
  "language_info": {
   "codemirror_mode": {
    "name": "ipython",
    "version": 3
   },
   "file_extension": ".py",
   "mimetype": "text/x-python",
   "name": "python",
   "nbconvert_exporter": "python",
   "pygments_lexer": "ipython3",
   "version": "3.8.8"
  },
  "rise": {
   "enable_chalkboard": true,
   "scroll": true
  },
  "toc": {
   "base_numbering": 1,
   "nav_menu": {},
   "number_sections": false,
   "sideBar": true,
   "skip_h1_title": true,
   "title_cell": "Table of Contents",
   "title_sidebar": "Contents",
   "toc_cell": false,
   "toc_position": {
    "height": "calc(100% - 180px)",
    "left": "10px",
    "top": "150px",
    "width": "448px"
   },
   "toc_section_display": true,
   "toc_window_display": false
  }
 },
 "nbformat": 4,
 "nbformat_minor": 4
}
