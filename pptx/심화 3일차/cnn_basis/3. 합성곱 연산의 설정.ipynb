{
 "cells": [
  {
   "cell_type": "markdown",
   "metadata": {
    "colab_type": "text",
    "id": "AA5PG3B4iHE-",
    "slideshow": {
     "slide_type": "slide"
    }
   },
   "source": [
    "**_합성곱신경망(CNN) 기본기_**\n",
    "\n",
    "\n",
    "# 합성곱 연산의 설정\n"
   ]
  },
  {
   "cell_type": "markdown",
   "metadata": {
    "slideshow": {
     "slide_type": "fragment"
    }
   },
   "source": [
    "### _Objective_\n",
    "\n",
    "1. 합성곱 연산 전후 특징맵의 크기를 보존해주는 패딩에 대해 배워보도록 하겠습니다."
   ]
  },
  {
   "cell_type": "markdown",
   "metadata": {
    "slideshow": {
     "slide_type": "fragment"
    }
   },
   "source": [
    "2. 합성곱 연산량을 줄여주는 스트라이드(Stride)에 대해 배워보도록 하겠습니다."
   ]
  },
  {
   "cell_type": "markdown",
   "metadata": {
    "slideshow": {
     "slide_type": "subslide"
    }
   },
   "source": [
    "#### 필요한 패키지 호출"
   ]
  },
  {
   "cell_type": "code",
   "execution_count": null,
   "metadata": {
    "colab": {},
    "colab_type": "code",
    "id": "hnBIA2x6iHE_",
    "slideshow": {
     "slide_type": "-"
    }
   },
   "outputs": [],
   "source": [
    "%matplotlib inline\n",
    "import numpy as np\n",
    "import matplotlib.pyplot as plt\n",
    "import tensorflow as tf\n",
    "import numpy as np\n",
    "from PIL import Image\n",
    "from tensorflow.keras.utils import get_file"
   ]
  },
  {
   "cell_type": "markdown",
   "metadata": {},
   "source": [
    "### Keras에서의 합성곱 연산"
   ]
  },
  {
   "cell_type": "markdown",
   "metadata": {},
   "source": [
    "![3_1](./img/3_1.png)"
   ]
  },
  {
   "cell_type": "markdown",
   "metadata": {
    "colab_type": "text",
    "id": "eoeah51siHFD",
    "slideshow": {
     "slide_type": "slide"
    }
   },
   "source": [
    "# \\[ 1. 필터의 크기 \\]\n",
    "\n",
    "---"
   ]
  },
  {
   "cell_type": "markdown",
   "metadata": {},
   "source": [
    "###  필터 크기의 중요성\n"
   ]
  },
  {
   "cell_type": "markdown",
   "metadata": {},
   "source": [
    "![3_2](./img/3_2.png)"
   ]
  },
  {
   "cell_type": "markdown",
   "metadata": {},
   "source": [
    "### Keras에서 `필터의 크기` 설정하기"
   ]
  },
  {
   "cell_type": "markdown",
   "metadata": {},
   "source": [
    "![3_3](./img/3_3.png)"
   ]
  },
  {
   "cell_type": "markdown",
   "metadata": {},
   "source": [
    "### 필터의 크기에 따른 모델의 결과 비교"
   ]
  },
  {
   "cell_type": "markdown",
   "metadata": {},
   "source": [
    "#### 필터의 크기가 3인 합성곱 신경망 모델 구성하기"
   ]
  },
  {
   "cell_type": "code",
   "execution_count": null,
   "metadata": {},
   "outputs": [],
   "source": [
    "from tensorflow.keras.layers import Input\n",
    "from tensorflow.keras.layers import Conv2D\n",
    "from tensorflow.keras.models import Model\n"
   ]
  },
  {
   "cell_type": "code",
   "execution_count": null,
   "metadata": {
    "scrolled": true
   },
   "outputs": [],
   "source": [
    "inputs = Input(shape=(225, 400, 3))\n",
    "conv_layer = Conv2D(1, kernel_size=3)(inputs)\n",
    "model = Model(inputs, conv_layer)\n",
    "\n",
    "model.summary()"
   ]
  },
  {
   "cell_type": "markdown",
   "metadata": {},
   "source": [
    "#### 필터의 크기가 30인 합성곱 신경망 모델 구성하기"
   ]
  },
  {
   "cell_type": "code",
   "execution_count": null,
   "metadata": {},
   "outputs": [],
   "source": [
    "inputs = Input(shape=(225, 400, 3))\n",
    "conv_layer = Conv2D(1, kernel_size=30)(inputs)\n",
    "model = Model(inputs, conv_layer)\n",
    "\n",
    "model.summary()"
   ]
  },
  {
   "cell_type": "markdown",
   "metadata": {
    "slideshow": {
     "slide_type": "notes"
    }
   },
   "source": [
    "```python\n",
    "\"출력의 크기에도 영향을 미친다. 근데 필터의 크기를 어떻게 설정하든 이미지의 크기는 줄어든다\"\n",
    "```"
   ]
  },
  {
   "cell_type": "markdown",
   "metadata": {},
   "source": [
    "# \\[ 2. 패딩 \\]\n",
    "\n",
    "---"
   ]
  },
  {
   "cell_type": "markdown",
   "metadata": {},
   "source": [
    "### 합성곱 연산의 문제점 : 원본 이미지의 축소\n",
    "\n",
    "![3_4](./img/3_4.png)"
   ]
  },
  {
   "cell_type": "markdown",
   "metadata": {
    "slideshow": {
     "slide_type": "notes"
    }
   },
   "source": [
    "```python\n",
    "\"\"\"\n",
    "합성곱 연산을 거치게 되면, 특징맵의 크기는 약간씩 줄게 됩니다. 패딩은 합성곱 연산을 거치더라도, 특징맵의 크기가 줄어들지 않도록 만듭니다.\n",
    "합성곱 연산을 적용할 경우, 특징맵의 가장자리 부분은 연산에서 제외되기 때문에 약간씩 줄어들게 됩니다.\n",
    "\"\"\"\n",
    "```"
   ]
  },
  {
   "cell_type": "markdown",
   "metadata": {
    "slideshow": {
     "slide_type": "subslide"
    }
   },
   "source": [
    "#### 예제 이미지 구성하기"
   ]
  },
  {
   "cell_type": "code",
   "execution_count": null,
   "metadata": {
    "scrolled": false
   },
   "outputs": [],
   "source": [
    "image = np.zeros((10, 10),dtype=np.uint8)\n",
    "image[:,:3] = 10\n",
    "image[:,7:] = 10\n",
    "\n",
    "plt.imshow(image, cmap='gray')\n",
    "plt.show()\n"
   ]
  },
  {
   "cell_type": "markdown",
   "metadata": {
    "slideshow": {
     "slide_type": "subslide"
    }
   },
   "source": [
    "#### 세로방향 필터를 가중치로 갖는 모델 구성하기"
   ]
  },
  {
   "cell_type": "code",
   "execution_count": null,
   "metadata": {},
   "outputs": [],
   "source": [
    "from tensorflow.keras.layers import Input, Conv2D\n",
    "from tensorflow.keras.models import Model\n"
   ]
  },
  {
   "cell_type": "code",
   "execution_count": null,
   "metadata": {
    "slideshow": {
     "slide_type": "fragment"
    }
   },
   "outputs": [],
   "source": [
    "# 모델 구성하기\n",
    "inputs = Input(shape=(None, None, 1))\n",
    "conv_layer = Conv2D(1, kernel_size=3, use_bias=False, name='conv_layer')(inputs)\n",
    "model = Model(inputs, conv_layer)\n"
   ]
  },
  {
   "cell_type": "code",
   "execution_count": null,
   "metadata": {
    "slideshow": {
     "slide_type": "fragment"
    }
   },
   "outputs": [],
   "source": [
    "# 소벨 필터 구성하기\n",
    "v_sobel = np.array([[1,0,-1], \n",
    "                    [2,0,-2], \n",
    "                    [1,0,-1]]) \n",
    "res_v_sobel = v_sobel.reshape(3,3,1,1)\n"
   ]
  },
  {
   "cell_type": "code",
   "execution_count": null,
   "metadata": {
    "slideshow": {
     "slide_type": "fragment"
    }
   },
   "outputs": [],
   "source": [
    "# 소벨필터 값을 모델에 적용하기\n",
    "model.get_layer('conv_layer').set_weights([res_v_sobel])\n"
   ]
  },
  {
   "cell_type": "markdown",
   "metadata": {
    "slideshow": {
     "slide_type": "subslide"
    }
   },
   "source": [
    "#### 필터가 적용된 모델의 결과 확인하기"
   ]
  },
  {
   "cell_type": "code",
   "execution_count": null,
   "metadata": {
    "slideshow": {
     "slide_type": "fragment"
    }
   },
   "outputs": [],
   "source": [
    "# 모델의 결과 확인하기\n",
    "res_image = image[None,:,:,None]\n",
    "result = model.predict(res_image)\n",
    "result = np.squeeze(result)\n"
   ]
  },
  {
   "cell_type": "code",
   "execution_count": null,
   "metadata": {
    "colab": {},
    "colab_type": "code",
    "id": "GVmDy5CJiHFI",
    "outputId": "1e45a177-6e37-47f2-9afa-e28514ca5e91",
    "scrolled": true,
    "slideshow": {
     "slide_type": "fragment"
    }
   },
   "outputs": [],
   "source": [
    "# 시각화\n",
    "fig = plt.figure(figsize=(10,10))\n",
    "ax = fig.add_subplot(1,2,1)\n",
    "ax.set_title('Before')\n",
    "ax.imshow(image, cmap='gray')\n",
    "\n",
    "ax = fig.add_subplot(1,2,2)\n",
    "ax.set_title('After')\n",
    "ax.imshow(result, cmap='gray')\n",
    "plt.show()\n"
   ]
  },
  {
   "cell_type": "code",
   "execution_count": null,
   "metadata": {
    "scrolled": true,
    "slideshow": {
     "slide_type": "fragment"
    }
   },
   "outputs": [],
   "source": [
    "print(\"원본 이미지의 크기 : {}\".format(image.shape))\n",
    "print(\"결과 이미지의 크기 : {}\".format(result.shape))\n"
   ]
  },
  {
   "cell_type": "markdown",
   "metadata": {
    "slideshow": {
     "slide_type": "notes"
    }
   },
   "source": [
    "원본 이미지 대비 결과 이미지의 크기가 가로 방향 세로 방향 모두 2씩 줄어든 것을 확인할 수 있습니다.<br>"
   ]
  },
  {
   "cell_type": "markdown",
   "metadata": {
    "colab_type": "text",
    "id": "17Jsb7sgiHFL",
    "slideshow": {
     "slide_type": "slide"
    }
   },
   "source": [
    "### `Padding` 이란?\n",
    "\n",
    "거듭되는 합성곱 연산에 따른 문제점을 해결하기 위해 가장자리에 이미지를 덧대주는 작업\n"
   ]
  },
  {
   "cell_type": "markdown",
   "metadata": {},
   "source": [
    "```python\n",
    "\"\"\"\n",
    "1. 깊게 쌓으면 이미지의 크기가 지나치게 작아지게 됨\n",
    "2. 가장자리의 정보가 계속 유실되게 됨\n",
    "\"\"\"\n",
    "```"
   ]
  },
  {
   "cell_type": "markdown",
   "metadata": {},
   "source": [
    "![3_5](./img/3_5.png)"
   ]
  },
  {
   "cell_type": "markdown",
   "metadata": {
    "slideshow": {
     "slide_type": "subslide"
    }
   },
   "source": [
    "#### 패딩 적용하기\n"
   ]
  },
  {
   "cell_type": "code",
   "execution_count": null,
   "metadata": {
    "scrolled": true,
    "slideshow": {
     "slide_type": "fragment"
    }
   },
   "outputs": [],
   "source": [
    "print(\"Before Feature Map size :\",image.shape)\n",
    "image_with_pad_height = np.concatenate([np.zeros((10,1)),image,np.zeros((10,1))],axis=1)\n",
    "image_with_pad = np.concatenate([np.zeros((1,12)),image_with_pad_height,np.zeros((1,12))],axis=0)\n",
    "print(\"After padding size :\",image_with_pad.shape)\n"
   ]
  },
  {
   "cell_type": "markdown",
   "metadata": {
    "slideshow": {
     "slide_type": "fragment"
    }
   },
   "source": [
    "#### `np.pad`를 사용해 적용하기"
   ]
  },
  {
   "cell_type": "code",
   "execution_count": null,
   "metadata": {
    "slideshow": {
     "slide_type": "-"
    }
   },
   "outputs": [],
   "source": [
    "print(\"Before Feature Map size :\",image.shape)\n",
    "image_with_pad = np.pad(image,[[1,1],[1,1]], mode='constant')\n",
    "print(\"After padding size :\",image_with_pad.shape)\n"
   ]
  },
  {
   "cell_type": "markdown",
   "metadata": {
    "slideshow": {
     "slide_type": "notes"
    }
   },
   "source": [
    "`np.pad`를 이용하면 좀 더 편하게 작업할 수 있습니다."
   ]
  },
  {
   "cell_type": "markdown",
   "metadata": {
    "slideshow": {
     "slide_type": "fragment"
    }
   },
   "source": [
    "#### `tf.pad`를 사용해 적용하기"
   ]
  },
  {
   "cell_type": "code",
   "execution_count": null,
   "metadata": {
    "slideshow": {
     "slide_type": "-"
    }
   },
   "outputs": [],
   "source": [
    "print(\"Before Feature Map size :\",image.shape)\n",
    "image_with_pad = tf.pad(image,[[1,1],[1,1]], mode='constant')\n",
    "print(\"After padding size :\",image_with_pad.shape)\n"
   ]
  },
  {
   "cell_type": "markdown",
   "metadata": {
    "slideshow": {
     "slide_type": "notes"
    }
   },
   "source": [
    "당연히 Tensorflow에서도 구현이 되어 있습니다."
   ]
  },
  {
   "cell_type": "markdown",
   "metadata": {
    "slideshow": {
     "slide_type": "subslide"
    }
   },
   "source": [
    "#### 모델 적용하기"
   ]
  },
  {
   "cell_type": "code",
   "execution_count": null,
   "metadata": {
    "colab": {},
    "colab_type": "code",
    "id": "HzeE5oa5iHFM",
    "outputId": "b5ffc92d-4449-4fde-c42d-715aa2007c28",
    "scrolled": true,
    "slideshow": {
     "slide_type": "fragment"
    }
   },
   "outputs": [],
   "source": [
    "# 모델의 결과값 확인하기\n",
    "res_image = image_with_pad[None,:,:,None]\n",
    "result = model.predict(res_image)\n",
    "result = np.squeeze(result)\n",
    "\n",
    "print(\"After Feature Map size :\",result.shape)\n"
   ]
  },
  {
   "cell_type": "code",
   "execution_count": null,
   "metadata": {
    "colab": {},
    "colab_type": "code",
    "id": "i3pEBfPKiHFQ",
    "outputId": "60aa0e31-f8b3-4b72-efae-c4449f320af8",
    "scrolled": false,
    "slideshow": {
     "slide_type": "fragment"
    }
   },
   "outputs": [],
   "source": [
    "# 시각화\n",
    "fig = plt.figure(figsize=(10,10))\n",
    "ax = fig.add_subplot(1,3,1)\n",
    "ax.set_title('Before')\n",
    "ax.imshow(image, cmap='gray')\n",
    "\n",
    "ax = fig.add_subplot(1,3,2)\n",
    "ax.set_title('After padding')\n",
    "ax.imshow(image_with_pad, cmap='gray')\n",
    "\n",
    "ax = fig.add_subplot(1,3,3)\n",
    "ax.set_title('After')\n",
    "ax.imshow(result, cmap='gray')\n",
    "plt.show()\n"
   ]
  },
  {
   "cell_type": "markdown",
   "metadata": {
    "colab_type": "text",
    "id": "ZmcgLI8UiHFT",
    "slideshow": {
     "slide_type": "notes"
    }
   },
   "source": [
    "```python\n",
    "\"\"\"\n",
    "Input과 Output의 크기가 동일합니다.<br>\n",
    "작은 이미지에서는 패딩에 의해, 결과가 약간씩 왜곡되지만, 실제로 대부분 이미지에서<br>\n",
    "패딩으로 인한 왜곡 현상은 무시할 수 있을 만큼 작습니다.\n",
    "\"\"\"\n",
    "```"
   ]
  },
  {
   "cell_type": "markdown",
   "metadata": {
    "colab_type": "text",
    "id": "gnr46lkUiHFT",
    "slideshow": {
     "slide_type": "slide"
    }
   },
   "source": [
    "### 패딩의 크기 결정\n",
    "\n",
    "텐서플로우에서는 Convolution 에 padding 을 쉽게 적용 가능하다. <br>\n",
    "Convolution에서 패딩의 크기를 결정하는 것에는 크게 2가지 방식이 존재한다.\n",
    "\n"
   ]
  },
  {
   "cell_type": "markdown",
   "metadata": {
    "slideshow": {
     "slide_type": "fragment"
    }
   },
   "source": [
    "#### 1. 패딩이 VALID인 경우\n",
    "\n",
    "패딩을 붙이지 않고 Window 에 Kernel 의 사이즈 보다 적은 데이터 셋이 있다면 Convolution 연산을 수행하지 않는다.\n",
    "\n",
    "![3_6](./img/3_6.png)"
   ]
  },
  {
   "cell_type": "markdown",
   "metadata": {
    "slideshow": {
     "slide_type": "subslide"
    }
   },
   "source": [
    "#### 2. 패딩이 SAME인 경우\n",
    "\n",
    "Convoluiton 연산을 수행하기 위해 이미지에 padding 을 붙인다. <br>\n",
    "Window 에 Kernel 의 사이즈 보다 적은 데이터 셋이 있다면 padding 을 붙여 Convolution 을 수행한다.\n",
    "\n",
    "![3_7](./img/3_7.png)"
   ]
  },
  {
   "cell_type": "markdown",
   "metadata": {
    "colab_type": "text",
    "id": "3VEZCmZgiHFU",
    "slideshow": {
     "slide_type": "subslide"
    }
   },
   "source": [
    "#### SAME 시 패딩의 크기 결정"
   ]
  },
  {
   "cell_type": "markdown",
   "metadata": {
    "colab_type": "text",
    "id": "BlqQ_e8yiHFU",
    "slideshow": {
     "slide_type": "fragment"
    }
   },
   "source": [
    "출력의 크기는 아래의 수식을 따른다.<br>\n",
    "$$\n",
    "n_{out} = n_{in}+2p-k +1\\\\\n",
    "-------------\\\\\n",
    "n_{in} : \\mbox{number of input features}\\\\\n",
    "n_{out} : \\mbox{number of output features}\\\\\n",
    "k : \\mbox{convolution kernel size}\\\\\n",
    "p : \\mbox{convolution padding size}\\\\\n",
    "$$\n"
   ]
  },
  {
   "cell_type": "markdown",
   "metadata": {
    "slideshow": {
     "slide_type": "fragment"
    }
   },
   "source": [
    "출력의 크기와 입력의 크기가 동일하게 만들어주기 위해서는<br>\n",
    "패딩의 크기가 아래와 같아져야 한다.<br>\n",
    "$$\n",
    "p = \\frac{k-1}{2}\n",
    "$$"
   ]
  },
  {
   "cell_type": "markdown",
   "metadata": {
    "colab_type": "text",
    "id": "Re-In6jEiHFV",
    "slideshow": {
     "slide_type": "subslide"
    }
   },
   "source": [
    "#### 필터의 크기\n"
   ]
  },
  {
   "cell_type": "markdown",
   "metadata": {
    "slideshow": {
     "slide_type": "fragment"
    }
   },
   "source": [
    "필터의 크기는 보통 홀수로 설정한다. 그 이유는 크게 2가지로 \n",
    "1. 짝수의 경우, 패딩의 크기를 좌우 비대칭으로 형성해야 함\n",
    "   \n",
    "2. 필터의 크기가 홀수일 경우, 가운데 필터 값이 중심 픽셀에 위치"
   ]
  },
  {
   "cell_type": "markdown",
   "metadata": {
    "colab_type": "text",
    "id": "QZ4k__Zrc1TE",
    "slideshow": {
     "slide_type": "slide"
    }
   },
   "source": [
    "### Keras 에서 `padding` 설정하기"
   ]
  },
  {
   "cell_type": "markdown",
   "metadata": {},
   "source": [
    "![3_8](./img/3_8.png)"
   ]
  },
  {
   "cell_type": "markdown",
   "metadata": {
    "slideshow": {
     "slide_type": "subslide"
    }
   },
   "source": [
    "#### 패딩 타입이 `valid` 인 경우"
   ]
  },
  {
   "cell_type": "code",
   "execution_count": null,
   "metadata": {
    "colab": {
     "base_uri": "https://localhost:8080/",
     "height": 34
    },
    "colab_type": "code",
    "id": "DvKdoptna3Ti",
    "outputId": "292d979d-de83-4377-d941-3824c33f89b4",
    "scrolled": true,
    "slideshow": {
     "slide_type": "fragment"
    }
   },
   "outputs": [],
   "source": [
    "# 합성곱 연산 적용 with Keras \n",
    "inputs = Input(shape=(10, 10, 1))\n",
    "conv_1 = Conv2D(1, 3 ,use_bias=False, \n",
    "                padding='valid', name='conv_1')(inputs)\n",
    "\n",
    "model = Model(inputs, conv_1)\n",
    "model.summary()\n"
   ]
  },
  {
   "cell_type": "markdown",
   "metadata": {
    "slideshow": {
     "slide_type": "subslide"
    }
   },
   "source": [
    "#### 패딩 타입이 `same` 인 경우"
   ]
  },
  {
   "cell_type": "code",
   "execution_count": null,
   "metadata": {
    "slideshow": {
     "slide_type": "fragment"
    }
   },
   "outputs": [],
   "source": [
    "# 합성곱 연산 적용 with Keras \n",
    "inputs = Input(shape=(10, 10, 1))\n",
    "conv_1 = Conv2D(1, 3, use_bias=False, \n",
    "                padding='same', name='conv_1')(inputs)\n",
    "\n",
    "model = Model(inputs, conv_1)\n",
    "model.summary()\n"
   ]
  },
  {
   "cell_type": "markdown",
   "metadata": {
    "colab_type": "text",
    "id": "oYh6EZeWiHFV",
    "slideshow": {
     "slide_type": "slide"
    }
   },
   "source": [
    "# \\[ 3. 스트라이드 \\]\n",
    "\n",
    "----\n",
    "\n",
    "pass"
   ]
  },
  {
   "cell_type": "markdown",
   "metadata": {
    "colab_type": "text",
    "id": "MU-v3HfMiHFW",
    "slideshow": {
     "slide_type": "slide"
    }
   },
   "source": [
    "### 스트라이드란\n",
    "\n",
    "기존의 필터는 한칸씩 이동했다면, stride가 1보다 클 경우, 그 수 만큼 필터가 이동하게 됩니다.\n"
   ]
  },
  {
   "cell_type": "markdown",
   "metadata": {},
   "source": [
    "![3_9](./img/3_9.png)"
   ]
  },
  {
   "cell_type": "markdown",
   "metadata": {},
   "source": [
    "![3_10](./img/3_10.png)"
   ]
  },
  {
   "cell_type": "markdown",
   "metadata": {
    "slideshow": {
     "slide_type": "notes"
    }
   },
   "source": [
    "Window 는 Image 에 filter 가 적용되는 공간을 의미 합니다. <br>\n",
    "stride는 window의 이동 간격을 뜻합니다.<br>\n",
    "기존의 필터는 한칸씩 이동했다면, stride가 1보다 클 경우, 그 수 만큼 필터가 이동하게 됩니다."
   ]
  },
  {
   "cell_type": "markdown",
   "metadata": {
    "colab_type": "text",
    "id": "QZ4k__Zrc1TE",
    "slideshow": {
     "slide_type": "slide"
    }
   },
   "source": [
    "### Keras 에서 `stride` 설정하기"
   ]
  },
  {
   "cell_type": "markdown",
   "metadata": {},
   "source": [
    "![3_11](./img/3_11.png)"
   ]
  },
  {
   "cell_type": "markdown",
   "metadata": {},
   "source": [
    "<div class=\"alert alert-info\" role=\"alert\">\n",
    "  현재 여기까지 진행했습니다\n",
    "</div>"
   ]
  },
  {
   "cell_type": "markdown",
   "metadata": {
    "colab_type": "text",
    "id": "MU-v3HfMiHFW",
    "slideshow": {
     "slide_type": "slide"
    }
   },
   "source": [
    "### 스트라이드 적용하기\n",
    "\n",
    "Stride는 대표적으로 영상의 출력값 크기를 결정짓는 요인입니다. Stride에 따라 어떤 식으로 영상 크기가 바뀌는지를 보도록 하겠습니다."
   ]
  },
  {
   "cell_type": "markdown",
   "metadata": {
    "slideshow": {
     "slide_type": "fragment"
    }
   },
   "source": [
    "#### (2, 2) 스트라이드 적용하기\n"
   ]
  },
  {
   "cell_type": "markdown",
   "metadata": {
    "slideshow": {
     "slide_type": "fragment"
    }
   },
   "source": [
    "#### Padding이 Valid인 경우\n",
    "$$\n",
    "n_{out} = \\lfloor \\frac{n_{in} - k}{s}\\rfloor +1\\\\\n",
    "-------------\\\\\\\n",
    "n_{in} : \\mbox{number of input features}\\\\\n",
    "n_{out} : \\mbox{number of output features}\\\\\n",
    "k : \\mbox{convolution kernel size}\\\\\n",
    "s : \\mbox{convolution stride size}\\\\\n",
    "$$\n"
   ]
  },
  {
   "cell_type": "code",
   "execution_count": null,
   "metadata": {
    "colab": {},
    "colab_type": "code",
    "id": "T89bTe0NiHFZ",
    "outputId": "fca64278-618e-4096-f94f-79b113270d18",
    "scrolled": true,
    "slideshow": {
     "slide_type": "fragment"
    }
   },
   "outputs": [],
   "source": [
    "# 합성곱 연산 적용 with Keras \n",
    "inputs = Input(shape=(10, 10, 1))\n",
    "conv_0 = Conv2D(1, 3, strides=(2, 2), name='conv_0')(inputs)\n",
    "\n",
    "model = Model(inputs, conv_0)\n",
    "model.summary()\n"
   ]
  },
  {
   "cell_type": "markdown",
   "metadata": {
    "slideshow": {
     "slide_type": "subslide"
    }
   },
   "source": [
    "#### Padding이 SAME인 경우\n",
    "$$\n",
    "n_{out} = \\lceil \\frac{n_{in}}{s}\\rceil \\\\\n",
    "-------------\\\\\\\n",
    "n_{in} : \\mbox{number of input features}\\\\\n",
    "n_{out} : \\mbox{number of output features}\\\\\n",
    "s : \\mbox{convolution stride size}\\\\\n",
    "$$\n"
   ]
  },
  {
   "cell_type": "code",
   "execution_count": null,
   "metadata": {
    "slideshow": {
     "slide_type": "fragment"
    }
   },
   "outputs": [],
   "source": [
    "# 합성곱 연산 적용 with Keras \n",
    "inputs = Input(shape=(10, 10, 1))\n",
    "conv_0 = Conv2D(1, 3, strides=(2, 2), \n",
    "                padding='SAME', name='conv_0')(inputs)\n",
    "\n",
    "model = Model(inputs, conv_0)\n",
    "model.summary()\n"
   ]
  },
  {
   "cell_type": "markdown",
   "metadata": {
    "slideshow": {
     "slide_type": "slide"
    }
   },
   "source": [
    "#### (3, 3) 스트라이드 적용하기"
   ]
  },
  {
   "cell_type": "markdown",
   "metadata": {
    "slideshow": {
     "slide_type": "fragment"
    }
   },
   "source": [
    "#### Padding이 Valid인 경우\n",
    "$$\n",
    "n_{out} = \\lfloor \\frac{n_{in} - k}{s}\\rfloor +1\\\\\n",
    "-------------\\\\\\\n",
    "n_{in} : \\mbox{number of input features}\\\\\n",
    "n_{out} : \\mbox{number of output features}\\\\\n",
    "k : \\mbox{convolution kernel size}\\\\\n",
    "s : \\mbox{convolution stride size}\\\\\n",
    "$$\n"
   ]
  },
  {
   "cell_type": "code",
   "execution_count": null,
   "metadata": {
    "colab": {},
    "colab_type": "code",
    "id": "T89bTe0NiHFZ",
    "outputId": "fca64278-618e-4096-f94f-79b113270d18",
    "slideshow": {
     "slide_type": "fragment"
    }
   },
   "outputs": [],
   "source": [
    "# 합성곱 연산 적용 with Keras \n",
    "inputs = Input(shape=(10, 10, 1))\n",
    "conv_0 = Conv2D(1, 3, strides=(3, 3), name='conv_0')(inputs)\n",
    "\n",
    "model = Model(inputs, conv_0)\n",
    "model.summary()\n"
   ]
  },
  {
   "cell_type": "markdown",
   "metadata": {
    "slideshow": {
     "slide_type": "subslide"
    }
   },
   "source": [
    "#### Padding이 SAME인 경우\n",
    "$$\n",
    "n_{out} = \\lceil \\frac{n_{in}}{s}\\rceil \\\\\n",
    "-------------\\\\\\\n",
    "n_{in} : \\mbox{number of input features}\\\\\n",
    "n_{out} : \\mbox{number of output features}\\\\\n",
    "s : \\mbox{convolution stride size}\\\\\n",
    "$$\n"
   ]
  },
  {
   "cell_type": "code",
   "execution_count": null,
   "metadata": {
    "scrolled": true,
    "slideshow": {
     "slide_type": "fragment"
    }
   },
   "outputs": [],
   "source": [
    "# 합성곱 연산 적용 with Keras \n",
    "inputs = Input(shape=(10, 10, 1))\n",
    "conv_0 = Conv2D(1, 3 ,strides=(3, 3), \n",
    "                padding='SAME',name='conv_0')(inputs)\n",
    "\n",
    "model = Model(inputs, conv_0)\n",
    "model.summary()\n"
   ]
  },
  {
   "cell_type": "markdown",
   "metadata": {
    "slideshow": {
     "slide_type": "slide"
    }
   },
   "source": [
    "## `패딩과 스트라이드` 마무리\n",
    "\n",
    "\n",
    "---"
   ]
  },
  {
   "cell_type": "markdown",
   "metadata": {},
   "source": [
    "\n"
   ]
  },
  {
   "cell_type": "markdown",
   "metadata": {
    "slideshow": {
     "slide_type": "slide"
    }
   },
   "source": [
    "![](../../src/logo.png)"
   ]
  }
 ],
 "metadata": {
  "celltoolbar": "Slideshow",
  "colab": {
   "collapsed_sections": [],
   "name": "2_패딩과 스트라이드.ipynb",
   "provenance": [],
   "version": "0.3.2"
  },
  "kernelspec": {
   "display_name": "Python 3",
   "language": "python",
   "name": "python3"
  },
  "language_info": {
   "codemirror_mode": {
    "name": "ipython",
    "version": 3
   },
   "file_extension": ".py",
   "mimetype": "text/x-python",
   "name": "python",
   "nbconvert_exporter": "python",
   "pygments_lexer": "ipython3",
   "version": "3.8.8"
  },
  "toc": {
   "base_numbering": 1,
   "nav_menu": {},
   "number_sections": false,
   "sideBar": true,
   "skip_h1_title": false,
   "title_cell": "Table of Contents",
   "title_sidebar": "Contents",
   "toc_cell": false,
   "toc_position": {},
   "toc_section_display": true,
   "toc_window_display": false
  },
  "varInspector": {
   "cols": {
    "lenName": 16,
    "lenType": 16,
    "lenVar": 40
   },
   "kernels_config": {
    "python": {
     "delete_cmd_postfix": "",
     "delete_cmd_prefix": "del ",
     "library": "var_list.py",
     "varRefreshCmd": "print(var_dic_list())"
    },
    "r": {
     "delete_cmd_postfix": ") ",
     "delete_cmd_prefix": "rm(",
     "library": "var_list.r",
     "varRefreshCmd": "cat(var_dic_list()) "
    }
   },
   "types_to_exclude": [
    "module",
    "function",
    "builtin_function_or_method",
    "instance",
    "_Feature"
   ],
   "window_display": false
  }
 },
 "nbformat": 4,
 "nbformat_minor": 1
}
