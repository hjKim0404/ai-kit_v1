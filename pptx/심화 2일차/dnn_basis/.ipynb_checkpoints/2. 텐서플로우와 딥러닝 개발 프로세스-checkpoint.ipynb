{
 "cells": [
  {
   "cell_type": "markdown",
   "metadata": {
    "slideshow": {
     "slide_type": "slide"
    }
   },
   "source": [
    "**_심층신경망(DNN) 기본기_**\n",
    "\n",
    "\n",
    "# 2. 텐서플로우와 딥러닝 개발 프로세스"
   ]
  },
  {
   "cell_type": "markdown",
   "metadata": {
    "slideshow": {
     "slide_type": "fragment"
    }
   },
   "source": [
    "### _Objective_\n",
    "\n",
    "1. 인공지능의 학습에서 `딥러닝 프레임워크`의 필요성을 이해하고 사용해봅니다."
   ]
  },
  {
   "cell_type": "markdown",
   "metadata": {
    "slideshow": {
     "slide_type": "fragment"
    }
   },
   "source": [
    "2. 딥러닝 개발의 `전체 프로세스를 경험`하며 개발 프로세스의 구성 순서를 살펴봅니다."
   ]
  },
  {
   "cell_type": "markdown",
   "metadata": {
    "slideshow": {
     "slide_type": "fragment"
    }
   },
   "source": [
    "2. 딥러닝 프레임워크중 하나인 **`텐서플로우(Tensorflow)`**를 가볍게 사용해봅니다."
   ]
  },
  {
   "cell_type": "markdown",
   "metadata": {
    "slideshow": {
     "slide_type": "slide"
    }
   },
   "source": [
    "#### 필요한 패키지 설치 및 환경설정"
   ]
  },
  {
   "cell_type": "code",
   "execution_count": null,
   "metadata": {},
   "outputs": [],
   "source": [
    "import numpy as np\n",
    "\n",
    "import tensorflow as tf "
   ]
  },
  {
   "cell_type": "markdown",
   "metadata": {
    "slideshow": {
     "slide_type": "slide"
    }
   },
   "source": [
    "## [1.딥러닝 프레임워크]\n",
    "\n",
    "---\n",
    "\n",
    "pass"
   ]
  },
  {
   "cell_type": "markdown",
   "metadata": {
    "slideshow": {
     "slide_type": "slide"
    }
   },
   "source": [
    "`딥러닝(Deep Learning)`\n",
    "\n",
    "1. (주로) 여러 층을 가진 인공신경망을 사용하여 머신러닝 학습을 수행\n",
    "2. 데이터로부터 중요한 패턴 및 규칙을 학습한 인공지능으로 추론을 수행\n",
    "\n",
    "`프레임워크(Framework)`\n",
    "\n",
    "1. 어떠한 목적을 달성하기 위해 필요한 **문제 해결도구들의 뼈대**\n",
    "2. 복잡하게 얽혀있는 문제를 해결하기 위한 **표준과 클래스로 구성된 시스템**"
   ]
  },
  {
   "cell_type": "markdown",
   "metadata": {
    "slideshow": {
     "slide_type": "subslide"
    }
   },
   "source": [
    "#### 패키지와 프레임워크의 차이점\n",
    "![2_6](./img/2_6.png)"
   ]
  },
  {
   "cell_type": "markdown",
   "metadata": {
    "slideshow": {
     "slide_type": "slide"
    }
   },
   "source": [
    "### 딥러닝 프레임워크\n",
    "\n",
    "---\n",
    "\n",
    "`딥러닝 구현`이라는 목적을 달성하기 위해 필요한 표준과 클래스로 구성된 시스템\n",
    "\n",
    "1. \"여러 층을 가진 인공신경망을 구축\"하는데 필요한 표준과 클래스\n",
    "2. \"데이터로부터 중요한 패턴 및 규칙을 학습\" 하는데 필요한 표준과 클래스\n",
    "3. \"학습된 머신과 주어진 입력으로 추론을 수행\"하는데 필요한 표준과 클래스"
   ]
  },
  {
   "cell_type": "markdown",
   "metadata": {
    "slideshow": {
     "slide_type": "slide"
    }
   },
   "source": [
    "### 딥러닝 프레임워크는 왜 필요할까?\n",
    "\n",
    "---"
   ]
  },
  {
   "cell_type": "markdown",
   "metadata": {
    "slideshow": {
     "slide_type": "subslide"
    }
   },
   "source": [
    "#### 1. 인공신경망을 위한 클래스를 구현해 놓았다."
   ]
  },
  {
   "cell_type": "markdown",
   "metadata": {
    "slideshow": {
     "slide_type": "fragment"
    }
   },
   "source": [
    "![2_7](./img/2_7.png)"
   ]
  },
  {
   "cell_type": "markdown",
   "metadata": {
    "slideshow": {
     "slide_type": "fragment"
    }
   },
   "source": [
    "![2_8](./img/2_8.png)"
   ]
  },
  {
   "cell_type": "markdown",
   "metadata": {
    "slideshow": {
     "slide_type": "notes"
    }
   },
   "source": [
    "```python\n",
    "\"\"\"\n",
    "여러분들이 필요한 클래스를 모두 구현이 되어있다. 우리는 가져다 쓰기만 하면 된다.\n",
    "\"\"\"\n",
    "```"
   ]
  },
  {
   "cell_type": "markdown",
   "metadata": {
    "slideshow": {
     "slide_type": "subslide"
    }
   },
   "source": [
    "#### 2. 인공지능의 학습에 필요한 미분연산을 지원한다.\n",
    "\n"
   ]
  },
  {
   "cell_type": "markdown",
   "metadata": {
    "slideshow": {
     "slide_type": "fragment"
    }
   },
   "source": [
    "![2_9](./img/2_9.png)"
   ]
  },
  {
   "cell_type": "markdown",
   "metadata": {
    "slideshow": {
     "slide_type": "notes"
    }
   },
   "source": [
    "```python\n",
    "\"\"\"\n",
    "**인공지능을 만드는데 미분이 필요하다! 딱 그정도의 메세지만 전달하려고 둔 셀입니다.**\n",
    "+ 현재 수강생이 알고있는 정보 : \n",
    "    1. 인공지능의 목표 : 사람과 같이 (합리적으로) 생각하거나 행동하는 머신\n",
    "    2. 인공지능의 평가 기준 :\"얼마나 사람같은가?\", \"기대효용이 얼마나 높은가?\",\"얼마나 합리적인가?\"\n",
    "    딱 이정도만 알고 있다는 가정하에서 \"미분이 필요하다\"를 설명하는 것이 미션\n",
    "+ 순서 :\n",
    "    1. 우리는 사람과 같이 생각하거나 행동하는 머신을 만들고 싶다.\n",
    "    2. 이때, 우리가 만든 머신이 \"사람과 다른 정도\"를 \"비용\" 이라고 명명해보자.\n",
    "    3. 그러면 어떠한 변수(달라질 수 있는 수)에 따라서 머신이 달라질테고, 이에 따라서 비용은 달라질거다.\n",
    "    4. 마치 함수와 같다. x값에 따라서 y값이 변하는 것처럼, 어떠한 변수 세타에 따라서 비용이 달라질거다.\n",
    "    5. 이를 그림으로 나타내면 대충 위와 같다고 해보자. 사실 이 비용은 복잡한 그래프를 그리겠지만 일단 위와같이 나온다고 하자.\n",
    "    6. 그러면, 비용이 최소와 되는 즉, J가 최소인 이 지점의 머신이 사람과 가장 유사하게 생각하거나 행동하는 머신일 것이다.\n",
    "    7. 고로, 우리의 목표는 저 지점의 변수인 세타값을 찾는것이 목표일 것이다.\n",
    "    8. 그러면, 어떻게 찾을 수 있을가, 만약, 현재 세타값이 세타_1 이고, 우리 목표점보다 이렇게 상향그래프에 위치해 있다면?\n",
    "    9. 우리의 목표를 위해서는 세타를 왼쪽, 즉 음수로 이동시켜야 한다.\n",
    "    10. 근데, 그때 상향그래프기 때문에 기울기가 양수 일 것이다.\n",
    "    11. 간단하게 생각해서, 세타를 기울기만큼 빼주면 최저점에 가까워 질 것이다.\n",
    "    12. 여기서, 우리는 기울기를 미분을 통해 구할 수 있다. \n",
    "    13. 따라서, 우리는 머신을 더 사람과 같이 생각하거나 행동하도록 만들기 위해서는 미분의 계산이 필요하다.\n",
    "\"\"\"\n",
    "```"
   ]
  },
  {
   "cell_type": "markdown",
   "metadata": {
    "slideshow": {
     "slide_type": "fragment"
    }
   },
   "source": [
    "![2_10](./img/2_10.png)"
   ]
  },
  {
   "cell_type": "markdown",
   "metadata": {
    "slideshow": {
     "slide_type": "slide"
    }
   },
   "source": [
    "#### 3. 다양한 디바이스 위에서 연산할 수 있다.\n",
    "\n",
    "딥러닝의 대용량의 연산을 위한 가속화된 하드웨어를 흔히 사용<br>\n",
    "CPU뿐 아니라 GPU, TPU 등 다양한 디바이스 위에서 동작가능<br>"
   ]
  },
  {
   "cell_type": "markdown",
   "metadata": {
    "slideshow": {
     "slide_type": "fragment"
    }
   },
   "source": [
    "![2_12](./img/2_12.png)"
   ]
  },
  {
   "cell_type": "markdown",
   "metadata": {
    "slideshow": {
     "slide_type": "subslide"
    }
   },
   "source": [
    "**CPU / GPU / TPU의 성능비교**\n",
    "\n",
    "![2_11](./img/2_11.png)"
   ]
  },
  {
   "cell_type": "markdown",
   "metadata": {
    "slideshow": {
     "slide_type": "notes"
    }
   },
   "source": [
    "```python\n",
    "\"\"\"\n",
    "**CPU대비 GPU, TPU의 성능비교입니다.**\n",
    "1. GM은 기하평균, WM은 가중평균입니다.\n",
    "2. 파란색은 CPU대비 GPU성능입니다. 1.2라면, GPU의 성능이 CPU보다 1.2배 좋은 것입니다.\n",
    "3. TPU`은 이 논문에서 제안하는 TPU의 설계입니다. \n",
    "4. 전체적으로, CPU보다 GPU가 좋고, TPU가 더 좋은데,\n",
    "5. 딥러닝 프레임워크는 별다른 설정없이 기본으로 GPU, TPU위에서 연산이 가능하도록 합니다.\n",
    "\"\"\"\n",
    "```"
   ]
  },
  {
   "cell_type": "markdown",
   "metadata": {
    "slideshow": {
     "slide_type": "subslide"
    }
   },
   "source": [
    "#### CPU에서 돌아가도록 지정"
   ]
  },
  {
   "cell_type": "code",
   "execution_count": null,
   "metadata": {
    "slideshow": {
     "slide_type": "fragment"
    }
   },
   "outputs": [],
   "source": [
    "x = tf.constant([1],tf.float32)\n",
    "with tf.device('/cpu:0'):\n",
    "    x = x + 1"
   ]
  },
  {
   "cell_type": "markdown",
   "metadata": {
    "slideshow": {
     "slide_type": "fragment"
    }
   },
   "source": [
    "#### GPU에서 돌아가도록 지정"
   ]
  },
  {
   "cell_type": "code",
   "execution_count": null,
   "metadata": {
    "slideshow": {
     "slide_type": "fragment"
    }
   },
   "outputs": [],
   "source": [
    "# x = tf.constant([1],tf.float32)\n",
    "# with tf.device('/gpu:0'):\n",
    "#     x = x + 1"
   ]
  },
  {
   "cell_type": "markdown",
   "metadata": {},
   "source": [
    "```python\n",
    "\"즉, Tensorflow에는 TPU/GPU/CPU 위에서 별다른 코드 수정없이 연산이 돌아갈 수 있도록 코드를 모두 작성해두었다\"\n",
    "```"
   ]
  },
  {
   "cell_type": "markdown",
   "metadata": {
    "slideshow": {
     "slide_type": "slide"
    }
   },
   "source": [
    "### 다양한 딥러닝 프레임워크\n",
    "\n",
    "---\n",
    "\n",
    "![2_25](./img/2_25.png)"
   ]
  },
  {
   "cell_type": "markdown",
   "metadata": {
    "slideshow": {
     "slide_type": "subslide"
    }
   },
   "source": [
    "#### 딥러닝 프레임워크의 사용량 비교\n",
    "\n",
    "<img src=\"./img/2_26.png\" alter=\"2_26\" width=1600>"
   ]
  },
  {
   "cell_type": "markdown",
   "metadata": {
    "slideshow": {
     "slide_type": "subslide"
    }
   },
   "source": [
    "#### 딥러닝 프레임워크 비교\n",
    "![2_27](./img/2_27.png)"
   ]
  },
  {
   "cell_type": "markdown",
   "metadata": {
    "slideshow": {
     "slide_type": "slide"
    }
   },
   "source": [
    "## [2. 딥러닝 프레임워크, 텐서플로우]\n",
    "\n",
    "---\n",
    "\n",
    "pass"
   ]
  },
  {
   "cell_type": "markdown",
   "metadata": {
    "slideshow": {
     "slide_type": "slide"
    }
   },
   "source": [
    "### 텐서플로우(Tensorflow)\n",
    "\n",
    "---\n",
    "\n",
    "**`텐서플로우(Tensorflow)`**는\n",
    "1. 머신러닝을 위한 `엔드 투 엔드 오픈소스 머신러닝 프레임워크`이다.\n",
    "2. 구글내 연구와 제품개발을 위한 목적으로 `구글 브레인팀이 만들었다.`\n",
    "3. 파이썬으로 호출하여 구동할 수 있다."
   ]
  },
  {
   "cell_type": "markdown",
   "metadata": {
    "slideshow": {
     "slide_type": "fragment"
    }
   },
   "source": [
    "#### 텐서플로우 호출하기"
   ]
  },
  {
   "cell_type": "code",
   "execution_count": null,
   "metadata": {},
   "outputs": [],
   "source": [
    "import tensorflow as tf\n",
    "from tensorflow import keras"
   ]
  },
  {
   "cell_type": "code",
   "execution_count": null,
   "metadata": {},
   "outputs": [],
   "source": [
    "# 필요한 클래스 호출\n",
    "\n",
    "from tensorflow.keras.layers import Input\n",
    "from tensorflow.keras.models import Model"
   ]
  },
  {
   "cell_type": "markdown",
   "metadata": {
    "slideshow": {
     "slide_type": "slide"
    }
   },
   "source": [
    "### 텐서플로우의 특징\n",
    "\n",
    "---\n",
    "\n",
    "+ `텐서(Tensor)`와 연산으로 `데이터 플로우`를 먼저 설계 할 수 있음\n",
    "+ 설계를 기반으로 생성된 모델에 데이터를 입력하여 학습 & 추론\n",
    "+ 아이디어 테스트에서 서비스 단계까지 이용 가능\n",
    "+ 계산 구조와 목표 함수만 정의하면 **`자동으로 미분 계산을 처리`**"
   ]
  },
  {
   "cell_type": "markdown",
   "metadata": {
    "slideshow": {
     "slide_type": "subslide"
    }
   },
   "source": [
    "#### 텐서를 중심으로 연산\n",
    "\n",
    "텐서플로우에서 다루는 데이터는 `Tensor`을 통해 정의<br>"
   ]
  },
  {
   "cell_type": "code",
   "execution_count": null,
   "metadata": {
    "slideshow": {
     "slide_type": "fragment"
    }
   },
   "outputs": [],
   "source": [
    "# 파이썬에서의 자료형, 리스트\n",
    "lst = [1,2,3]\n",
    "lst"
   ]
  },
  {
   "cell_type": "code",
   "execution_count": null,
   "metadata": {
    "slideshow": {
     "slide_type": ""
    }
   },
   "outputs": [],
   "source": [
    "# 넘파이에서의 자료형, 배열\n",
    "nd_arr = np.array(lst)\n",
    "nd_arr"
   ]
  },
  {
   "cell_type": "code",
   "execution_count": null,
   "metadata": {
    "slideshow": {
     "slide_type": "fragment"
    }
   },
   "outputs": [],
   "source": [
    "# 텐서플로우에서의 자료형, 텐서(Tensor)\n",
    "tensor = tf.constant(lst)\n",
    "tensor"
   ]
  },
  {
   "cell_type": "code",
   "execution_count": null,
   "metadata": {
    "slideshow": {
     "slide_type": "fragment"
    }
   },
   "outputs": [],
   "source": [
    "# 텐서에 여러가지 연산 적용\n",
    "\n",
    "display(tensor)\n",
    "tensor = tensor + 1\n",
    "display(tensor)"
   ]
  },
  {
   "cell_type": "markdown",
   "metadata": {
    "slideshow": {
     "slide_type": "fragment"
    }
   },
   "source": [
    "이 때 중요한 것은 `tensor`의 값은 **변하지 않는다**"
   ]
  },
  {
   "cell_type": "markdown",
   "metadata": {
    "slideshow": {
     "slide_type": "subslide"
    }
   },
   "source": [
    "#### 데이터 자료형, 텐서와 넘파이배열의 호환\n",
    "\n",
    "텐서플로우(Tensorflow)의 `tf.Tensor`자료형과<br>\n",
    "넘파이(Numpy)의 `np.ndarray`자료형"
   ]
  },
  {
   "cell_type": "code",
   "execution_count": null,
   "metadata": {
    "slideshow": {
     "slide_type": "fragment"
    }
   },
   "outputs": [],
   "source": [
    "# 텐서를 넘파이배열로 변환\n",
    "tensor.numpy()"
   ]
  },
  {
   "cell_type": "code",
   "execution_count": null,
   "metadata": {
    "slideshow": {
     "slide_type": "fragment"
    }
   },
   "outputs": [],
   "source": [
    "# 넘파이 배열을 텐서로 변환\n",
    "tf.constant(nd_arr)"
   ]
  },
  {
   "cell_type": "markdown",
   "metadata": {
    "slideshow": {
     "slide_type": "subslide"
    }
   },
   "source": [
    "#### 텐서와 연산으로 데이터플로우를 먼저 설계 가능\n",
    "\n",
    "데이터가 입력되었을때 진행될 연산 과정인 데이터플로우를 먼저 설계한 후 이후에 데이터를 입력할 수 있다."
   ]
  },
  {
   "cell_type": "code",
   "execution_count": null,
   "metadata": {
    "slideshow": {
     "slide_type": "fragment"
    }
   },
   "outputs": [],
   "source": [
    "# 데이터를 받는 연산을 먼저 설계\n",
    "inputs = Input(1,name='x')"
   ]
  },
  {
   "cell_type": "code",
   "execution_count": null,
   "metadata": {
    "slideshow": {
     "slide_type": "fragment"
    }
   },
   "outputs": [],
   "source": [
    "# 모델 인스턴스 생성\n",
    "model = Model(inputs, inputs, name='model')"
   ]
  },
  {
   "cell_type": "code",
   "execution_count": null,
   "metadata": {
    "slideshow": {
     "slide_type": "fragment"
    }
   },
   "outputs": [],
   "source": [
    "# 설계를 기반으로 생성한 모델의 데이터 플로우 확인\n",
    "model.summary()"
   ]
  },
  {
   "cell_type": "code",
   "execution_count": null,
   "metadata": {
    "slideshow": {
     "slide_type": "fragment"
    }
   },
   "outputs": [],
   "source": [
    "# 이후에 생성된 모델에 데이터를 입력하여 추론\n",
    "model.predict([1,2,3])"
   ]
  },
  {
   "cell_type": "markdown",
   "metadata": {
    "slideshow": {
     "slide_type": "fragment"
    }
   },
   "source": [
    "`※ 모델을 데이터플로우로 미리 설계`\n",
    "1. 실제 서비스의 서빙에서 실시간으로 유입되는 데이터를 처리하는데 용이하다.\n",
    "2. 정해진 연산위에서 데이터가 흐름으로써 미분에 필요한 연산의 결과를 캐시에 저장해 둘 수 있다."
   ]
  },
  {
   "cell_type": "markdown",
   "metadata": {
    "slideshow": {
     "slide_type": "subslide"
    }
   },
   "source": [
    "#### 자동 미분 지원\n",
    "\n",
    "$$y = 2x + 3, \\; z = log(y) \\text{ 일 때,} x=3\\text{에서 미분 값}\\frac{\\partial z}{\\partial x} \\text{는?}$$"
   ]
  },
  {
   "cell_type": "code",
   "execution_count": null,
   "metadata": {
    "slideshow": {
     "slide_type": "fragment"
    }
   },
   "outputs": [],
   "source": [
    "x = tf.Variable(3., dtype=tf.float32)\n",
    "\n",
    "with tf.GradientTape() as tape:\n",
    "    y = 2. * x + 3.\n",
    "    z = tf.math.log(y)\n",
    "\n",
    "grad = tape.gradient(z, x)\n",
    "\n",
    "print(f\"미분 값 : {grad:.3f}\")"
   ]
  },
  {
   "cell_type": "markdown",
   "metadata": {
    "slideshow": {
     "slide_type": "slide"
    }
   },
   "source": [
    "### + 딥러닝 개발 도구들의 생태계\n",
    "\n",
    "\"파이썬을 이용하여 텐서플로우의 케라스로 딥러닝을 위한 코드를 구현한 후 넘파이 배열을 입력하여 텐서플로우에서 모델을 학습한다.\"의 의미는?"
   ]
  },
  {
   "cell_type": "markdown",
   "metadata": {
    "slideshow": {
     "slide_type": "subslide"
    }
   },
   "source": [
    "#### 딥러닝 개발 프로세스의 생태계\n",
    "\n",
    "![2_28](./img/2_28.png)\n",
    "\n",
    "2019년 9월, 텐서플로우2.0이 출시하며 `텐서플로우 코어`는 (거의 모두) `케라스(Keras)인터페이스로 동작`<br>\n",
    "이로서, `케라스`의 간편하고 배우기 쉬운` 인터페이스로 텐서플로우를 사용`할 수 있음."
   ]
  },
  {
   "cell_type": "markdown",
   "metadata": {
    "slideshow": {
     "slide_type": "subslide"
    }
   },
   "source": [
    "![2_29](./img/2_29.png)"
   ]
  },
  {
   "cell_type": "markdown",
   "metadata": {
    "slideshow": {
     "slide_type": "slide"
    }
   },
   "source": [
    "## [3. 텐서플로우를 활용한 딥러닝 개발 프로세스]\n",
    "\n",
    "\n",
    "---\n",
    "\n",
    "\n",
    "pass"
   ]
  },
  {
   "cell_type": "markdown",
   "metadata": {
    "slideshow": {
     "slide_type": "slide"
    }
   },
   "source": [
    "### 텐서플로우를 활용한 딥러닝 개발 프로세스\n",
    "\n",
    "---\n",
    "\n",
    "![2_13](./img/2_13.png)"
   ]
  },
  {
   "cell_type": "markdown",
   "metadata": {
    "slideshow": {
     "slide_type": "subslide"
    }
   },
   "source": [
    "#### 필요한 패키지 호출 및 환경설정"
   ]
  },
  {
   "cell_type": "code",
   "execution_count": null,
   "metadata": {},
   "outputs": [],
   "source": [
    "import numpy as np\n",
    "import pandas as pd\n",
    "import matplotlib.pyplot as plt\n",
    "\n",
    "import tensorflow as tf\n",
    "from tensorflow import keras"
   ]
  },
  {
   "cell_type": "code",
   "execution_count": null,
   "metadata": {},
   "outputs": [],
   "source": [
    "# 랜덤값 고정\n",
    "if \"set_seed\" in dir(tf.random):\n",
    "    tf.random.set_seed(1)\n",
    "else:\n",
    "    tf.random.set_random_seed(1)\n",
    "    \n",
    "# plot에서 한글깨짐 방지\n",
    "plt.rc('font', family='d2coding')"
   ]
  },
  {
   "cell_type": "markdown",
   "metadata": {
    "slideshow": {
     "slide_type": "slide"
    }
   },
   "source": [
    "### 문제정의 및 데이터 로드\n",
    "\n",
    "---\n",
    "\n",
    "![2_14](./img/2_14.png)"
   ]
  },
  {
   "cell_type": "markdown",
   "metadata": {
    "slideshow": {
     "slide_type": "subslide"
    }
   },
   "source": [
    "#### 문제 정의 : 데이터로 영화 \"옥자\" 의 `관객수 예측 하기`\n",
    "\n",
    "1. 이전까지 개봉했던 영화의 왓챠 \"보고싶어요\" 수와 실제 관객 수를 바탕으로\n",
    "2. 2017년에 개봉한 옥자의 왓챠 \"보고싶어요\"를 통한 관객 수 예측하기\n",
    "\n",
    "![2_24](./img/2_24.png)"
   ]
  },
  {
   "cell_type": "markdown",
   "metadata": {
    "slideshow": {
     "slide_type": "subslide"
    }
   },
   "source": [
    "####  데이터 준비\n"
   ]
  },
  {
   "cell_type": "code",
   "execution_count": null,
   "metadata": {},
   "outputs": [],
   "source": [
    "movie_df = pd.DataFrame([\n",
    "    [8759, 487],\n",
    "    [10132,612],\n",
    "    [12078,866],\n",
    "    [16430,1030]],\n",
    "    columns=[\"nums_want_to_see\",\"nums_audience\"])\n",
    "movie_df.index = [\"마션\",\"킹스맨\",\"캡틴아메리카\",\"인터스텔라\"]"
   ]
  },
  {
   "cell_type": "markdown",
   "metadata": {
    "slideshow": {
     "slide_type": "subslide"
    }
   },
   "source": [
    "#### 데이터 탐색"
   ]
  },
  {
   "cell_type": "code",
   "execution_count": null,
   "metadata": {},
   "outputs": [],
   "source": [
    "# 저장된 데이터 확인\n",
    "\n",
    "movie_df"
   ]
  },
  {
   "cell_type": "code",
   "execution_count": null,
   "metadata": {
    "slideshow": {
     "slide_type": "fragment"
    }
   },
   "outputs": [],
   "source": [
    "# 각 영화별 \"보고싶어요\"수와 관객수 확인\n",
    "\n",
    "movie_df.plot()\n",
    "for idx, (name, value) in enumerate(movie_df.iterrows()):\n",
    "    plt.annotate(value[0], (idx,value[0]))\n",
    "    plt.annotate(value[1], (idx,value[1]))"
   ]
  },
  {
   "cell_type": "code",
   "execution_count": null,
   "metadata": {
    "slideshow": {
     "slide_type": "fragment"
    }
   },
   "outputs": [],
   "source": [
    "# \"보고싶어요\"수에 따른 실제 관객수 확인\n",
    "\n",
    "movie_df.plot(x=\"nums_want_to_see\", y=\"nums_audience\",)\n",
    "for idx, (name, value) in enumerate(movie_df.iterrows()):\n",
    "    plt.annotate(f\"{name}: {value[1]}\", value)"
   ]
  },
  {
   "cell_type": "markdown",
   "metadata": {
    "slideshow": {
     "slide_type": "slide"
    }
   },
   "source": [
    "### 머신 개발 : 모델 구성하기\n",
    "\n",
    "---\n",
    "\n",
    "![2_15](./img/2_15.png)"
   ]
  },
  {
   "cell_type": "markdown",
   "metadata": {
    "slideshow": {
     "slide_type": "subslide"
    }
   },
   "source": [
    "![2_16](./img/2_16.png)"
   ]
  },
  {
   "cell_type": "markdown",
   "metadata": {
    "slideshow": {
     "slide_type": "subslide"
    }
   },
   "source": [
    "#### 각 레이어의 정의 및 레이어 연결"
   ]
  },
  {
   "cell_type": "code",
   "execution_count": null,
   "metadata": {
    "slideshow": {
     "slide_type": "fragment"
    }
   },
   "outputs": [],
   "source": [
    "from tensorflow.keras.layers import Input\n",
    "from tensorflow.keras.layers import Dense"
   ]
  },
  {
   "cell_type": "code",
   "execution_count": null,
   "metadata": {
    "slideshow": {
     "slide_type": "fragment"
    }
   },
   "outputs": [],
   "source": [
    "# (1) 입력값의 형태 결정하기\n",
    "inputs = Input(1,name='x')\n",
    "\n",
    "# (2) 출력값의 형태 결정하기 \n",
    "dense_layer = Dense(1, name='output')\n",
    "\n",
    "# (3) 레이어 연결하기\n",
    "output = dense_layer(inputs)"
   ]
  },
  {
   "cell_type": "markdown",
   "metadata": {},
   "source": [
    "![2_23](./img/2_23.png)"
   ]
  },
  {
   "cell_type": "markdown",
   "metadata": {
    "slideshow": {
     "slide_type": "slide"
    }
   },
   "source": [
    "### 머신 개발 : 모델 생성하기\n",
    "\n",
    "---\n",
    "\n",
    "![2_17](./img/2_17.png)"
   ]
  },
  {
   "cell_type": "markdown",
   "metadata": {
    "slideshow": {
     "slide_type": "subslide"
    }
   },
   "source": [
    "#### 모델 생성하기"
   ]
  },
  {
   "cell_type": "code",
   "execution_count": null,
   "metadata": {
    "slideshow": {
     "slide_type": "fragment"
    }
   },
   "outputs": [],
   "source": [
    "from tensorflow.keras.models import Model"
   ]
  },
  {
   "cell_type": "code",
   "execution_count": null,
   "metadata": {
    "slideshow": {
     "slide_type": "fragment"
    }
   },
   "outputs": [],
   "source": [
    "# 모델 인스턴스 생성\n",
    "model = Model(inputs, output, name='model')"
   ]
  },
  {
   "cell_type": "markdown",
   "metadata": {
    "slideshow": {
     "slide_type": "fragment"
    }
   },
   "source": [
    "#### 생성된 모델 확인하기"
   ]
  },
  {
   "cell_type": "code",
   "execution_count": null,
   "metadata": {
    "scrolled": true,
    "slideshow": {
     "slide_type": ""
    }
   },
   "outputs": [],
   "source": [
    "model.summary()"
   ]
  },
  {
   "cell_type": "code",
   "execution_count": null,
   "metadata": {
    "slideshow": {
     "slide_type": "fragment"
    }
   },
   "outputs": [],
   "source": [
    "# w1, w0 가중치 확인\n",
    "dense_layer.get_weights()"
   ]
  },
  {
   "cell_type": "markdown",
   "metadata": {
    "slideshow": {
     "slide_type": "subslide"
    }
   },
   "source": [
    "#### 모델에 데이터 입력하여 예측값 구하기"
   ]
  },
  {
   "cell_type": "code",
   "execution_count": null,
   "metadata": {
    "slideshow": {
     "slide_type": "fragment"
    }
   },
   "outputs": [],
   "source": [
    "# x에 1의 값을 넣었을 때, y값은? w_1 * 1 + w_0\n",
    "x = np.array([[1.]],np.float32)\n",
    "display(model.predict(x))\n",
    "\n",
    "# x에 2의 값을 넣었을 때, y값은? w_1 * 2 + w_0\n",
    "x = np.array([[2.]],np.float32)\n",
    "display(model.predict(x))\n"
   ]
  },
  {
   "cell_type": "code",
   "execution_count": null,
   "metadata": {
    "slideshow": {
     "slide_type": "fragment"
    }
   },
   "outputs": [],
   "source": [
    "# x에 옥자의 왓차 \"보고싶어요\"수 12008의 값을 넣었을 때, y값(예상 관객수)은? w_1 * 12008 + w_0\n",
    "x = np.array([[12008.]],np.float32)\n",
    "pred = model.predict(x)\n",
    "\n",
    "print(f\"학습되지 않은 모델이 예측한 옥자의 예상 관객수 : {pred}\")"
   ]
  },
  {
   "cell_type": "markdown",
   "metadata": {
    "slideshow": {
     "slide_type": "slide"
    }
   },
   "source": [
    "### 머신 개발 : 모델 학습 설정하기\n",
    "\n",
    "---\n",
    "\n",
    "![2_18](./img/2_18.png)"
   ]
  },
  {
   "cell_type": "markdown",
   "metadata": {
    "slideshow": {
     "slide_type": "subslide"
    }
   },
   "source": [
    "#### 모델의 학습 설정하기\n",
    "\n",
    "![2_19](./img/2_19.png)"
   ]
  },
  {
   "cell_type": "markdown",
   "metadata": {
    "slideshow": {
     "slide_type": "subslide"
    }
   },
   "source": [
    "#### 손실함수설정"
   ]
  },
  {
   "cell_type": "code",
   "execution_count": null,
   "metadata": {
    "slideshow": {
     "slide_type": "fragment"
    }
   },
   "outputs": [],
   "source": [
    "from tensorflow.keras.losses import MeanSquaredError"
   ]
  },
  {
   "cell_type": "code",
   "execution_count": null,
   "metadata": {
    "slideshow": {
     "slide_type": ""
    }
   },
   "outputs": [],
   "source": [
    "# \"실제값과 다른 정도\"인 \"비용\"의 계산방법으로서 MSE\n",
    "\n",
    "loss = MeanSquaredError()"
   ]
  },
  {
   "cell_type": "markdown",
   "metadata": {
    "slideshow": {
     "slide_type": "fragment"
    }
   },
   "source": [
    "#### 모델의 최적화 함수"
   ]
  },
  {
   "cell_type": "code",
   "execution_count": null,
   "metadata": {
    "slideshow": {
     "slide_type": "fragment"
    }
   },
   "outputs": [],
   "source": [
    "from tensorflow.keras.optimizers import SGD"
   ]
  },
  {
   "cell_type": "code",
   "execution_count": null,
   "metadata": {
    "slideshow": {
     "slide_type": ""
    }
   },
   "outputs": [],
   "source": [
    "# \"비용\"을 줄이는 방법으로서 SGD\n",
    "\n",
    "optimizer = SGD(2e-10)"
   ]
  },
  {
   "cell_type": "markdown",
   "metadata": {
    "slideshow": {
     "slide_type": "fragment"
    }
   },
   "source": [
    "#### 모델 컴파일 하기"
   ]
  },
  {
   "cell_type": "code",
   "execution_count": null,
   "metadata": {
    "slideshow": {
     "slide_type": "fragment"
    }
   },
   "outputs": [],
   "source": [
    "model.compile(loss=loss, optimizer=optimizer)"
   ]
  },
  {
   "cell_type": "markdown",
   "metadata": {
    "slideshow": {
     "slide_type": "subslide"
    }
   },
   "source": [
    "#### 학습 전 모델의 예측과 가중치"
   ]
  },
  {
   "cell_type": "code",
   "execution_count": null,
   "metadata": {},
   "outputs": [],
   "source": [
    "# 학습이 전혀 되지 않았을 때의 예측 값\n",
    "y_pred = model.predict(movie_df['nums_want_to_see'])\n",
    "movie_df['prediction'] = y_pred\n",
    "movie_df"
   ]
  },
  {
   "cell_type": "code",
   "execution_count": null,
   "metadata": {
    "slideshow": {
     "slide_type": "fragment"
    }
   },
   "outputs": [],
   "source": [
    "# 학습이 전혀 되지 않았을 때의 Weight\n",
    "model.get_weights()"
   ]
  },
  {
   "cell_type": "markdown",
   "metadata": {
    "slideshow": {
     "slide_type": "slide"
    }
   },
   "source": [
    "### 머신 개발 : 모델 학습하기\n",
    "---\n",
    "![2_20](./img/2_20.png)"
   ]
  },
  {
   "cell_type": "markdown",
   "metadata": {
    "slideshow": {
     "slide_type": "subslide"
    }
   },
   "source": [
    "#### 모델 학습"
   ]
  },
  {
   "cell_type": "code",
   "execution_count": null,
   "metadata": {},
   "outputs": [],
   "source": [
    "# 학습\n",
    "history = model.fit(x=movie_df['nums_want_to_see'], \n",
    "                    y=movie_df['nums_audience'], \n",
    "                    epochs=100, verbose=0)"
   ]
  },
  {
   "cell_type": "markdown",
   "metadata": {
    "slideshow": {
     "slide_type": "slide"
    }
   },
   "source": [
    "### 모델 평가하기\n",
    "\n",
    "---\n",
    "\n",
    "![2_22](./img/2_22.png)"
   ]
  },
  {
   "cell_type": "markdown",
   "metadata": {},
   "source": [
    "#### 학습 경과 확인 : 학습에 따른 손실값 감소 확인"
   ]
  },
  {
   "cell_type": "code",
   "execution_count": null,
   "metadata": {},
   "outputs": [],
   "source": [
    "import matplotlib.pyplot as plt"
   ]
  },
  {
   "cell_type": "code",
   "execution_count": null,
   "metadata": {
    "slideshow": {
     "slide_type": "fragment"
    }
   },
   "outputs": [],
   "source": [
    "plt.plot(history.history['loss'])\n",
    "plt.show()"
   ]
  },
  {
   "cell_type": "markdown",
   "metadata": {
    "slideshow": {
     "slide_type": "subslide"
    }
   },
   "source": [
    "#### 결과 시각화하기"
   ]
  },
  {
   "cell_type": "code",
   "execution_count": null,
   "metadata": {},
   "outputs": [],
   "source": [
    "pred_inputs = np.arange(7500, 18000)\n",
    "pred_outputs = model.predict(pred_inputs[:,None])\n",
    "\n",
    "movie_df.plot(x='nums_want_to_see',y='nums_audience',\n",
    "              kind='scatter', title=\"Movie\")\n",
    "plt.plot(pred_inputs, pred_outputs, 'r--')\n",
    "plt.show()"
   ]
  },
  {
   "cell_type": "markdown",
   "metadata": {
    "slideshow": {
     "slide_type": "subslide"
    }
   },
   "source": [
    "#### 모델에 데이터 입력하여 예측값 구하기"
   ]
  },
  {
   "cell_type": "code",
   "execution_count": null,
   "metadata": {
    "slideshow": {
     "slide_type": "fragment"
    }
   },
   "outputs": [],
   "source": [
    "# x에 옥자의 왓차 \"보고싶어요\"수 12008의 값을 넣었을 때, y값(예상 관객수)은? w_1 * 12008 + w_0\n",
    "x = np.array([[12008.]],np.float32)\n",
    "pred = model.predict(x)\n",
    "\n",
    "print(f\"옥자의 예상관객수는 {pred}\")\n"
   ]
  },
  {
   "cell_type": "markdown",
   "metadata": {
    "slideshow": {
     "slide_type": "slide"
    }
   },
   "source": [
    "### 정리 : 딥러닝 개발 프로세스\n",
    "\n",
    "![2_21](./img/2_21.png)"
   ]
  },
  {
   "cell_type": "markdown",
   "metadata": {
    "slideshow": {
     "slide_type": "slide"
    }
   },
   "source": [
    "## `2. 텐서플로우와 딥러닝 개발 프로세스` 마무리\n",
    "\n",
    "\n",
    "---"
   ]
  },
  {
   "cell_type": "markdown",
   "metadata": {},
   "source": [
    "  "
   ]
  },
  {
   "cell_type": "markdown",
   "metadata": {
    "slideshow": {
     "slide_type": "slide"
    }
   },
   "source": [
    "![](../../src/logo.png)"
   ]
  },
  {
   "cell_type": "markdown",
   "metadata": {
    "slideshow": {
     "slide_type": "slide"
    }
   },
   "source": [
    "---"
   ]
  },
  {
   "cell_type": "markdown",
   "metadata": {
    "slideshow": {
     "slide_type": "slide"
    }
   },
   "source": [
    "---"
   ]
  },
  {
   "cell_type": "markdown",
   "metadata": {},
   "source": [
    "---"
   ]
  },
  {
   "cell_type": "markdown",
   "metadata": {
    "slideshow": {
     "slide_type": "slide"
    }
   },
   "source": [
    "# [부록 컨텐츠]"
   ]
  },
  {
   "cell_type": "markdown",
   "metadata": {},
   "source": [
    "### 딥러닝 프레임워크의 필요성 : 인공신경망에 필요한 클래스"
   ]
  },
  {
   "cell_type": "code",
   "execution_count": null,
   "metadata": {},
   "outputs": [],
   "source": [
    "import tensorflow as tf\n",
    "import tensorflow.keras"
   ]
  },
  {
   "cell_type": "code",
   "execution_count": null,
   "metadata": {},
   "outputs": [],
   "source": [
    "for module in dir(tf.keras):\n",
    "    if module[0] != \"_\":\n",
    "        print(module)"
   ]
  },
  {
   "cell_type": "code",
   "execution_count": null,
   "metadata": {},
   "outputs": [],
   "source": [
    "\n",
    "for cls in dir(tf.keras.layers):\n",
    "    if (cls[0] != \"_\") and (cls[0].isupper()):\n",
    "        print(f\"{cls}()\")"
   ]
  },
  {
   "cell_type": "markdown",
   "metadata": {},
   "source": [
    "### 딥러닝 프레임워크의 필요성 : 미분가능"
   ]
  },
  {
   "cell_type": "code",
   "execution_count": null,
   "metadata": {},
   "outputs": [],
   "source": [
    "import matplotlib.pyplot as plt"
   ]
  },
  {
   "cell_type": "code",
   "execution_count": null,
   "metadata": {},
   "outputs": [],
   "source": [
    "x = np.linspace(1, 100, 200)"
   ]
  },
  {
   "cell_type": "code",
   "execution_count": null,
   "metadata": {},
   "outputs": [],
   "source": [
    "y = (x-50)**2 +100"
   ]
  },
  {
   "cell_type": "markdown",
   "metadata": {},
   "source": [
    "$$J(\\theta)$$"
   ]
  },
  {
   "cell_type": "code",
   "execution_count": null,
   "metadata": {},
   "outputs": [],
   "source": [
    "fig = plt.figure(figsize=(15, 10))\n",
    "\n",
    "plt.plot(x, y ,linewidth=2.0)\n",
    "ax = fig.gca()\n",
    "ax.spines[\"right\"].set_visible(False)\n",
    "ax.spines[\"top\"].set_visible(False)\n",
    "ax.spines[\"left\"].set_linewidth(2)\n",
    "ax.spines[\"bottom\"].set_linewidth(2)\n",
    "\n",
    "plt.xlim((0, 100))\n",
    "plt.ylim((0, 1500))\n",
    "\n",
    "ax.set_yticklabels([])\n",
    "ax.set_xticklabels([])\n"
   ]
  },
  {
   "cell_type": "markdown",
   "metadata": {},
   "source": [
    "$$\\min_\\theta J(\\theta)$$\n"
   ]
  },
  {
   "cell_type": "markdown",
   "metadata": {},
   "source": [
    "$$\\theta_1 = \\theta_1 - \\lambda\\frac{\\partial}{\\partial\\theta_1}J(\\theta_1)$$"
   ]
  }
 ],
 "metadata": {
  "celltoolbar": "Slideshow",
  "kernelspec": {
   "display_name": "Python 3",
   "language": "python",
   "name": "python3"
  },
  "language_info": {
   "codemirror_mode": {
    "name": "ipython",
    "version": 3
   },
   "file_extension": ".py",
   "mimetype": "text/x-python",
   "name": "python",
   "nbconvert_exporter": "python",
   "pygments_lexer": "ipython3",
   "version": "3.8.8"
  },
  "rise": {
   "enable_chalkboard": true,
   "scroll": true
  },
  "toc": {
   "base_numbering": 1,
   "nav_menu": {},
   "number_sections": false,
   "sideBar": true,
   "skip_h1_title": true,
   "title_cell": "Table of Contents",
   "title_sidebar": "Contents",
   "toc_cell": false,
   "toc_position": {
    "height": "calc(100% - 180px)",
    "left": "10px",
    "top": "150px",
    "width": "504px"
   },
   "toc_section_display": true,
   "toc_window_display": false
  }
 },
 "nbformat": 4,
 "nbformat_minor": 4
}
