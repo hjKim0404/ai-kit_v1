{
 "cells": [
  {
   "cell_type": "markdown",
   "metadata": {
    "slideshow": {
     "slide_type": "slide"
    }
   },
   "source": [
    "**_심층신경망(DNN) 기본기_**\n",
    "\n",
    "\n",
    "# 3. 인공신경망의 순전파"
   ]
  },
  {
   "cell_type": "markdown",
   "metadata": {
    "slideshow": {
     "slide_type": "fragment"
    }
   },
   "source": [
    "### _Objective_\n",
    "\n",
    "1. 인공신경망에서의 `순전파(Feedforward Networks)`가 무엇인지 알아봅니다."
   ]
  },
  {
   "cell_type": "markdown",
   "metadata": {
    "slideshow": {
     "slide_type": "fragment"
    }
   },
   "source": [
    "2. 딥러닝 프레임워크, `텐서플로우`를 사용하여 모델링한 신경망에서 `순전파`를 진행해봅니다."
   ]
  },
  {
   "cell_type": "markdown",
   "metadata": {
    "slideshow": {
     "slide_type": "fragment"
    }
   },
   "source": [
    "3. 넘파이(Numpy)로 순전파 수식을 직접 구현해보며 `순전파`의 원리를 이해합니다."
   ]
  },
  {
   "cell_type": "markdown",
   "metadata": {
    "slideshow": {
     "slide_type": "slide"
    }
   },
   "source": [
    "## [1. 순전파(Feedforward Networks)]\n",
    "\n",
    "---\n",
    "\n",
    "pass"
   ]
  },
  {
   "cell_type": "markdown",
   "metadata": {
    "slideshow": {
     "slide_type": "slide"
    }
   },
   "source": [
    "### 인공신경망의 순전파란?\n",
    "\n",
    "\n",
    "---\n",
    "\n",
    "![4_1](./img/4_1.gif)\n",
    "\n",
    "`순전파(Feedforward Networks)`는\n",
    "\n",
    "1. 인공신경망에서 입력층부터 출력층까지 각 층을 거쳐가며 `신호(signal)`를 타고 넘어가는 `일련의 연산과정`이다.\n",
    "2. 입력층에서 출력층으로, 앞의 레이어부터 뒤의 레이어로 `신호(signal)`를 전달하여 `\"순전파(Feedforward)\"`라 부른다.\n",
    "3. 연산에 의해 `입력신호(Input signal)`에 대한 `예측값(Output signal)`을 도출하는 것이 목표이다."
   ]
  },
  {
   "cell_type": "markdown",
   "metadata": {
    "slideshow": {
     "slide_type": "slide"
    }
   },
   "source": [
    "#### 유닛(unit)단위의 순전파 연산\n",
    "\n",
    "---\n",
    "\n",
    "\n",
    "![4_2](./img/4_2.png)\n",
    "\n",
    "\n",
    "유닛(unit)에서의 순전파는 순차적인 두 부분으로 구성된다. \n",
    "\n",
    "1. 입력신호(signal)과 가중치(Weight)의 선형결합으로 로짓(z)을 계산하는 부분 : <br>\n",
    "$\n",
    "z = w_0 + w_1x_1 + w_2x_2 + w_3x_3\\\\\n",
    "$\n",
    "\n",
    "2. 로짓(z)에 활성화 함수($\\sigma$)를 거치는 부분 : <br>\n",
    "시그모이드: $a = \\sigma(z) = \\frac{1}{1+e^{-z}}$"
   ]
  },
  {
   "cell_type": "markdown",
   "metadata": {
    "slideshow": {
     "slide_type": "slide"
    }
   },
   "source": [
    "#### 층(Layer) 단위의 순전파 연산\n",
    "\n",
    "---\n",
    "\n",
    "+ 층은 입력층과 은닉층, 출력층으로 구성되어있다.\n",
    "+ 인공신경망의 순전파는 입력층에서 은닉층을 거쳐 출력층으로 연산된다.\n",
    "![4_3](./img/4_3.gif)\n",
    "\n",
    "\n",
    "$$\n",
    "\\begin{matrix}\n",
    "\\mathrm{첫번째\\  층에서 :} && Z^{[1]} = X\\cdot W^{[1]} + b^{[1]} && a^{[1]} = h(Z^{[1]}) \\\\\n",
    "\\mathrm{두번째\\  층에서 :} && Z^{[2]} = a^{[1]}\\cdot W^{[2]} + b^{[2]} && a^{[2]} = h(Z^{[2]}) \\\\\n",
    "\\mathrm{세번째\\  층에서 :} &&  Z^{[3]} = a^{[2]}\\cdot W^{[3]} + b^{[3]} && \\hat{y} = h(Z^{[3]})\n",
    "\\end{matrix}$$"
   ]
  },
  {
   "cell_type": "markdown",
   "metadata": {
    "slideshow": {
     "slide_type": "slide"
    }
   },
   "source": [
    "## [2. 순전파의 연산 진행]\n",
    "\n",
    "---\n",
    "\n",
    "pass"
   ]
  },
  {
   "cell_type": "markdown",
   "metadata": {
    "slideshow": {
     "slide_type": "slide"
    }
   },
   "source": [
    "### 인공신경망의 순전파 연산 진행\n",
    "\n",
    "---\n",
    "\n",
    "1. 환자의 나이와 종양의 크기에 따른 종양의 분류 데이터 확인하기\n",
    "2. `텐서플로우(Tensorflow)`를 활용하여 각 층(Layer)을 정의하고 순전파 모델 구현하기\n",
    "3. `넘파이(Numpy)`를 활용하여 구현된 모델로 결과를 예측하는 순전파 진행하기"
   ]
  },
  {
   "cell_type": "markdown",
   "metadata": {
    "slideshow": {
     "slide_type": "slide"
    }
   },
   "source": [
    "#### 필요한 패키지 호출"
   ]
  },
  {
   "cell_type": "code",
   "execution_count": null,
   "metadata": {
    "scrolled": true
   },
   "outputs": [],
   "source": [
    "%matplotlib inline\n",
    "\n",
    "import numpy as np\n",
    "import pandas as pd\n",
    "\n",
    "\n",
    "import matplotlib.pyplot as plt\n",
    "from tensorflow.keras.utils import get_file"
   ]
  },
  {
   "cell_type": "markdown",
   "metadata": {
    "slideshow": {
     "slide_type": "slide"
    }
   },
   "source": [
    "### 1. 암환자 데이터셋 준비하기\n",
    "\n",
    "---\n",
    "\n",
    "**목표** : 텐서플로우로 구현한 인공신경망으로 환자의 종양이 암인지 아닌지 이진 분류<br>\n",
    "**데이터의 피쳐(features)** :  `환자의 나이(age)`, `종양크기(size)`<br>\n",
    "**데이터의 라벨(label)**  : `음성 : 0`, `양성 : 1`"
   ]
  },
  {
   "cell_type": "markdown",
   "metadata": {
    "slideshow": {
     "slide_type": "subslide"
    }
   },
   "source": [
    "#### 데이터 불러오기"
   ]
  },
  {
   "cell_type": "code",
   "execution_count": null,
   "metadata": {},
   "outputs": [],
   "source": [
    "# 데이터 불러오기\n",
    "\n",
    "fpath = get_file(\"cancer_dataset.csv\",\n",
    "                 \"https://s3.ap-northeast-2.amazonaws.com/pai-datasets/alai-deeplearning/cancer_dataset.csv\")\n",
    "cancer_df = pd.read_csv(fpath)\n",
    "\n",
    "# 피쳐(feature) X, 라벨(label) y\n",
    "\n",
    "X = cancer_df[['age','tumor_size']]\n",
    "y = cancer_df[\"label\"]"
   ]
  },
  {
   "cell_type": "markdown",
   "metadata": {
    "slideshow": {
     "slide_type": "subslide"
    }
   },
   "source": [
    "#### 데이터 전처리"
   ]
  },
  {
   "cell_type": "code",
   "execution_count": null,
   "metadata": {},
   "outputs": [],
   "source": [
    "# 피쳐(feature)의 min-max 정규화\n",
    "\n",
    "X = (X - X.min()) / (X.max() - X.min())"
   ]
  },
  {
   "cell_type": "markdown",
   "metadata": {
    "slideshow": {
     "slide_type": "subslide"
    }
   },
   "source": [
    "#### 데이터의 시각화"
   ]
  },
  {
   "cell_type": "code",
   "execution_count": null,
   "metadata": {},
   "outputs": [],
   "source": [
    "# 시각화가 진행될 피겨(figure) 준비\n",
    "\n",
    "fig = plt.figure(figsize=(7,7))\n",
    "ax = fig.add_subplot(1,1,1)\n",
    "\n",
    "# 0: 정상 → 빨간색 점으로 흩뿌리기\n",
    "X[y==0].plot('age','tumor_size',ax=ax,legend=True,\n",
    "                           kind='scatter',color='red')\n",
    "\n",
    "# 1: 암환자 → 초록색 점으로 흩뿌리기\n",
    "X[y==1].plot('age','tumor_size',ax=ax,legend=True,\n",
    "                           kind='scatter',color='green')\n",
    "plt.legend(['Normal','Cancer'])\n",
    "plt.title(\"Cancer Or Not\")\n",
    "plt.show()"
   ]
  },
  {
   "cell_type": "markdown",
   "metadata": {
    "slideshow": {
     "slide_type": "slide"
    }
   },
   "source": [
    "### 2. 인공신경망의 순전파 모델 구현하기\n",
    "\n",
    "---\n",
    "\n",
    "1. 딥러닝 프레임워크, `텐서플로우(Tensorflow)` 활용\n",
    "2. `유닛(unit)의 수가 3개`인 `은닉층(hidden layer) 2개`를 갖는 `3층 인공신경망` 구현\n",
    "3. 정의한 모델의 확인과 순전파 의 결과 확인"
   ]
  },
  {
   "cell_type": "markdown",
   "metadata": {
    "slideshow": {
     "slide_type": "fragment"
    }
   },
   "source": [
    "![4_14](./img/4_14.png)"
   ]
  },
  {
   "cell_type": "markdown",
   "metadata": {
    "slideshow": {
     "slide_type": "subslide"
    }
   },
   "source": [
    "#### 인공신경망 모델 구축 : 입력층정의\n",
    "\n",
    "`피쳐(feature; X)`의 수가 2인경우 <br>\n",
    "+ 입력층의 모양 : (2, )"
   ]
  },
  {
   "cell_type": "code",
   "execution_count": null,
   "metadata": {},
   "outputs": [],
   "source": [
    "from tensorflow.keras.layers import Input"
   ]
  },
  {
   "cell_type": "code",
   "execution_count": null,
   "metadata": {
    "slideshow": {
     "slide_type": "fragment"
    }
   },
   "outputs": [],
   "source": [
    "# 두개의 피쳐(feature)를 받는 x 입력층 정의하기\n",
    "\n",
    "inputs = Input(shape=(2,))\n",
    "display(inputs)"
   ]
  },
  {
   "cell_type": "markdown",
   "metadata": {
    "slideshow": {
     "slide_type": "subslide"
    }
   },
   "source": [
    "#### 인공신경망 모델 구축 : 은닉층 정의\n",
    "\n",
    "+ 유닛의 수 : 3\n",
    "+ 은닉층 수 : 2\n",
    "+ 활성화함수 : `ReLu`"
   ]
  },
  {
   "cell_type": "code",
   "execution_count": null,
   "metadata": {},
   "outputs": [],
   "source": [
    "from tensorflow.keras.layers import Dense\n",
    "from tensorflow.keras.activations import relu"
   ]
  },
  {
   "cell_type": "code",
   "execution_count": null,
   "metadata": {
    "slideshow": {
     "slide_type": "fragment"
    }
   },
   "outputs": [],
   "source": [
    "# 첫번째 은닉층\n",
    "z_1 = Dense(3)(inputs) ## 선형결합\n",
    "display(z_1)\n",
    "\n",
    "a_1 = relu(z_1) ## 활성화함수\n",
    "display(a_1)\n",
    "# a_1 = Dense(4, \"relu\")(x) 과 동일"
   ]
  },
  {
   "cell_type": "code",
   "execution_count": null,
   "metadata": {
    "slideshow": {
     "slide_type": "fragment"
    }
   },
   "outputs": [],
   "source": [
    "# 두번째 은닉층\n",
    "z_2 = Dense(3)(a_1)\n",
    "display(z_2)\n",
    "\n",
    "a_2 = relu(z_2)\n",
    "display(a_2)\n",
    "# a_2 = Dense(4, \"relu\")(a_1) 과 동일"
   ]
  },
  {
   "cell_type": "markdown",
   "metadata": {
    "slideshow": {
     "slide_type": "subslide"
    }
   },
   "source": [
    "#### 인공신경망 모델 구축 : 출력층 정의\n",
    "\n",
    "`라벨(label; y)`이 이진분류 문제: <br>\n",
    "+ 유닛의 수 : 1\n",
    "+ 활성화함수 : 시그모이드(sigmoid)"
   ]
  },
  {
   "cell_type": "code",
   "execution_count": null,
   "metadata": {},
   "outputs": [],
   "source": [
    "from tensorflow.keras.activations import sigmoid"
   ]
  },
  {
   "cell_type": "code",
   "execution_count": null,
   "metadata": {
    "slideshow": {
     "slide_type": "fragment"
    }
   },
   "outputs": [],
   "source": [
    "# 출력층\n",
    "z_3 = Dense(1)(a_2)\n",
    "display(z_3)\n",
    "\n",
    "outputs = sigmoid(z_3)\n",
    "display(outputs)"
   ]
  },
  {
   "cell_type": "markdown",
   "metadata": {
    "slideshow": {
     "slide_type": "subslide"
    }
   },
   "source": [
    "#### 인공신경망 모델 구축 : 인공신경망 인스턴스 생성"
   ]
  },
  {
   "cell_type": "code",
   "execution_count": null,
   "metadata": {
    "slideshow": {
     "slide_type": ""
    }
   },
   "outputs": [],
   "source": [
    "from tensorflow.keras.models import Model"
   ]
  },
  {
   "cell_type": "code",
   "execution_count": null,
   "metadata": {
    "slideshow": {
     "slide_type": "fragment"
    }
   },
   "outputs": [],
   "source": [
    "model = Model(inputs, outputs)\n",
    "print(model)"
   ]
  },
  {
   "cell_type": "code",
   "execution_count": null,
   "metadata": {
    "slideshow": {
     "slide_type": "fragment"
    }
   },
   "outputs": [],
   "source": [
    "model.summary()"
   ]
  },
  {
   "cell_type": "markdown",
   "metadata": {
    "slideshow": {
     "slide_type": "subslide"
    }
   },
   "source": [
    "#### 텐서플로우에서 순전파 진행하기"
   ]
  },
  {
   "cell_type": "code",
   "execution_count": null,
   "metadata": {
    "scrolled": true
   },
   "outputs": [],
   "source": [
    "# model.predict(X)"
   ]
  },
  {
   "cell_type": "markdown",
   "metadata": {
    "slideshow": {
     "slide_type": "slide"
    }
   },
   "source": [
    "### 3. 생성한 인공신경망 인스턴스에서 순전파 차례대로 진행하기\n",
    "\n",
    "\n",
    "---\n",
    "\n",
    "1. 텐서플로우로 각 층에서의 순전파 결과 확인하기\n",
    "2. 텐서플로우로 생성한 모델에서 가중치를 가져와 순전파 연산 진행하기\n",
    "3. 순전파 수식을 `넘파이`로 직접 구현하여 순전파의 과정 확인하기"
   ]
  },
  {
   "cell_type": "code",
   "execution_count": null,
   "metadata": {},
   "outputs": [],
   "source": [
    "import tensorflow as tf"
   ]
  },
  {
   "cell_type": "markdown",
   "metadata": {
    "slideshow": {
     "slide_type": "subslide"
    }
   },
   "source": [
    "![4_4](./img/4_14.png)"
   ]
  },
  {
   "cell_type": "code",
   "execution_count": null,
   "metadata": {
    "slideshow": {
     "slide_type": "fragment"
    }
   },
   "outputs": [],
   "source": [
    "## 앞서 진행했던 인공신경망 모델 구현을 정리해보면...\n",
    "\n",
    "inputs = Input(shape=(2,))\n",
    "\n",
    "z_1 = Dense(4)(inputs)\n",
    "a_1 = relu(z_1)\n",
    "\n",
    "z_2 = Dense(4)(a_1)\n",
    "a_2 = relu(z_2)\n",
    "\n",
    "z_3 = Dense(1)(a_2)\n",
    "outputs = sigmoid(z_3)"
   ]
  },
  {
   "cell_type": "code",
   "execution_count": null,
   "metadata": {
    "slideshow": {
     "slide_type": "fragment"
    }
   },
   "outputs": [],
   "source": [
    "model = Model(inputs, outputs)\n",
    "model.summary()"
   ]
  },
  {
   "cell_type": "markdown",
   "metadata": {
    "slideshow": {
     "slide_type": "subslide"
    }
   },
   "source": [
    "![4_5](./img/4_5.png)"
   ]
  },
  {
   "cell_type": "code",
   "execution_count": null,
   "metadata": {
    "slideshow": {
     "slide_type": "fragment"
    }
   },
   "outputs": [],
   "source": [
    "# 입력층 진행\n",
    "print(model.layers[0].name)\n",
    "X_tf = model.layers[0](X)\n",
    "X_tf = tf.convert_to_tensor(X.values, dtype=tf.float32)"
   ]
  },
  {
   "cell_type": "code",
   "execution_count": null,
   "metadata": {
    "scrolled": true,
    "slideshow": {
     "slide_type": "fragment"
    }
   },
   "outputs": [],
   "source": [
    "X_tf"
   ]
  },
  {
   "cell_type": "code",
   "execution_count": null,
   "metadata": {
    "slideshow": {
     "slide_type": "fragment"
    }
   },
   "outputs": [],
   "source": [
    "X"
   ]
  },
  {
   "cell_type": "markdown",
   "metadata": {
    "slideshow": {
     "slide_type": "subslide"
    }
   },
   "source": [
    "![4_6](./img/4_6.png)"
   ]
  },
  {
   "cell_type": "code",
   "execution_count": null,
   "metadata": {
    "slideshow": {
     "slide_type": "fragment"
    }
   },
   "outputs": [],
   "source": [
    "# 텐서플로우에서 진행\n",
    "print(model.layers[1].name)\n",
    "Z1_tf = model.layers[1](X_tf)"
   ]
  },
  {
   "cell_type": "code",
   "execution_count": null,
   "metadata": {
    "slideshow": {
     "slide_type": "fragment"
    }
   },
   "outputs": [],
   "source": [
    "# 넘파이로 선형결합 진행하기\n",
    "W1, B1 = model.layers[1].weights\n",
    "W1, B1 = W1.numpy(), B1.numpy()\n",
    "Z1 = np.dot(X, W1) + B1"
   ]
  },
  {
   "cell_type": "code",
   "execution_count": null,
   "metadata": {
    "slideshow": {
     "slide_type": "fragment"
    }
   },
   "outputs": [],
   "source": [
    "# Z_1_tf\n",
    "# Z1"
   ]
  },
  {
   "cell_type": "markdown",
   "metadata": {
    "slideshow": {
     "slide_type": "subslide"
    }
   },
   "source": [
    "![4_7](./img/4_7.png)"
   ]
  },
  {
   "cell_type": "code",
   "execution_count": null,
   "metadata": {
    "slideshow": {
     "slide_type": "fragment"
    }
   },
   "outputs": [],
   "source": [
    "print(model.layers[2].name)\n",
    "a1_tf = model.layers[2](Z1_tf)"
   ]
  },
  {
   "cell_type": "code",
   "execution_count": null,
   "metadata": {
    "slideshow": {
     "slide_type": "fragment"
    }
   },
   "outputs": [],
   "source": [
    "# 넘파이로 ReLu 진행하기\n",
    "a1 = np.maximum(Z1,0)"
   ]
  },
  {
   "cell_type": "code",
   "execution_count": null,
   "metadata": {
    "slideshow": {
     "slide_type": "fragment"
    }
   },
   "outputs": [],
   "source": [
    "# a_1_tf\n",
    "# a1"
   ]
  },
  {
   "cell_type": "markdown",
   "metadata": {
    "slideshow": {
     "slide_type": "subslide"
    }
   },
   "source": [
    "![4_8](./img/4_8.png)"
   ]
  },
  {
   "cell_type": "code",
   "execution_count": null,
   "metadata": {
    "slideshow": {
     "slide_type": "fragment"
    }
   },
   "outputs": [],
   "source": [
    "# 텐서플로우에서 진행\n",
    "print(model.layers[3].name)\n",
    "Z2_tf = model.layers[3](a1_tf)"
   ]
  },
  {
   "cell_type": "code",
   "execution_count": null,
   "metadata": {
    "slideshow": {
     "slide_type": "fragment"
    }
   },
   "outputs": [],
   "source": [
    "# 넘파이로 선형결합 진행하기\n",
    "W2, B2 = model.layers[3].weights\n",
    "W2, B2 = W2.numpy(), B2.numpy()\n",
    "Z2 = np.dot(a1, W2) + B2"
   ]
  },
  {
   "cell_type": "code",
   "execution_count": null,
   "metadata": {
    "slideshow": {
     "slide_type": "fragment"
    }
   },
   "outputs": [],
   "source": [
    "# Z2_tf\n",
    "# Z2"
   ]
  },
  {
   "cell_type": "markdown",
   "metadata": {
    "slideshow": {
     "slide_type": "subslide"
    }
   },
   "source": [
    "![4_9](./img/4_9.png)"
   ]
  },
  {
   "cell_type": "code",
   "execution_count": null,
   "metadata": {
    "slideshow": {
     "slide_type": "fragment"
    }
   },
   "outputs": [],
   "source": [
    "print(model.layers[4].name)\n",
    "a2_tf = model.layers[4](Z2_tf)"
   ]
  },
  {
   "cell_type": "code",
   "execution_count": null,
   "metadata": {
    "slideshow": {
     "slide_type": "fragment"
    }
   },
   "outputs": [],
   "source": [
    "# 넘파이로 ReLu 진행하기\n",
    "a2 = np.maximum(Z2,0)"
   ]
  },
  {
   "cell_type": "code",
   "execution_count": null,
   "metadata": {
    "slideshow": {
     "slide_type": "fragment"
    }
   },
   "outputs": [],
   "source": [
    "# a2_tf\n",
    "# a2"
   ]
  },
  {
   "cell_type": "markdown",
   "metadata": {
    "slideshow": {
     "slide_type": "subslide"
    }
   },
   "source": [
    "![4_10](./img/4_10.png)"
   ]
  },
  {
   "cell_type": "code",
   "execution_count": null,
   "metadata": {
    "slideshow": {
     "slide_type": "fragment"
    }
   },
   "outputs": [],
   "source": [
    "# 텐서플로우에서 진행\n",
    "print(model.layers[5].name)\n",
    "Z3_tf = model.layers[5](a2_tf)"
   ]
  },
  {
   "cell_type": "code",
   "execution_count": null,
   "metadata": {
    "slideshow": {
     "slide_type": "fragment"
    }
   },
   "outputs": [],
   "source": [
    "# 넘파이로 선형결합 진행하기\n",
    "W3, B3 = model.layers[5].weights\n",
    "W3, B3 = W3.numpy(), B3.numpy()\n",
    "Z3 = np.dot(a2, W3) + B3"
   ]
  },
  {
   "cell_type": "code",
   "execution_count": null,
   "metadata": {
    "slideshow": {
     "slide_type": "fragment"
    }
   },
   "outputs": [],
   "source": [
    "# Z2_tf\n",
    "# Z2"
   ]
  },
  {
   "cell_type": "markdown",
   "metadata": {
    "slideshow": {
     "slide_type": "subslide"
    }
   },
   "source": [
    "![4_11](./img/4_11.png)"
   ]
  },
  {
   "cell_type": "code",
   "execution_count": null,
   "metadata": {
    "slideshow": {
     "slide_type": "fragment"
    }
   },
   "outputs": [],
   "source": [
    "print(model.layers[6].name)\n",
    "y_pred_tf = model.layers[6](Z3_tf)"
   ]
  },
  {
   "cell_type": "code",
   "execution_count": null,
   "metadata": {
    "slideshow": {
     "slide_type": "fragment"
    }
   },
   "outputs": [],
   "source": [
    "y_pred = 1/(1+np.exp(-Z3))"
   ]
  },
  {
   "cell_type": "markdown",
   "metadata": {
    "slideshow": {
     "slide_type": "subslide"
    }
   },
   "source": [
    "#### 텐서플로우와 넘파이의 순전파 비교하기"
   ]
  },
  {
   "cell_type": "code",
   "execution_count": null,
   "metadata": {
    "scrolled": true,
    "slideshow": {
     "slide_type": "fragment"
    }
   },
   "outputs": [],
   "source": [
    "# y_pred\n",
    "# y_pred_tf"
   ]
  },
  {
   "cell_type": "code",
   "execution_count": null,
   "metadata": {
    "slideshow": {
     "slide_type": "fragment"
    }
   },
   "outputs": [],
   "source": [
    "feedforward_by_numpy = np.round(y_pred.astype(float),3)\n",
    "feedforward_by_keras = np.round(y_pred_tf.numpy().astype(float),3)"
   ]
  },
  {
   "cell_type": "code",
   "execution_count": null,
   "metadata": {
    "slideshow": {
     "slide_type": "fragment"
    }
   },
   "outputs": [],
   "source": [
    "feedforward_by_numpy == feedforward_by_keras\n",
    "np.all(feedforward_by_numpy == feedforward_by_keras)"
   ]
  },
  {
   "cell_type": "markdown",
   "metadata": {
    "slideshow": {
     "slide_type": "slide"
    }
   },
   "source": [
    "### 순전파 정리\n",
    "\n",
    "---\n",
    "\n",
    "![4_12](./img/4_12.png)"
   ]
  },
  {
   "cell_type": "markdown",
   "metadata": {
    "slideshow": {
     "slide_type": "subslide"
    }
   },
   "source": [
    "### 순전파 정리\n",
    "\n",
    "---\n",
    "\n",
    "![4_13](./img/4_13.png)"
   ]
  },
  {
   "cell_type": "markdown",
   "metadata": {
    "slideshow": {
     "slide_type": "slide"
    }
   },
   "source": [
    "\n",
    "---\n",
    "\n",
    "Pass"
   ]
  },
  {
   "cell_type": "markdown",
   "metadata": {},
   "source": [
    "## `4. 신경망의 순전파(Feedforward Networsks) ` 마무리\n",
    "\n",
    "\n",
    "---"
   ]
  },
  {
   "cell_type": "markdown",
   "metadata": {},
   "source": [
    " "
   ]
  },
  {
   "cell_type": "markdown",
   "metadata": {
    "slideshow": {
     "slide_type": "slide"
    }
   },
   "source": [
    "![](../../src/logo.png)"
   ]
  },
  {
   "cell_type": "markdown",
   "metadata": {},
   "source": [
    "# \\[부록 컨텐츠\\]\n",
    "\n",
    "---\n",
    "\n",
    "pass"
   ]
  },
  {
   "cell_type": "markdown",
   "metadata": {},
   "source": [
    "#### reference"
   ]
  },
  {
   "cell_type": "markdown",
   "metadata": {},
   "source": [
    "+ 넘파이(numpy)의 `np` 별칭\n",
    "  + [numpy Stylistic Guidelines](https://docs.scipy.org/doc/numpy/dev/#stylistic-guidelines)"
   ]
  },
  {
   "cell_type": "markdown",
   "metadata": {
    "slideshow": {
     "slide_type": "slide"
    }
   },
   "source": [
    "---"
   ]
  },
  {
   "cell_type": "markdown",
   "metadata": {},
   "source": [
    "---\n",
    "Pass"
   ]
  }
 ],
 "metadata": {
  "celltoolbar": "Slideshow",
  "kernelspec": {
   "display_name": "Python 3",
   "language": "python",
   "name": "python3"
  },
  "language_info": {
   "codemirror_mode": {
    "name": "ipython",
    "version": 3
   },
   "file_extension": ".py",
   "mimetype": "text/x-python",
   "name": "python",
   "nbconvert_exporter": "python",
   "pygments_lexer": "ipython3",
   "version": "3.8.8"
  },
  "rise": {
   "enable_chalkboard": true,
   "scroll": true
  },
  "toc": {
   "base_numbering": 1,
   "nav_menu": {},
   "number_sections": false,
   "sideBar": true,
   "skip_h1_title": true,
   "title_cell": "Table of Contents",
   "title_sidebar": "Contents",
   "toc_cell": false,
   "toc_position": {
    "height": "calc(100% - 180px)",
    "left": "10px",
    "top": "150px",
    "width": "571.477px"
   },
   "toc_section_display": true,
   "toc_window_display": false
  }
 },
 "nbformat": 4,
 "nbformat_minor": 4
}
