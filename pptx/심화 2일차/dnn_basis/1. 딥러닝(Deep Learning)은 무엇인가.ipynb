{
 "cells": [
  {
   "cell_type": "markdown",
   "metadata": {
    "slideshow": {
     "slide_type": "slide"
    }
   },
   "source": [
    "**_심층신경망(DNN) 기본기_**\n",
    "\n",
    "\n",
    "# 1. 딥러닝(Deep Learning)은 무엇인가"
   ]
  },
  {
   "cell_type": "markdown",
   "metadata": {
    "slideshow": {
     "slide_type": "fragment"
    }
   },
   "source": [
    "### _Objective_\n",
    "\n",
    "1. `인공지능`에서 `딥러닝(Deep Learning)`이 무엇인지 이해합니다."
   ]
  },
  {
   "cell_type": "markdown",
   "metadata": {
    "slideshow": {
     "slide_type": "fragment"
    }
   },
   "source": [
    "2. `딥러닝`의 역사적인 발전 과정과 기반을 살펴보며 `딥러닝`의 속성을 유추해봅니다."
   ]
  },
  {
   "cell_type": "markdown",
   "metadata": {
    "slideshow": {
     "slide_type": "fragment"
    }
   },
   "source": [
    "3. `머신러닝`과 `딥러닝`으로 무엇을 할 수 있는지, 어떻게 활용할지 알아봅니다."
   ]
  },
  {
   "cell_type": "markdown",
   "metadata": {
    "slideshow": {
     "slide_type": "slide"
    }
   },
   "source": [
    "#### 필요한 패키지 호출"
   ]
  },
  {
   "cell_type": "code",
   "execution_count": null,
   "metadata": {},
   "outputs": [],
   "source": [
    "import matplotlib.pylab as plt\n",
    "%matplotlib inline"
   ]
  },
  {
   "cell_type": "markdown",
   "metadata": {
    "slideshow": {
     "slide_type": "slide"
    }
   },
   "source": [
    "## [1. 인공지능과 머신러닝]\n",
    "\n",
    "---\n",
    "\n",
    "pass"
   ]
  },
  {
   "cell_type": "markdown",
   "metadata": {
    "slideshow": {
     "slide_type": "slide"
    }
   },
   "source": [
    "---"
   ]
  },
  {
   "cell_type": "markdown",
   "metadata": {
    "slideshow": {
     "slide_type": "slide"
    }
   },
   "source": [
    "### 인공지능(Artificial intelligence; AI)이란?\n",
    "\n",
    "---\n",
    "\n",
    "`인공지능(Artificial Intelligence)`의\n",
    "1. 목표 : 사람과 같이 (합리적으로) 생각하거나 행동하는 머신(Machine)\n",
    "2. 평가 기준 : \n",
    "    + 철학적 관점에서, \"얼마나 사람같은가?\"\n",
    "    + 공학적 관점에서, \"얼마나 합리적인가?\"(\"기대효용이 얼마나 높은가?\")"
   ]
  },
  {
   "cell_type": "markdown",
   "metadata": {
    "slideshow": {
     "slide_type": "notes"
    }
   },
   "source": [
    "```python\n",
    "\"\"\"\n",
    "머신에는 하드웨어나 소프트웨어가 포함됩니다.\n",
    "첫 h3로 \"머신러닝\"이 아니라 \"인공지능\"을 잡은 것은,\n",
    "수강생분들이 가장 먼저 친숙하고, 아는 단어로 접근하는 것이 좋을 것 같아서\n",
    "\"머신\" 이라는 표현이 \"기계\"와는 살짝 다른 느낌을 가지는 것 같아서 머신이라 했습니다.\n",
    "\"\"\"\n",
    "```"
   ]
  },
  {
   "cell_type": "markdown",
   "metadata": {
    "slideshow": {
     "slide_type": "subslide"
    }
   },
   "source": [
    "#### 튜링테스트(Turing Test)\n",
    "\n",
    "\n",
    "\"컴퓨터가 생각할 수 있다면 그것을 어떻게 표현해야 하는가?\"<br>\n",
    ": 인공지능에 대한 최초의 기준 `튜링테스트(Turing Test)` \n",
    "\n",
    "![1_3](./img/1_3.png)\n",
    "\n",
    "※ 머신으로부터의 반응과 인간의 반응을 서로 비교하여 차이가 적을 수록 더 나은 인공지능\n",
    "[튜링테스트 위키피디아](https://ko.wikipedia.org/wiki/튜링_테스트)"
   ]
  },
  {
   "cell_type": "markdown",
   "metadata": {
    "slideshow": {
     "slide_type": "notes"
    }
   },
   "source": [
    "```python\n",
    "\"\"\"\n",
    "즉, 우리가 딥러닝을 배우는 이유는 \"사람같은 머신\"을 만드는 것이 목표이기 때문.\n",
    "여기서 말하는 \"튜링테스트\"은 앞으로 딥러닝을 배우며 \"어떤 것이 잘 만들어진 딥러닝인가\"에 대한 기준이 된다.(손실함수)\n",
    "우리는 이번에 딥러닝을 배우며 계속해서 \"어떻게 사람과 비슷한 머신을 만들것인가\"를 고민하는 시간을 가질 것이다.\n",
    "\"이러한 튜링테스트는 이후에 사람과 머신의 답을 비교하는 수학식\"으로 표현하게 된다. 라고 해도 될 것 같아요\n",
    "---\n",
    "튜링테스트를 언급하는 것은 다음과 같은 효과가 있다. 우리가 말하는 \"인공지능\"의 목표가 무엇인지 확실히 잡고 가는 것.\n",
    "실제로, 인공지능에 대해 전혀 모르는 분들과 대화를 나누면 \"그럼 커피타는 로봇같은거 만드는거에요?\"라는 말 나오는경우가 허다함.\n",
    "우리의 목표는 \"인간과 유사하게 생각하거나 행동하는 머신을 만들고자 하는것으로 정의\n",
    "\"\"\"\n",
    "```"
   ]
  },
  {
   "cell_type": "markdown",
   "metadata": {
    "slideshow": {
     "slide_type": "subslide"
    }
   },
   "source": [
    "#### 중국어 방(Chinese room)\n",
    "\n",
    "\n",
    "우리가 만들고자 하는 인공지능은 \"생각\"을 하는가? 어떻게 만드는가?<br>\n",
    ": 인공지능의 실체에 대한 사고실험 `중국어 방 (Chinese room)` \n",
    "\n",
    "![14](./img/1_4.png)\n",
    "\n",
    "※ 우리가 다루는 인공지능은 \"생각을 하는 머신\"이 아닙니다.<br>\n",
    "인간과 유사한 결과를 내놓는 `어떠한 절차나 규칙`를 만들고자 하는 것입니다.\n",
    "[중국어 방 위키피디아](https://ko.wikipedia.org/wiki/중국어_방)"
   ]
  },
  {
   "cell_type": "markdown",
   "metadata": {
    "slideshow": {
     "slide_type": "notes"
    }
   },
   "source": [
    "```python\n",
    "\"\"\"\n",
    "우리가 만들고자 하는 인공지능이란 어떤 것인가에 대한 질문\n",
    "데이터에 의해, 어떤 입력이 들어오면 결과를 내어주는 머신인데, 컴퓨터가 일종의 생각을 하는 것이 아닌 어떠한 절차에 의해 결과를 내는 것.\n",
    "(여기서, 그 \"절차\"를 지식기반으로 하면 룰베이스가 되는거고, 데이터 기반으로하면 머신러닝이 되는거고, 절차를 더 표현형으로 하면 딥러닝이 되는거고)\n",
    "생각을 해서 인지하는 것이 아닌, 어떠한 방법(데이터에 의해 학습이 되었든, 사람이 정한 룰이 있든)에 의해 결과물을 내는 것.\n",
    "즉, 우리가 인공지능을 만든다고 하는것은 너무 어렵게 \"생각하는 기계\"를 만드는 것이 아니라, 데이터에 의해 어떠한 방법(결과를 내는 방법)을 아는 기계를 만드는것. \n",
    "\"\"\"\n",
    "```"
   ]
  },
  {
   "cell_type": "markdown",
   "metadata": {
    "slideshow": {
     "slide_type": "subslide"
    }
   },
   "source": [
    "#### 인공지능 기술의 포함 관계와 특징\n",
    "인공지능에서 `머신러닝(Machine Learning)`과 `딥러닝(Deep Learning)`의 관계\n",
    "\n",
    "\n",
    "![1_5](./img/1_5.png)\n"
   ]
  },
  {
   "cell_type": "markdown",
   "metadata": {
    "slideshow": {
     "slide_type": "slide"
    }
   },
   "source": [
    "### 머신러닝 프로그래밍(Machine Learning) 이란?\n",
    "\n",
    "---\n",
    "\n",
    "**`머신러닝(Machine Learning)`**은\n",
    "1. 인공지능의 한 범주이다.\n",
    "2. 코드로 명시하여 동작하는 명시적 프로그래밍과 구분된다.\n",
    "3. 데이터를 통해 동작을 학습할 수 있도록 하는 알고리즘이다.\n",
    "\n",
    "(`머신러닝(Machine Learning)` ; `머신러닝`, `기계학습`, `머신러닝 프로그래밍`; 이하 동일)<br>"
   ]
  },
  {
   "cell_type": "markdown",
   "metadata": {
    "slideshow": {
     "slide_type": "subslide"
    }
   },
   "source": [
    "![1_9](./img/1_9.png)"
   ]
  },
  {
   "cell_type": "markdown",
   "metadata": {
    "slideshow": {
     "slide_type": "subslide"
    }
   },
   "source": [
    "#### 명시적 프로그래밍의 접근방법 \n",
    "\n",
    "`명시적 프로그래밍(Explicit Programming)`<br>\n",
    "사람의 지식을 바탕으로 동작 알고리즘을 명시하여 문제 해결"
   ]
  },
  {
   "cell_type": "markdown",
   "metadata": {
    "slideshow": {
     "slide_type": "subslide"
    }
   },
   "source": [
    "\n",
    "\n",
    "![1_10](./img/1_10.png)"
   ]
  },
  {
   "cell_type": "markdown",
   "metadata": {
    "slideshow": {
     "slide_type": "subslide"
    }
   },
   "source": [
    "![1_11](./img/1_11.png)"
   ]
  },
  {
   "cell_type": "markdown",
   "metadata": {
    "slideshow": {
     "slide_type": "subslide"
    }
   },
   "source": [
    "#### 머신러닝 프로그래밍의 접근방법\n",
    "\n",
    "`머신러닝 프로그래밍(Machine Learning Programming)`<br>\n",
    "데이터와 학습 알고리즘을 바탕으로 동작을 학습하여 문제 해결"
   ]
  },
  {
   "cell_type": "markdown",
   "metadata": {
    "slideshow": {
     "slide_type": "subslide"
    }
   },
   "source": [
    "![1_12](./img/1_12.png)"
   ]
  },
  {
   "cell_type": "markdown",
   "metadata": {
    "slideshow": {
     "slide_type": "subslide"
    }
   },
   "source": [
    "\n",
    "![1_13](./img/1_13.png)"
   ]
  },
  {
   "cell_type": "markdown",
   "metadata": {
    "slideshow": {
     "slide_type": "slide"
    }
   },
   "source": [
    "### 머신러닝은 문제에 따라 어떻게 나뉠까\n",
    "\n",
    "---\n",
    "\n",
    "해결하고자 하는 데이터와 문제에 따른 머신러닝의 분류"
   ]
  },
  {
   "cell_type": "markdown",
   "metadata": {
    "slideshow": {
     "slide_type": "subslide"
    }
   },
   "source": [
    "#### 머신러닝의 문제 분류\n",
    "\n",
    "![1_14](./img/1_14.png)\n"
   ]
  },
  {
   "cell_type": "markdown",
   "metadata": {
    "slideshow": {
     "slide_type": "notes"
    }
   },
   "source": [
    "```python\n",
    "\"\"\"\n",
    "+ 주어진 정답 데이터로 학습을 하는 `지도학습(Supervised Learning)`\n",
    "+ 정답이 없는 데이터를 보고 특성을 파악하는 `비지도학습(Unsupervised Learning)`\n",
    "+ 도출된 결과의 상태로 가장 적절한 선택을 찾는 `강화학습(Reinforcement Learning)`\n",
    "\"\"\"\n",
    "```"
   ]
  },
  {
   "cell_type": "markdown",
   "metadata": {
    "slideshow": {
     "slide_type": "subslide"
    }
   },
   "source": [
    "#### 지도학습\n",
    "\n",
    "`지도학습(Supervised Learning)`\n",
    "\n",
    "정답(Ground Truth) 레이블(Label)이 있는 데이터를 함께 머신에 학습<br>\n",
    "\n",
    "[지도학습_위키피디아](https://ko.wikipedia.org/wiki/지도_학습)"
   ]
  },
  {
   "cell_type": "markdown",
   "metadata": {
    "slideshow": {
     "slide_type": "subslide"
    }
   },
   "source": [
    "![1_15](./img/1_15.png)"
   ]
  },
  {
   "cell_type": "markdown",
   "metadata": {
    "slideshow": {
     "slide_type": "subslide"
    }
   },
   "source": [
    "![1_16](./img/1_16.png)"
   ]
  },
  {
   "cell_type": "markdown",
   "metadata": {
    "slideshow": {
     "slide_type": "subslide"
    }
   },
   "source": [
    "#### 비지도학습\n",
    "\n",
    "`비지도학습(Unsupervised Learning)`\n",
    "\n",
    "레이블(Label)이 주어지지 않은 데이터에서 피쳐(Feature)로 패턴을 찾도록 머신에 학습\n",
    "\n",
    "[비지도학습_위키피디아](https://ko.wikipedia.org/wiki/비지도_학습)"
   ]
  },
  {
   "cell_type": "markdown",
   "metadata": {
    "slideshow": {
     "slide_type": "subslide"
    }
   },
   "source": [
    "![1_17](./img/1_17.png)"
   ]
  },
  {
   "cell_type": "markdown",
   "metadata": {
    "slideshow": {
     "slide_type": "subslide"
    }
   },
   "source": [
    "#### 강화학습\n",
    "\n",
    "`강화학습(Reinforcement Learning)`\n",
    "\n",
    "에이전트(Agent)의 동작(Action)에 따라 환경(Environment)로부터 발생한 보상(Reward)로 학습\n",
    "\n",
    "[강화학습_위키피디아](https://ko.wikipedia.org/wiki/강화_학습)"
   ]
  },
  {
   "cell_type": "markdown",
   "metadata": {
    "slideshow": {
     "slide_type": "subslide"
    }
   },
   "source": [
    "![1_18](./img/1_18.png)"
   ]
  },
  {
   "cell_type": "markdown",
   "metadata": {
    "slideshow": {
     "slide_type": "slide"
    }
   },
   "source": [
    "### 머신러닝으로 무엇을 할 수 있을까?\n",
    "\n",
    "---\n",
    "\n",
    "머신러닝으로 해결을 시도하는 문제들\n",
    "\n",
    "`지도학습`, `비지도학습`, `강화학습` 분류에 따른 머신러닝의 과제"
   ]
  },
  {
   "cell_type": "markdown",
   "metadata": {
    "slideshow": {
     "slide_type": "subslide"
    }
   },
   "source": [
    "![1_19](./img/1_19.png)"
   ]
  },
  {
   "cell_type": "markdown",
   "metadata": {
    "slideshow": {
     "slide_type": "slide"
    }
   },
   "source": [
    "## [2. 표현과 일반화]\n",
    "\n",
    "---\n",
    "\n",
    "pass"
   ]
  },
  {
   "cell_type": "markdown",
   "metadata": {
    "slideshow": {
     "slide_type": "slide"
    }
   },
   "source": [
    "### 머신러닝의 핵심, 표현과 일반화\n",
    "\n",
    "---\n",
    "\n",
    "인공지능의 목표 : 사람과 같이 (합리적으로) 생각하거나 행동하는 머신\n",
    "\n",
    "목표를 위한 머신러닝 성능의 핵심 :<br>\n",
    "+ 사람과 같이 **데이터의 정보를 이해**한다. `표현(Representation)`<br>\n",
    "+ 사람과 같이 **전체의 속성을 추론**한다. `일반화(Generalization)`<br>"
   ]
  },
  {
   "cell_type": "markdown",
   "metadata": {
    "slideshow": {
     "slide_type": "slide"
    }
   },
   "source": [
    "### 컴퓨터가 데이터를 바라보는 방법\n",
    "\n",
    "---\n",
    "\n",
    "어떠한 형태의 데이터라도 데이터가 내포한 정보를 피쳐로 추출하여 컴퓨터가 이해할수 있는 숫자로 `표현`<br>\n",
    "\n",
    "`표현(Representation)`\n"
   ]
  },
  {
   "cell_type": "code",
   "execution_count": null,
   "metadata": {
    "slideshow": {
     "slide_type": "subslide"
    }
   },
   "outputs": [],
   "source": [
    "cat_img = plt.imread(\"./img/cat.png\")\n",
    "cat_img.shape"
   ]
  },
  {
   "cell_type": "code",
   "execution_count": null,
   "metadata": {
    "slideshow": {
     "slide_type": "fragment"
    }
   },
   "outputs": [],
   "source": [
    "# 인간의 눈에는 이렇게 이미지로 보이는 것\n",
    "plt.imshow(cat_img)\n",
    "plt.axis(\"off\")"
   ]
  },
  {
   "cell_type": "code",
   "execution_count": null,
   "metadata": {
    "scrolled": true,
    "slideshow": {
     "slide_type": "fragment"
    }
   },
   "outputs": [],
   "source": [
    "# 본래 수많은 숫자로 구성된 숫자 데이터\n",
    "cat_img"
   ]
  },
  {
   "cell_type": "markdown",
   "metadata": {
    "slideshow": {
     "slide_type": "subslide"
    }
   },
   "source": [
    "#### 많은 정보를 내포하는 적은 수의 표현\n",
    "\n",
    "특징의 많은 정보를 적은 수의 `표현`으로 함축시키는 것이 머신러닝 기술의 핵심"
   ]
  },
  {
   "cell_type": "markdown",
   "metadata": {
    "slideshow": {
     "slide_type": "fragment"
    }
   },
   "source": [
    "![1_20](./img/1_20.png)"
   ]
  },
  {
   "cell_type": "markdown",
   "metadata": {
    "slideshow": {
     "slide_type": "fragment"
    }
   },
   "source": [
    "![1_21](./img/1_21.png)"
   ]
  },
  {
   "cell_type": "markdown",
   "metadata": {
    "slideshow": {
     "slide_type": "fragment"
    }
   },
   "source": [
    "![1_22](./img/1_22.png)"
   ]
  },
  {
   "cell_type": "markdown",
   "metadata": {
    "slideshow": {
     "slide_type": "slide"
    }
   },
   "source": [
    "### 전체의 속성을 이해한 폭넓은 추론\n",
    "\n",
    "---\n",
    "\n",
    "학습한 몇몇의 데이터로부터 전체 상의 `일반적인 속성`을 추론\n",
    "\n",
    "`일반화(Generalization)`<br>"
   ]
  },
  {
   "cell_type": "markdown",
   "metadata": {
    "slideshow": {
     "slide_type": "subslide"
    }
   },
   "source": [
    "![1_24](./img/1_23.png)"
   ]
  },
  {
   "cell_type": "markdown",
   "metadata": {
    "slideshow": {
     "slide_type": "subslide"
    }
   },
   "source": [
    "![1_24](./img/1_24.png)"
   ]
  },
  {
   "cell_type": "markdown",
   "metadata": {
    "slideshow": {
     "slide_type": "subslide"
    }
   },
   "source": [
    "![1_25](./img/1_25.png)"
   ]
  },
  {
   "cell_type": "markdown",
   "metadata": {
    "slideshow": {
     "slide_type": "subslide"
    }
   },
   "source": [
    "![1_26](./img/1_26.png)"
   ]
  },
  {
   "cell_type": "markdown",
   "metadata": {
    "slideshow": {
     "slide_type": "slide"
    }
   },
   "source": [
    "## [2. 딥러닝(Deep Learning)]\n",
    "\n",
    "---\n",
    "\n",
    "pass"
   ]
  },
  {
   "cell_type": "markdown",
   "metadata": {
    "slideshow": {
     "slide_type": "slide"
    }
   },
   "source": [
    "### 딥러닝 프로그래밍(Deep Learning)이란?\n",
    "\n",
    "---\n",
    "\n",
    "**`딥러닝(Deep Learning)`**은\n",
    "1. 머신러닝의 한 분야이다.\n",
    "2. (주로) 인공신경망을 활용하여 다수의 표현을 연산으로 연결한다.\n",
    "3. 깊게 연결한 표현으로 높은 수준의 추상화를 시도한다.\n",
    "\n",
    "\n",
    "[심층학습(Deep Learning) 위키피디아](https://ko.wikipedia.org/wiki/심층_학습)\n",
    "\n",
    "(`딥러닝(Deep Learning)` ; `심층학습`, `심층신경망`, `DNN`, `Deep Neaural Network` ; 이하 동일)<br>"
   ]
  },
  {
   "cell_type": "markdown",
   "metadata": {
    "slideshow": {
     "slide_type": "subslide"
    }
   },
   "source": [
    "#### 딥러닝과 다른 인공지능 기술의 차이\n",
    "\n",
    "![1_27](./img/1_27.png)\n",
    "\n",
    "(출처: [\"Deep Learning\" - ian goodfellow ](https://www.deeplearningbook.org/))"
   ]
  },
  {
   "cell_type": "markdown",
   "metadata": {
    "slideshow": {
     "slide_type": "subslide"
    }
   },
   "source": [
    "#### 표현을 스스로 학습하는 딥러닝\n",
    "\n",
    "![1_28](./img/1_28.png)"
   ]
  },
  {
   "cell_type": "markdown",
   "metadata": {
    "slideshow": {
     "slide_type": "slide"
    }
   },
   "source": [
    "### 딥러닝(Deep Learning)의 발달\n",
    "\n",
    "---\n",
    "\n",
    "`딥러닝의 역사와 기술`"
   ]
  },
  {
   "cell_type": "markdown",
   "metadata": {
    "slideshow": {
     "slide_type": "subslide"
    }
   },
   "source": [
    "#### 딥러닝의 역사적 사건\n",
    "\n",
    "최초의 뉴런 구상부터 현재까지의 딥러닝 역사적 사건\n",
    "\n",
    "![1_29](./img/1_29.png)"
   ]
  },
  {
   "cell_type": "markdown",
   "metadata": {
    "slideshow": {
     "slide_type": "notes"
    }
   },
   "source": [
    "```python\n",
    "\"\"\"\n",
    "딥러닝의 역사적 사건을 본며 어떤 문제를 어떻게 해결하고자 하였는지,\n",
    "어떤 부분을 강화하며 어떤 시도와 도전을 해왔는지 알아가면 좋을 것 같았습니다.\n",
    "\"\"\"\n",
    "```"
   ]
  },
  {
   "cell_type": "markdown",
   "metadata": {
    "slideshow": {
     "slide_type": "slide"
    }
   },
   "source": [
    "### 딥러닝의 성장을 받치는 기술\n",
    "\n",
    "---\n",
    "\n",
    "![1_6](./img/1_6.png)"
   ]
  },
  {
   "cell_type": "markdown",
   "metadata": {
    "slideshow": {
     "slide_type": "subslide"
    }
   },
   "source": [
    "**데이터셋 크기의 증가**\n",
    "\n",
    "스마트폰 보급 이후의 데이터량의 급격한 증가<br>\n",
    "→ 인공지능 학습에 필요한 데이터셋의 확보 <br>\n",
    "( 다양한 데이터 / 거대한 데이터 / 빠르게 생산되는 데이터 / 가치있는 데이터 )\n",
    "\n",
    "\n",
    "![1_30](./img/1_30.png)"
   ]
  },
  {
   "cell_type": "markdown",
   "metadata": {
    "slideshow": {
     "slide_type": "subslide"
    }
   },
   "source": [
    "#### 연산장치의 발달 : 하드웨어 성능의 발달\n",
    "무어의 법칙에 따라 배수로 증가하는 컴퓨팅 파워<br>\n",
    "→ 인공지능의 연산을 가능하게 하는 연산장치의 발명\n",
    "\n",
    "![1_31](./img/1_31.png)"
   ]
  },
  {
   "cell_type": "markdown",
   "metadata": {
    "slideshow": {
     "slide_type": "subslide"
    }
   },
   "source": [
    "#### 연산장치의 발달 : 클라우드 시장의 성장\n",
    "컴퓨팅 파워를 하드웨어로 구매하지 않고 클라우드로 자유롭게 사용하는 시장의 발전<br>\n",
    "→ 인공지능의 연산에 필요한 하드웨어 장치를 구매하지 않고 고효율의 클라우드 활용\n",
    "\n",
    "![1_31](./img/1_32.png)"
   ]
  },
  {
   "cell_type": "markdown",
   "metadata": {
    "slideshow": {
     "slide_type": "subslide"
    }
   },
   "source": [
    "#### 딥러닝 알고리즘의 고도화\n",
    "\n",
    "전세계의 수많은 인공지능 학자들에 의해 변화하는 세계 환경과 데이터, 문제에 따라 알고리즘을 고도화<br>\n",
    "→ 해결하지 못했던 수많은 문제들에 대해 새로운 알고리즘의 해결책을 제안, 발전\n",
    "\n",
    "![1_34](./img/1_34.png)"
   ]
  },
  {
   "cell_type": "markdown",
   "metadata": {
    "slideshow": {
     "slide_type": "slide"
    }
   },
   "source": [
    "---\n",
    "\n",
    "Pass"
   ]
  },
  {
   "cell_type": "markdown",
   "metadata": {
    "slideshow": {
     "slide_type": "slide"
    }
   },
   "source": [
    "## `1. 딥러닝(Deep Learning)이란 무엇인가` 마무리\n",
    "\n",
    "\n",
    "---"
   ]
  },
  {
   "cell_type": "markdown",
   "metadata": {},
   "source": [
    "  "
   ]
  },
  {
   "cell_type": "code",
   "execution_count": null,
   "metadata": {},
   "outputs": [],
   "source": []
  },
  {
   "cell_type": "markdown",
   "metadata": {
    "slideshow": {
     "slide_type": "slide"
    }
   },
   "source": [
    "![](../../src/logo.png)"
   ]
  },
  {
   "cell_type": "markdown",
   "metadata": {
    "slideshow": {
     "slide_type": "slide"
    }
   },
   "source": [
    "---"
   ]
  },
  {
   "cell_type": "markdown",
   "metadata": {},
   "source": [
    "#### reference"
   ]
  },
  {
   "cell_type": "markdown",
   "metadata": {},
   "source": [
    "+ 넘파이(numpy)의 `np` 별칭\n",
    "  + [numpy Stylistic Guidelines](https://docs.scipy.org/doc/numpy/dev/#stylistic-guidelines)"
   ]
  },
  {
   "cell_type": "markdown",
   "metadata": {
    "slideshow": {
     "slide_type": "slide"
    }
   },
   "source": [
    "---"
   ]
  },
  {
   "cell_type": "markdown",
   "metadata": {
    "slideshow": {
     "slide_type": "slide"
    }
   },
   "source": [
    "# 부록 컨텐츠"
   ]
  },
  {
   "cell_type": "markdown",
   "metadata": {},
   "source": [
    "## appendix"
   ]
  },
  {
   "cell_type": "markdown",
   "metadata": {},
   "source": [
    "#### 딥러닝(Deep Learning)의 지칭하는 용어들"
   ]
  },
  {
   "cell_type": "markdown",
   "metadata": {},
   "source": [
    "```python\n",
    "\"\"\"\n",
    "TODO : 강의 \n",
    "\"\"\"\n",
    "```\n",
    "+ 신경망(NN; Neural Network)\n",
    "+ 심층학습(DL; Deep Learning)\n",
    "+ 심층신경망(DNN; Deep Neural Network)\n",
    "+ 인공신경망(ANN; Artificial Neural Network) \n",
    "+ 다층 퍼셉트론(MLP; Multi-Layer Perceptron)"
   ]
  },
  {
   "cell_type": "markdown",
   "metadata": {},
   "source": [
    "## 머신러닝 과 딥러닝\n"
   ]
  },
  {
   "cell_type": "markdown",
   "metadata": {},
   "source": [
    "### 연산속도 비교하기\n",
    "\n",
    "---\n",
    "\n"
   ]
  },
  {
   "cell_type": "code",
   "execution_count": null,
   "metadata": {},
   "outputs": [],
   "source": []
  }
 ],
 "metadata": {
  "celltoolbar": "Slideshow",
  "kernelspec": {
   "display_name": "Python 3",
   "language": "python",
   "name": "python3"
  },
  "language_info": {
   "codemirror_mode": {
    "name": "ipython",
    "version": 3
   },
   "file_extension": ".py",
   "mimetype": "text/x-python",
   "name": "python",
   "nbconvert_exporter": "python",
   "pygments_lexer": "ipython3",
   "version": "3.8.8"
  },
  "rise": {
   "enable_chalkboard": true,
   "scroll": true
  },
  "toc": {
   "base_numbering": 1,
   "nav_menu": {},
   "number_sections": false,
   "sideBar": true,
   "skip_h1_title": false,
   "title_cell": "Table of Contents",
   "title_sidebar": "Contents",
   "toc_cell": false,
   "toc_position": {
    "height": "calc(100% - 180px)",
    "left": "10px",
    "top": "150px",
    "width": "294.473px"
   },
   "toc_section_display": true,
   "toc_window_display": false
  }
 },
 "nbformat": 4,
 "nbformat_minor": 4
}
