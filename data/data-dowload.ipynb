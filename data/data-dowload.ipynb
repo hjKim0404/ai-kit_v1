{
 "cells": [
  {
   "cell_type": "code",
   "execution_count": 1,
   "metadata": {},
   "outputs": [
    {
     "name": "stdout",
     "output_type": "stream",
     "text": [
      " C 드라이브의 볼륨에는 이름이 없습니다.\n",
      " 볼륨 일련 번호: 54A9-142C\n",
      "\n",
      " C:\\Users\\Elite\\Desktop\\find_wally\\example 디렉터리\n",
      "\n",
      "2020-12-16  오후 03:56    <DIR>          .\n",
      "2020-12-16  오후 03:56    <DIR>          ..\n",
      "2020-12-16  오후 03:56    <DIR>          .ipynb_checkpoints\n",
      "2020-12-16  오후 03:54             1,682 example.ipynb\n",
      "2020-11-02  오후 05:54                16 run.bat\n",
      "               2개 파일               1,698 바이트\n",
      "               3개 디렉터리  149,269,594,112 바이트 남음\n"
     ]
    }
   ],
   "source": [
    "ls"
   ]
  },
  {
   "cell_type": "code",
   "execution_count": 2,
   "metadata": {},
   "outputs": [
    {
     "data": {
      "text/plain": [
       "('data.zip', <http.client.HTTPMessage at 0x2a49942d040>)"
      ]
     },
     "execution_count": 2,
     "metadata": {},
     "output_type": "execute_result"
    }
   ],
   "source": [
    "from urllib.request import urlretrieve\n",
    "urlretrieve(\"https://pai-share.s3.ap-northeast-2.amazonaws.com/find_wally_dataset/full-data.zip\",\"full-data.zip\")"
   ]
  },
  {
   "cell_type": "code",
   "execution_count": 3,
   "metadata": {},
   "outputs": [
    {
     "name": "stdout",
     "output_type": "stream",
     "text": [
      " C 드라이브의 볼륨에는 이름이 없습니다.\n",
      " 볼륨 일련 번호: 54A9-142C\n",
      "\n",
      " C:\\Users\\Elite\\Desktop\\find_wally\\example 디렉터리\n",
      "\n",
      "2020-12-16  오후 03:57    <DIR>          .\n",
      "2020-12-16  오후 03:57    <DIR>          ..\n",
      "2020-12-16  오후 03:57       592,699,297 data.zip\n",
      "2020-12-16  오후 03:54             1,682 example.ipynb\n",
      "2020-11-02  오후 05:54                16 run.bat\n",
      "               3개 파일         592,700,995 바이트\n",
      "               2개 디렉터리  148,674,088,960 바이트 남음\n"
     ]
    }
   ],
   "source": [
    "ls"
   ]
  },
  {
   "cell_type": "code",
   "execution_count": 5,
   "metadata": {},
   "outputs": [
    {
     "name": "stderr",
     "output_type": "stream",
     "text": [
      "'unzip'은(는) 내부 또는 외부 명령, 실행할 수 있는 프로그램, 또는\n",
      "배치 파일이 아닙니다.\n"
     ]
    }
   ],
   "source": [
    "!unzip data.zip"
   ]
  }
 ],
 "metadata": {
  "kernelspec": {
   "display_name": "Python 3",
   "language": "python",
   "name": "python3"
  },
  "language_info": {
   "codemirror_mode": {
    "name": "ipython",
    "version": 3
   },
   "file_extension": ".py",
   "mimetype": "text/x-python",
   "name": "python",
   "nbconvert_exporter": "python",
   "pygments_lexer": "ipython3",
   "version": "3.8.3"
  }
 },
 "nbformat": 4,
 "nbformat_minor": 4
}
